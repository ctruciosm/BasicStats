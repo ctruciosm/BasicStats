{
  "nbformat": 4,
  "nbformat_minor": 0,
  "metadata": {
    "colab": {
      "provenance": [],
      "authorship_tag": "ABX9TyPYnyVP9K80W56Gb2Jz7ggG",
      "include_colab_link": true
    },
    "kernelspec": {
      "name": "ir",
      "display_name": "R"
    },
    "language_info": {
      "name": "R"
    }
  },
  "cells": [
    {
      "cell_type": "markdown",
      "metadata": {
        "id": "view-in-github",
        "colab_type": "text"
      },
      "source": [
        "<a href=\"https://colab.research.google.com/github/ctruciosm/BasicStats/blob/main/AF.ipynb\" target=\"_parent\"><img src=\"https://colab.research.google.com/assets/colab-badge.svg\" alt=\"Open In Colab\"/></a>"
      ]
    },
    {
      "cell_type": "markdown",
      "source": [
        "# Análise Fatorial\n",
        "By Carlos Trucíos"
      ],
      "metadata": {
        "id": "-KPg2WjGLAhc"
      }
    },
    {
      "cell_type": "code",
      "source": [
        "install.packages(\"psych\")\n",
        "install.packages(\"mnt\")\n",
        "install.packages(\"POET\")"
      ],
      "metadata": {
        "id": "11DQHDnYh3xb"
      },
      "execution_count": null,
      "outputs": []
    },
    {
      "cell_type": "code",
      "source": [
        "library(psych)\n",
        "library(mnt)\n",
        "library(dplyr)\n",
        "library(POET)"
      ],
      "metadata": {
        "id": "2i0_fYHIh7jm"
      },
      "execution_count": null,
      "outputs": []
    },
    {
      "cell_type": "markdown",
      "source": [
        "# 0. Dados\n",
        "\n",
        "Utilizaremos o [_data set_](https://raw.githubusercontent.com/ctruciosm/ctruciosm.github.io/master/datasets/monthly_data.csv) `monthly_data.csv` que contém os retornos mensais de 16 ações negociadas na bolsa e valores de São Paulo entre Janeiro 2000 até Fevereiro 2022."
      ],
      "metadata": {
        "id": "jkaTGYGBgAFz"
      }
    },
    {
      "cell_type": "code",
      "source": [
        "# Importar dados\n",
        "dados = read.csv(\"https://raw.githubusercontent.com/ctruciosm/ctruciosm.github.io/master/datasets/monthly_data.csv\")\n",
        "head(dados)\n",
        "dados = scale(as.matrix(dados), center = TRUE, scale = FALSE)"
      ],
      "metadata": {
        "colab": {
          "base_uri": "https://localhost:8080/",
          "height": 306
        },
        "id": "PZrKqnItj0_r",
        "outputId": "7a9ddeab-6c67-46b3-b604-ef4e76aa9c1d"
      },
      "execution_count": 3,
      "outputs": [
        {
          "output_type": "display_data",
          "data": {
            "text/html": [
              "<table class=\"dataframe\">\n",
              "<caption>A data.frame: 6 × 16</caption>\n",
              "<thead>\n",
              "\t<tr><th></th><th scope=col>ALPA4</th><th scope=col>BBAS3</th><th scope=col>BBDC3</th><th scope=col>BBDC4</th><th scope=col>CMIG4</th><th scope=col>CPLE6</th><th scope=col>ELET3</th><th scope=col>ELET6</th><th scope=col>EMBR3</th><th scope=col>GGBR4</th><th scope=col>ITSA4</th><th scope=col>LIGT3</th><th scope=col>PETR3</th><th scope=col>PETR4</th><th scope=col>SBSP3</th><th scope=col>VIVT3</th></tr>\n",
              "\t<tr><th></th><th scope=col>&lt;dbl&gt;</th><th scope=col>&lt;dbl&gt;</th><th scope=col>&lt;dbl&gt;</th><th scope=col>&lt;dbl&gt;</th><th scope=col>&lt;dbl&gt;</th><th scope=col>&lt;dbl&gt;</th><th scope=col>&lt;dbl&gt;</th><th scope=col>&lt;dbl&gt;</th><th scope=col>&lt;dbl&gt;</th><th scope=col>&lt;dbl&gt;</th><th scope=col>&lt;dbl&gt;</th><th scope=col>&lt;dbl&gt;</th><th scope=col>&lt;dbl&gt;</th><th scope=col>&lt;dbl&gt;</th><th scope=col>&lt;dbl&gt;</th><th scope=col>&lt;dbl&gt;</th></tr>\n",
              "</thead>\n",
              "<tbody>\n",
              "\t<tr><th scope=row>1</th><td>-6.35512370</td><td> -5.952382</td><td> -2.078679</td><td>  3.200547</td><td>-23.950618</td><td>-17.714287</td><td>-17.047656</td><td>-13.722833</td><td> -7.888889</td><td> 4.166667</td><td>-8.500541</td><td> 20.628142</td><td>-14.991126</td><td>-11.304351</td><td> -5.7048544</td><td> 33.243479</td></tr>\n",
              "\t<tr><th scope=row>2</th><td> 2.42718215</td><td> -5.696199</td><td>-10.708152</td><td>-12.924411</td><td> -5.487014</td><td> 12.500005</td><td> -4.392524</td><td> -7.173605</td><td>  1.745443</td><td>-1.600005</td><td>-3.529415</td><td>  1.641325</td><td> 26.466875</td><td> 12.745102</td><td>-12.2499986</td><td> 18.749998</td></tr>\n",
              "\t<tr><th scope=row>3</th><td> 9.95260583</td><td>-14.248766</td><td>  9.934533</td><td> 13.243936</td><td>  4.706286</td><td> -6.507126</td><td>  1.010101</td><td>  3.554871</td><td>  8.795633</td><td>-7.520324</td><td> 3.844540</td><td> -9.832372</td><td>  4.304947</td><td>  4.449614</td><td>  0.5697932</td><td>-15.444107</td></tr>\n",
              "\t<tr><th scope=row>4</th><td>-5.11890398</td><td> -4.610491</td><td> -6.916793</td><td> -8.119986</td><td> -7.685016</td><td> -9.084745</td><td>-13.870968</td><td>-11.044779</td><td>  6.145254</td><td>-4.175821</td><td>-8.823535</td><td> -5.299998</td><td> -9.090907</td><td> -8.877120</td><td> -3.3982805</td><td>-11.151319</td></tr>\n",
              "\t<tr><th scope=row>5</th><td>14.81339362</td><td> -4.999999</td><td> -4.789383</td><td> -6.572207</td><td>  2.181821</td><td>  9.619687</td><td>  8.913859</td><td>  3.691275</td><td>-13.789478</td><td>-4.862384</td><td>-3.870964</td><td>-12.642799</td><td>  1.249999</td><td> -2.580794</td><td>-21.9882677</td><td>  2.184377</td></tr>\n",
              "\t<tr><th scope=row>6</th><td> 0.01666724</td><td> 13.157897</td><td> 20.656147</td><td> 27.561080</td><td> 14.313816</td><td> 15.646263</td><td> 27.235216</td><td> 29.126219</td><td> 34.736059</td><td> 8.230900</td><td>17.650236</td><td> 12.631870</td><td> 30.814813</td><td> 30.071599</td><td> 10.5225306</td><td>-28.623187</td></tr>\n",
              "</tbody>\n",
              "</table>\n"
            ],
            "text/markdown": "\nA data.frame: 6 × 16\n\n| <!--/--> | ALPA4 &lt;dbl&gt; | BBAS3 &lt;dbl&gt; | BBDC3 &lt;dbl&gt; | BBDC4 &lt;dbl&gt; | CMIG4 &lt;dbl&gt; | CPLE6 &lt;dbl&gt; | ELET3 &lt;dbl&gt; | ELET6 &lt;dbl&gt; | EMBR3 &lt;dbl&gt; | GGBR4 &lt;dbl&gt; | ITSA4 &lt;dbl&gt; | LIGT3 &lt;dbl&gt; | PETR3 &lt;dbl&gt; | PETR4 &lt;dbl&gt; | SBSP3 &lt;dbl&gt; | VIVT3 &lt;dbl&gt; |\n|---|---|---|---|---|---|---|---|---|---|---|---|---|---|---|---|---|\n| 1 | -6.35512370 |  -5.952382 |  -2.078679 |   3.200547 | -23.950618 | -17.714287 | -17.047656 | -13.722833 |  -7.888889 |  4.166667 | -8.500541 |  20.628142 | -14.991126 | -11.304351 |  -5.7048544 |  33.243479 |\n| 2 |  2.42718215 |  -5.696199 | -10.708152 | -12.924411 |  -5.487014 |  12.500005 |  -4.392524 |  -7.173605 |   1.745443 | -1.600005 | -3.529415 |   1.641325 |  26.466875 |  12.745102 | -12.2499986 |  18.749998 |\n| 3 |  9.95260583 | -14.248766 |   9.934533 |  13.243936 |   4.706286 |  -6.507126 |   1.010101 |   3.554871 |   8.795633 | -7.520324 |  3.844540 |  -9.832372 |   4.304947 |   4.449614 |   0.5697932 | -15.444107 |\n| 4 | -5.11890398 |  -4.610491 |  -6.916793 |  -8.119986 |  -7.685016 |  -9.084745 | -13.870968 | -11.044779 |   6.145254 | -4.175821 | -8.823535 |  -5.299998 |  -9.090907 |  -8.877120 |  -3.3982805 | -11.151319 |\n| 5 | 14.81339362 |  -4.999999 |  -4.789383 |  -6.572207 |   2.181821 |   9.619687 |   8.913859 |   3.691275 | -13.789478 | -4.862384 | -3.870964 | -12.642799 |   1.249999 |  -2.580794 | -21.9882677 |   2.184377 |\n| 6 |  0.01666724 |  13.157897 |  20.656147 |  27.561080 |  14.313816 |  15.646263 |  27.235216 |  29.126219 |  34.736059 |  8.230900 | 17.650236 |  12.631870 |  30.814813 |  30.071599 |  10.5225306 | -28.623187 |\n\n",
            "text/latex": "A data.frame: 6 × 16\n\\begin{tabular}{r|llllllllllllllll}\n  & ALPA4 & BBAS3 & BBDC3 & BBDC4 & CMIG4 & CPLE6 & ELET3 & ELET6 & EMBR3 & GGBR4 & ITSA4 & LIGT3 & PETR3 & PETR4 & SBSP3 & VIVT3\\\\\n  & <dbl> & <dbl> & <dbl> & <dbl> & <dbl> & <dbl> & <dbl> & <dbl> & <dbl> & <dbl> & <dbl> & <dbl> & <dbl> & <dbl> & <dbl> & <dbl>\\\\\n\\hline\n\t1 & -6.35512370 &  -5.952382 &  -2.078679 &   3.200547 & -23.950618 & -17.714287 & -17.047656 & -13.722833 &  -7.888889 &  4.166667 & -8.500541 &  20.628142 & -14.991126 & -11.304351 &  -5.7048544 &  33.243479\\\\\n\t2 &  2.42718215 &  -5.696199 & -10.708152 & -12.924411 &  -5.487014 &  12.500005 &  -4.392524 &  -7.173605 &   1.745443 & -1.600005 & -3.529415 &   1.641325 &  26.466875 &  12.745102 & -12.2499986 &  18.749998\\\\\n\t3 &  9.95260583 & -14.248766 &   9.934533 &  13.243936 &   4.706286 &  -6.507126 &   1.010101 &   3.554871 &   8.795633 & -7.520324 &  3.844540 &  -9.832372 &   4.304947 &   4.449614 &   0.5697932 & -15.444107\\\\\n\t4 & -5.11890398 &  -4.610491 &  -6.916793 &  -8.119986 &  -7.685016 &  -9.084745 & -13.870968 & -11.044779 &   6.145254 & -4.175821 & -8.823535 &  -5.299998 &  -9.090907 &  -8.877120 &  -3.3982805 & -11.151319\\\\\n\t5 & 14.81339362 &  -4.999999 &  -4.789383 &  -6.572207 &   2.181821 &   9.619687 &   8.913859 &   3.691275 & -13.789478 & -4.862384 & -3.870964 & -12.642799 &   1.249999 &  -2.580794 & -21.9882677 &   2.184377\\\\\n\t6 &  0.01666724 &  13.157897 &  20.656147 &  27.561080 &  14.313816 &  15.646263 &  27.235216 &  29.126219 &  34.736059 &  8.230900 & 17.650236 &  12.631870 &  30.814813 &  30.071599 &  10.5225306 & -28.623187\\\\\n\\end{tabular}\n",
            "text/plain": [
              "  ALPA4       BBAS3      BBDC3      BBDC4      CMIG4      CPLE6      ELET3     \n",
              "1 -6.35512370  -5.952382  -2.078679   3.200547 -23.950618 -17.714287 -17.047656\n",
              "2  2.42718215  -5.696199 -10.708152 -12.924411  -5.487014  12.500005  -4.392524\n",
              "3  9.95260583 -14.248766   9.934533  13.243936   4.706286  -6.507126   1.010101\n",
              "4 -5.11890398  -4.610491  -6.916793  -8.119986  -7.685016  -9.084745 -13.870968\n",
              "5 14.81339362  -4.999999  -4.789383  -6.572207   2.181821   9.619687   8.913859\n",
              "6  0.01666724  13.157897  20.656147  27.561080  14.313816  15.646263  27.235216\n",
              "  ELET6      EMBR3      GGBR4     ITSA4     LIGT3      PETR3      PETR4     \n",
              "1 -13.722833  -7.888889  4.166667 -8.500541  20.628142 -14.991126 -11.304351\n",
              "2  -7.173605   1.745443 -1.600005 -3.529415   1.641325  26.466875  12.745102\n",
              "3   3.554871   8.795633 -7.520324  3.844540  -9.832372   4.304947   4.449614\n",
              "4 -11.044779   6.145254 -4.175821 -8.823535  -5.299998  -9.090907  -8.877120\n",
              "5   3.691275 -13.789478 -4.862384 -3.870964 -12.642799   1.249999  -2.580794\n",
              "6  29.126219  34.736059  8.230900 17.650236  12.631870  30.814813  30.071599\n",
              "  SBSP3       VIVT3     \n",
              "1  -5.7048544  33.243479\n",
              "2 -12.2499986  18.749998\n",
              "3   0.5697932 -15.444107\n",
              "4  -3.3982805 -11.151319\n",
              "5 -21.9882677   2.184377\n",
              "6  10.5225306 -28.623187"
            ]
          },
          "metadata": {}
        }
      ]
    },
    {
      "cell_type": "code",
      "source": [
        "test.BHEP(dados, MC.rep = 1000)"
      ],
      "metadata": {
        "colab": {
          "base_uri": "https://localhost:8080/",
          "height": 237
        },
        "id": "ItS35dR3g7h4",
        "outputId": "ab803f11-01c8-4a07-cf67-8e24424dd1d8"
      },
      "execution_count": 4,
      "outputs": [
        {
          "output_type": "stream",
          "name": "stdout",
          "text": [
            "  |======================================================================| 100%\n"
          ]
        },
        {
          "output_type": "display_data",
          "data": {
            "text/plain": [
              "\n",
              "------------------------------------------------------------------------- \n",
              "\n",
              "         Test for multivariate normality with the BHEP  teststatistic.\n",
              "\n",
              "tuning parameter = 1  \n",
              "BHEP  =  1.10135  \n",
              "critical value =   1.000111  (via monte carlo) \n",
              "\n",
              "\n",
              "------------------------------------------------------------------------- "
            ]
          },
          "metadata": {}
        }
      ]
    },
    {
      "cell_type": "markdown",
      "source": [
        "## 1. É pertinente aplicar AF?\n",
        "\n",
        "- Teste de esfericidade de Barlett: $$H_0: \\textbf{R} = \\textbf{I} \\quad vs. \\quad H_1: \\textbf{R} \\neq = \\textbf{I}$$ \n",
        "\n",
        "Estaística de teste: $-[n - 1 -(2p+5)/6] \\log |\\textbf{R}| \\sim \\chi^2_{(p^2-p)/2}$\n",
        "\n",
        "- Medida de adequação amostral de Kaisser, Meyer e Olkin (**KMO**): \n",
        "\n",
        "\n",
        "$$KMO = MSA = \\dfrac{\\displaystyle \\sum \\sum_{h \\neq j} r_{hj}^2}{\\displaystyle \\sum \\sum_{h \\neq j} r_{hj}^2 + \\displaystyle \\sum \\sum_{h \\neq j} a_{hj}^2},$$\n",
        "em que $r_{hj}$ é o coeficiente de correlação entre $X_h$ e $X_j$ e $a_{hj}$ é o coeficiente de correlação parcial entre as variáveis. \n",
        "\n",
        "Se o mdelo fatorial pode ser aplicado, $a_{hj}$ será zero ou muito pequeno (pois \"retirar\"o efeito da outra variáve equivale a retirar o efeito dos fatores comuns), fazendo com que KMO seja próximo de 1 (valores inferiores a 0.5 não são desejáveis).\n",
        "\n",
        "Baseado no KMO, pode també ser calculado a medida de adequação amostral para cada uma das variáveis.\n",
        "\n",
        "$$MSA_j = \\dfrac{\\displaystyle \\sum_{h \\neq j} r_{hj}^2}{\\displaystyle \\sum_{h \\neq j} r_{hj}^2 + \\displaystyle \\sum_{h \\neq j} a_{hj}^2},$$\n",
        "\n",
        "Valores próximos a 1 indicam que $X_j$ é adequada para AF.\n"
      ],
      "metadata": {
        "id": "Vr3Ipg6hhI4t"
      }
    },
    {
      "cell_type": "code",
      "execution_count": 5,
      "metadata": {
        "id": "I0Jp9jdJK-3N",
        "colab": {
          "base_uri": "https://localhost:8080/",
          "height": 149
        },
        "outputId": "e47cb152-f1f1-4890-c6aa-581b3cd18d72"
      },
      "outputs": [
        {
          "output_type": "display_data",
          "data": {
            "text/html": [
              "<dl>\n",
              "\t<dt>$chisq</dt>\n",
              "\t\t<dd>3614.4275640144</dd>\n",
              "\t<dt>$p.value</dt>\n",
              "\t\t<dd>0</dd>\n",
              "\t<dt>$df</dt>\n",
              "\t\t<dd>120</dd>\n",
              "</dl>\n"
            ],
            "text/markdown": "$chisq\n:   3614.4275640144\n$p.value\n:   0\n$df\n:   120\n\n\n",
            "text/latex": "\\begin{description}\n\\item[\\$chisq] 3614.4275640144\n\\item[\\$p.value] 0\n\\item[\\$df] 120\n\\end{description}\n",
            "text/plain": [
              "$chisq\n",
              "[1] 3614.428\n",
              "\n",
              "$p.value\n",
              "[1] 0\n",
              "\n",
              "$df\n",
              "[1] 120\n"
            ]
          },
          "metadata": {}
        }
      ],
      "source": [
        "cortest.bartlett(cor(dados), n = nrow(dados), diag = TRUE) # Requer normalidade"
      ]
    },
    {
      "cell_type": "code",
      "source": [
        "KMO(dados)"
      ],
      "metadata": {
        "colab": {
          "base_uri": "https://localhost:8080/",
          "height": 164
        },
        "id": "r1mup9VEg0sO",
        "outputId": "7c4cfddb-82d6-4601-a52d-770b892a4aa2"
      },
      "execution_count": 6,
      "outputs": [
        {
          "output_type": "display_data",
          "data": {
            "text/plain": [
              "Kaiser-Meyer-Olkin factor adequacy\n",
              "Call: KMO(r = dados)\n",
              "Overall MSA =  0.88\n",
              "MSA for each item = \n",
              "ALPA4 BBAS3 BBDC3 BBDC4 CMIG4 CPLE6 ELET3 ELET6 EMBR3 GGBR4 ITSA4 LIGT3 PETR3 \n",
              " 0.95  0.96  0.87  0.84  0.92  0.93  0.80  0.79  0.87  0.95  0.93  0.95  0.78 \n",
              "PETR4 SBSP3 VIVT3 \n",
              " 0.79  0.96  0.92 "
            ]
          },
          "metadata": {}
        }
      ]
    },
    {
      "cell_type": "markdown",
      "source": [
        "## 2. Aplicar AF\n",
        "\n",
        "- Covariância ou Correlação? (seguir os mesmos critérios do ACP)\n",
        "- Quantos fatores?\n",
        "- Qual método de estimação utilizar?\n",
        "- Qual método para extrair os fatores?"
      ],
      "metadata": {
        "id": "8rWAVweSeV6f"
      }
    },
    {
      "cell_type": "code",
      "source": [
        "apply(dados, 2, sd)"
      ],
      "metadata": {
        "colab": {
          "base_uri": "https://localhost:8080/",
          "height": 69
        },
        "id": "Ij7Y1IQ_jNii",
        "outputId": "8f9b3cc7-7991-4deb-fa8e-35fed156a8f1"
      },
      "execution_count": 7,
      "outputs": [
        {
          "output_type": "display_data",
          "data": {
            "text/html": [
              "<style>\n",
              ".dl-inline {width: auto; margin:0; padding: 0}\n",
              ".dl-inline>dt, .dl-inline>dd {float: none; width: auto; display: inline-block}\n",
              ".dl-inline>dt::after {content: \":\\0020\"; padding-right: .5ex}\n",
              ".dl-inline>dt:not(:first-of-type) {padding-left: .5ex}\n",
              "</style><dl class=dl-inline><dt>ALPA4</dt><dd>10.9710528818897</dd><dt>BBAS3</dt><dd>12.0297362637691</dd><dt>BBDC3</dt><dd>9.63448558988981</dd><dt>BBDC4</dt><dd>9.78037050694191</dd><dt>CMIG4</dt><dd>10.613702601692</dd><dt>CPLE6</dt><dd>10.0006332802493</dd><dt>ELET3</dt><dd>14.6031546068661</dd><dt>ELET6</dt><dd>13.0464525171005</dd><dt>EMBR3</dt><dd>11.6411150500298</dd><dt>GGBR4</dt><dd>13.1103031447783</dd><dt>ITSA4</dt><dd>8.63158678771209</dd><dt>LIGT3</dt><dd>13.4877356194331</dd><dt>PETR3</dt><dd>12.0624893236609</dd><dt>PETR4</dt><dd>11.9962386116459</dd><dt>SBSP3</dt><dd>10.5176182557743</dd><dt>VIVT3</dt><dd>7.67334914333402</dd></dl>\n"
            ],
            "text/markdown": "ALPA4\n:   10.9710528818897BBAS3\n:   12.0297362637691BBDC3\n:   9.63448558988981BBDC4\n:   9.78037050694191CMIG4\n:   10.613702601692CPLE6\n:   10.0006332802493ELET3\n:   14.6031546068661ELET6\n:   13.0464525171005EMBR3\n:   11.6411150500298GGBR4\n:   13.1103031447783ITSA4\n:   8.63158678771209LIGT3\n:   13.4877356194331PETR3\n:   12.0624893236609PETR4\n:   11.9962386116459SBSP3\n:   10.5176182557743VIVT3\n:   7.67334914333402\n\n",
            "text/latex": "\\begin{description*}\n\\item[ALPA4] 10.9710528818897\n\\item[BBAS3] 12.0297362637691\n\\item[BBDC3] 9.63448558988981\n\\item[BBDC4] 9.78037050694191\n\\item[CMIG4] 10.613702601692\n\\item[CPLE6] 10.0006332802493\n\\item[ELET3] 14.6031546068661\n\\item[ELET6] 13.0464525171005\n\\item[EMBR3] 11.6411150500298\n\\item[GGBR4] 13.1103031447783\n\\item[ITSA4] 8.63158678771209\n\\item[LIGT3] 13.4877356194331\n\\item[PETR3] 12.0624893236609\n\\item[PETR4] 11.9962386116459\n\\item[SBSP3] 10.5176182557743\n\\item[VIVT3] 7.67334914333402\n\\end{description*}\n",
            "text/plain": [
              "    ALPA4     BBAS3     BBDC3     BBDC4     CMIG4     CPLE6     ELET3     ELET6 \n",
              "10.971053 12.029736  9.634486  9.780371 10.613703 10.000633 14.603155 13.046453 \n",
              "    EMBR3     GGBR4     ITSA4     LIGT3     PETR3     PETR4     SBSP3     VIVT3 \n",
              "11.641115 13.110303  8.631587 13.487736 12.062489 11.996239 10.517618  7.673349 "
            ]
          },
          "metadata": {}
        }
      ]
    },
    {
      "cell_type": "code",
      "source": [
        "POETKhat(t(dados))"
      ],
      "metadata": {
        "colab": {
          "base_uri": "https://localhost:8080/",
          "height": 281
        },
        "id": "sZSYSxhQkk2_",
        "outputId": "b97c0797-7a9c-41ac-81ea-460e918a2bb3"
      },
      "execution_count": 8,
      "outputs": [
        {
          "output_type": "display_data",
          "data": {
            "text/html": [
              "<dl>\n",
              "\t<dt>$K1HL</dt>\n",
              "\t\t<dd>1</dd>\n",
              "\t<dt>$K2HL</dt>\n",
              "\t\t<dd>1</dd>\n",
              "\t<dt>$K1BN</dt>\n",
              "\t\t<dd>1</dd>\n",
              "\t<dt>$K2BN</dt>\n",
              "\t\t<dd>1</dd>\n",
              "\t<dt>$IC</dt>\n",
              "\t\t<dd><table class=\"dataframe\">\n",
              "<caption>A matrix: 2 × 10 of type dbl</caption>\n",
              "<tbody>\n",
              "\t<tr><td>5.036303</td><td>5.215364</td><td>5.394690</td><td>5.574049</td><td>5.753488</td><td>5.932980</td><td>6.112495</td><td>6.292081</td><td>6.471704</td><td>6.651370</td></tr>\n",
              "\t<tr><td>5.040173</td><td>5.223104</td><td>5.406301</td><td>5.589530</td><td>5.772840</td><td>5.956201</td><td>6.139586</td><td>6.323043</td><td>6.506536</td><td>6.690072</td></tr>\n",
              "</tbody>\n",
              "</table>\n",
              "</dd>\n",
              "</dl>\n"
            ],
            "text/markdown": "$K1HL\n:   1\n$K2HL\n:   1\n$K1BN\n:   1\n$K2BN\n:   1\n$IC\n:   \nA matrix: 2 × 10 of type dbl\n\n| 5.036303 | 5.215364 | 5.394690 | 5.574049 | 5.753488 | 5.932980 | 6.112495 | 6.292081 | 6.471704 | 6.651370 |\n| 5.040173 | 5.223104 | 5.406301 | 5.589530 | 5.772840 | 5.956201 | 6.139586 | 6.323043 | 6.506536 | 6.690072 |\n\n\n\n\n",
            "text/latex": "\\begin{description}\n\\item[\\$K1HL] 1\n\\item[\\$K2HL] 1\n\\item[\\$K1BN] 1\n\\item[\\$K2BN] 1\n\\item[\\$IC] A matrix: 2 × 10 of type dbl\n\\begin{tabular}{llllllllll}\n\t 5.036303 & 5.215364 & 5.394690 & 5.574049 & 5.753488 & 5.932980 & 6.112495 & 6.292081 & 6.471704 & 6.651370\\\\\n\t 5.040173 & 5.223104 & 5.406301 & 5.589530 & 5.772840 & 5.956201 & 6.139586 & 6.323043 & 6.506536 & 6.690072\\\\\n\\end{tabular}\n\n\\end{description}\n",
            "text/plain": [
              "$K1HL\n",
              "[1] 1\n",
              "\n",
              "$K2HL\n",
              "[1] 1\n",
              "\n",
              "$K1BN\n",
              "[1] 1\n",
              "\n",
              "$K2BN\n",
              "[1] 1\n",
              "\n",
              "$IC\n",
              "         [,1]     [,2]     [,3]     [,4]     [,5]     [,6]     [,7]     [,8]\n",
              "[1,] 5.036303 5.215364 5.394690 5.574049 5.753488 5.932980 6.112495 6.292081\n",
              "[2,] 5.040173 5.223104 5.406301 5.589530 5.772840 5.956201 6.139586 6.323043\n",
              "         [,9]    [,10]\n",
              "[1,] 6.471704 6.651370\n",
              "[2,] 6.506536 6.690072\n"
            ]
          },
          "metadata": {}
        }
      ]
    },
    {
      "cell_type": "markdown",
      "source": [
        "Segundo o visto na aula, a matriz de cargas fatoriais e os fatores são obtidos da seguinte forma:\n",
        "\n",
        "$$\\hat{\\textbf{F}} = \\textbf{x} \\textbf{P}_1\\textbf{D}_1^{-1/2} \\quad e \\quad  \\hat{\\Lambda} = \\textbf{P}_1 \\textbf{D}_1^{1/2}$$\n"
      ],
      "metadata": {
        "id": "mVfi1XD3v_-3"
      }
    },
    {
      "cell_type": "code",
      "source": [
        "# Manual\n",
        "dados = scale(dados, scale = TRUE)\n",
        "eigen_aux <- eigen(cor(dados))\n",
        "P <- eigen_aux$vectors       \n",
        "D <- diag(eigen_aux$values) \n",
        "F_hat <- dados %*% P[,1] * 1/sqrt(D[1, 1])\n",
        "Lambda_hat <- P[, 1] * sqrt(D[1, 1])"
      ],
      "metadata": {
        "id": "vT3WKQoswatq"
      },
      "execution_count": 9,
      "outputs": []
    },
    {
      "cell_type": "code",
      "source": [
        "modelo_af_pca = principal(dados, nfactors = 1, rotate = \"none\", scores = TRUE)"
      ],
      "metadata": {
        "id": "RNwvreeDk5jG"
      },
      "execution_count": 10,
      "outputs": []
    },
    {
      "cell_type": "code",
      "source": [
        "# As cargas fatoriais feitas na mao e com a implementação batem?\n",
        "cbind(Lambda_hat, modelo_af_pca$loadings)"
      ],
      "metadata": {
        "colab": {
          "base_uri": "https://localhost:8080/",
          "height": 569
        },
        "id": "xYA7YM7d2ZBE",
        "outputId": "99bf7ff9-bac8-4fa6-e880-9d911fde6625"
      },
      "execution_count": 11,
      "outputs": [
        {
          "output_type": "display_data",
          "data": {
            "text/html": [
              "<table class=\"dataframe\">\n",
              "<caption>A matrix: 16 × 2 of type dbl</caption>\n",
              "<thead>\n",
              "\t<tr><th></th><th scope=col>Lambda_hat</th><th scope=col>PC1</th></tr>\n",
              "</thead>\n",
              "<tbody>\n",
              "\t<tr><th scope=row>ALPA4</th><td>-0.4723331</td><td>0.4723331</td></tr>\n",
              "\t<tr><th scope=row>BBAS3</th><td>-0.8230853</td><td>0.8230853</td></tr>\n",
              "\t<tr><th scope=row>BBDC3</th><td>-0.8025489</td><td>0.8025489</td></tr>\n",
              "\t<tr><th scope=row>BBDC4</th><td>-0.8353218</td><td>0.8353218</td></tr>\n",
              "\t<tr><th scope=row>CMIG4</th><td>-0.7525191</td><td>0.7525191</td></tr>\n",
              "\t<tr><th scope=row>CPLE6</th><td>-0.7153460</td><td>0.7153460</td></tr>\n",
              "\t<tr><th scope=row>ELET3</th><td>-0.7002974</td><td>0.7002974</td></tr>\n",
              "\t<tr><th scope=row>ELET6</th><td>-0.6931126</td><td>0.6931126</td></tr>\n",
              "\t<tr><th scope=row>EMBR3</th><td>-0.3303562</td><td>0.3303562</td></tr>\n",
              "\t<tr><th scope=row>GGBR4</th><td>-0.6789408</td><td>0.6789408</td></tr>\n",
              "\t<tr><th scope=row>ITSA4</th><td>-0.8482029</td><td>0.8482029</td></tr>\n",
              "\t<tr><th scope=row>LIGT3</th><td>-0.6013978</td><td>0.6013978</td></tr>\n",
              "\t<tr><th scope=row>PETR3</th><td>-0.7557303</td><td>0.7557303</td></tr>\n",
              "\t<tr><th scope=row>PETR4</th><td>-0.8008218</td><td>0.8008218</td></tr>\n",
              "\t<tr><th scope=row>SBSP3</th><td>-0.6160960</td><td>0.6160960</td></tr>\n",
              "\t<tr><th scope=row>VIVT3</th><td>-0.4246854</td><td>0.4246854</td></tr>\n",
              "</tbody>\n",
              "</table>\n"
            ],
            "text/markdown": "\nA matrix: 16 × 2 of type dbl\n\n| <!--/--> | Lambda_hat | PC1 |\n|---|---|---|\n| ALPA4 | -0.4723331 | 0.4723331 |\n| BBAS3 | -0.8230853 | 0.8230853 |\n| BBDC3 | -0.8025489 | 0.8025489 |\n| BBDC4 | -0.8353218 | 0.8353218 |\n| CMIG4 | -0.7525191 | 0.7525191 |\n| CPLE6 | -0.7153460 | 0.7153460 |\n| ELET3 | -0.7002974 | 0.7002974 |\n| ELET6 | -0.6931126 | 0.6931126 |\n| EMBR3 | -0.3303562 | 0.3303562 |\n| GGBR4 | -0.6789408 | 0.6789408 |\n| ITSA4 | -0.8482029 | 0.8482029 |\n| LIGT3 | -0.6013978 | 0.6013978 |\n| PETR3 | -0.7557303 | 0.7557303 |\n| PETR4 | -0.8008218 | 0.8008218 |\n| SBSP3 | -0.6160960 | 0.6160960 |\n| VIVT3 | -0.4246854 | 0.4246854 |\n\n",
            "text/latex": "A matrix: 16 × 2 of type dbl\n\\begin{tabular}{r|ll}\n  & Lambda\\_hat & PC1\\\\\n\\hline\n\tALPA4 & -0.4723331 & 0.4723331\\\\\n\tBBAS3 & -0.8230853 & 0.8230853\\\\\n\tBBDC3 & -0.8025489 & 0.8025489\\\\\n\tBBDC4 & -0.8353218 & 0.8353218\\\\\n\tCMIG4 & -0.7525191 & 0.7525191\\\\\n\tCPLE6 & -0.7153460 & 0.7153460\\\\\n\tELET3 & -0.7002974 & 0.7002974\\\\\n\tELET6 & -0.6931126 & 0.6931126\\\\\n\tEMBR3 & -0.3303562 & 0.3303562\\\\\n\tGGBR4 & -0.6789408 & 0.6789408\\\\\n\tITSA4 & -0.8482029 & 0.8482029\\\\\n\tLIGT3 & -0.6013978 & 0.6013978\\\\\n\tPETR3 & -0.7557303 & 0.7557303\\\\\n\tPETR4 & -0.8008218 & 0.8008218\\\\\n\tSBSP3 & -0.6160960 & 0.6160960\\\\\n\tVIVT3 & -0.4246854 & 0.4246854\\\\\n\\end{tabular}\n",
            "text/plain": [
              "      Lambda_hat PC1      \n",
              "ALPA4 -0.4723331 0.4723331\n",
              "BBAS3 -0.8230853 0.8230853\n",
              "BBDC3 -0.8025489 0.8025489\n",
              "BBDC4 -0.8353218 0.8353218\n",
              "CMIG4 -0.7525191 0.7525191\n",
              "CPLE6 -0.7153460 0.7153460\n",
              "ELET3 -0.7002974 0.7002974\n",
              "ELET6 -0.6931126 0.6931126\n",
              "EMBR3 -0.3303562 0.3303562\n",
              "GGBR4 -0.6789408 0.6789408\n",
              "ITSA4 -0.8482029 0.8482029\n",
              "LIGT3 -0.6013978 0.6013978\n",
              "PETR3 -0.7557303 0.7557303\n",
              "PETR4 -0.8008218 0.8008218\n",
              "SBSP3 -0.6160960 0.6160960\n",
              "VIVT3 -0.4246854 0.4246854"
            ]
          },
          "metadata": {}
        }
      ]
    },
    {
      "cell_type": "code",
      "source": [
        "# Os fatores (scores) feitos na mão e com a implementação batem?\n",
        "head(cbind(F_hat, modelo_af_pca$scores))"
      ],
      "metadata": {
        "colab": {
          "base_uri": "https://localhost:8080/",
          "height": 255
        },
        "id": "SFyDRzGhvzvl",
        "outputId": "f47a838d-cb0a-4910-cb63-9ce3c7ec7b66"
      },
      "execution_count": 12,
      "outputs": [
        {
          "output_type": "display_data",
          "data": {
            "text/html": [
              "<table class=\"dataframe\">\n",
              "<caption>A matrix: 6 × 2 of type dbl</caption>\n",
              "<thead>\n",
              "\t<tr><th></th><th scope=col></th><th scope=col>PC1</th></tr>\n",
              "</thead>\n",
              "<tbody>\n",
              "\t<tr><th scope=row>1</th><td> 0.89050095</td><td>-0.89050095</td></tr>\n",
              "\t<tr><th scope=row>2</th><td> 0.19590467</td><td>-0.19590467</td></tr>\n",
              "\t<tr><th scope=row>3</th><td> 0.07818002</td><td>-0.07818002</td></tr>\n",
              "\t<tr><th scope=row>4</th><td> 1.17197970</td><td>-1.17197970</td></tr>\n",
              "\t<tr><th scope=row>5</th><td> 0.48120457</td><td>-0.48120457</td></tr>\n",
              "\t<tr><th scope=row>6</th><td>-1.94134826</td><td> 1.94134826</td></tr>\n",
              "</tbody>\n",
              "</table>\n"
            ],
            "text/markdown": "\nA matrix: 6 × 2 of type dbl\n\n| <!--/--> | <!----> | PC1 |\n|---|---|---|\n| 1 |  0.89050095 | -0.89050095 |\n| 2 |  0.19590467 | -0.19590467 |\n| 3 |  0.07818002 | -0.07818002 |\n| 4 |  1.17197970 | -1.17197970 |\n| 5 |  0.48120457 | -0.48120457 |\n| 6 | -1.94134826 |  1.94134826 |\n\n",
            "text/latex": "A matrix: 6 × 2 of type dbl\n\\begin{tabular}{r|ll}\n  &  & PC1\\\\\n\\hline\n\t1 &  0.89050095 & -0.89050095\\\\\n\t2 &  0.19590467 & -0.19590467\\\\\n\t3 &  0.07818002 & -0.07818002\\\\\n\t4 &  1.17197970 & -1.17197970\\\\\n\t5 &  0.48120457 & -0.48120457\\\\\n\t6 & -1.94134826 &  1.94134826\\\\\n\\end{tabular}\n",
            "text/plain": [
              "              PC1        \n",
              "1  0.89050095 -0.89050095\n",
              "2  0.19590467 -0.19590467\n",
              "3  0.07818002 -0.07818002\n",
              "4  1.17197970 -1.17197970\n",
              "5  0.48120457 -0.48120457\n",
              "6 -1.94134826  1.94134826"
            ]
          },
          "metadata": {}
        }
      ]
    },
    {
      "cell_type": "code",
      "source": [
        "# Rotação\n",
        "## Como temos k = 1, não faz sentido fazermos rotação, mas para ilustrar, faremos k = 2\n",
        "modelo_af_pca_sem_rotar = principal(dados, nfactors = 2, scores = TRUE, rotate = \"none\")\n",
        "modelo_af_pca_varimax = principal(dados, nfactors = 2, scores = TRUE, rotate = 'varimax')"
      ],
      "metadata": {
        "id": "dH97k2g2n_mz"
      },
      "execution_count": 13,
      "outputs": []
    },
    {
      "cell_type": "code",
      "source": [
        "modelo_af_pca_sem_rotar$loadings"
      ],
      "metadata": {
        "colab": {
          "base_uri": "https://localhost:8080/",
          "height": 458
        },
        "id": "fjP_wQI7pIxS",
        "outputId": "3ea47a51-caf1-4b9a-84f9-30c34791b1f5"
      },
      "execution_count": 14,
      "outputs": [
        {
          "output_type": "display_data",
          "data": {
            "text/plain": [
              "\n",
              "Loadings:\n",
              "      PC1    PC2   \n",
              "ALPA4  0.472       \n",
              "BBAS3  0.823 -0.179\n",
              "BBDC3  0.803 -0.308\n",
              "BBDC4  0.835 -0.307\n",
              "CMIG4  0.753  0.209\n",
              "CPLE6  0.715  0.290\n",
              "ELET3  0.700  0.579\n",
              "ELET6  0.693  0.584\n",
              "EMBR3  0.330 -0.209\n",
              "GGBR4  0.679       \n",
              "ITSA4  0.848 -0.229\n",
              "LIGT3  0.601  0.233\n",
              "PETR3  0.756 -0.257\n",
              "PETR4  0.801 -0.250\n",
              "SBSP3  0.616  0.136\n",
              "VIVT3  0.425       \n",
              "\n",
              "                 PC1   PC2\n",
              "SS loadings    7.715 1.335\n",
              "Proportion Var 0.482 0.083\n",
              "Cumulative Var 0.482 0.566"
            ]
          },
          "metadata": {}
        }
      ]
    },
    {
      "cell_type": "code",
      "source": [
        "modelo_af_pca_varimax$loading"
      ],
      "metadata": {
        "colab": {
          "base_uri": "https://localhost:8080/",
          "height": 458
        },
        "id": "t9-9ETW2pK5D",
        "outputId": "7ecc739e-6203-49e3-b46a-a92249334842"
      },
      "execution_count": 15,
      "outputs": [
        {
          "output_type": "display_data",
          "data": {
            "text/plain": [
              "\n",
              "Loadings:\n",
              "      RC1   RC2  \n",
              "ALPA4 0.402 0.254\n",
              "BBAS3 0.750 0.384\n",
              "BBDC3 0.815 0.272\n",
              "BBDC4 0.841 0.293\n",
              "CMIG4 0.449 0.639\n",
              "CPLE6 0.369 0.678\n",
              "ELET3 0.174 0.892\n",
              "ELET6 0.165 0.892\n",
              "EMBR3 0.388      \n",
              "GGBR4 0.582 0.361\n",
              "ITSA4 0.801 0.361\n",
              "LIGT3 0.317 0.562\n",
              "PETR3 0.747 0.281\n",
              "PETR4 0.777 0.315\n",
              "SBSP3 0.390 0.496\n",
              "VIVT3 0.330 0.267\n",
              "\n",
              "                 RC1   RC2\n",
              "SS loadings    5.145 3.904\n",
              "Proportion Var 0.322 0.244\n",
              "Cumulative Var 0.322 0.566"
            ]
          },
          "metadata": {}
        }
      ]
    },
    {
      "cell_type": "code",
      "source": [
        "# Outros métodos de estimar as cargas/fatores\n",
        "modelo_af_fp = fa(dados, nfactors = 1, fm = \"pa\")\n",
        "modelo_af_mv = fa(dados, nfactors = 1, fm = \"ml\")"
      ],
      "metadata": {
        "id": "FECtv0hi3ckB"
      },
      "execution_count": 75,
      "outputs": []
    },
    {
      "cell_type": "code",
      "source": [
        "cbind(modelo_af_pca$loadings, modelo_af_fp$loadings, modelo_af_mv$loading)"
      ],
      "metadata": {
        "colab": {
          "base_uri": "https://localhost:8080/",
          "height": 569
        },
        "id": "eAfie7Im3phG",
        "outputId": "ae6990e1-b18a-4bb6-aad6-d428978f5fef"
      },
      "execution_count": 77,
      "outputs": [
        {
          "output_type": "display_data",
          "data": {
            "text/html": [
              "<table class=\"dataframe\">\n",
              "<caption>A matrix: 16 × 3 of type dbl</caption>\n",
              "<thead>\n",
              "\t<tr><th></th><th scope=col>PC1</th><th scope=col>PA1</th><th scope=col>ML1</th></tr>\n",
              "</thead>\n",
              "<tbody>\n",
              "\t<tr><th scope=row>ALPA4</th><td>0.4723331</td><td>0.4356876</td><td>0.4161115</td></tr>\n",
              "\t<tr><th scope=row>BBAS3</th><td>0.8230853</td><td>0.8133646</td><td>0.8168817</td></tr>\n",
              "\t<tr><th scope=row>BBDC3</th><td>0.8025489</td><td>0.7903095</td><td>0.8712896</td></tr>\n",
              "\t<tr><th scope=row>BBDC4</th><td>0.8353218</td><td>0.8295515</td><td>0.9040527</td></tr>\n",
              "\t<tr><th scope=row>CMIG4</th><td>0.7525191</td><td>0.7289212</td><td>0.6887567</td></tr>\n",
              "\t<tr><th scope=row>CPLE6</th><td>0.7153460</td><td>0.6870637</td><td>0.6428744</td></tr>\n",
              "\t<tr><th scope=row>ELET3</th><td>0.7002974</td><td>0.6699717</td><td>0.6019735</td></tr>\n",
              "\t<tr><th scope=row>ELET6</th><td>0.6931126</td><td>0.6621171</td><td>0.5942171</td></tr>\n",
              "\t<tr><th scope=row>EMBR3</th><td>0.3303562</td><td>0.3004060</td><td>0.3019552</td></tr>\n",
              "\t<tr><th scope=row>GGBR4</th><td>0.6789408</td><td>0.6476274</td><td>0.6138870</td></tr>\n",
              "\t<tr><th scope=row>ITSA4</th><td>0.8482029</td><td>0.8441793</td><td>0.8911654</td></tr>\n",
              "\t<tr><th scope=row>LIGT3</th><td>0.6013978</td><td>0.5647133</td><td>0.5125547</td></tr>\n",
              "\t<tr><th scope=row>PETR3</th><td>0.7557303</td><td>0.7345761</td><td>0.7132342</td></tr>\n",
              "\t<tr><th scope=row>PETR4</th><td>0.8008218</td><td>0.7865146</td><td>0.7600421</td></tr>\n",
              "\t<tr><th scope=row>SBSP3</th><td>0.6160960</td><td>0.5797084</td><td>0.5344716</td></tr>\n",
              "\t<tr><th scope=row>VIVT3</th><td>0.4246854</td><td>0.3890761</td><td>0.3598384</td></tr>\n",
              "</tbody>\n",
              "</table>\n"
            ],
            "text/markdown": "\nA matrix: 16 × 3 of type dbl\n\n| <!--/--> | PC1 | PA1 | ML1 |\n|---|---|---|---|\n| ALPA4 | 0.4723331 | 0.4356876 | 0.4161115 |\n| BBAS3 | 0.8230853 | 0.8133646 | 0.8168817 |\n| BBDC3 | 0.8025489 | 0.7903095 | 0.8712896 |\n| BBDC4 | 0.8353218 | 0.8295515 | 0.9040527 |\n| CMIG4 | 0.7525191 | 0.7289212 | 0.6887567 |\n| CPLE6 | 0.7153460 | 0.6870637 | 0.6428744 |\n| ELET3 | 0.7002974 | 0.6699717 | 0.6019735 |\n| ELET6 | 0.6931126 | 0.6621171 | 0.5942171 |\n| EMBR3 | 0.3303562 | 0.3004060 | 0.3019552 |\n| GGBR4 | 0.6789408 | 0.6476274 | 0.6138870 |\n| ITSA4 | 0.8482029 | 0.8441793 | 0.8911654 |\n| LIGT3 | 0.6013978 | 0.5647133 | 0.5125547 |\n| PETR3 | 0.7557303 | 0.7345761 | 0.7132342 |\n| PETR4 | 0.8008218 | 0.7865146 | 0.7600421 |\n| SBSP3 | 0.6160960 | 0.5797084 | 0.5344716 |\n| VIVT3 | 0.4246854 | 0.3890761 | 0.3598384 |\n\n",
            "text/latex": "A matrix: 16 × 3 of type dbl\n\\begin{tabular}{r|lll}\n  & PC1 & PA1 & ML1\\\\\n\\hline\n\tALPA4 & 0.4723331 & 0.4356876 & 0.4161115\\\\\n\tBBAS3 & 0.8230853 & 0.8133646 & 0.8168817\\\\\n\tBBDC3 & 0.8025489 & 0.7903095 & 0.8712896\\\\\n\tBBDC4 & 0.8353218 & 0.8295515 & 0.9040527\\\\\n\tCMIG4 & 0.7525191 & 0.7289212 & 0.6887567\\\\\n\tCPLE6 & 0.7153460 & 0.6870637 & 0.6428744\\\\\n\tELET3 & 0.7002974 & 0.6699717 & 0.6019735\\\\\n\tELET6 & 0.6931126 & 0.6621171 & 0.5942171\\\\\n\tEMBR3 & 0.3303562 & 0.3004060 & 0.3019552\\\\\n\tGGBR4 & 0.6789408 & 0.6476274 & 0.6138870\\\\\n\tITSA4 & 0.8482029 & 0.8441793 & 0.8911654\\\\\n\tLIGT3 & 0.6013978 & 0.5647133 & 0.5125547\\\\\n\tPETR3 & 0.7557303 & 0.7345761 & 0.7132342\\\\\n\tPETR4 & 0.8008218 & 0.7865146 & 0.7600421\\\\\n\tSBSP3 & 0.6160960 & 0.5797084 & 0.5344716\\\\\n\tVIVT3 & 0.4246854 & 0.3890761 & 0.3598384\\\\\n\\end{tabular}\n",
            "text/plain": [
              "      PC1       PA1       ML1      \n",
              "ALPA4 0.4723331 0.4356876 0.4161115\n",
              "BBAS3 0.8230853 0.8133646 0.8168817\n",
              "BBDC3 0.8025489 0.7903095 0.8712896\n",
              "BBDC4 0.8353218 0.8295515 0.9040527\n",
              "CMIG4 0.7525191 0.7289212 0.6887567\n",
              "CPLE6 0.7153460 0.6870637 0.6428744\n",
              "ELET3 0.7002974 0.6699717 0.6019735\n",
              "ELET6 0.6931126 0.6621171 0.5942171\n",
              "EMBR3 0.3303562 0.3004060 0.3019552\n",
              "GGBR4 0.6789408 0.6476274 0.6138870\n",
              "ITSA4 0.8482029 0.8441793 0.8911654\n",
              "LIGT3 0.6013978 0.5647133 0.5125547\n",
              "PETR3 0.7557303 0.7345761 0.7132342\n",
              "PETR4 0.8008218 0.7865146 0.7600421\n",
              "SBSP3 0.6160960 0.5797084 0.5344716\n",
              "VIVT3 0.4246854 0.3890761 0.3598384"
            ]
          },
          "metadata": {}
        }
      ]
    },
    {
      "cell_type": "code",
      "source": [
        "head(cbind(modelo_af_pca$scores, modelo_af_fp$scores, modelo_af_mv$scores))"
      ],
      "metadata": {
        "colab": {
          "base_uri": "https://localhost:8080/",
          "height": 255
        },
        "id": "N86bvpL_4H2n",
        "outputId": "2f482852-14e7-45f5-a665-ad8afd2e8b14"
      },
      "execution_count": 18,
      "outputs": [
        {
          "output_type": "display_data",
          "data": {
            "text/html": [
              "<table class=\"dataframe\">\n",
              "<caption>A matrix: 6 × 3 of type dbl</caption>\n",
              "<thead>\n",
              "\t<tr><th></th><th scope=col>PC1</th><th scope=col>PA1</th><th scope=col>ML1</th></tr>\n",
              "</thead>\n",
              "<tbody>\n",
              "\t<tr><th scope=row>1</th><td>-0.89050095</td><td>-0.92646362</td><td>-0.8069548</td></tr>\n",
              "\t<tr><th scope=row>2</th><td>-0.19590467</td><td>-0.39642738</td><td>-0.5908011</td></tr>\n",
              "\t<tr><th scope=row>3</th><td>-0.07818002</td><td>-0.02051454</td><td> 0.2440422</td></tr>\n",
              "\t<tr><th scope=row>4</th><td>-1.17197970</td><td>-1.13289355</td><td>-1.1216091</td></tr>\n",
              "\t<tr><th scope=row>5</th><td>-0.48120457</td><td>-0.52742879</td><td>-0.5960306</td></tr>\n",
              "\t<tr><th scope=row>6</th><td> 1.94134826</td><td> 2.01540279</td><td> 2.1362188</td></tr>\n",
              "</tbody>\n",
              "</table>\n"
            ],
            "text/markdown": "\nA matrix: 6 × 3 of type dbl\n\n| <!--/--> | PC1 | PA1 | ML1 |\n|---|---|---|---|\n| 1 | -0.89050095 | -0.92646362 | -0.8069548 |\n| 2 | -0.19590467 | -0.39642738 | -0.5908011 |\n| 3 | -0.07818002 | -0.02051454 |  0.2440422 |\n| 4 | -1.17197970 | -1.13289355 | -1.1216091 |\n| 5 | -0.48120457 | -0.52742879 | -0.5960306 |\n| 6 |  1.94134826 |  2.01540279 |  2.1362188 |\n\n",
            "text/latex": "A matrix: 6 × 3 of type dbl\n\\begin{tabular}{r|lll}\n  & PC1 & PA1 & ML1\\\\\n\\hline\n\t1 & -0.89050095 & -0.92646362 & -0.8069548\\\\\n\t2 & -0.19590467 & -0.39642738 & -0.5908011\\\\\n\t3 & -0.07818002 & -0.02051454 &  0.2440422\\\\\n\t4 & -1.17197970 & -1.13289355 & -1.1216091\\\\\n\t5 & -0.48120457 & -0.52742879 & -0.5960306\\\\\n\t6 &  1.94134826 &  2.01540279 &  2.1362188\\\\\n\\end{tabular}\n",
            "text/plain": [
              "  PC1         PA1         ML1       \n",
              "1 -0.89050095 -0.92646362 -0.8069548\n",
              "2 -0.19590467 -0.39642738 -0.5908011\n",
              "3 -0.07818002 -0.02051454  0.2440422\n",
              "4 -1.17197970 -1.13289355 -1.1216091\n",
              "5 -0.48120457 -0.52742879 -0.5960306\n",
              "6  1.94134826  2.01540279  2.1362188"
            ]
          },
          "metadata": {}
        }
      ]
    },
    {
      "cell_type": "markdown",
      "source": [
        "# 3. Que tão boa foi nossa AF?\n",
        "\n",
        "Para responder a esta pergunta focaremos em:\n",
        "\n",
        "- Cumunalidades\n",
        "- Diferença entra a correlação observada $\\textbf{R}$ e a reproduzida $\\hat{\\Lambda} \\hat{\\Lambda}' + \\hat{\\boldsymbol{\\Psi}}$"
      ],
      "metadata": {
        "id": "2-sP1veyWg1j"
      }
    },
    {
      "cell_type": "code",
      "source": [
        "modelo_af_pca"
      ],
      "metadata": {
        "colab": {
          "base_uri": "https://localhost:8080/",
          "height": 605
        },
        "id": "igKUhepJXMnL",
        "outputId": "adfad8a9-f255-4abe-b915-f4fb776519be"
      },
      "execution_count": 19,
      "outputs": [
        {
          "output_type": "display_data",
          "data": {
            "text/plain": [
              "Principal Components Analysis\n",
              "Call: principal(r = dados, nfactors = 1, rotate = \"none\", scores = TRUE)\n",
              "Standardized loadings (pattern matrix) based upon correlation matrix\n",
              "       PC1   h2   u2 com\n",
              "ALPA4 0.47 0.22 0.78   1\n",
              "BBAS3 0.82 0.68 0.32   1\n",
              "BBDC3 0.80 0.64 0.36   1\n",
              "BBDC4 0.84 0.70 0.30   1\n",
              "CMIG4 0.75 0.57 0.43   1\n",
              "CPLE6 0.72 0.51 0.49   1\n",
              "ELET3 0.70 0.49 0.51   1\n",
              "ELET6 0.69 0.48 0.52   1\n",
              "EMBR3 0.33 0.11 0.89   1\n",
              "GGBR4 0.68 0.46 0.54   1\n",
              "ITSA4 0.85 0.72 0.28   1\n",
              "LIGT3 0.60 0.36 0.64   1\n",
              "PETR3 0.76 0.57 0.43   1\n",
              "PETR4 0.80 0.64 0.36   1\n",
              "SBSP3 0.62 0.38 0.62   1\n",
              "VIVT3 0.42 0.18 0.82   1\n",
              "\n",
              "                PC1\n",
              "SS loadings    7.71\n",
              "Proportion Var 0.48\n",
              "\n",
              "Mean item complexity =  1\n",
              "Test of the hypothesis that 1 component is sufficient.\n",
              "\n",
              "The root mean square of the residuals (RMSR) is  0.09 \n",
              " with the empirical chi square  551.75  with prob <  3.7e-62 \n",
              "\n",
              "Fit based upon off diagonal values = 0.96"
            ]
          },
          "metadata": {}
        }
      ]
    },
    {
      "cell_type": "code",
      "source": [
        "modelo_af_pca$residual"
      ],
      "metadata": {
        "colab": {
          "base_uri": "https://localhost:8080/",
          "height": 589
        },
        "id": "do0qMMx4dkcs",
        "outputId": "573eeb4f-ea96-4c42-e0b7-95f76e97cba2"
      },
      "execution_count": 24,
      "outputs": [
        {
          "output_type": "display_data",
          "data": {
            "text/html": [
              "<table class=\"dataframe\">\n",
              "<caption>A matrix: 16 × 16 of type dbl</caption>\n",
              "<thead>\n",
              "\t<tr><th></th><th scope=col>ALPA4</th><th scope=col>BBAS3</th><th scope=col>BBDC3</th><th scope=col>BBDC4</th><th scope=col>CMIG4</th><th scope=col>CPLE6</th><th scope=col>ELET3</th><th scope=col>ELET6</th><th scope=col>EMBR3</th><th scope=col>GGBR4</th><th scope=col>ITSA4</th><th scope=col>LIGT3</th><th scope=col>PETR3</th><th scope=col>PETR4</th><th scope=col>SBSP3</th><th scope=col>VIVT3</th></tr>\n",
              "</thead>\n",
              "<tbody>\n",
              "\t<tr><th scope=row>ALPA4</th><td> 0.77690144</td><td>-0.066627433</td><td>-0.058534352</td><td>-0.0677730501</td><td>-0.059359493</td><td>-0.10136733</td><td>-0.0422346915</td><td>-0.037661461</td><td> 0.0466589950</td><td>-0.023402042</td><td>-0.01214240</td><td>-0.0464593649</td><td>-0.025158099</td><td>-0.03484901</td><td> 0.03955367</td><td> 0.060282583</td></tr>\n",
              "\t<tr><th scope=row>BBAS3</th><td>-0.06662743</td><td> 0.322530642</td><td> 0.018398239</td><td> 0.0209745280</td><td>-0.042142949</td><td>-0.05637133</td><td>-0.1010602764</td><td>-0.097374623</td><td>-0.0731883181</td><td> 0.007064551</td><td> 0.03304410</td><td>-0.0833933717</td><td> 0.011974459</td><td> 0.03220912</td><td>-0.06802733</td><td>-0.017446314</td></tr>\n",
              "\t<tr><th scope=row>BBDC3</th><td>-0.05853435</td><td> 0.018398239</td><td> 0.355915338</td><td> 0.2677344931</td><td>-0.071559455</td><td>-0.06112774</td><td>-0.1381646041</td><td>-0.145531732</td><td>-0.0074347675</td><td>-0.102137130</td><td> 0.12921416</td><td>-0.0948971635</td><td>-0.066867936</td><td>-0.05712308</td><td>-0.08734877</td><td>-0.075841845</td></tr>\n",
              "\t<tr><th scope=row>BBDC4</th><td>-0.06777305</td><td> 0.020974528</td><td> 0.267734493</td><td> 0.3022374552</td><td>-0.064028427</td><td>-0.08015049</td><td>-0.1299044960</td><td>-0.132518657</td><td> 0.0009537026</td><td>-0.088826778</td><td> 0.15891712</td><td>-0.1069644735</td><td>-0.049289219</td><td>-0.03885843</td><td>-0.11090817</td><td>-0.089530808</td></tr>\n",
              "\t<tr><th scope=row>CMIG4</th><td>-0.05935949</td><td>-0.042142949</td><td>-0.071559455</td><td>-0.0640284275</td><td> 0.433714975</td><td> 0.13097893</td><td> 0.0052125469</td><td> 0.005707779</td><td>-0.0653112272</td><td>-0.067966260</td><td>-0.04847207</td><td> 0.0471871003</td><td>-0.117705647</td><td>-0.08414879</td><td>-0.01613463</td><td>-0.017194341</td></tr>\n",
              "\t<tr><th scope=row>CPLE6</th><td>-0.10136733</td><td>-0.056371334</td><td>-0.061127738</td><td>-0.0801504905</td><td> 0.130978935</td><td> 0.48828009</td><td> 0.0386934716</td><td> 0.050989796</td><td>-0.0581575575</td><td>-0.077629332</td><td>-0.07884389</td><td> 0.0242988745</td><td>-0.119447735</td><td>-0.12448901</td><td> 0.01369338</td><td> 0.013429104</td></tr>\n",
              "\t<tr><th scope=row>ELET3</th><td>-0.04223469</td><td>-0.101060276</td><td>-0.138164604</td><td>-0.1299044960</td><td> 0.005212547</td><td> 0.03869347</td><td> 0.5095835891</td><td> 0.454269785</td><td>-0.1031402625</td><td>-0.077624280</td><td>-0.10071284</td><td>-0.0009847393</td><td>-0.095262833</td><td>-0.09947373</td><td>-0.03064707</td><td>-0.088225765</td></tr>\n",
              "\t<tr><th scope=row>ELET6</th><td>-0.03766146</td><td>-0.097374623</td><td>-0.145531732</td><td>-0.1325186568</td><td> 0.005707779</td><td> 0.05098980</td><td> 0.4542697853</td><td> 0.519594976</td><td>-0.0659987771</td><td>-0.083691096</td><td>-0.09543488</td><td>-0.0165410303</td><td>-0.103700694</td><td>-0.11149976</td><td>-0.01540778</td><td>-0.110504683</td></tr>\n",
              "\t<tr><th scope=row>EMBR3</th><td> 0.04665899</td><td>-0.073188318</td><td>-0.007434768</td><td> 0.0009537026</td><td>-0.065311227</td><td>-0.05815756</td><td>-0.1031402625</td><td>-0.065998777</td><td> 0.8908647721</td><td> 0.015966692</td><td> 0.01902283</td><td>-0.0596849595</td><td>-0.052353217</td><td>-0.07711134</td><td> 0.08074634</td><td> 0.043047858</td></tr>\n",
              "\t<tr><th scope=row>GGBR4</th><td>-0.02340204</td><td> 0.007064551</td><td>-0.102137130</td><td>-0.0888267780</td><td>-0.067966260</td><td>-0.07762933</td><td>-0.0776242801</td><td>-0.083691096</td><td> 0.0159666917</td><td> 0.539039423</td><td>-0.04424070</td><td> 0.0063425117</td><td> 0.009798277</td><td> 0.02987052</td><td> 0.01233875</td><td> 0.009384553</td></tr>\n",
              "\t<tr><th scope=row>ITSA4</th><td>-0.01214240</td><td> 0.033044098</td><td> 0.129214161</td><td> 0.1589171198</td><td>-0.048472070</td><td>-0.07884389</td><td>-0.1007128404</td><td>-0.095434878</td><td> 0.0190228304</td><td>-0.044240697</td><td> 0.28055185</td><td>-0.1235719073</td><td>-0.073194894</td><td>-0.06982367</td><td>-0.06017668</td><td>-0.046970230</td></tr>\n",
              "\t<tr><th scope=row>LIGT3</th><td>-0.04645936</td><td>-0.083393372</td><td>-0.094897164</td><td>-0.1069644735</td><td> 0.047187100</td><td> 0.02429887</td><td>-0.0009847393</td><td>-0.016541030</td><td>-0.0596849595</td><td> 0.006342512</td><td>-0.12357191</td><td> 0.6383206451</td><td>-0.065575211</td><td>-0.06236833</td><td> 0.02657098</td><td> 0.082013513</td></tr>\n",
              "\t<tr><th scope=row>PETR3</th><td>-0.02515810</td><td> 0.011974459</td><td>-0.066867936</td><td>-0.0492892186</td><td>-0.117705647</td><td>-0.11944773</td><td>-0.0952628329</td><td>-0.103700694</td><td>-0.0523532173</td><td> 0.009798277</td><td>-0.07319489</td><td>-0.0655752108</td><td> 0.428871707</td><td> 0.36655197</td><td>-0.09634023</td><td>-0.086324384</td></tr>\n",
              "\t<tr><th scope=row>PETR4</th><td>-0.03484901</td><td> 0.032209116</td><td>-0.057123081</td><td>-0.0388584336</td><td>-0.084148789</td><td>-0.12448901</td><td>-0.0994737296</td><td>-0.111499764</td><td>-0.0771113409</td><td> 0.029870525</td><td>-0.06982367</td><td>-0.0623683292</td><td> 0.366551972</td><td> 0.35868451</td><td>-0.10227435</td><td>-0.074754253</td></tr>\n",
              "\t<tr><th scope=row>SBSP3</th><td> 0.03955367</td><td>-0.068027333</td><td>-0.087348766</td><td>-0.1109081651</td><td>-0.016134632</td><td> 0.01369338</td><td>-0.0306470714</td><td>-0.015407778</td><td> 0.0807463439</td><td> 0.012338751</td><td>-0.06017668</td><td> 0.0265709807</td><td>-0.096340235</td><td>-0.10227435</td><td> 0.62042567</td><td> 0.016534324</td></tr>\n",
              "\t<tr><th scope=row>VIVT3</th><td> 0.06028258</td><td>-0.017446314</td><td>-0.075841845</td><td>-0.0895308076</td><td>-0.017194341</td><td> 0.01342910</td><td>-0.0882257645</td><td>-0.110504683</td><td> 0.0430478581</td><td> 0.009384553</td><td>-0.04697023</td><td> 0.0820135130</td><td>-0.086324384</td><td>-0.07475425</td><td> 0.01653432</td><td> 0.819642271</td></tr>\n",
              "</tbody>\n",
              "</table>\n"
            ],
            "text/markdown": "\nA matrix: 16 × 16 of type dbl\n\n| <!--/--> | ALPA4 | BBAS3 | BBDC3 | BBDC4 | CMIG4 | CPLE6 | ELET3 | ELET6 | EMBR3 | GGBR4 | ITSA4 | LIGT3 | PETR3 | PETR4 | SBSP3 | VIVT3 |\n|---|---|---|---|---|---|---|---|---|---|---|---|---|---|---|---|---|\n| ALPA4 |  0.77690144 | -0.066627433 | -0.058534352 | -0.0677730501 | -0.059359493 | -0.10136733 | -0.0422346915 | -0.037661461 |  0.0466589950 | -0.023402042 | -0.01214240 | -0.0464593649 | -0.025158099 | -0.03484901 |  0.03955367 |  0.060282583 |\n| BBAS3 | -0.06662743 |  0.322530642 |  0.018398239 |  0.0209745280 | -0.042142949 | -0.05637133 | -0.1010602764 | -0.097374623 | -0.0731883181 |  0.007064551 |  0.03304410 | -0.0833933717 |  0.011974459 |  0.03220912 | -0.06802733 | -0.017446314 |\n| BBDC3 | -0.05853435 |  0.018398239 |  0.355915338 |  0.2677344931 | -0.071559455 | -0.06112774 | -0.1381646041 | -0.145531732 | -0.0074347675 | -0.102137130 |  0.12921416 | -0.0948971635 | -0.066867936 | -0.05712308 | -0.08734877 | -0.075841845 |\n| BBDC4 | -0.06777305 |  0.020974528 |  0.267734493 |  0.3022374552 | -0.064028427 | -0.08015049 | -0.1299044960 | -0.132518657 |  0.0009537026 | -0.088826778 |  0.15891712 | -0.1069644735 | -0.049289219 | -0.03885843 | -0.11090817 | -0.089530808 |\n| CMIG4 | -0.05935949 | -0.042142949 | -0.071559455 | -0.0640284275 |  0.433714975 |  0.13097893 |  0.0052125469 |  0.005707779 | -0.0653112272 | -0.067966260 | -0.04847207 |  0.0471871003 | -0.117705647 | -0.08414879 | -0.01613463 | -0.017194341 |\n| CPLE6 | -0.10136733 | -0.056371334 | -0.061127738 | -0.0801504905 |  0.130978935 |  0.48828009 |  0.0386934716 |  0.050989796 | -0.0581575575 | -0.077629332 | -0.07884389 |  0.0242988745 | -0.119447735 | -0.12448901 |  0.01369338 |  0.013429104 |\n| ELET3 | -0.04223469 | -0.101060276 | -0.138164604 | -0.1299044960 |  0.005212547 |  0.03869347 |  0.5095835891 |  0.454269785 | -0.1031402625 | -0.077624280 | -0.10071284 | -0.0009847393 | -0.095262833 | -0.09947373 | -0.03064707 | -0.088225765 |\n| ELET6 | -0.03766146 | -0.097374623 | -0.145531732 | -0.1325186568 |  0.005707779 |  0.05098980 |  0.4542697853 |  0.519594976 | -0.0659987771 | -0.083691096 | -0.09543488 | -0.0165410303 | -0.103700694 | -0.11149976 | -0.01540778 | -0.110504683 |\n| EMBR3 |  0.04665899 | -0.073188318 | -0.007434768 |  0.0009537026 | -0.065311227 | -0.05815756 | -0.1031402625 | -0.065998777 |  0.8908647721 |  0.015966692 |  0.01902283 | -0.0596849595 | -0.052353217 | -0.07711134 |  0.08074634 |  0.043047858 |\n| GGBR4 | -0.02340204 |  0.007064551 | -0.102137130 | -0.0888267780 | -0.067966260 | -0.07762933 | -0.0776242801 | -0.083691096 |  0.0159666917 |  0.539039423 | -0.04424070 |  0.0063425117 |  0.009798277 |  0.02987052 |  0.01233875 |  0.009384553 |\n| ITSA4 | -0.01214240 |  0.033044098 |  0.129214161 |  0.1589171198 | -0.048472070 | -0.07884389 | -0.1007128404 | -0.095434878 |  0.0190228304 | -0.044240697 |  0.28055185 | -0.1235719073 | -0.073194894 | -0.06982367 | -0.06017668 | -0.046970230 |\n| LIGT3 | -0.04645936 | -0.083393372 | -0.094897164 | -0.1069644735 |  0.047187100 |  0.02429887 | -0.0009847393 | -0.016541030 | -0.0596849595 |  0.006342512 | -0.12357191 |  0.6383206451 | -0.065575211 | -0.06236833 |  0.02657098 |  0.082013513 |\n| PETR3 | -0.02515810 |  0.011974459 | -0.066867936 | -0.0492892186 | -0.117705647 | -0.11944773 | -0.0952628329 | -0.103700694 | -0.0523532173 |  0.009798277 | -0.07319489 | -0.0655752108 |  0.428871707 |  0.36655197 | -0.09634023 | -0.086324384 |\n| PETR4 | -0.03484901 |  0.032209116 | -0.057123081 | -0.0388584336 | -0.084148789 | -0.12448901 | -0.0994737296 | -0.111499764 | -0.0771113409 |  0.029870525 | -0.06982367 | -0.0623683292 |  0.366551972 |  0.35868451 | -0.10227435 | -0.074754253 |\n| SBSP3 |  0.03955367 | -0.068027333 | -0.087348766 | -0.1109081651 | -0.016134632 |  0.01369338 | -0.0306470714 | -0.015407778 |  0.0807463439 |  0.012338751 | -0.06017668 |  0.0265709807 | -0.096340235 | -0.10227435 |  0.62042567 |  0.016534324 |\n| VIVT3 |  0.06028258 | -0.017446314 | -0.075841845 | -0.0895308076 | -0.017194341 |  0.01342910 | -0.0882257645 | -0.110504683 |  0.0430478581 |  0.009384553 | -0.04697023 |  0.0820135130 | -0.086324384 | -0.07475425 |  0.01653432 |  0.819642271 |\n\n",
            "text/latex": "A matrix: 16 × 16 of type dbl\n\\begin{tabular}{r|llllllllllllllll}\n  & ALPA4 & BBAS3 & BBDC3 & BBDC4 & CMIG4 & CPLE6 & ELET3 & ELET6 & EMBR3 & GGBR4 & ITSA4 & LIGT3 & PETR3 & PETR4 & SBSP3 & VIVT3\\\\\n\\hline\n\tALPA4 &  0.77690144 & -0.066627433 & -0.058534352 & -0.0677730501 & -0.059359493 & -0.10136733 & -0.0422346915 & -0.037661461 &  0.0466589950 & -0.023402042 & -0.01214240 & -0.0464593649 & -0.025158099 & -0.03484901 &  0.03955367 &  0.060282583\\\\\n\tBBAS3 & -0.06662743 &  0.322530642 &  0.018398239 &  0.0209745280 & -0.042142949 & -0.05637133 & -0.1010602764 & -0.097374623 & -0.0731883181 &  0.007064551 &  0.03304410 & -0.0833933717 &  0.011974459 &  0.03220912 & -0.06802733 & -0.017446314\\\\\n\tBBDC3 & -0.05853435 &  0.018398239 &  0.355915338 &  0.2677344931 & -0.071559455 & -0.06112774 & -0.1381646041 & -0.145531732 & -0.0074347675 & -0.102137130 &  0.12921416 & -0.0948971635 & -0.066867936 & -0.05712308 & -0.08734877 & -0.075841845\\\\\n\tBBDC4 & -0.06777305 &  0.020974528 &  0.267734493 &  0.3022374552 & -0.064028427 & -0.08015049 & -0.1299044960 & -0.132518657 &  0.0009537026 & -0.088826778 &  0.15891712 & -0.1069644735 & -0.049289219 & -0.03885843 & -0.11090817 & -0.089530808\\\\\n\tCMIG4 & -0.05935949 & -0.042142949 & -0.071559455 & -0.0640284275 &  0.433714975 &  0.13097893 &  0.0052125469 &  0.005707779 & -0.0653112272 & -0.067966260 & -0.04847207 &  0.0471871003 & -0.117705647 & -0.08414879 & -0.01613463 & -0.017194341\\\\\n\tCPLE6 & -0.10136733 & -0.056371334 & -0.061127738 & -0.0801504905 &  0.130978935 &  0.48828009 &  0.0386934716 &  0.050989796 & -0.0581575575 & -0.077629332 & -0.07884389 &  0.0242988745 & -0.119447735 & -0.12448901 &  0.01369338 &  0.013429104\\\\\n\tELET3 & -0.04223469 & -0.101060276 & -0.138164604 & -0.1299044960 &  0.005212547 &  0.03869347 &  0.5095835891 &  0.454269785 & -0.1031402625 & -0.077624280 & -0.10071284 & -0.0009847393 & -0.095262833 & -0.09947373 & -0.03064707 & -0.088225765\\\\\n\tELET6 & -0.03766146 & -0.097374623 & -0.145531732 & -0.1325186568 &  0.005707779 &  0.05098980 &  0.4542697853 &  0.519594976 & -0.0659987771 & -0.083691096 & -0.09543488 & -0.0165410303 & -0.103700694 & -0.11149976 & -0.01540778 & -0.110504683\\\\\n\tEMBR3 &  0.04665899 & -0.073188318 & -0.007434768 &  0.0009537026 & -0.065311227 & -0.05815756 & -0.1031402625 & -0.065998777 &  0.8908647721 &  0.015966692 &  0.01902283 & -0.0596849595 & -0.052353217 & -0.07711134 &  0.08074634 &  0.043047858\\\\\n\tGGBR4 & -0.02340204 &  0.007064551 & -0.102137130 & -0.0888267780 & -0.067966260 & -0.07762933 & -0.0776242801 & -0.083691096 &  0.0159666917 &  0.539039423 & -0.04424070 &  0.0063425117 &  0.009798277 &  0.02987052 &  0.01233875 &  0.009384553\\\\\n\tITSA4 & -0.01214240 &  0.033044098 &  0.129214161 &  0.1589171198 & -0.048472070 & -0.07884389 & -0.1007128404 & -0.095434878 &  0.0190228304 & -0.044240697 &  0.28055185 & -0.1235719073 & -0.073194894 & -0.06982367 & -0.06017668 & -0.046970230\\\\\n\tLIGT3 & -0.04645936 & -0.083393372 & -0.094897164 & -0.1069644735 &  0.047187100 &  0.02429887 & -0.0009847393 & -0.016541030 & -0.0596849595 &  0.006342512 & -0.12357191 &  0.6383206451 & -0.065575211 & -0.06236833 &  0.02657098 &  0.082013513\\\\\n\tPETR3 & -0.02515810 &  0.011974459 & -0.066867936 & -0.0492892186 & -0.117705647 & -0.11944773 & -0.0952628329 & -0.103700694 & -0.0523532173 &  0.009798277 & -0.07319489 & -0.0655752108 &  0.428871707 &  0.36655197 & -0.09634023 & -0.086324384\\\\\n\tPETR4 & -0.03484901 &  0.032209116 & -0.057123081 & -0.0388584336 & -0.084148789 & -0.12448901 & -0.0994737296 & -0.111499764 & -0.0771113409 &  0.029870525 & -0.06982367 & -0.0623683292 &  0.366551972 &  0.35868451 & -0.10227435 & -0.074754253\\\\\n\tSBSP3 &  0.03955367 & -0.068027333 & -0.087348766 & -0.1109081651 & -0.016134632 &  0.01369338 & -0.0306470714 & -0.015407778 &  0.0807463439 &  0.012338751 & -0.06017668 &  0.0265709807 & -0.096340235 & -0.10227435 &  0.62042567 &  0.016534324\\\\\n\tVIVT3 &  0.06028258 & -0.017446314 & -0.075841845 & -0.0895308076 & -0.017194341 &  0.01342910 & -0.0882257645 & -0.110504683 &  0.0430478581 &  0.009384553 & -0.04697023 &  0.0820135130 & -0.086324384 & -0.07475425 &  0.01653432 &  0.819642271\\\\\n\\end{tabular}\n",
            "text/plain": [
              "      ALPA4       BBAS3        BBDC3        BBDC4         CMIG4       \n",
              "ALPA4  0.77690144 -0.066627433 -0.058534352 -0.0677730501 -0.059359493\n",
              "BBAS3 -0.06662743  0.322530642  0.018398239  0.0209745280 -0.042142949\n",
              "BBDC3 -0.05853435  0.018398239  0.355915338  0.2677344931 -0.071559455\n",
              "BBDC4 -0.06777305  0.020974528  0.267734493  0.3022374552 -0.064028427\n",
              "CMIG4 -0.05935949 -0.042142949 -0.071559455 -0.0640284275  0.433714975\n",
              "CPLE6 -0.10136733 -0.056371334 -0.061127738 -0.0801504905  0.130978935\n",
              "ELET3 -0.04223469 -0.101060276 -0.138164604 -0.1299044960  0.005212547\n",
              "ELET6 -0.03766146 -0.097374623 -0.145531732 -0.1325186568  0.005707779\n",
              "EMBR3  0.04665899 -0.073188318 -0.007434768  0.0009537026 -0.065311227\n",
              "GGBR4 -0.02340204  0.007064551 -0.102137130 -0.0888267780 -0.067966260\n",
              "ITSA4 -0.01214240  0.033044098  0.129214161  0.1589171198 -0.048472070\n",
              "LIGT3 -0.04645936 -0.083393372 -0.094897164 -0.1069644735  0.047187100\n",
              "PETR3 -0.02515810  0.011974459 -0.066867936 -0.0492892186 -0.117705647\n",
              "PETR4 -0.03484901  0.032209116 -0.057123081 -0.0388584336 -0.084148789\n",
              "SBSP3  0.03955367 -0.068027333 -0.087348766 -0.1109081651 -0.016134632\n",
              "VIVT3  0.06028258 -0.017446314 -0.075841845 -0.0895308076 -0.017194341\n",
              "      CPLE6       ELET3         ELET6        EMBR3         GGBR4       \n",
              "ALPA4 -0.10136733 -0.0422346915 -0.037661461  0.0466589950 -0.023402042\n",
              "BBAS3 -0.05637133 -0.1010602764 -0.097374623 -0.0731883181  0.007064551\n",
              "BBDC3 -0.06112774 -0.1381646041 -0.145531732 -0.0074347675 -0.102137130\n",
              "BBDC4 -0.08015049 -0.1299044960 -0.132518657  0.0009537026 -0.088826778\n",
              "CMIG4  0.13097893  0.0052125469  0.005707779 -0.0653112272 -0.067966260\n",
              "CPLE6  0.48828009  0.0386934716  0.050989796 -0.0581575575 -0.077629332\n",
              "ELET3  0.03869347  0.5095835891  0.454269785 -0.1031402625 -0.077624280\n",
              "ELET6  0.05098980  0.4542697853  0.519594976 -0.0659987771 -0.083691096\n",
              "EMBR3 -0.05815756 -0.1031402625 -0.065998777  0.8908647721  0.015966692\n",
              "GGBR4 -0.07762933 -0.0776242801 -0.083691096  0.0159666917  0.539039423\n",
              "ITSA4 -0.07884389 -0.1007128404 -0.095434878  0.0190228304 -0.044240697\n",
              "LIGT3  0.02429887 -0.0009847393 -0.016541030 -0.0596849595  0.006342512\n",
              "PETR3 -0.11944773 -0.0952628329 -0.103700694 -0.0523532173  0.009798277\n",
              "PETR4 -0.12448901 -0.0994737296 -0.111499764 -0.0771113409  0.029870525\n",
              "SBSP3  0.01369338 -0.0306470714 -0.015407778  0.0807463439  0.012338751\n",
              "VIVT3  0.01342910 -0.0882257645 -0.110504683  0.0430478581  0.009384553\n",
              "      ITSA4       LIGT3         PETR3        PETR4       SBSP3      \n",
              "ALPA4 -0.01214240 -0.0464593649 -0.025158099 -0.03484901  0.03955367\n",
              "BBAS3  0.03304410 -0.0833933717  0.011974459  0.03220912 -0.06802733\n",
              "BBDC3  0.12921416 -0.0948971635 -0.066867936 -0.05712308 -0.08734877\n",
              "BBDC4  0.15891712 -0.1069644735 -0.049289219 -0.03885843 -0.11090817\n",
              "CMIG4 -0.04847207  0.0471871003 -0.117705647 -0.08414879 -0.01613463\n",
              "CPLE6 -0.07884389  0.0242988745 -0.119447735 -0.12448901  0.01369338\n",
              "ELET3 -0.10071284 -0.0009847393 -0.095262833 -0.09947373 -0.03064707\n",
              "ELET6 -0.09543488 -0.0165410303 -0.103700694 -0.11149976 -0.01540778\n",
              "EMBR3  0.01902283 -0.0596849595 -0.052353217 -0.07711134  0.08074634\n",
              "GGBR4 -0.04424070  0.0063425117  0.009798277  0.02987052  0.01233875\n",
              "ITSA4  0.28055185 -0.1235719073 -0.073194894 -0.06982367 -0.06017668\n",
              "LIGT3 -0.12357191  0.6383206451 -0.065575211 -0.06236833  0.02657098\n",
              "PETR3 -0.07319489 -0.0655752108  0.428871707  0.36655197 -0.09634023\n",
              "PETR4 -0.06982367 -0.0623683292  0.366551972  0.35868451 -0.10227435\n",
              "SBSP3 -0.06017668  0.0265709807 -0.096340235 -0.10227435  0.62042567\n",
              "VIVT3 -0.04697023  0.0820135130 -0.086324384 -0.07475425  0.01653432\n",
              "      VIVT3       \n",
              "ALPA4  0.060282583\n",
              "BBAS3 -0.017446314\n",
              "BBDC3 -0.075841845\n",
              "BBDC4 -0.089530808\n",
              "CMIG4 -0.017194341\n",
              "CPLE6  0.013429104\n",
              "ELET3 -0.088225765\n",
              "ELET6 -0.110504683\n",
              "EMBR3  0.043047858\n",
              "GGBR4  0.009384553\n",
              "ITSA4 -0.046970230\n",
              "LIGT3  0.082013513\n",
              "PETR3 -0.086324384\n",
              "PETR4 -0.074754253\n",
              "SBSP3  0.016534324\n",
              "VIVT3  0.819642271"
            ]
          },
          "metadata": {}
        }
      ]
    },
    {
      "cell_type": "code",
      "source": [
        "sqrt(mean(modelo_af_pca$residual[lower.tri(modelo_af_pca$residual, diag = FALSE)]^2))"
      ],
      "metadata": {
        "colab": {
          "base_uri": "https://localhost:8080/",
          "height": 34
        },
        "id": "oREXY4v1d4_d",
        "outputId": "dacfe727-db23-42f4-c99a-ddc29eccb1d8"
      },
      "execution_count": 32,
      "outputs": [
        {
          "output_type": "display_data",
          "data": {
            "text/html": [
              "0.0929663836557593"
            ],
            "text/markdown": "0.0929663836557593",
            "text/latex": "0.0929663836557593",
            "text/plain": [
              "[1] 0.09296638"
            ]
          },
          "metadata": {}
        }
      ]
    },
    {
      "cell_type": "code",
      "source": [
        "u_pca = dados - modelo_af_pca$scores %*% t(as.matrix(modelo_af_pca$loadings[1:16, 1]))\n",
        "u_pa = dados - modelo_af_fp$scores %*% t(as.matrix(modelo_af_fp$loadings[1:16, 1]))\n",
        "u_ml = dados - modelo_af_mv$scores %*% t(as.matrix(modelo_af_mv$loadings[1:16, 1]))"
      ],
      "metadata": {
        "id": "PYrwnwh-ilmg"
      },
      "execution_count": 69,
      "outputs": []
    },
    {
      "cell_type": "code",
      "source": [
        "cov(u_pca)"
      ],
      "metadata": {
        "colab": {
          "base_uri": "https://localhost:8080/",
          "height": 589
        },
        "id": "bvxrasRjjNOi",
        "outputId": "5160ef5d-e419-4dd1-e1ba-a40ab26ec27f"
      },
      "execution_count": 70,
      "outputs": [
        {
          "output_type": "display_data",
          "data": {
            "text/html": [
              "<table class=\"dataframe\">\n",
              "<caption>A matrix: 16 × 16 of type dbl</caption>\n",
              "<thead>\n",
              "\t<tr><th></th><th scope=col>ALPA4</th><th scope=col>BBAS3</th><th scope=col>BBDC3</th><th scope=col>BBDC4</th><th scope=col>CMIG4</th><th scope=col>CPLE6</th><th scope=col>ELET3</th><th scope=col>ELET6</th><th scope=col>EMBR3</th><th scope=col>GGBR4</th><th scope=col>ITSA4</th><th scope=col>LIGT3</th><th scope=col>PETR3</th><th scope=col>PETR4</th><th scope=col>SBSP3</th><th scope=col>VIVT3</th></tr>\n",
              "</thead>\n",
              "<tbody>\n",
              "\t<tr><th scope=row>ALPA4</th><td> 0.77690144</td><td>-0.066627433</td><td>-0.058534352</td><td>-0.0677730501</td><td>-0.059359493</td><td>-0.10136733</td><td>-0.0422346915</td><td>-0.037661461</td><td> 0.0466589950</td><td>-0.023402042</td><td>-0.01214240</td><td>-0.0464593649</td><td>-0.025158099</td><td>-0.03484901</td><td> 0.03955367</td><td> 0.060282583</td></tr>\n",
              "\t<tr><th scope=row>BBAS3</th><td>-0.06662743</td><td> 0.322530642</td><td> 0.018398239</td><td> 0.0209745280</td><td>-0.042142949</td><td>-0.05637133</td><td>-0.1010602764</td><td>-0.097374623</td><td>-0.0731883181</td><td> 0.007064551</td><td> 0.03304410</td><td>-0.0833933717</td><td> 0.011974459</td><td> 0.03220912</td><td>-0.06802733</td><td>-0.017446314</td></tr>\n",
              "\t<tr><th scope=row>BBDC3</th><td>-0.05853435</td><td> 0.018398239</td><td> 0.355915338</td><td> 0.2677344931</td><td>-0.071559455</td><td>-0.06112774</td><td>-0.1381646041</td><td>-0.145531732</td><td>-0.0074347675</td><td>-0.102137130</td><td> 0.12921416</td><td>-0.0948971635</td><td>-0.066867936</td><td>-0.05712308</td><td>-0.08734877</td><td>-0.075841845</td></tr>\n",
              "\t<tr><th scope=row>BBDC4</th><td>-0.06777305</td><td> 0.020974528</td><td> 0.267734493</td><td> 0.3022374552</td><td>-0.064028427</td><td>-0.08015049</td><td>-0.1299044960</td><td>-0.132518657</td><td> 0.0009537026</td><td>-0.088826778</td><td> 0.15891712</td><td>-0.1069644735</td><td>-0.049289219</td><td>-0.03885843</td><td>-0.11090817</td><td>-0.089530808</td></tr>\n",
              "\t<tr><th scope=row>CMIG4</th><td>-0.05935949</td><td>-0.042142949</td><td>-0.071559455</td><td>-0.0640284275</td><td> 0.433714975</td><td> 0.13097893</td><td> 0.0052125469</td><td> 0.005707779</td><td>-0.0653112272</td><td>-0.067966260</td><td>-0.04847207</td><td> 0.0471871003</td><td>-0.117705647</td><td>-0.08414879</td><td>-0.01613463</td><td>-0.017194341</td></tr>\n",
              "\t<tr><th scope=row>CPLE6</th><td>-0.10136733</td><td>-0.056371334</td><td>-0.061127738</td><td>-0.0801504905</td><td> 0.130978935</td><td> 0.48828009</td><td> 0.0386934716</td><td> 0.050989796</td><td>-0.0581575575</td><td>-0.077629332</td><td>-0.07884389</td><td> 0.0242988745</td><td>-0.119447735</td><td>-0.12448901</td><td> 0.01369338</td><td> 0.013429104</td></tr>\n",
              "\t<tr><th scope=row>ELET3</th><td>-0.04223469</td><td>-0.101060276</td><td>-0.138164604</td><td>-0.1299044960</td><td> 0.005212547</td><td> 0.03869347</td><td> 0.5095835891</td><td> 0.454269785</td><td>-0.1031402625</td><td>-0.077624280</td><td>-0.10071284</td><td>-0.0009847393</td><td>-0.095262833</td><td>-0.09947373</td><td>-0.03064707</td><td>-0.088225765</td></tr>\n",
              "\t<tr><th scope=row>ELET6</th><td>-0.03766146</td><td>-0.097374623</td><td>-0.145531732</td><td>-0.1325186568</td><td> 0.005707779</td><td> 0.05098980</td><td> 0.4542697853</td><td> 0.519594976</td><td>-0.0659987771</td><td>-0.083691096</td><td>-0.09543488</td><td>-0.0165410303</td><td>-0.103700694</td><td>-0.11149976</td><td>-0.01540778</td><td>-0.110504683</td></tr>\n",
              "\t<tr><th scope=row>EMBR3</th><td> 0.04665899</td><td>-0.073188318</td><td>-0.007434768</td><td> 0.0009537026</td><td>-0.065311227</td><td>-0.05815756</td><td>-0.1031402625</td><td>-0.065998777</td><td> 0.8908647721</td><td> 0.015966692</td><td> 0.01902283</td><td>-0.0596849595</td><td>-0.052353217</td><td>-0.07711134</td><td> 0.08074634</td><td> 0.043047858</td></tr>\n",
              "\t<tr><th scope=row>GGBR4</th><td>-0.02340204</td><td> 0.007064551</td><td>-0.102137130</td><td>-0.0888267780</td><td>-0.067966260</td><td>-0.07762933</td><td>-0.0776242801</td><td>-0.083691096</td><td> 0.0159666917</td><td> 0.539039423</td><td>-0.04424070</td><td> 0.0063425117</td><td> 0.009798277</td><td> 0.02987052</td><td> 0.01233875</td><td> 0.009384553</td></tr>\n",
              "\t<tr><th scope=row>ITSA4</th><td>-0.01214240</td><td> 0.033044098</td><td> 0.129214161</td><td> 0.1589171198</td><td>-0.048472070</td><td>-0.07884389</td><td>-0.1007128404</td><td>-0.095434878</td><td> 0.0190228304</td><td>-0.044240697</td><td> 0.28055185</td><td>-0.1235719073</td><td>-0.073194894</td><td>-0.06982367</td><td>-0.06017668</td><td>-0.046970230</td></tr>\n",
              "\t<tr><th scope=row>LIGT3</th><td>-0.04645936</td><td>-0.083393372</td><td>-0.094897164</td><td>-0.1069644735</td><td> 0.047187100</td><td> 0.02429887</td><td>-0.0009847393</td><td>-0.016541030</td><td>-0.0596849595</td><td> 0.006342512</td><td>-0.12357191</td><td> 0.6383206451</td><td>-0.065575211</td><td>-0.06236833</td><td> 0.02657098</td><td> 0.082013513</td></tr>\n",
              "\t<tr><th scope=row>PETR3</th><td>-0.02515810</td><td> 0.011974459</td><td>-0.066867936</td><td>-0.0492892186</td><td>-0.117705647</td><td>-0.11944773</td><td>-0.0952628329</td><td>-0.103700694</td><td>-0.0523532173</td><td> 0.009798277</td><td>-0.07319489</td><td>-0.0655752108</td><td> 0.428871707</td><td> 0.36655197</td><td>-0.09634023</td><td>-0.086324384</td></tr>\n",
              "\t<tr><th scope=row>PETR4</th><td>-0.03484901</td><td> 0.032209116</td><td>-0.057123081</td><td>-0.0388584336</td><td>-0.084148789</td><td>-0.12448901</td><td>-0.0994737296</td><td>-0.111499764</td><td>-0.0771113409</td><td> 0.029870525</td><td>-0.06982367</td><td>-0.0623683292</td><td> 0.366551972</td><td> 0.35868451</td><td>-0.10227435</td><td>-0.074754253</td></tr>\n",
              "\t<tr><th scope=row>SBSP3</th><td> 0.03955367</td><td>-0.068027333</td><td>-0.087348766</td><td>-0.1109081651</td><td>-0.016134632</td><td> 0.01369338</td><td>-0.0306470714</td><td>-0.015407778</td><td> 0.0807463439</td><td> 0.012338751</td><td>-0.06017668</td><td> 0.0265709807</td><td>-0.096340235</td><td>-0.10227435</td><td> 0.62042567</td><td> 0.016534324</td></tr>\n",
              "\t<tr><th scope=row>VIVT3</th><td> 0.06028258</td><td>-0.017446314</td><td>-0.075841845</td><td>-0.0895308076</td><td>-0.017194341</td><td> 0.01342910</td><td>-0.0882257645</td><td>-0.110504683</td><td> 0.0430478581</td><td> 0.009384553</td><td>-0.04697023</td><td> 0.0820135130</td><td>-0.086324384</td><td>-0.07475425</td><td> 0.01653432</td><td> 0.819642271</td></tr>\n",
              "</tbody>\n",
              "</table>\n"
            ],
            "text/markdown": "\nA matrix: 16 × 16 of type dbl\n\n| <!--/--> | ALPA4 | BBAS3 | BBDC3 | BBDC4 | CMIG4 | CPLE6 | ELET3 | ELET6 | EMBR3 | GGBR4 | ITSA4 | LIGT3 | PETR3 | PETR4 | SBSP3 | VIVT3 |\n|---|---|---|---|---|---|---|---|---|---|---|---|---|---|---|---|---|\n| ALPA4 |  0.77690144 | -0.066627433 | -0.058534352 | -0.0677730501 | -0.059359493 | -0.10136733 | -0.0422346915 | -0.037661461 |  0.0466589950 | -0.023402042 | -0.01214240 | -0.0464593649 | -0.025158099 | -0.03484901 |  0.03955367 |  0.060282583 |\n| BBAS3 | -0.06662743 |  0.322530642 |  0.018398239 |  0.0209745280 | -0.042142949 | -0.05637133 | -0.1010602764 | -0.097374623 | -0.0731883181 |  0.007064551 |  0.03304410 | -0.0833933717 |  0.011974459 |  0.03220912 | -0.06802733 | -0.017446314 |\n| BBDC3 | -0.05853435 |  0.018398239 |  0.355915338 |  0.2677344931 | -0.071559455 | -0.06112774 | -0.1381646041 | -0.145531732 | -0.0074347675 | -0.102137130 |  0.12921416 | -0.0948971635 | -0.066867936 | -0.05712308 | -0.08734877 | -0.075841845 |\n| BBDC4 | -0.06777305 |  0.020974528 |  0.267734493 |  0.3022374552 | -0.064028427 | -0.08015049 | -0.1299044960 | -0.132518657 |  0.0009537026 | -0.088826778 |  0.15891712 | -0.1069644735 | -0.049289219 | -0.03885843 | -0.11090817 | -0.089530808 |\n| CMIG4 | -0.05935949 | -0.042142949 | -0.071559455 | -0.0640284275 |  0.433714975 |  0.13097893 |  0.0052125469 |  0.005707779 | -0.0653112272 | -0.067966260 | -0.04847207 |  0.0471871003 | -0.117705647 | -0.08414879 | -0.01613463 | -0.017194341 |\n| CPLE6 | -0.10136733 | -0.056371334 | -0.061127738 | -0.0801504905 |  0.130978935 |  0.48828009 |  0.0386934716 |  0.050989796 | -0.0581575575 | -0.077629332 | -0.07884389 |  0.0242988745 | -0.119447735 | -0.12448901 |  0.01369338 |  0.013429104 |\n| ELET3 | -0.04223469 | -0.101060276 | -0.138164604 | -0.1299044960 |  0.005212547 |  0.03869347 |  0.5095835891 |  0.454269785 | -0.1031402625 | -0.077624280 | -0.10071284 | -0.0009847393 | -0.095262833 | -0.09947373 | -0.03064707 | -0.088225765 |\n| ELET6 | -0.03766146 | -0.097374623 | -0.145531732 | -0.1325186568 |  0.005707779 |  0.05098980 |  0.4542697853 |  0.519594976 | -0.0659987771 | -0.083691096 | -0.09543488 | -0.0165410303 | -0.103700694 | -0.11149976 | -0.01540778 | -0.110504683 |\n| EMBR3 |  0.04665899 | -0.073188318 | -0.007434768 |  0.0009537026 | -0.065311227 | -0.05815756 | -0.1031402625 | -0.065998777 |  0.8908647721 |  0.015966692 |  0.01902283 | -0.0596849595 | -0.052353217 | -0.07711134 |  0.08074634 |  0.043047858 |\n| GGBR4 | -0.02340204 |  0.007064551 | -0.102137130 | -0.0888267780 | -0.067966260 | -0.07762933 | -0.0776242801 | -0.083691096 |  0.0159666917 |  0.539039423 | -0.04424070 |  0.0063425117 |  0.009798277 |  0.02987052 |  0.01233875 |  0.009384553 |\n| ITSA4 | -0.01214240 |  0.033044098 |  0.129214161 |  0.1589171198 | -0.048472070 | -0.07884389 | -0.1007128404 | -0.095434878 |  0.0190228304 | -0.044240697 |  0.28055185 | -0.1235719073 | -0.073194894 | -0.06982367 | -0.06017668 | -0.046970230 |\n| LIGT3 | -0.04645936 | -0.083393372 | -0.094897164 | -0.1069644735 |  0.047187100 |  0.02429887 | -0.0009847393 | -0.016541030 | -0.0596849595 |  0.006342512 | -0.12357191 |  0.6383206451 | -0.065575211 | -0.06236833 |  0.02657098 |  0.082013513 |\n| PETR3 | -0.02515810 |  0.011974459 | -0.066867936 | -0.0492892186 | -0.117705647 | -0.11944773 | -0.0952628329 | -0.103700694 | -0.0523532173 |  0.009798277 | -0.07319489 | -0.0655752108 |  0.428871707 |  0.36655197 | -0.09634023 | -0.086324384 |\n| PETR4 | -0.03484901 |  0.032209116 | -0.057123081 | -0.0388584336 | -0.084148789 | -0.12448901 | -0.0994737296 | -0.111499764 | -0.0771113409 |  0.029870525 | -0.06982367 | -0.0623683292 |  0.366551972 |  0.35868451 | -0.10227435 | -0.074754253 |\n| SBSP3 |  0.03955367 | -0.068027333 | -0.087348766 | -0.1109081651 | -0.016134632 |  0.01369338 | -0.0306470714 | -0.015407778 |  0.0807463439 |  0.012338751 | -0.06017668 |  0.0265709807 | -0.096340235 | -0.10227435 |  0.62042567 |  0.016534324 |\n| VIVT3 |  0.06028258 | -0.017446314 | -0.075841845 | -0.0895308076 | -0.017194341 |  0.01342910 | -0.0882257645 | -0.110504683 |  0.0430478581 |  0.009384553 | -0.04697023 |  0.0820135130 | -0.086324384 | -0.07475425 |  0.01653432 |  0.819642271 |\n\n",
            "text/latex": "A matrix: 16 × 16 of type dbl\n\\begin{tabular}{r|llllllllllllllll}\n  & ALPA4 & BBAS3 & BBDC3 & BBDC4 & CMIG4 & CPLE6 & ELET3 & ELET6 & EMBR3 & GGBR4 & ITSA4 & LIGT3 & PETR3 & PETR4 & SBSP3 & VIVT3\\\\\n\\hline\n\tALPA4 &  0.77690144 & -0.066627433 & -0.058534352 & -0.0677730501 & -0.059359493 & -0.10136733 & -0.0422346915 & -0.037661461 &  0.0466589950 & -0.023402042 & -0.01214240 & -0.0464593649 & -0.025158099 & -0.03484901 &  0.03955367 &  0.060282583\\\\\n\tBBAS3 & -0.06662743 &  0.322530642 &  0.018398239 &  0.0209745280 & -0.042142949 & -0.05637133 & -0.1010602764 & -0.097374623 & -0.0731883181 &  0.007064551 &  0.03304410 & -0.0833933717 &  0.011974459 &  0.03220912 & -0.06802733 & -0.017446314\\\\\n\tBBDC3 & -0.05853435 &  0.018398239 &  0.355915338 &  0.2677344931 & -0.071559455 & -0.06112774 & -0.1381646041 & -0.145531732 & -0.0074347675 & -0.102137130 &  0.12921416 & -0.0948971635 & -0.066867936 & -0.05712308 & -0.08734877 & -0.075841845\\\\\n\tBBDC4 & -0.06777305 &  0.020974528 &  0.267734493 &  0.3022374552 & -0.064028427 & -0.08015049 & -0.1299044960 & -0.132518657 &  0.0009537026 & -0.088826778 &  0.15891712 & -0.1069644735 & -0.049289219 & -0.03885843 & -0.11090817 & -0.089530808\\\\\n\tCMIG4 & -0.05935949 & -0.042142949 & -0.071559455 & -0.0640284275 &  0.433714975 &  0.13097893 &  0.0052125469 &  0.005707779 & -0.0653112272 & -0.067966260 & -0.04847207 &  0.0471871003 & -0.117705647 & -0.08414879 & -0.01613463 & -0.017194341\\\\\n\tCPLE6 & -0.10136733 & -0.056371334 & -0.061127738 & -0.0801504905 &  0.130978935 &  0.48828009 &  0.0386934716 &  0.050989796 & -0.0581575575 & -0.077629332 & -0.07884389 &  0.0242988745 & -0.119447735 & -0.12448901 &  0.01369338 &  0.013429104\\\\\n\tELET3 & -0.04223469 & -0.101060276 & -0.138164604 & -0.1299044960 &  0.005212547 &  0.03869347 &  0.5095835891 &  0.454269785 & -0.1031402625 & -0.077624280 & -0.10071284 & -0.0009847393 & -0.095262833 & -0.09947373 & -0.03064707 & -0.088225765\\\\\n\tELET6 & -0.03766146 & -0.097374623 & -0.145531732 & -0.1325186568 &  0.005707779 &  0.05098980 &  0.4542697853 &  0.519594976 & -0.0659987771 & -0.083691096 & -0.09543488 & -0.0165410303 & -0.103700694 & -0.11149976 & -0.01540778 & -0.110504683\\\\\n\tEMBR3 &  0.04665899 & -0.073188318 & -0.007434768 &  0.0009537026 & -0.065311227 & -0.05815756 & -0.1031402625 & -0.065998777 &  0.8908647721 &  0.015966692 &  0.01902283 & -0.0596849595 & -0.052353217 & -0.07711134 &  0.08074634 &  0.043047858\\\\\n\tGGBR4 & -0.02340204 &  0.007064551 & -0.102137130 & -0.0888267780 & -0.067966260 & -0.07762933 & -0.0776242801 & -0.083691096 &  0.0159666917 &  0.539039423 & -0.04424070 &  0.0063425117 &  0.009798277 &  0.02987052 &  0.01233875 &  0.009384553\\\\\n\tITSA4 & -0.01214240 &  0.033044098 &  0.129214161 &  0.1589171198 & -0.048472070 & -0.07884389 & -0.1007128404 & -0.095434878 &  0.0190228304 & -0.044240697 &  0.28055185 & -0.1235719073 & -0.073194894 & -0.06982367 & -0.06017668 & -0.046970230\\\\\n\tLIGT3 & -0.04645936 & -0.083393372 & -0.094897164 & -0.1069644735 &  0.047187100 &  0.02429887 & -0.0009847393 & -0.016541030 & -0.0596849595 &  0.006342512 & -0.12357191 &  0.6383206451 & -0.065575211 & -0.06236833 &  0.02657098 &  0.082013513\\\\\n\tPETR3 & -0.02515810 &  0.011974459 & -0.066867936 & -0.0492892186 & -0.117705647 & -0.11944773 & -0.0952628329 & -0.103700694 & -0.0523532173 &  0.009798277 & -0.07319489 & -0.0655752108 &  0.428871707 &  0.36655197 & -0.09634023 & -0.086324384\\\\\n\tPETR4 & -0.03484901 &  0.032209116 & -0.057123081 & -0.0388584336 & -0.084148789 & -0.12448901 & -0.0994737296 & -0.111499764 & -0.0771113409 &  0.029870525 & -0.06982367 & -0.0623683292 &  0.366551972 &  0.35868451 & -0.10227435 & -0.074754253\\\\\n\tSBSP3 &  0.03955367 & -0.068027333 & -0.087348766 & -0.1109081651 & -0.016134632 &  0.01369338 & -0.0306470714 & -0.015407778 &  0.0807463439 &  0.012338751 & -0.06017668 &  0.0265709807 & -0.096340235 & -0.10227435 &  0.62042567 &  0.016534324\\\\\n\tVIVT3 &  0.06028258 & -0.017446314 & -0.075841845 & -0.0895308076 & -0.017194341 &  0.01342910 & -0.0882257645 & -0.110504683 &  0.0430478581 &  0.009384553 & -0.04697023 &  0.0820135130 & -0.086324384 & -0.07475425 &  0.01653432 &  0.819642271\\\\\n\\end{tabular}\n",
            "text/plain": [
              "      ALPA4       BBAS3        BBDC3        BBDC4         CMIG4       \n",
              "ALPA4  0.77690144 -0.066627433 -0.058534352 -0.0677730501 -0.059359493\n",
              "BBAS3 -0.06662743  0.322530642  0.018398239  0.0209745280 -0.042142949\n",
              "BBDC3 -0.05853435  0.018398239  0.355915338  0.2677344931 -0.071559455\n",
              "BBDC4 -0.06777305  0.020974528  0.267734493  0.3022374552 -0.064028427\n",
              "CMIG4 -0.05935949 -0.042142949 -0.071559455 -0.0640284275  0.433714975\n",
              "CPLE6 -0.10136733 -0.056371334 -0.061127738 -0.0801504905  0.130978935\n",
              "ELET3 -0.04223469 -0.101060276 -0.138164604 -0.1299044960  0.005212547\n",
              "ELET6 -0.03766146 -0.097374623 -0.145531732 -0.1325186568  0.005707779\n",
              "EMBR3  0.04665899 -0.073188318 -0.007434768  0.0009537026 -0.065311227\n",
              "GGBR4 -0.02340204  0.007064551 -0.102137130 -0.0888267780 -0.067966260\n",
              "ITSA4 -0.01214240  0.033044098  0.129214161  0.1589171198 -0.048472070\n",
              "LIGT3 -0.04645936 -0.083393372 -0.094897164 -0.1069644735  0.047187100\n",
              "PETR3 -0.02515810  0.011974459 -0.066867936 -0.0492892186 -0.117705647\n",
              "PETR4 -0.03484901  0.032209116 -0.057123081 -0.0388584336 -0.084148789\n",
              "SBSP3  0.03955367 -0.068027333 -0.087348766 -0.1109081651 -0.016134632\n",
              "VIVT3  0.06028258 -0.017446314 -0.075841845 -0.0895308076 -0.017194341\n",
              "      CPLE6       ELET3         ELET6        EMBR3         GGBR4       \n",
              "ALPA4 -0.10136733 -0.0422346915 -0.037661461  0.0466589950 -0.023402042\n",
              "BBAS3 -0.05637133 -0.1010602764 -0.097374623 -0.0731883181  0.007064551\n",
              "BBDC3 -0.06112774 -0.1381646041 -0.145531732 -0.0074347675 -0.102137130\n",
              "BBDC4 -0.08015049 -0.1299044960 -0.132518657  0.0009537026 -0.088826778\n",
              "CMIG4  0.13097893  0.0052125469  0.005707779 -0.0653112272 -0.067966260\n",
              "CPLE6  0.48828009  0.0386934716  0.050989796 -0.0581575575 -0.077629332\n",
              "ELET3  0.03869347  0.5095835891  0.454269785 -0.1031402625 -0.077624280\n",
              "ELET6  0.05098980  0.4542697853  0.519594976 -0.0659987771 -0.083691096\n",
              "EMBR3 -0.05815756 -0.1031402625 -0.065998777  0.8908647721  0.015966692\n",
              "GGBR4 -0.07762933 -0.0776242801 -0.083691096  0.0159666917  0.539039423\n",
              "ITSA4 -0.07884389 -0.1007128404 -0.095434878  0.0190228304 -0.044240697\n",
              "LIGT3  0.02429887 -0.0009847393 -0.016541030 -0.0596849595  0.006342512\n",
              "PETR3 -0.11944773 -0.0952628329 -0.103700694 -0.0523532173  0.009798277\n",
              "PETR4 -0.12448901 -0.0994737296 -0.111499764 -0.0771113409  0.029870525\n",
              "SBSP3  0.01369338 -0.0306470714 -0.015407778  0.0807463439  0.012338751\n",
              "VIVT3  0.01342910 -0.0882257645 -0.110504683  0.0430478581  0.009384553\n",
              "      ITSA4       LIGT3         PETR3        PETR4       SBSP3      \n",
              "ALPA4 -0.01214240 -0.0464593649 -0.025158099 -0.03484901  0.03955367\n",
              "BBAS3  0.03304410 -0.0833933717  0.011974459  0.03220912 -0.06802733\n",
              "BBDC3  0.12921416 -0.0948971635 -0.066867936 -0.05712308 -0.08734877\n",
              "BBDC4  0.15891712 -0.1069644735 -0.049289219 -0.03885843 -0.11090817\n",
              "CMIG4 -0.04847207  0.0471871003 -0.117705647 -0.08414879 -0.01613463\n",
              "CPLE6 -0.07884389  0.0242988745 -0.119447735 -0.12448901  0.01369338\n",
              "ELET3 -0.10071284 -0.0009847393 -0.095262833 -0.09947373 -0.03064707\n",
              "ELET6 -0.09543488 -0.0165410303 -0.103700694 -0.11149976 -0.01540778\n",
              "EMBR3  0.01902283 -0.0596849595 -0.052353217 -0.07711134  0.08074634\n",
              "GGBR4 -0.04424070  0.0063425117  0.009798277  0.02987052  0.01233875\n",
              "ITSA4  0.28055185 -0.1235719073 -0.073194894 -0.06982367 -0.06017668\n",
              "LIGT3 -0.12357191  0.6383206451 -0.065575211 -0.06236833  0.02657098\n",
              "PETR3 -0.07319489 -0.0655752108  0.428871707  0.36655197 -0.09634023\n",
              "PETR4 -0.06982367 -0.0623683292  0.366551972  0.35868451 -0.10227435\n",
              "SBSP3 -0.06017668  0.0265709807 -0.096340235 -0.10227435  0.62042567\n",
              "VIVT3 -0.04697023  0.0820135130 -0.086324384 -0.07475425  0.01653432\n",
              "      VIVT3       \n",
              "ALPA4  0.060282583\n",
              "BBAS3 -0.017446314\n",
              "BBDC3 -0.075841845\n",
              "BBDC4 -0.089530808\n",
              "CMIG4 -0.017194341\n",
              "CPLE6  0.013429104\n",
              "ELET3 -0.088225765\n",
              "ELET6 -0.110504683\n",
              "EMBR3  0.043047858\n",
              "GGBR4  0.009384553\n",
              "ITSA4 -0.046970230\n",
              "LIGT3  0.082013513\n",
              "PETR3 -0.086324384\n",
              "PETR4 -0.074754253\n",
              "SBSP3  0.016534324\n",
              "VIVT3  0.819642271"
            ]
          },
          "metadata": {}
        }
      ]
    },
    {
      "cell_type": "code",
      "source": [
        "cov(u_pa)"
      ],
      "metadata": {
        "colab": {
          "base_uri": "https://localhost:8080/",
          "height": 589
        },
        "id": "DSgfmqDGlrGR",
        "outputId": "99f8b124-b913-451f-d9a6-eed0fc992fd8"
      },
      "execution_count": 71,
      "outputs": [
        {
          "output_type": "display_data",
          "data": {
            "text/html": [
              "<table class=\"dataframe\">\n",
              "<caption>A matrix: 16 × 16 of type dbl</caption>\n",
              "<thead>\n",
              "\t<tr><th></th><th scope=col>ALPA4</th><th scope=col>BBAS3</th><th scope=col>BBDC3</th><th scope=col>BBDC4</th><th scope=col>CMIG4</th><th scope=col>CPLE6</th><th scope=col>ELET3</th><th scope=col>ELET6</th><th scope=col>EMBR3</th><th scope=col>GGBR4</th><th scope=col>ITSA4</th><th scope=col>LIGT3</th><th scope=col>PETR3</th><th scope=col>PETR4</th><th scope=col>SBSP3</th><th scope=col>VIVT3</th></tr>\n",
              "</thead>\n",
              "<tbody>\n",
              "\t<tr><th scope=row>ALPA4</th><td> 7.994526e-01</td><td>-0.052249407</td><td>-0.043244072</td><td>-0.055066134</td><td>-0.039442825</td><td>-0.07974171</td><td>-0.019849575</td><td>-0.015054506</td><td> 0.064420038</td><td>-0.0008192859</td><td>-8.452997e-05</td><td>-0.022337245</td><td>-0.006327663</td><td>-0.01862772</td><td> 0.063715949</td><td> 0.081783499</td></tr>\n",
              "\t<tr><th scope=row>BBAS3</th><td>-5.224941e-02</td><td> 0.301064538</td><td>-0.000159518</td><td>-0.004329469</td><td>-0.049127621</td><td>-0.05798392</td><td>-0.100371769</td><td>-0.095850292</td><td>-0.059420028</td><td> 0.0093754646</td><td> 5.772431e-03</td><td>-0.073657613</td><td> 0.002773484</td><td> 0.01549077</td><td>-0.059079260</td><td>-0.002232517</td></tr>\n",
              "\t<tr><th scope=row>BBDC3</th><td>-4.324407e-02</td><td>-0.000159518</td><td> 0.340126106</td><td> 0.245481822</td><td>-0.076243438</td><td>-0.06069578</td><td>-0.135538826</td><td>-0.142113898</td><td> 0.006866344</td><td>-0.0979946091</td><td> 1.050856e-01</td><td>-0.083756930</td><td>-0.073696428</td><td>-0.07112986</td><td>-0.076932820</td><td>-0.059872624</td></tr>\n",
              "\t<tr><th scope=row>BBDC4</th><td>-5.506613e-02</td><td>-0.004329469</td><td> 0.245481822</td><td> 0.272968482</td><td>-0.074270384</td><td>-0.08475941</td><td>-0.132104171</td><td>-0.133836102</td><td> 0.013627070</td><td>-0.0892832629</td><td> 1.275879e-01</td><td>-0.099527029</td><td>-0.061804892</td><td>-0.05922793</td><td>-0.104334987</td><td>-0.075774046</td></tr>\n",
              "\t<tr><th scope=row>CMIG4</th><td>-3.944283e-02</td><td>-0.049127621</td><td>-0.076243438</td><td>-0.074270384</td><td> 0.438657795</td><td> 0.14018274</td><td> 0.016254521</td><td> 0.017391845</td><td>-0.048054526</td><td>-0.0557882427</td><td>-6.028566e-02</td><td> 0.064864777</td><td>-0.114701232</td><td>-0.08721004</td><td> 0.001055942</td><td> 0.002762023</td></tr>\n",
              "\t<tr><th scope=row>CPLE6</th><td>-7.974171e-02</td><td>-0.057983918</td><td>-0.060695779</td><td>-0.084759411</td><td> 0.140182737</td><td> 0.50127568</td><td> 0.053330799</td><td> 0.066188951</td><td>-0.039896626</td><td>-0.0620501803</td><td>-8.485640e-02</td><td> 0.044593555</td><td>-0.112051633</td><td>-0.12253793</td><td> 0.033617694</td><td> 0.034804372</td></tr>\n",
              "\t<tr><th scope=row>ELET3</th><td>-1.984958e-02</td><td>-0.100371769</td><td>-0.135538826</td><td>-0.132104171</td><td> 0.016254521</td><td> 0.05333080</td><td> 0.525780468</td><td> 0.470994780</td><td>-0.084426134</td><td>-0.0605676710</td><td>-1.042458e-01</td><td> 0.020457084</td><td>-0.085974767</td><td>-0.09537137</td><td>-0.009526022</td><td>-0.066215657</td></tr>\n",
              "\t<tr><th scope=row>ELET6</th><td>-1.505451e-02</td><td>-0.095850292</td><td>-0.142113898</td><td>-0.133836102</td><td> 0.017391845</td><td> 0.06618895</td><td> 0.470994780</td><td> 0.536834528</td><td>-0.047165339</td><td>-0.0661383469</td><td>-9.805677e-02</td><td> 0.005266018</td><td>-0.093746681</td><td>-0.10662443</td><td> 0.006097327</td><td>-0.088317193</td></tr>\n",
              "\t<tr><th scope=row>EMBR3</th><td> 6.442004e-02</td><td>-0.059420028</td><td> 0.006866344</td><td> 0.013627070</td><td>-0.048054526</td><td>-0.03989663</td><td>-0.084426134</td><td>-0.047165339</td><td> 0.904658106</td><td> 0.0347170759</td><td> 3.130901e-02</td><td>-0.040236334</td><td>-0.035830433</td><td>-0.06217639</td><td> 0.100291493</td><td> 0.059861590</td></tr>\n",
              "\t<tr><th scope=row>GGBR4</th><td>-8.192859e-04</td><td> 0.009375465</td><td>-0.097994609</td><td>-0.089283263</td><td>-0.055788243</td><td>-0.06205018</td><td>-0.060567671</td><td>-0.066138347</td><td> 0.034717076</td><td> 0.5568843964</td><td>-4.596025e-02</td><td> 0.028271438</td><td> 0.020287300</td><td> 0.03543693</td><td> 0.033986984</td><td> 0.031509559</td></tr>\n",
              "\t<tr><th scope=row>ITSA4</th><td>-8.452997e-05</td><td> 0.005772431</td><td> 0.105085586</td><td> 0.127587941</td><td>-0.060285660</td><td>-0.08485640</td><td>-0.104245804</td><td>-0.098056775</td><td> 0.031309009</td><td>-0.0459602544</td><td> 2.471023e-01</td><td>-0.117115000</td><td>-0.087328230</td><td>-0.09203267</td><td>-0.054626453</td><td>-0.033755922</td></tr>\n",
              "\t<tr><th scope=row>LIGT3</th><td>-2.233724e-02</td><td>-0.073657613</td><td>-0.083756930</td><td>-0.099527029</td><td> 0.064864777</td><td> 0.04459356</td><td> 0.020457084</td><td> 0.005266018</td><td>-0.040236334</td><td> 0.0282714379</td><td>-1.171150e-01</td><td> 0.663083297</td><td>-0.049340169</td><td>-0.05000271</td><td> 0.051226748</td><td> 0.105289543</td></tr>\n",
              "\t<tr><th scope=row>PETR3</th><td>-6.327663e-03</td><td> 0.002773484</td><td>-0.073696428</td><td>-0.061804892</td><td>-0.114701232</td><td>-0.11205163</td><td>-0.085974767</td><td>-0.093746681</td><td>-0.035830433</td><td> 0.0202873003</td><td>-8.732823e-02</td><td>-0.049340169</td><td> 0.429914245</td><td> 0.36136334</td><td>-0.080634685</td><td>-0.067328781</td></tr>\n",
              "\t<tr><th scope=row>PETR4</th><td>-1.862772e-02</td><td> 0.015490772</td><td>-0.071129864</td><td>-0.059227929</td><td>-0.087210038</td><td>-0.12253793</td><td>-0.095371367</td><td>-0.106624427</td><td>-0.062176392</td><td> 0.0354369325</td><td>-9.203267e-02</td><td>-0.050002706</td><td> 0.361363341</td><td> 0.34644794</td><td>-0.090598278</td><td>-0.057958611</td></tr>\n",
              "\t<tr><th scope=row>SBSP3</th><td> 6.371595e-02</td><td>-0.059079260</td><td>-0.076932820</td><td>-0.104334987</td><td> 0.001055942</td><td> 0.03361769</td><td>-0.009526022</td><td> 0.006097327</td><td> 0.100291493</td><td> 0.0339869842</td><td>-5.462645e-02</td><td> 0.051226748</td><td>-0.080634685</td><td>-0.09059828</td><td> 0.644953031</td><td> 0.039888609</td></tr>\n",
              "\t<tr><th scope=row>VIVT3</th><td> 8.178350e-02</td><td>-0.002232517</td><td>-0.059872624</td><td>-0.075774046</td><td> 0.002762023</td><td> 0.03480437</td><td>-0.066215657</td><td>-0.088317193</td><td> 0.059861590</td><td> 0.0315095587</td><td>-3.375592e-02</td><td> 0.105289543</td><td>-0.067328781</td><td>-0.05795861</td><td> 0.039888609</td><td> 0.840067840</td></tr>\n",
              "</tbody>\n",
              "</table>\n"
            ],
            "text/markdown": "\nA matrix: 16 × 16 of type dbl\n\n| <!--/--> | ALPA4 | BBAS3 | BBDC3 | BBDC4 | CMIG4 | CPLE6 | ELET3 | ELET6 | EMBR3 | GGBR4 | ITSA4 | LIGT3 | PETR3 | PETR4 | SBSP3 | VIVT3 |\n|---|---|---|---|---|---|---|---|---|---|---|---|---|---|---|---|---|\n| ALPA4 |  7.994526e-01 | -0.052249407 | -0.043244072 | -0.055066134 | -0.039442825 | -0.07974171 | -0.019849575 | -0.015054506 |  0.064420038 | -0.0008192859 | -8.452997e-05 | -0.022337245 | -0.006327663 | -0.01862772 |  0.063715949 |  0.081783499 |\n| BBAS3 | -5.224941e-02 |  0.301064538 | -0.000159518 | -0.004329469 | -0.049127621 | -0.05798392 | -0.100371769 | -0.095850292 | -0.059420028 |  0.0093754646 |  5.772431e-03 | -0.073657613 |  0.002773484 |  0.01549077 | -0.059079260 | -0.002232517 |\n| BBDC3 | -4.324407e-02 | -0.000159518 |  0.340126106 |  0.245481822 | -0.076243438 | -0.06069578 | -0.135538826 | -0.142113898 |  0.006866344 | -0.0979946091 |  1.050856e-01 | -0.083756930 | -0.073696428 | -0.07112986 | -0.076932820 | -0.059872624 |\n| BBDC4 | -5.506613e-02 | -0.004329469 |  0.245481822 |  0.272968482 | -0.074270384 | -0.08475941 | -0.132104171 | -0.133836102 |  0.013627070 | -0.0892832629 |  1.275879e-01 | -0.099527029 | -0.061804892 | -0.05922793 | -0.104334987 | -0.075774046 |\n| CMIG4 | -3.944283e-02 | -0.049127621 | -0.076243438 | -0.074270384 |  0.438657795 |  0.14018274 |  0.016254521 |  0.017391845 | -0.048054526 | -0.0557882427 | -6.028566e-02 |  0.064864777 | -0.114701232 | -0.08721004 |  0.001055942 |  0.002762023 |\n| CPLE6 | -7.974171e-02 | -0.057983918 | -0.060695779 | -0.084759411 |  0.140182737 |  0.50127568 |  0.053330799 |  0.066188951 | -0.039896626 | -0.0620501803 | -8.485640e-02 |  0.044593555 | -0.112051633 | -0.12253793 |  0.033617694 |  0.034804372 |\n| ELET3 | -1.984958e-02 | -0.100371769 | -0.135538826 | -0.132104171 |  0.016254521 |  0.05333080 |  0.525780468 |  0.470994780 | -0.084426134 | -0.0605676710 | -1.042458e-01 |  0.020457084 | -0.085974767 | -0.09537137 | -0.009526022 | -0.066215657 |\n| ELET6 | -1.505451e-02 | -0.095850292 | -0.142113898 | -0.133836102 |  0.017391845 |  0.06618895 |  0.470994780 |  0.536834528 | -0.047165339 | -0.0661383469 | -9.805677e-02 |  0.005266018 | -0.093746681 | -0.10662443 |  0.006097327 | -0.088317193 |\n| EMBR3 |  6.442004e-02 | -0.059420028 |  0.006866344 |  0.013627070 | -0.048054526 | -0.03989663 | -0.084426134 | -0.047165339 |  0.904658106 |  0.0347170759 |  3.130901e-02 | -0.040236334 | -0.035830433 | -0.06217639 |  0.100291493 |  0.059861590 |\n| GGBR4 | -8.192859e-04 |  0.009375465 | -0.097994609 | -0.089283263 | -0.055788243 | -0.06205018 | -0.060567671 | -0.066138347 |  0.034717076 |  0.5568843964 | -4.596025e-02 |  0.028271438 |  0.020287300 |  0.03543693 |  0.033986984 |  0.031509559 |\n| ITSA4 | -8.452997e-05 |  0.005772431 |  0.105085586 |  0.127587941 | -0.060285660 | -0.08485640 | -0.104245804 | -0.098056775 |  0.031309009 | -0.0459602544 |  2.471023e-01 | -0.117115000 | -0.087328230 | -0.09203267 | -0.054626453 | -0.033755922 |\n| LIGT3 | -2.233724e-02 | -0.073657613 | -0.083756930 | -0.099527029 |  0.064864777 |  0.04459356 |  0.020457084 |  0.005266018 | -0.040236334 |  0.0282714379 | -1.171150e-01 |  0.663083297 | -0.049340169 | -0.05000271 |  0.051226748 |  0.105289543 |\n| PETR3 | -6.327663e-03 |  0.002773484 | -0.073696428 | -0.061804892 | -0.114701232 | -0.11205163 | -0.085974767 | -0.093746681 | -0.035830433 |  0.0202873003 | -8.732823e-02 | -0.049340169 |  0.429914245 |  0.36136334 | -0.080634685 | -0.067328781 |\n| PETR4 | -1.862772e-02 |  0.015490772 | -0.071129864 | -0.059227929 | -0.087210038 | -0.12253793 | -0.095371367 | -0.106624427 | -0.062176392 |  0.0354369325 | -9.203267e-02 | -0.050002706 |  0.361363341 |  0.34644794 | -0.090598278 | -0.057958611 |\n| SBSP3 |  6.371595e-02 | -0.059079260 | -0.076932820 | -0.104334987 |  0.001055942 |  0.03361769 | -0.009526022 |  0.006097327 |  0.100291493 |  0.0339869842 | -5.462645e-02 |  0.051226748 | -0.080634685 | -0.09059828 |  0.644953031 |  0.039888609 |\n| VIVT3 |  8.178350e-02 | -0.002232517 | -0.059872624 | -0.075774046 |  0.002762023 |  0.03480437 | -0.066215657 | -0.088317193 |  0.059861590 |  0.0315095587 | -3.375592e-02 |  0.105289543 | -0.067328781 | -0.05795861 |  0.039888609 |  0.840067840 |\n\n",
            "text/latex": "A matrix: 16 × 16 of type dbl\n\\begin{tabular}{r|llllllllllllllll}\n  & ALPA4 & BBAS3 & BBDC3 & BBDC4 & CMIG4 & CPLE6 & ELET3 & ELET6 & EMBR3 & GGBR4 & ITSA4 & LIGT3 & PETR3 & PETR4 & SBSP3 & VIVT3\\\\\n\\hline\n\tALPA4 &  7.994526e-01 & -0.052249407 & -0.043244072 & -0.055066134 & -0.039442825 & -0.07974171 & -0.019849575 & -0.015054506 &  0.064420038 & -0.0008192859 & -8.452997e-05 & -0.022337245 & -0.006327663 & -0.01862772 &  0.063715949 &  0.081783499\\\\\n\tBBAS3 & -5.224941e-02 &  0.301064538 & -0.000159518 & -0.004329469 & -0.049127621 & -0.05798392 & -0.100371769 & -0.095850292 & -0.059420028 &  0.0093754646 &  5.772431e-03 & -0.073657613 &  0.002773484 &  0.01549077 & -0.059079260 & -0.002232517\\\\\n\tBBDC3 & -4.324407e-02 & -0.000159518 &  0.340126106 &  0.245481822 & -0.076243438 & -0.06069578 & -0.135538826 & -0.142113898 &  0.006866344 & -0.0979946091 &  1.050856e-01 & -0.083756930 & -0.073696428 & -0.07112986 & -0.076932820 & -0.059872624\\\\\n\tBBDC4 & -5.506613e-02 & -0.004329469 &  0.245481822 &  0.272968482 & -0.074270384 & -0.08475941 & -0.132104171 & -0.133836102 &  0.013627070 & -0.0892832629 &  1.275879e-01 & -0.099527029 & -0.061804892 & -0.05922793 & -0.104334987 & -0.075774046\\\\\n\tCMIG4 & -3.944283e-02 & -0.049127621 & -0.076243438 & -0.074270384 &  0.438657795 &  0.14018274 &  0.016254521 &  0.017391845 & -0.048054526 & -0.0557882427 & -6.028566e-02 &  0.064864777 & -0.114701232 & -0.08721004 &  0.001055942 &  0.002762023\\\\\n\tCPLE6 & -7.974171e-02 & -0.057983918 & -0.060695779 & -0.084759411 &  0.140182737 &  0.50127568 &  0.053330799 &  0.066188951 & -0.039896626 & -0.0620501803 & -8.485640e-02 &  0.044593555 & -0.112051633 & -0.12253793 &  0.033617694 &  0.034804372\\\\\n\tELET3 & -1.984958e-02 & -0.100371769 & -0.135538826 & -0.132104171 &  0.016254521 &  0.05333080 &  0.525780468 &  0.470994780 & -0.084426134 & -0.0605676710 & -1.042458e-01 &  0.020457084 & -0.085974767 & -0.09537137 & -0.009526022 & -0.066215657\\\\\n\tELET6 & -1.505451e-02 & -0.095850292 & -0.142113898 & -0.133836102 &  0.017391845 &  0.06618895 &  0.470994780 &  0.536834528 & -0.047165339 & -0.0661383469 & -9.805677e-02 &  0.005266018 & -0.093746681 & -0.10662443 &  0.006097327 & -0.088317193\\\\\n\tEMBR3 &  6.442004e-02 & -0.059420028 &  0.006866344 &  0.013627070 & -0.048054526 & -0.03989663 & -0.084426134 & -0.047165339 &  0.904658106 &  0.0347170759 &  3.130901e-02 & -0.040236334 & -0.035830433 & -0.06217639 &  0.100291493 &  0.059861590\\\\\n\tGGBR4 & -8.192859e-04 &  0.009375465 & -0.097994609 & -0.089283263 & -0.055788243 & -0.06205018 & -0.060567671 & -0.066138347 &  0.034717076 &  0.5568843964 & -4.596025e-02 &  0.028271438 &  0.020287300 &  0.03543693 &  0.033986984 &  0.031509559\\\\\n\tITSA4 & -8.452997e-05 &  0.005772431 &  0.105085586 &  0.127587941 & -0.060285660 & -0.08485640 & -0.104245804 & -0.098056775 &  0.031309009 & -0.0459602544 &  2.471023e-01 & -0.117115000 & -0.087328230 & -0.09203267 & -0.054626453 & -0.033755922\\\\\n\tLIGT3 & -2.233724e-02 & -0.073657613 & -0.083756930 & -0.099527029 &  0.064864777 &  0.04459356 &  0.020457084 &  0.005266018 & -0.040236334 &  0.0282714379 & -1.171150e-01 &  0.663083297 & -0.049340169 & -0.05000271 &  0.051226748 &  0.105289543\\\\\n\tPETR3 & -6.327663e-03 &  0.002773484 & -0.073696428 & -0.061804892 & -0.114701232 & -0.11205163 & -0.085974767 & -0.093746681 & -0.035830433 &  0.0202873003 & -8.732823e-02 & -0.049340169 &  0.429914245 &  0.36136334 & -0.080634685 & -0.067328781\\\\\n\tPETR4 & -1.862772e-02 &  0.015490772 & -0.071129864 & -0.059227929 & -0.087210038 & -0.12253793 & -0.095371367 & -0.106624427 & -0.062176392 &  0.0354369325 & -9.203267e-02 & -0.050002706 &  0.361363341 &  0.34644794 & -0.090598278 & -0.057958611\\\\\n\tSBSP3 &  6.371595e-02 & -0.059079260 & -0.076932820 & -0.104334987 &  0.001055942 &  0.03361769 & -0.009526022 &  0.006097327 &  0.100291493 &  0.0339869842 & -5.462645e-02 &  0.051226748 & -0.080634685 & -0.09059828 &  0.644953031 &  0.039888609\\\\\n\tVIVT3 &  8.178350e-02 & -0.002232517 & -0.059872624 & -0.075774046 &  0.002762023 &  0.03480437 & -0.066215657 & -0.088317193 &  0.059861590 &  0.0315095587 & -3.375592e-02 &  0.105289543 & -0.067328781 & -0.05795861 &  0.039888609 &  0.840067840\\\\\n\\end{tabular}\n",
            "text/plain": [
              "      ALPA4         BBAS3        BBDC3        BBDC4        CMIG4       \n",
              "ALPA4  7.994526e-01 -0.052249407 -0.043244072 -0.055066134 -0.039442825\n",
              "BBAS3 -5.224941e-02  0.301064538 -0.000159518 -0.004329469 -0.049127621\n",
              "BBDC3 -4.324407e-02 -0.000159518  0.340126106  0.245481822 -0.076243438\n",
              "BBDC4 -5.506613e-02 -0.004329469  0.245481822  0.272968482 -0.074270384\n",
              "CMIG4 -3.944283e-02 -0.049127621 -0.076243438 -0.074270384  0.438657795\n",
              "CPLE6 -7.974171e-02 -0.057983918 -0.060695779 -0.084759411  0.140182737\n",
              "ELET3 -1.984958e-02 -0.100371769 -0.135538826 -0.132104171  0.016254521\n",
              "ELET6 -1.505451e-02 -0.095850292 -0.142113898 -0.133836102  0.017391845\n",
              "EMBR3  6.442004e-02 -0.059420028  0.006866344  0.013627070 -0.048054526\n",
              "GGBR4 -8.192859e-04  0.009375465 -0.097994609 -0.089283263 -0.055788243\n",
              "ITSA4 -8.452997e-05  0.005772431  0.105085586  0.127587941 -0.060285660\n",
              "LIGT3 -2.233724e-02 -0.073657613 -0.083756930 -0.099527029  0.064864777\n",
              "PETR3 -6.327663e-03  0.002773484 -0.073696428 -0.061804892 -0.114701232\n",
              "PETR4 -1.862772e-02  0.015490772 -0.071129864 -0.059227929 -0.087210038\n",
              "SBSP3  6.371595e-02 -0.059079260 -0.076932820 -0.104334987  0.001055942\n",
              "VIVT3  8.178350e-02 -0.002232517 -0.059872624 -0.075774046  0.002762023\n",
              "      CPLE6       ELET3        ELET6        EMBR3        GGBR4        \n",
              "ALPA4 -0.07974171 -0.019849575 -0.015054506  0.064420038 -0.0008192859\n",
              "BBAS3 -0.05798392 -0.100371769 -0.095850292 -0.059420028  0.0093754646\n",
              "BBDC3 -0.06069578 -0.135538826 -0.142113898  0.006866344 -0.0979946091\n",
              "BBDC4 -0.08475941 -0.132104171 -0.133836102  0.013627070 -0.0892832629\n",
              "CMIG4  0.14018274  0.016254521  0.017391845 -0.048054526 -0.0557882427\n",
              "CPLE6  0.50127568  0.053330799  0.066188951 -0.039896626 -0.0620501803\n",
              "ELET3  0.05333080  0.525780468  0.470994780 -0.084426134 -0.0605676710\n",
              "ELET6  0.06618895  0.470994780  0.536834528 -0.047165339 -0.0661383469\n",
              "EMBR3 -0.03989663 -0.084426134 -0.047165339  0.904658106  0.0347170759\n",
              "GGBR4 -0.06205018 -0.060567671 -0.066138347  0.034717076  0.5568843964\n",
              "ITSA4 -0.08485640 -0.104245804 -0.098056775  0.031309009 -0.0459602544\n",
              "LIGT3  0.04459356  0.020457084  0.005266018 -0.040236334  0.0282714379\n",
              "PETR3 -0.11205163 -0.085974767 -0.093746681 -0.035830433  0.0202873003\n",
              "PETR4 -0.12253793 -0.095371367 -0.106624427 -0.062176392  0.0354369325\n",
              "SBSP3  0.03361769 -0.009526022  0.006097327  0.100291493  0.0339869842\n",
              "VIVT3  0.03480437 -0.066215657 -0.088317193  0.059861590  0.0315095587\n",
              "      ITSA4         LIGT3        PETR3        PETR4       SBSP3       \n",
              "ALPA4 -8.452997e-05 -0.022337245 -0.006327663 -0.01862772  0.063715949\n",
              "BBAS3  5.772431e-03 -0.073657613  0.002773484  0.01549077 -0.059079260\n",
              "BBDC3  1.050856e-01 -0.083756930 -0.073696428 -0.07112986 -0.076932820\n",
              "BBDC4  1.275879e-01 -0.099527029 -0.061804892 -0.05922793 -0.104334987\n",
              "CMIG4 -6.028566e-02  0.064864777 -0.114701232 -0.08721004  0.001055942\n",
              "CPLE6 -8.485640e-02  0.044593555 -0.112051633 -0.12253793  0.033617694\n",
              "ELET3 -1.042458e-01  0.020457084 -0.085974767 -0.09537137 -0.009526022\n",
              "ELET6 -9.805677e-02  0.005266018 -0.093746681 -0.10662443  0.006097327\n",
              "EMBR3  3.130901e-02 -0.040236334 -0.035830433 -0.06217639  0.100291493\n",
              "GGBR4 -4.596025e-02  0.028271438  0.020287300  0.03543693  0.033986984\n",
              "ITSA4  2.471023e-01 -0.117115000 -0.087328230 -0.09203267 -0.054626453\n",
              "LIGT3 -1.171150e-01  0.663083297 -0.049340169 -0.05000271  0.051226748\n",
              "PETR3 -8.732823e-02 -0.049340169  0.429914245  0.36136334 -0.080634685\n",
              "PETR4 -9.203267e-02 -0.050002706  0.361363341  0.34644794 -0.090598278\n",
              "SBSP3 -5.462645e-02  0.051226748 -0.080634685 -0.09059828  0.644953031\n",
              "VIVT3 -3.375592e-02  0.105289543 -0.067328781 -0.05795861  0.039888609\n",
              "      VIVT3       \n",
              "ALPA4  0.081783499\n",
              "BBAS3 -0.002232517\n",
              "BBDC3 -0.059872624\n",
              "BBDC4 -0.075774046\n",
              "CMIG4  0.002762023\n",
              "CPLE6  0.034804372\n",
              "ELET3 -0.066215657\n",
              "ELET6 -0.088317193\n",
              "EMBR3  0.059861590\n",
              "GGBR4  0.031509559\n",
              "ITSA4 -0.033755922\n",
              "LIGT3  0.105289543\n",
              "PETR3 -0.067328781\n",
              "PETR4 -0.057958611\n",
              "SBSP3  0.039888609\n",
              "VIVT3  0.840067840"
            ]
          },
          "metadata": {}
        }
      ]
    },
    {
      "cell_type": "code",
      "source": [
        "cov(u_ml)"
      ],
      "metadata": {
        "colab": {
          "base_uri": "https://localhost:8080/",
          "height": 589
        },
        "id": "MrBaCuKDltj3",
        "outputId": "cdb49a60-3ff9-48bf-c1bf-26471a01bb8b"
      },
      "execution_count": 72,
      "outputs": [
        {
          "output_type": "display_data",
          "data": {
            "text/html": [
              "<table class=\"dataframe\">\n",
              "<caption>A matrix: 16 × 16 of type dbl</caption>\n",
              "<thead>\n",
              "\t<tr><th></th><th scope=col>ALPA4</th><th scope=col>BBAS3</th><th scope=col>BBDC3</th><th scope=col>BBDC4</th><th scope=col>CMIG4</th><th scope=col>CPLE6</th><th scope=col>ELET3</th><th scope=col>ELET6</th><th scope=col>EMBR3</th><th scope=col>GGBR4</th><th scope=col>ITSA4</th><th scope=col>LIGT3</th><th scope=col>PETR3</th><th scope=col>PETR4</th><th scope=col>SBSP3</th><th scope=col>VIVT3</th></tr>\n",
              "</thead>\n",
              "<tbody>\n",
              "\t<tr><th scope=row>ALPA4</th><td> 0.818772866</td><td>-0.03362975</td><td>-0.058932698</td><td>-0.066960807</td><td>-0.0038908398</td><td>-0.043473875</td><td> 0.02636420</td><td> 0.030921910</td><td> 0.071188010</td><td> 0.0299207594</td><td> 0.000366736</td><td> 0.014370170</td><td> 0.021166750</td><td> 0.01238798</td><td> 0.09778028</td><td> 0.10415681</td></tr>\n",
              "\t<tr><th scope=row>BBAS3</th><td>-0.033629747</td><td> 0.30157127</td><td>-0.065982732</td><td>-0.064443752</td><td>-0.0116382026</td><td>-0.017234178</td><td>-0.03933937</td><td>-0.034935768</td><td>-0.059446788</td><td> 0.0410211287</td><td>-0.030753414</td><td>-0.026622685</td><td> 0.024194213</td><td> 0.04152249</td><td>-0.01789760</td><td> 0.02444643</td></tr>\n",
              "\t<tr><th scope=row>BBDC3</th><td>-0.058932698</td><td>-0.06598273</td><td> 0.205436188</td><td> 0.113679257</td><td>-0.0957308881</td><td>-0.073290535</td><td>-0.12510544</td><td>-0.131165380</td><td>-0.017672797</td><td>-0.1170821481</td><td>-0.002750955</td><td>-0.079665115</td><td>-0.110784208</td><td>-0.10753729</td><td>-0.08030761</td><td>-0.06316208</td></tr>\n",
              "\t<tr><th scope=row>BBDC4</th><td>-0.066960807</td><td>-0.06444375</td><td> 0.113679257</td><td> 0.144556698</td><td>-0.0871562090</td><td>-0.090914527</td><td>-0.11453720</td><td>-0.115813659</td><td>-0.008812128</td><td>-0.1025721180</td><td> 0.024190560</td><td>-0.089599199</td><td>-0.092895972</td><td>-0.08909046</td><td>-0.10200365</td><td>-0.07527231</td></tr>\n",
              "\t<tr><th scope=row>CMIG4</th><td>-0.003890840</td><td>-0.01163820</td><td>-0.095730888</td><td>-0.087156209</td><td> 0.5034815066</td><td> 0.205848102</td><td> 0.09824246</td><td> 0.098922491</td><td>-0.034388643</td><td> 0.0004040175</td><td>-0.052616271</td><td> 0.130254442</td><td>-0.063168215</td><td>-0.02942259</td><td> 0.06219368</td><td> 0.04298530</td></tr>\n",
              "\t<tr><th scope=row>CPLE6</th><td>-0.043473875</td><td>-0.01723418</td><td>-0.073290535</td><td>-0.090914527</td><td> 0.2058481022</td><td> 0.567430330</td><td> 0.13459968</td><td> 0.146975401</td><td>-0.025014569</td><td>-0.0050167426</td><td>-0.071722062</td><td> 0.109624763</td><td>-0.058751558</td><td>-0.06303241</td><td> 0.09478637</td><td> 0.07510237</td></tr>\n",
              "\t<tr><th scope=row>ELET3</th><td> 0.026364202</td><td>-0.03933937</td><td>-0.125105445</td><td>-0.114537202</td><td> 0.0982424608</td><td> 0.134599682</td><td> 0.62072129</td><td> 0.565262959</td><td>-0.062042219</td><td> 0.0110511989</td><td>-0.068205218</td><td> 0.097232993</td><td>-0.015406372</td><td>-0.01753160</td><td> 0.06405483</td><td>-0.01753904</td></tr>\n",
              "\t<tr><th scope=row>ELET6</th><td> 0.030921910</td><td>-0.03493577</td><td>-0.131165380</td><td>-0.115813659</td><td> 0.0989224910</td><td> 0.146975401</td><td> 0.56526296</td><td> 0.630432275</td><td>-0.024822930</td><td> 0.0050900165</td><td>-0.061786721</td><td> 0.081516824</td><td>-0.023483793</td><td>-0.02914116</td><td> 0.07920656</td><td>-0.03994798</td></tr>\n",
              "\t<tr><th scope=row>EMBR3</th><td> 0.071188010</td><td>-0.05944679</td><td>-0.017672797</td><td>-0.008812128</td><td>-0.0343886427</td><td>-0.025014569</td><td>-0.06204222</td><td>-0.024822930</td><td> 0.904569151</td><td> 0.0462442477</td><td> 0.017585279</td><td>-0.022998794</td><td>-0.028105728</td><td>-0.05276093</td><td> 0.11536146</td><td> 0.06962089</td></tr>\n",
              "\t<tr><th scope=row>GGBR4</th><td> 0.029920759</td><td> 0.04102113</td><td>-0.117082148</td><td>-0.102572118</td><td> 0.0004040175</td><td>-0.005016743</td><td> 0.01105120</td><td> 0.005090017</td><td> 0.046244248</td><td> 0.6055602290</td><td>-0.040960107</td><td> 0.085325180</td><td> 0.064621302</td><td> 0.08523256</td><td> 0.08721839</td><td> 0.06651447</td></tr>\n",
              "\t<tr><th scope=row>ITSA4</th><td> 0.000366736</td><td>-0.03075341</td><td>-0.002750955</td><td> 0.024190560</td><td>-0.0526162707</td><td>-0.071722062</td><td>-0.06820522</td><td>-0.061786721</td><td> 0.017585279</td><td>-0.0409601070</td><td> 0.168771578</td><td>-0.091546366</td><td>-0.097446538</td><td>-0.09948839</td><td>-0.03612694</td><td>-0.02238763</td></tr>\n",
              "\t<tr><th scope=row>LIGT3</th><td> 0.014370170</td><td>-0.02662268</td><td>-0.079665115</td><td>-0.089599199</td><td> 0.1302544423</td><td> 0.109624763</td><td> 0.09723299</td><td> 0.081516824</td><td>-0.022998794</td><td> 0.0853251799</td><td>-0.091546366</td><td> 0.725030758</td><td> 0.006291955</td><td> 0.01150577</td><td> 0.11036283</td><td> 0.14437657</td></tr>\n",
              "\t<tr><th scope=row>PETR3</th><td> 0.021166750</td><td> 0.02419421</td><td>-0.110784208</td><td>-0.092895972</td><td>-0.0631682151</td><td>-0.058751558</td><td>-0.01540637</td><td>-0.023483793</td><td>-0.028105728</td><td> 0.0646213023</td><td>-0.097446538</td><td> 0.006291955</td><td> 0.467563252</td><td> 0.40437788</td><td>-0.02972640</td><td>-0.03399986</td></tr>\n",
              "\t<tr><th scope=row>PETR4</th><td> 0.012387983</td><td> 0.04152249</td><td>-0.107537287</td><td>-0.089090464</td><td>-0.0294225940</td><td>-0.063032406</td><td>-0.01753160</td><td>-0.029141164</td><td>-0.052760933</td><td> 0.0852325560</td><td>-0.099488389</td><td> 0.011505774</td><td> 0.404377883</td><td> 0.39538482</td><td>-0.03406456</td><td>-0.02090917</td></tr>\n",
              "\t<tr><th scope=row>SBSP3</th><td> 0.097780279</td><td>-0.01789760</td><td>-0.080307608</td><td>-0.102003646</td><td> 0.0621936793</td><td> 0.094786369</td><td> 0.06405483</td><td> 0.079206564</td><td> 0.115361461</td><td> 0.0872183890</td><td>-0.036126942</td><td> 0.110362832</td><td>-0.029726401</td><td>-0.03406456</td><td> 0.70101253</td><td> 0.07688500</td></tr>\n",
              "\t<tr><th scope=row>VIVT3</th><td> 0.104156806</td><td> 0.02444643</td><td>-0.063162078</td><td>-0.075272307</td><td> 0.0429853049</td><td> 0.075102366</td><td>-0.01753904</td><td>-0.039947982</td><td> 0.069620895</td><td> 0.0665144693</td><td>-0.022387628</td><td> 0.144376572</td><td>-0.033999861</td><td>-0.02090917</td><td> 0.07688500</td><td> 0.86447519</td></tr>\n",
              "</tbody>\n",
              "</table>\n"
            ],
            "text/markdown": "\nA matrix: 16 × 16 of type dbl\n\n| <!--/--> | ALPA4 | BBAS3 | BBDC3 | BBDC4 | CMIG4 | CPLE6 | ELET3 | ELET6 | EMBR3 | GGBR4 | ITSA4 | LIGT3 | PETR3 | PETR4 | SBSP3 | VIVT3 |\n|---|---|---|---|---|---|---|---|---|---|---|---|---|---|---|---|---|\n| ALPA4 |  0.818772866 | -0.03362975 | -0.058932698 | -0.066960807 | -0.0038908398 | -0.043473875 |  0.02636420 |  0.030921910 |  0.071188010 |  0.0299207594 |  0.000366736 |  0.014370170 |  0.021166750 |  0.01238798 |  0.09778028 |  0.10415681 |\n| BBAS3 | -0.033629747 |  0.30157127 | -0.065982732 | -0.064443752 | -0.0116382026 | -0.017234178 | -0.03933937 | -0.034935768 | -0.059446788 |  0.0410211287 | -0.030753414 | -0.026622685 |  0.024194213 |  0.04152249 | -0.01789760 |  0.02444643 |\n| BBDC3 | -0.058932698 | -0.06598273 |  0.205436188 |  0.113679257 | -0.0957308881 | -0.073290535 | -0.12510544 | -0.131165380 | -0.017672797 | -0.1170821481 | -0.002750955 | -0.079665115 | -0.110784208 | -0.10753729 | -0.08030761 | -0.06316208 |\n| BBDC4 | -0.066960807 | -0.06444375 |  0.113679257 |  0.144556698 | -0.0871562090 | -0.090914527 | -0.11453720 | -0.115813659 | -0.008812128 | -0.1025721180 |  0.024190560 | -0.089599199 | -0.092895972 | -0.08909046 | -0.10200365 | -0.07527231 |\n| CMIG4 | -0.003890840 | -0.01163820 | -0.095730888 | -0.087156209 |  0.5034815066 |  0.205848102 |  0.09824246 |  0.098922491 | -0.034388643 |  0.0004040175 | -0.052616271 |  0.130254442 | -0.063168215 | -0.02942259 |  0.06219368 |  0.04298530 |\n| CPLE6 | -0.043473875 | -0.01723418 | -0.073290535 | -0.090914527 |  0.2058481022 |  0.567430330 |  0.13459968 |  0.146975401 | -0.025014569 | -0.0050167426 | -0.071722062 |  0.109624763 | -0.058751558 | -0.06303241 |  0.09478637 |  0.07510237 |\n| ELET3 |  0.026364202 | -0.03933937 | -0.125105445 | -0.114537202 |  0.0982424608 |  0.134599682 |  0.62072129 |  0.565262959 | -0.062042219 |  0.0110511989 | -0.068205218 |  0.097232993 | -0.015406372 | -0.01753160 |  0.06405483 | -0.01753904 |\n| ELET6 |  0.030921910 | -0.03493577 | -0.131165380 | -0.115813659 |  0.0989224910 |  0.146975401 |  0.56526296 |  0.630432275 | -0.024822930 |  0.0050900165 | -0.061786721 |  0.081516824 | -0.023483793 | -0.02914116 |  0.07920656 | -0.03994798 |\n| EMBR3 |  0.071188010 | -0.05944679 | -0.017672797 | -0.008812128 | -0.0343886427 | -0.025014569 | -0.06204222 | -0.024822930 |  0.904569151 |  0.0462442477 |  0.017585279 | -0.022998794 | -0.028105728 | -0.05276093 |  0.11536146 |  0.06962089 |\n| GGBR4 |  0.029920759 |  0.04102113 | -0.117082148 | -0.102572118 |  0.0004040175 | -0.005016743 |  0.01105120 |  0.005090017 |  0.046244248 |  0.6055602290 | -0.040960107 |  0.085325180 |  0.064621302 |  0.08523256 |  0.08721839 |  0.06651447 |\n| ITSA4 |  0.000366736 | -0.03075341 | -0.002750955 |  0.024190560 | -0.0526162707 | -0.071722062 | -0.06820522 | -0.061786721 |  0.017585279 | -0.0409601070 |  0.168771578 | -0.091546366 | -0.097446538 | -0.09948839 | -0.03612694 | -0.02238763 |\n| LIGT3 |  0.014370170 | -0.02662268 | -0.079665115 | -0.089599199 |  0.1302544423 |  0.109624763 |  0.09723299 |  0.081516824 | -0.022998794 |  0.0853251799 | -0.091546366 |  0.725030758 |  0.006291955 |  0.01150577 |  0.11036283 |  0.14437657 |\n| PETR3 |  0.021166750 |  0.02419421 | -0.110784208 | -0.092895972 | -0.0631682151 | -0.058751558 | -0.01540637 | -0.023483793 | -0.028105728 |  0.0646213023 | -0.097446538 |  0.006291955 |  0.467563252 |  0.40437788 | -0.02972640 | -0.03399986 |\n| PETR4 |  0.012387983 |  0.04152249 | -0.107537287 | -0.089090464 | -0.0294225940 | -0.063032406 | -0.01753160 | -0.029141164 | -0.052760933 |  0.0852325560 | -0.099488389 |  0.011505774 |  0.404377883 |  0.39538482 | -0.03406456 | -0.02090917 |\n| SBSP3 |  0.097780279 | -0.01789760 | -0.080307608 | -0.102003646 |  0.0621936793 |  0.094786369 |  0.06405483 |  0.079206564 |  0.115361461 |  0.0872183890 | -0.036126942 |  0.110362832 | -0.029726401 | -0.03406456 |  0.70101253 |  0.07688500 |\n| VIVT3 |  0.104156806 |  0.02444643 | -0.063162078 | -0.075272307 |  0.0429853049 |  0.075102366 | -0.01753904 | -0.039947982 |  0.069620895 |  0.0665144693 | -0.022387628 |  0.144376572 | -0.033999861 | -0.02090917 |  0.07688500 |  0.86447519 |\n\n",
            "text/latex": "A matrix: 16 × 16 of type dbl\n\\begin{tabular}{r|llllllllllllllll}\n  & ALPA4 & BBAS3 & BBDC3 & BBDC4 & CMIG4 & CPLE6 & ELET3 & ELET6 & EMBR3 & GGBR4 & ITSA4 & LIGT3 & PETR3 & PETR4 & SBSP3 & VIVT3\\\\\n\\hline\n\tALPA4 &  0.818772866 & -0.03362975 & -0.058932698 & -0.066960807 & -0.0038908398 & -0.043473875 &  0.02636420 &  0.030921910 &  0.071188010 &  0.0299207594 &  0.000366736 &  0.014370170 &  0.021166750 &  0.01238798 &  0.09778028 &  0.10415681\\\\\n\tBBAS3 & -0.033629747 &  0.30157127 & -0.065982732 & -0.064443752 & -0.0116382026 & -0.017234178 & -0.03933937 & -0.034935768 & -0.059446788 &  0.0410211287 & -0.030753414 & -0.026622685 &  0.024194213 &  0.04152249 & -0.01789760 &  0.02444643\\\\\n\tBBDC3 & -0.058932698 & -0.06598273 &  0.205436188 &  0.113679257 & -0.0957308881 & -0.073290535 & -0.12510544 & -0.131165380 & -0.017672797 & -0.1170821481 & -0.002750955 & -0.079665115 & -0.110784208 & -0.10753729 & -0.08030761 & -0.06316208\\\\\n\tBBDC4 & -0.066960807 & -0.06444375 &  0.113679257 &  0.144556698 & -0.0871562090 & -0.090914527 & -0.11453720 & -0.115813659 & -0.008812128 & -0.1025721180 &  0.024190560 & -0.089599199 & -0.092895972 & -0.08909046 & -0.10200365 & -0.07527231\\\\\n\tCMIG4 & -0.003890840 & -0.01163820 & -0.095730888 & -0.087156209 &  0.5034815066 &  0.205848102 &  0.09824246 &  0.098922491 & -0.034388643 &  0.0004040175 & -0.052616271 &  0.130254442 & -0.063168215 & -0.02942259 &  0.06219368 &  0.04298530\\\\\n\tCPLE6 & -0.043473875 & -0.01723418 & -0.073290535 & -0.090914527 &  0.2058481022 &  0.567430330 &  0.13459968 &  0.146975401 & -0.025014569 & -0.0050167426 & -0.071722062 &  0.109624763 & -0.058751558 & -0.06303241 &  0.09478637 &  0.07510237\\\\\n\tELET3 &  0.026364202 & -0.03933937 & -0.125105445 & -0.114537202 &  0.0982424608 &  0.134599682 &  0.62072129 &  0.565262959 & -0.062042219 &  0.0110511989 & -0.068205218 &  0.097232993 & -0.015406372 & -0.01753160 &  0.06405483 & -0.01753904\\\\\n\tELET6 &  0.030921910 & -0.03493577 & -0.131165380 & -0.115813659 &  0.0989224910 &  0.146975401 &  0.56526296 &  0.630432275 & -0.024822930 &  0.0050900165 & -0.061786721 &  0.081516824 & -0.023483793 & -0.02914116 &  0.07920656 & -0.03994798\\\\\n\tEMBR3 &  0.071188010 & -0.05944679 & -0.017672797 & -0.008812128 & -0.0343886427 & -0.025014569 & -0.06204222 & -0.024822930 &  0.904569151 &  0.0462442477 &  0.017585279 & -0.022998794 & -0.028105728 & -0.05276093 &  0.11536146 &  0.06962089\\\\\n\tGGBR4 &  0.029920759 &  0.04102113 & -0.117082148 & -0.102572118 &  0.0004040175 & -0.005016743 &  0.01105120 &  0.005090017 &  0.046244248 &  0.6055602290 & -0.040960107 &  0.085325180 &  0.064621302 &  0.08523256 &  0.08721839 &  0.06651447\\\\\n\tITSA4 &  0.000366736 & -0.03075341 & -0.002750955 &  0.024190560 & -0.0526162707 & -0.071722062 & -0.06820522 & -0.061786721 &  0.017585279 & -0.0409601070 &  0.168771578 & -0.091546366 & -0.097446538 & -0.09948839 & -0.03612694 & -0.02238763\\\\\n\tLIGT3 &  0.014370170 & -0.02662268 & -0.079665115 & -0.089599199 &  0.1302544423 &  0.109624763 &  0.09723299 &  0.081516824 & -0.022998794 &  0.0853251799 & -0.091546366 &  0.725030758 &  0.006291955 &  0.01150577 &  0.11036283 &  0.14437657\\\\\n\tPETR3 &  0.021166750 &  0.02419421 & -0.110784208 & -0.092895972 & -0.0631682151 & -0.058751558 & -0.01540637 & -0.023483793 & -0.028105728 &  0.0646213023 & -0.097446538 &  0.006291955 &  0.467563252 &  0.40437788 & -0.02972640 & -0.03399986\\\\\n\tPETR4 &  0.012387983 &  0.04152249 & -0.107537287 & -0.089090464 & -0.0294225940 & -0.063032406 & -0.01753160 & -0.029141164 & -0.052760933 &  0.0852325560 & -0.099488389 &  0.011505774 &  0.404377883 &  0.39538482 & -0.03406456 & -0.02090917\\\\\n\tSBSP3 &  0.097780279 & -0.01789760 & -0.080307608 & -0.102003646 &  0.0621936793 &  0.094786369 &  0.06405483 &  0.079206564 &  0.115361461 &  0.0872183890 & -0.036126942 &  0.110362832 & -0.029726401 & -0.03406456 &  0.70101253 &  0.07688500\\\\\n\tVIVT3 &  0.104156806 &  0.02444643 & -0.063162078 & -0.075272307 &  0.0429853049 &  0.075102366 & -0.01753904 & -0.039947982 &  0.069620895 &  0.0665144693 & -0.022387628 &  0.144376572 & -0.033999861 & -0.02090917 &  0.07688500 &  0.86447519\\\\\n\\end{tabular}\n",
            "text/plain": [
              "      ALPA4        BBAS3       BBDC3        BBDC4        CMIG4        \n",
              "ALPA4  0.818772866 -0.03362975 -0.058932698 -0.066960807 -0.0038908398\n",
              "BBAS3 -0.033629747  0.30157127 -0.065982732 -0.064443752 -0.0116382026\n",
              "BBDC3 -0.058932698 -0.06598273  0.205436188  0.113679257 -0.0957308881\n",
              "BBDC4 -0.066960807 -0.06444375  0.113679257  0.144556698 -0.0871562090\n",
              "CMIG4 -0.003890840 -0.01163820 -0.095730888 -0.087156209  0.5034815066\n",
              "CPLE6 -0.043473875 -0.01723418 -0.073290535 -0.090914527  0.2058481022\n",
              "ELET3  0.026364202 -0.03933937 -0.125105445 -0.114537202  0.0982424608\n",
              "ELET6  0.030921910 -0.03493577 -0.131165380 -0.115813659  0.0989224910\n",
              "EMBR3  0.071188010 -0.05944679 -0.017672797 -0.008812128 -0.0343886427\n",
              "GGBR4  0.029920759  0.04102113 -0.117082148 -0.102572118  0.0004040175\n",
              "ITSA4  0.000366736 -0.03075341 -0.002750955  0.024190560 -0.0526162707\n",
              "LIGT3  0.014370170 -0.02662268 -0.079665115 -0.089599199  0.1302544423\n",
              "PETR3  0.021166750  0.02419421 -0.110784208 -0.092895972 -0.0631682151\n",
              "PETR4  0.012387983  0.04152249 -0.107537287 -0.089090464 -0.0294225940\n",
              "SBSP3  0.097780279 -0.01789760 -0.080307608 -0.102003646  0.0621936793\n",
              "VIVT3  0.104156806  0.02444643 -0.063162078 -0.075272307  0.0429853049\n",
              "      CPLE6        ELET3       ELET6        EMBR3        GGBR4        \n",
              "ALPA4 -0.043473875  0.02636420  0.030921910  0.071188010  0.0299207594\n",
              "BBAS3 -0.017234178 -0.03933937 -0.034935768 -0.059446788  0.0410211287\n",
              "BBDC3 -0.073290535 -0.12510544 -0.131165380 -0.017672797 -0.1170821481\n",
              "BBDC4 -0.090914527 -0.11453720 -0.115813659 -0.008812128 -0.1025721180\n",
              "CMIG4  0.205848102  0.09824246  0.098922491 -0.034388643  0.0004040175\n",
              "CPLE6  0.567430330  0.13459968  0.146975401 -0.025014569 -0.0050167426\n",
              "ELET3  0.134599682  0.62072129  0.565262959 -0.062042219  0.0110511989\n",
              "ELET6  0.146975401  0.56526296  0.630432275 -0.024822930  0.0050900165\n",
              "EMBR3 -0.025014569 -0.06204222 -0.024822930  0.904569151  0.0462442477\n",
              "GGBR4 -0.005016743  0.01105120  0.005090017  0.046244248  0.6055602290\n",
              "ITSA4 -0.071722062 -0.06820522 -0.061786721  0.017585279 -0.0409601070\n",
              "LIGT3  0.109624763  0.09723299  0.081516824 -0.022998794  0.0853251799\n",
              "PETR3 -0.058751558 -0.01540637 -0.023483793 -0.028105728  0.0646213023\n",
              "PETR4 -0.063032406 -0.01753160 -0.029141164 -0.052760933  0.0852325560\n",
              "SBSP3  0.094786369  0.06405483  0.079206564  0.115361461  0.0872183890\n",
              "VIVT3  0.075102366 -0.01753904 -0.039947982  0.069620895  0.0665144693\n",
              "      ITSA4        LIGT3        PETR3        PETR4       SBSP3      \n",
              "ALPA4  0.000366736  0.014370170  0.021166750  0.01238798  0.09778028\n",
              "BBAS3 -0.030753414 -0.026622685  0.024194213  0.04152249 -0.01789760\n",
              "BBDC3 -0.002750955 -0.079665115 -0.110784208 -0.10753729 -0.08030761\n",
              "BBDC4  0.024190560 -0.089599199 -0.092895972 -0.08909046 -0.10200365\n",
              "CMIG4 -0.052616271  0.130254442 -0.063168215 -0.02942259  0.06219368\n",
              "CPLE6 -0.071722062  0.109624763 -0.058751558 -0.06303241  0.09478637\n",
              "ELET3 -0.068205218  0.097232993 -0.015406372 -0.01753160  0.06405483\n",
              "ELET6 -0.061786721  0.081516824 -0.023483793 -0.02914116  0.07920656\n",
              "EMBR3  0.017585279 -0.022998794 -0.028105728 -0.05276093  0.11536146\n",
              "GGBR4 -0.040960107  0.085325180  0.064621302  0.08523256  0.08721839\n",
              "ITSA4  0.168771578 -0.091546366 -0.097446538 -0.09948839 -0.03612694\n",
              "LIGT3 -0.091546366  0.725030758  0.006291955  0.01150577  0.11036283\n",
              "PETR3 -0.097446538  0.006291955  0.467563252  0.40437788 -0.02972640\n",
              "PETR4 -0.099488389  0.011505774  0.404377883  0.39538482 -0.03406456\n",
              "SBSP3 -0.036126942  0.110362832 -0.029726401 -0.03406456  0.70101253\n",
              "VIVT3 -0.022387628  0.144376572 -0.033999861 -0.02090917  0.07688500\n",
              "      VIVT3      \n",
              "ALPA4  0.10415681\n",
              "BBAS3  0.02444643\n",
              "BBDC3 -0.06316208\n",
              "BBDC4 -0.07527231\n",
              "CMIG4  0.04298530\n",
              "CPLE6  0.07510237\n",
              "ELET3 -0.01753904\n",
              "ELET6 -0.03994798\n",
              "EMBR3  0.06962089\n",
              "GGBR4  0.06651447\n",
              "ITSA4 -0.02238763\n",
              "LIGT3  0.14437657\n",
              "PETR3 -0.03399986\n",
              "PETR4 -0.02090917\n",
              "SBSP3  0.07688500\n",
              "VIVT3  0.86447519"
            ]
          },
          "metadata": {}
        }
      ]
    },
    {
      "cell_type": "markdown",
      "source": [
        "Mais detalhes dos outputs podem ser encontrados [aqui](https://m-clark.github.io/posts/2020-04-10-psych-explained/)"
      ],
      "metadata": {
        "id": "sUTpstIiruA5"
      }
    },
    {
      "cell_type": "markdown",
      "source": [
        "## Método do Factor Princial (PA)\n",
        "\n"
      ],
      "metadata": {
        "id": "Z9yZpN7-VR4v"
      }
    },
    {
      "cell_type": "markdown",
      "source": [
        "Por simplicidade, trabalharemos com a matriz de correlação mas o mesmo procedimento pode ser aplicado caso utilizemos a matriz de covariância.\n",
        "\n",
        "1. Suponha que conhecemos $\\boldsymbol{\\Psi}$, então $\\Lambda \\Lambda' = \\textbf{R} - \\boldsymbol{\\Psi}$\n",
        "2. Podemos aplicar a decomposição espectral em $\\textbf{R} - \\boldsymbol{\\Psi} = \\textbf{R}^{\\ast}$\n",
        "3. Então $\\textbf{R}^{\\ast} \\approx \\Lambda^{\\ast}_k \\Lambda^{\\ast \\prime}_k$ (consideramos apenas as $k$ primeiras componentes)\n",
        "4. Então, $\\boldsymbol{\\Psi} \\approx Diag\\{\\textbf{R}^{\\ast}  -  \\Lambda^{\\ast}_k \\Lambda^{\\ast \\prime}_k\\}$ \n",
        "5. Na prática, não conhecemos $\\boldsymbol{\\Psi}$ no passo 1, mas podemos, para um valor inicial, fazer 2--4 até alcançar convergência.\n",
        "\n",
        "> Existem vários métodos para o valor inicial de $\\boldsymbol{\\Psi}$. Um deles é fazer $\\psi_i = 1/r^{ii}$ ou $psi_i = 1/s^{ii}$ (dependendo se estamos utilizando a matriz de correlação ou matriz de covariância), em que $r^{ii}$ é o elemento i-éssimo da diagiona de $\\textbf{R}^{-1}$ e $s^{ii}$ é o elemento i-éssimo da diagiona de $\\textbf{S}^{-1}$\n"
      ],
      "metadata": {
        "id": "v15zLMm_V9OF"
      }
    }
  ]
}