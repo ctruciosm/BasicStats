{
  "nbformat": 4,
  "nbformat_minor": 0,
  "metadata": {
    "colab": {
      "provenance": [],
      "authorship_tag": "ABX9TyPhAOos3jaxdrZy3L9vZB3u",
      "include_colab_link": true
    },
    "kernelspec": {
      "name": "ir",
      "display_name": "R"
    },
    "language_info": {
      "name": "R"
    }
  },
  "cells": [
    {
      "cell_type": "markdown",
      "metadata": {
        "id": "view-in-github",
        "colab_type": "text"
      },
      "source": [
        "<a href=\"https://colab.research.google.com/github/ctruciosm/BasicStats/blob/main/AF.ipynb\" target=\"_parent\"><img src=\"https://colab.research.google.com/assets/colab-badge.svg\" alt=\"Open In Colab\"/></a>"
      ]
    },
    {
      "cell_type": "markdown",
      "source": [
        "# Análise Fatorial\n",
        "By Carlos Trucíos"
      ],
      "metadata": {
        "id": "-KPg2WjGLAhc"
      }
    },
    {
      "cell_type": "code",
      "source": [
        "install.packages(\"psych\")\n",
        "install.packages(\"mnt\")\n",
        "install.packages(\"POET\")"
      ],
      "metadata": {
        "id": "11DQHDnYh3xb"
      },
      "execution_count": null,
      "outputs": []
    },
    {
      "cell_type": "code",
      "source": [
        "library(psych)\n",
        "library(mnt)\n",
        "library(dplyr)\n",
        "library(POET)"
      ],
      "metadata": {
        "id": "2i0_fYHIh7jm"
      },
      "execution_count": 4,
      "outputs": []
    },
    {
      "cell_type": "markdown",
      "source": [
        "# 0. Dados\n",
        "\n",
        "Utilizaremos o [_data set_](https://raw.githubusercontent.com/ctruciosm/ctruciosm.github.io/master/datasets/monthly_data.csv) `monthly_data.csv` que contém os retornos mensais de 16 ações negociadas na bolsa e valores de São Paulo entre Janeiro 2000 até Fevereiro 2022."
      ],
      "metadata": {
        "id": "jkaTGYGBgAFz"
      }
    },
    {
      "cell_type": "code",
      "source": [
        "# Importar dados\n",
        "dados = read.csv(\"https://raw.githubusercontent.com/ctruciosm/ctruciosm.github.io/master/datasets/monthly_data.csv\")\n",
        "head(dados)\n",
        "dados = scale(as.matrix(dados), center = TRUE, scale = FALSE)"
      ],
      "metadata": {
        "colab": {
          "base_uri": "https://localhost:8080/",
          "height": 306
        },
        "id": "PZrKqnItj0_r",
        "outputId": "80ce1764-77fa-4d76-da49-ea0f950cdc21"
      },
      "execution_count": 5,
      "outputs": [
        {
          "output_type": "display_data",
          "data": {
            "text/html": [
              "<table class=\"dataframe\">\n",
              "<caption>A data.frame: 6 × 16</caption>\n",
              "<thead>\n",
              "\t<tr><th></th><th scope=col>ALPA4</th><th scope=col>BBAS3</th><th scope=col>BBDC3</th><th scope=col>BBDC4</th><th scope=col>CMIG4</th><th scope=col>CPLE6</th><th scope=col>ELET3</th><th scope=col>ELET6</th><th scope=col>EMBR3</th><th scope=col>GGBR4</th><th scope=col>ITSA4</th><th scope=col>LIGT3</th><th scope=col>PETR3</th><th scope=col>PETR4</th><th scope=col>SBSP3</th><th scope=col>VIVT3</th></tr>\n",
              "\t<tr><th></th><th scope=col>&lt;dbl&gt;</th><th scope=col>&lt;dbl&gt;</th><th scope=col>&lt;dbl&gt;</th><th scope=col>&lt;dbl&gt;</th><th scope=col>&lt;dbl&gt;</th><th scope=col>&lt;dbl&gt;</th><th scope=col>&lt;dbl&gt;</th><th scope=col>&lt;dbl&gt;</th><th scope=col>&lt;dbl&gt;</th><th scope=col>&lt;dbl&gt;</th><th scope=col>&lt;dbl&gt;</th><th scope=col>&lt;dbl&gt;</th><th scope=col>&lt;dbl&gt;</th><th scope=col>&lt;dbl&gt;</th><th scope=col>&lt;dbl&gt;</th><th scope=col>&lt;dbl&gt;</th></tr>\n",
              "</thead>\n",
              "<tbody>\n",
              "\t<tr><th scope=row>1</th><td>-6.35512370</td><td> -5.952382</td><td> -2.078679</td><td>  3.200547</td><td>-23.950618</td><td>-17.714287</td><td>-17.047656</td><td>-13.722833</td><td> -7.888889</td><td> 4.166667</td><td>-8.500541</td><td> 20.628142</td><td>-14.991126</td><td>-11.304351</td><td> -5.7048544</td><td> 33.243479</td></tr>\n",
              "\t<tr><th scope=row>2</th><td> 2.42718215</td><td> -5.696199</td><td>-10.708152</td><td>-12.924411</td><td> -5.487014</td><td> 12.500005</td><td> -4.392524</td><td> -7.173605</td><td>  1.745443</td><td>-1.600005</td><td>-3.529415</td><td>  1.641325</td><td> 26.466875</td><td> 12.745102</td><td>-12.2499986</td><td> 18.749998</td></tr>\n",
              "\t<tr><th scope=row>3</th><td> 9.95260583</td><td>-14.248766</td><td>  9.934533</td><td> 13.243936</td><td>  4.706286</td><td> -6.507126</td><td>  1.010101</td><td>  3.554871</td><td>  8.795633</td><td>-7.520324</td><td> 3.844540</td><td> -9.832372</td><td>  4.304947</td><td>  4.449614</td><td>  0.5697932</td><td>-15.444107</td></tr>\n",
              "\t<tr><th scope=row>4</th><td>-5.11890398</td><td> -4.610491</td><td> -6.916793</td><td> -8.119986</td><td> -7.685016</td><td> -9.084745</td><td>-13.870968</td><td>-11.044779</td><td>  6.145254</td><td>-4.175821</td><td>-8.823535</td><td> -5.299998</td><td> -9.090907</td><td> -8.877120</td><td> -3.3982805</td><td>-11.151319</td></tr>\n",
              "\t<tr><th scope=row>5</th><td>14.81339362</td><td> -4.999999</td><td> -4.789383</td><td> -6.572207</td><td>  2.181821</td><td>  9.619687</td><td>  8.913859</td><td>  3.691275</td><td>-13.789478</td><td>-4.862384</td><td>-3.870964</td><td>-12.642799</td><td>  1.249999</td><td> -2.580794</td><td>-21.9882677</td><td>  2.184377</td></tr>\n",
              "\t<tr><th scope=row>6</th><td> 0.01666724</td><td> 13.157897</td><td> 20.656147</td><td> 27.561080</td><td> 14.313816</td><td> 15.646263</td><td> 27.235216</td><td> 29.126219</td><td> 34.736059</td><td> 8.230900</td><td>17.650236</td><td> 12.631870</td><td> 30.814813</td><td> 30.071599</td><td> 10.5225306</td><td>-28.623187</td></tr>\n",
              "</tbody>\n",
              "</table>\n"
            ],
            "text/markdown": "\nA data.frame: 6 × 16\n\n| <!--/--> | ALPA4 &lt;dbl&gt; | BBAS3 &lt;dbl&gt; | BBDC3 &lt;dbl&gt; | BBDC4 &lt;dbl&gt; | CMIG4 &lt;dbl&gt; | CPLE6 &lt;dbl&gt; | ELET3 &lt;dbl&gt; | ELET6 &lt;dbl&gt; | EMBR3 &lt;dbl&gt; | GGBR4 &lt;dbl&gt; | ITSA4 &lt;dbl&gt; | LIGT3 &lt;dbl&gt; | PETR3 &lt;dbl&gt; | PETR4 &lt;dbl&gt; | SBSP3 &lt;dbl&gt; | VIVT3 &lt;dbl&gt; |\n|---|---|---|---|---|---|---|---|---|---|---|---|---|---|---|---|---|\n| 1 | -6.35512370 |  -5.952382 |  -2.078679 |   3.200547 | -23.950618 | -17.714287 | -17.047656 | -13.722833 |  -7.888889 |  4.166667 | -8.500541 |  20.628142 | -14.991126 | -11.304351 |  -5.7048544 |  33.243479 |\n| 2 |  2.42718215 |  -5.696199 | -10.708152 | -12.924411 |  -5.487014 |  12.500005 |  -4.392524 |  -7.173605 |   1.745443 | -1.600005 | -3.529415 |   1.641325 |  26.466875 |  12.745102 | -12.2499986 |  18.749998 |\n| 3 |  9.95260583 | -14.248766 |   9.934533 |  13.243936 |   4.706286 |  -6.507126 |   1.010101 |   3.554871 |   8.795633 | -7.520324 |  3.844540 |  -9.832372 |   4.304947 |   4.449614 |   0.5697932 | -15.444107 |\n| 4 | -5.11890398 |  -4.610491 |  -6.916793 |  -8.119986 |  -7.685016 |  -9.084745 | -13.870968 | -11.044779 |   6.145254 | -4.175821 | -8.823535 |  -5.299998 |  -9.090907 |  -8.877120 |  -3.3982805 | -11.151319 |\n| 5 | 14.81339362 |  -4.999999 |  -4.789383 |  -6.572207 |   2.181821 |   9.619687 |   8.913859 |   3.691275 | -13.789478 | -4.862384 | -3.870964 | -12.642799 |   1.249999 |  -2.580794 | -21.9882677 |   2.184377 |\n| 6 |  0.01666724 |  13.157897 |  20.656147 |  27.561080 |  14.313816 |  15.646263 |  27.235216 |  29.126219 |  34.736059 |  8.230900 | 17.650236 |  12.631870 |  30.814813 |  30.071599 |  10.5225306 | -28.623187 |\n\n",
            "text/latex": "A data.frame: 6 × 16\n\\begin{tabular}{r|llllllllllllllll}\n  & ALPA4 & BBAS3 & BBDC3 & BBDC4 & CMIG4 & CPLE6 & ELET3 & ELET6 & EMBR3 & GGBR4 & ITSA4 & LIGT3 & PETR3 & PETR4 & SBSP3 & VIVT3\\\\\n  & <dbl> & <dbl> & <dbl> & <dbl> & <dbl> & <dbl> & <dbl> & <dbl> & <dbl> & <dbl> & <dbl> & <dbl> & <dbl> & <dbl> & <dbl> & <dbl>\\\\\n\\hline\n\t1 & -6.35512370 &  -5.952382 &  -2.078679 &   3.200547 & -23.950618 & -17.714287 & -17.047656 & -13.722833 &  -7.888889 &  4.166667 & -8.500541 &  20.628142 & -14.991126 & -11.304351 &  -5.7048544 &  33.243479\\\\\n\t2 &  2.42718215 &  -5.696199 & -10.708152 & -12.924411 &  -5.487014 &  12.500005 &  -4.392524 &  -7.173605 &   1.745443 & -1.600005 & -3.529415 &   1.641325 &  26.466875 &  12.745102 & -12.2499986 &  18.749998\\\\\n\t3 &  9.95260583 & -14.248766 &   9.934533 &  13.243936 &   4.706286 &  -6.507126 &   1.010101 &   3.554871 &   8.795633 & -7.520324 &  3.844540 &  -9.832372 &   4.304947 &   4.449614 &   0.5697932 & -15.444107\\\\\n\t4 & -5.11890398 &  -4.610491 &  -6.916793 &  -8.119986 &  -7.685016 &  -9.084745 & -13.870968 & -11.044779 &   6.145254 & -4.175821 & -8.823535 &  -5.299998 &  -9.090907 &  -8.877120 &  -3.3982805 & -11.151319\\\\\n\t5 & 14.81339362 &  -4.999999 &  -4.789383 &  -6.572207 &   2.181821 &   9.619687 &   8.913859 &   3.691275 & -13.789478 & -4.862384 & -3.870964 & -12.642799 &   1.249999 &  -2.580794 & -21.9882677 &   2.184377\\\\\n\t6 &  0.01666724 &  13.157897 &  20.656147 &  27.561080 &  14.313816 &  15.646263 &  27.235216 &  29.126219 &  34.736059 &  8.230900 & 17.650236 &  12.631870 &  30.814813 &  30.071599 &  10.5225306 & -28.623187\\\\\n\\end{tabular}\n",
            "text/plain": [
              "  ALPA4       BBAS3      BBDC3      BBDC4      CMIG4      CPLE6      ELET3     \n",
              "1 -6.35512370  -5.952382  -2.078679   3.200547 -23.950618 -17.714287 -17.047656\n",
              "2  2.42718215  -5.696199 -10.708152 -12.924411  -5.487014  12.500005  -4.392524\n",
              "3  9.95260583 -14.248766   9.934533  13.243936   4.706286  -6.507126   1.010101\n",
              "4 -5.11890398  -4.610491  -6.916793  -8.119986  -7.685016  -9.084745 -13.870968\n",
              "5 14.81339362  -4.999999  -4.789383  -6.572207   2.181821   9.619687   8.913859\n",
              "6  0.01666724  13.157897  20.656147  27.561080  14.313816  15.646263  27.235216\n",
              "  ELET6      EMBR3      GGBR4     ITSA4     LIGT3      PETR3      PETR4     \n",
              "1 -13.722833  -7.888889  4.166667 -8.500541  20.628142 -14.991126 -11.304351\n",
              "2  -7.173605   1.745443 -1.600005 -3.529415   1.641325  26.466875  12.745102\n",
              "3   3.554871   8.795633 -7.520324  3.844540  -9.832372   4.304947   4.449614\n",
              "4 -11.044779   6.145254 -4.175821 -8.823535  -5.299998  -9.090907  -8.877120\n",
              "5   3.691275 -13.789478 -4.862384 -3.870964 -12.642799   1.249999  -2.580794\n",
              "6  29.126219  34.736059  8.230900 17.650236  12.631870  30.814813  30.071599\n",
              "  SBSP3       VIVT3     \n",
              "1  -5.7048544  33.243479\n",
              "2 -12.2499986  18.749998\n",
              "3   0.5697932 -15.444107\n",
              "4  -3.3982805 -11.151319\n",
              "5 -21.9882677   2.184377\n",
              "6  10.5225306 -28.623187"
            ]
          },
          "metadata": {}
        }
      ]
    },
    {
      "cell_type": "code",
      "source": [
        "test.BHEP(dados, MC.rep = 1000)"
      ],
      "metadata": {
        "colab": {
          "base_uri": "https://localhost:8080/",
          "height": 237
        },
        "id": "ItS35dR3g7h4",
        "outputId": "b70eee32-67fb-41bc-fe54-12ab266eef3c"
      },
      "execution_count": 6,
      "outputs": [
        {
          "output_type": "stream",
          "name": "stdout",
          "text": [
            "  |======================================================================| 100%\n"
          ]
        },
        {
          "output_type": "display_data",
          "data": {
            "text/plain": [
              "\n",
              "------------------------------------------------------------------------- \n",
              "\n",
              "         Test for multivariate normality with the BHEP  teststatistic.\n",
              "\n",
              "tuning parameter = 1  \n",
              "BHEP  =  1.10135  \n",
              "critical value =   1.000175  (via monte carlo) \n",
              "\n",
              "\n",
              "------------------------------------------------------------------------- "
            ]
          },
          "metadata": {}
        }
      ]
    },
    {
      "cell_type": "markdown",
      "source": [
        "## 1. É pertinente aplicar AF?\n",
        "\n",
        "- Teste de esfericidade de Barlett: $$H_0: \\textbf{R} = \\textbf{I} \\quad vs. \\quad H_1: \\textbf{R} \\neq = \\textbf{I}$$ \n",
        "\n",
        "Estaística de teste: $-[n - 1 -(2p+5)/6] \\log |\\textbf{R}| \\sim \\chi^2_{(p^2-p)/2}$\n",
        "\n",
        "- Medida de adequação amostral de Kaisser, Meyer e Olkin (**KMO**): \n",
        "\n",
        "\n",
        "$$KMO = MSA = \\dfrac{\\displaystyle \\sum \\sum_{h \\neq j} r_{hj}^2}{\\displaystyle \\sum \\sum_{h \\neq j} r_{hj}^2 + \\displaystyle \\sum \\sum_{h \\neq j} a_{hj}^2},$$\n",
        "em que $r_{hj}$ é o coeficiente de correlação entre $X_h$ e $X_j$ e $a_{hj}$ é o coeficiente de correlação parcial entre as variáveis. \n",
        "\n",
        "Se o mdelo fatorial pode ser aplicado, $a_{hj}$ será zero ou muito pequeno (pois \"retirar\"o efeito da outra variáve equivale a retirar o efeito dos fatores comuns), fazendo com que KMO seja próximo de 1 (valores inferiores a 0.5 não são desejáveis).\n",
        "\n",
        "Baseado no KMO, pode també ser calculado a medida de adequação amostral para cada uma das variáveis.\n",
        "\n",
        "$$MSA_j = \\dfrac{\\displaystyle \\sum_{h \\neq j} r_{hj}^2}{\\displaystyle \\sum_{h \\neq j} r_{hj}^2 + \\displaystyle \\sum_{h \\neq j} a_{hj}^2},$$\n"
      ],
      "metadata": {
        "id": "Vr3Ipg6hhI4t"
      }
    },
    {
      "cell_type": "code",
      "execution_count": 7,
      "metadata": {
        "id": "I0Jp9jdJK-3N",
        "colab": {
          "base_uri": "https://localhost:8080/",
          "height": 149
        },
        "outputId": "9e45cd57-4dfe-41f4-c70d-1bd53d8991b2"
      },
      "outputs": [
        {
          "output_type": "display_data",
          "data": {
            "text/html": [
              "<dl>\n",
              "\t<dt>$chisq</dt>\n",
              "\t\t<dd>3614.4275640144</dd>\n",
              "\t<dt>$p.value</dt>\n",
              "\t\t<dd>0</dd>\n",
              "\t<dt>$df</dt>\n",
              "\t\t<dd>120</dd>\n",
              "</dl>\n"
            ],
            "text/markdown": "$chisq\n:   3614.4275640144\n$p.value\n:   0\n$df\n:   120\n\n\n",
            "text/latex": "\\begin{description}\n\\item[\\$chisq] 3614.4275640144\n\\item[\\$p.value] 0\n\\item[\\$df] 120\n\\end{description}\n",
            "text/plain": [
              "$chisq\n",
              "[1] 3614.428\n",
              "\n",
              "$p.value\n",
              "[1] 0\n",
              "\n",
              "$df\n",
              "[1] 120\n"
            ]
          },
          "metadata": {}
        }
      ],
      "source": [
        "cortest.bartlett(cor(dados), n = nrow(dados), diag = TRUE) # Requer normalidade"
      ]
    },
    {
      "cell_type": "code",
      "source": [
        "KMO(dados)"
      ],
      "metadata": {
        "colab": {
          "base_uri": "https://localhost:8080/",
          "height": 164
        },
        "id": "r1mup9VEg0sO",
        "outputId": "d63f0337-5c25-490c-dab9-3fbdeecf0e03"
      },
      "execution_count": 8,
      "outputs": [
        {
          "output_type": "display_data",
          "data": {
            "text/plain": [
              "Kaiser-Meyer-Olkin factor adequacy\n",
              "Call: KMO(r = dados)\n",
              "Overall MSA =  0.88\n",
              "MSA for each item = \n",
              "ALPA4 BBAS3 BBDC3 BBDC4 CMIG4 CPLE6 ELET3 ELET6 EMBR3 GGBR4 ITSA4 LIGT3 PETR3 \n",
              " 0.95  0.96  0.87  0.84  0.92  0.93  0.80  0.79  0.87  0.95  0.93  0.95  0.78 \n",
              "PETR4 SBSP3 VIVT3 \n",
              " 0.79  0.96  0.92 "
            ]
          },
          "metadata": {}
        }
      ]
    },
    {
      "cell_type": "markdown",
      "source": [
        "## 2. Aplicar AF\n",
        "\n",
        "- Covariância ou Correlação? (seguir os mesmos critérios do ACP)\n",
        "- Quantos fatores?\n",
        "- Qual método de estimação utilizar?\n",
        "- Qual método para extrair os fatores?"
      ],
      "metadata": {
        "id": "8rWAVweSeV6f"
      }
    },
    {
      "cell_type": "code",
      "source": [
        "apply(dados, 2, sd)"
      ],
      "metadata": {
        "colab": {
          "base_uri": "https://localhost:8080/",
          "height": 69
        },
        "id": "Ij7Y1IQ_jNii",
        "outputId": "e0efd7a5-c0f5-43b9-da77-3a012f173fdf"
      },
      "execution_count": 9,
      "outputs": [
        {
          "output_type": "display_data",
          "data": {
            "text/html": [
              "<style>\n",
              ".dl-inline {width: auto; margin:0; padding: 0}\n",
              ".dl-inline>dt, .dl-inline>dd {float: none; width: auto; display: inline-block}\n",
              ".dl-inline>dt::after {content: \":\\0020\"; padding-right: .5ex}\n",
              ".dl-inline>dt:not(:first-of-type) {padding-left: .5ex}\n",
              "</style><dl class=dl-inline><dt>ALPA4</dt><dd>10.9710528818897</dd><dt>BBAS3</dt><dd>12.0297362637691</dd><dt>BBDC3</dt><dd>9.63448558988981</dd><dt>BBDC4</dt><dd>9.78037050694191</dd><dt>CMIG4</dt><dd>10.613702601692</dd><dt>CPLE6</dt><dd>10.0006332802493</dd><dt>ELET3</dt><dd>14.6031546068661</dd><dt>ELET6</dt><dd>13.0464525171005</dd><dt>EMBR3</dt><dd>11.6411150500298</dd><dt>GGBR4</dt><dd>13.1103031447783</dd><dt>ITSA4</dt><dd>8.63158678771209</dd><dt>LIGT3</dt><dd>13.4877356194331</dd><dt>PETR3</dt><dd>12.0624893236609</dd><dt>PETR4</dt><dd>11.9962386116459</dd><dt>SBSP3</dt><dd>10.5176182557743</dd><dt>VIVT3</dt><dd>7.67334914333402</dd></dl>\n"
            ],
            "text/markdown": "ALPA4\n:   10.9710528818897BBAS3\n:   12.0297362637691BBDC3\n:   9.63448558988981BBDC4\n:   9.78037050694191CMIG4\n:   10.613702601692CPLE6\n:   10.0006332802493ELET3\n:   14.6031546068661ELET6\n:   13.0464525171005EMBR3\n:   11.6411150500298GGBR4\n:   13.1103031447783ITSA4\n:   8.63158678771209LIGT3\n:   13.4877356194331PETR3\n:   12.0624893236609PETR4\n:   11.9962386116459SBSP3\n:   10.5176182557743VIVT3\n:   7.67334914333402\n\n",
            "text/latex": "\\begin{description*}\n\\item[ALPA4] 10.9710528818897\n\\item[BBAS3] 12.0297362637691\n\\item[BBDC3] 9.63448558988981\n\\item[BBDC4] 9.78037050694191\n\\item[CMIG4] 10.613702601692\n\\item[CPLE6] 10.0006332802493\n\\item[ELET3] 14.6031546068661\n\\item[ELET6] 13.0464525171005\n\\item[EMBR3] 11.6411150500298\n\\item[GGBR4] 13.1103031447783\n\\item[ITSA4] 8.63158678771209\n\\item[LIGT3] 13.4877356194331\n\\item[PETR3] 12.0624893236609\n\\item[PETR4] 11.9962386116459\n\\item[SBSP3] 10.5176182557743\n\\item[VIVT3] 7.67334914333402\n\\end{description*}\n",
            "text/plain": [
              "    ALPA4     BBAS3     BBDC3     BBDC4     CMIG4     CPLE6     ELET3     ELET6 \n",
              "10.971053 12.029736  9.634486  9.780371 10.613703 10.000633 14.603155 13.046453 \n",
              "    EMBR3     GGBR4     ITSA4     LIGT3     PETR3     PETR4     SBSP3     VIVT3 \n",
              "11.641115 13.110303  8.631587 13.487736 12.062489 11.996239 10.517618  7.673349 "
            ]
          },
          "metadata": {}
        }
      ]
    },
    {
      "cell_type": "code",
      "source": [
        "POETKhat(t(dados))"
      ],
      "metadata": {
        "colab": {
          "base_uri": "https://localhost:8080/",
          "height": 281
        },
        "id": "sZSYSxhQkk2_",
        "outputId": "382cc60b-b262-43eb-b25f-c50eafcfee9c"
      },
      "execution_count": 60,
      "outputs": [
        {
          "output_type": "display_data",
          "data": {
            "text/html": [
              "<dl>\n",
              "\t<dt>$K1HL</dt>\n",
              "\t\t<dd>1</dd>\n",
              "\t<dt>$K2HL</dt>\n",
              "\t\t<dd>1</dd>\n",
              "\t<dt>$K1BN</dt>\n",
              "\t\t<dd>1</dd>\n",
              "\t<dt>$K2BN</dt>\n",
              "\t\t<dd>1</dd>\n",
              "\t<dt>$IC</dt>\n",
              "\t\t<dd><table class=\"dataframe\">\n",
              "<caption>A matrix: 2 × 10 of type dbl</caption>\n",
              "<tbody>\n",
              "\t<tr><td>5.036303</td><td>5.215364</td><td>5.394690</td><td>5.574049</td><td>5.753488</td><td>5.932980</td><td>6.112495</td><td>6.292081</td><td>6.471704</td><td>6.651370</td></tr>\n",
              "\t<tr><td>5.040173</td><td>5.223104</td><td>5.406301</td><td>5.589530</td><td>5.772840</td><td>5.956201</td><td>6.139586</td><td>6.323043</td><td>6.506536</td><td>6.690072</td></tr>\n",
              "</tbody>\n",
              "</table>\n",
              "</dd>\n",
              "</dl>\n"
            ],
            "text/markdown": "$K1HL\n:   1\n$K2HL\n:   1\n$K1BN\n:   1\n$K2BN\n:   1\n$IC\n:   \nA matrix: 2 × 10 of type dbl\n\n| 5.036303 | 5.215364 | 5.394690 | 5.574049 | 5.753488 | 5.932980 | 6.112495 | 6.292081 | 6.471704 | 6.651370 |\n| 5.040173 | 5.223104 | 5.406301 | 5.589530 | 5.772840 | 5.956201 | 6.139586 | 6.323043 | 6.506536 | 6.690072 |\n\n\n\n\n",
            "text/latex": "\\begin{description}\n\\item[\\$K1HL] 1\n\\item[\\$K2HL] 1\n\\item[\\$K1BN] 1\n\\item[\\$K2BN] 1\n\\item[\\$IC] A matrix: 2 × 10 of type dbl\n\\begin{tabular}{llllllllll}\n\t 5.036303 & 5.215364 & 5.394690 & 5.574049 & 5.753488 & 5.932980 & 6.112495 & 6.292081 & 6.471704 & 6.651370\\\\\n\t 5.040173 & 5.223104 & 5.406301 & 5.589530 & 5.772840 & 5.956201 & 6.139586 & 6.323043 & 6.506536 & 6.690072\\\\\n\\end{tabular}\n\n\\end{description}\n",
            "text/plain": [
              "$K1HL\n",
              "[1] 1\n",
              "\n",
              "$K2HL\n",
              "[1] 1\n",
              "\n",
              "$K1BN\n",
              "[1] 1\n",
              "\n",
              "$K2BN\n",
              "[1] 1\n",
              "\n",
              "$IC\n",
              "         [,1]     [,2]     [,3]     [,4]     [,5]     [,6]     [,7]     [,8]\n",
              "[1,] 5.036303 5.215364 5.394690 5.574049 5.753488 5.932980 6.112495 6.292081\n",
              "[2,] 5.040173 5.223104 5.406301 5.589530 5.772840 5.956201 6.139586 6.323043\n",
              "         [,9]    [,10]\n",
              "[1,] 6.471704 6.651370\n",
              "[2,] 6.506536 6.690072\n"
            ]
          },
          "metadata": {}
        }
      ]
    },
    {
      "cell_type": "markdown",
      "source": [
        "Segundo o visto na aula, a matriz de cargas fatoriais e os fatores são obtidos da seguinte forma:\n",
        "\n",
        "$$\\hat{\\textbf{F}} = \\textbf{x} \\textbf{P}_1\\textbf{D}_1^{-1/2} \\quad e \\quad  \\hat{\\Lambda} = \\textbf{P}_1 \\textbf{D}_1^{1/2}$$\n"
      ],
      "metadata": {
        "id": "mVfi1XD3v_-3"
      }
    },
    {
      "cell_type": "code",
      "source": [
        "# Manual\n",
        "dados = scale(dados, scale = TRUE)\n",
        "eigen_aux <- eigen(cor(dados))\n",
        "P <- eigen_aux$vectors       \n",
        "D <- diag(eigen_aux$values) \n",
        "F_hat <- dados %*% P[,1] * 1/sqrt(D[1, 1])\n",
        "Lambda_hat <- P[, 1] * sqrt(D[1, 1])"
      ],
      "metadata": {
        "id": "vT3WKQoswatq"
      },
      "execution_count": 10,
      "outputs": []
    },
    {
      "cell_type": "code",
      "source": [
        "modelo_af_pca = principal(dados, nfactors = 1, rotate = \"none\", scores = TRUE)"
      ],
      "metadata": {
        "id": "RNwvreeDk5jG"
      },
      "execution_count": 27,
      "outputs": []
    },
    {
      "cell_type": "code",
      "source": [
        "# As cargas fatoriais feitas na mao e com a implementação batem?\n",
        "cbind(Lambda_hat, modelo_af_pca$loadings)"
      ],
      "metadata": {
        "colab": {
          "base_uri": "https://localhost:8080/",
          "height": 569
        },
        "id": "xYA7YM7d2ZBE",
        "outputId": "31a4b5c1-49af-44c5-81fc-333f8b9e8924"
      },
      "execution_count": 28,
      "outputs": [
        {
          "output_type": "display_data",
          "data": {
            "text/html": [
              "<table class=\"dataframe\">\n",
              "<caption>A matrix: 16 × 2 of type dbl</caption>\n",
              "<thead>\n",
              "\t<tr><th></th><th scope=col>Lambda_hat</th><th scope=col>PC1</th></tr>\n",
              "</thead>\n",
              "<tbody>\n",
              "\t<tr><th scope=row>ALPA4</th><td>-0.4723331</td><td>0.4723331</td></tr>\n",
              "\t<tr><th scope=row>BBAS3</th><td>-0.8230853</td><td>0.8230853</td></tr>\n",
              "\t<tr><th scope=row>BBDC3</th><td>-0.8025489</td><td>0.8025489</td></tr>\n",
              "\t<tr><th scope=row>BBDC4</th><td>-0.8353218</td><td>0.8353218</td></tr>\n",
              "\t<tr><th scope=row>CMIG4</th><td>-0.7525191</td><td>0.7525191</td></tr>\n",
              "\t<tr><th scope=row>CPLE6</th><td>-0.7153460</td><td>0.7153460</td></tr>\n",
              "\t<tr><th scope=row>ELET3</th><td>-0.7002974</td><td>0.7002974</td></tr>\n",
              "\t<tr><th scope=row>ELET6</th><td>-0.6931126</td><td>0.6931126</td></tr>\n",
              "\t<tr><th scope=row>EMBR3</th><td>-0.3303562</td><td>0.3303562</td></tr>\n",
              "\t<tr><th scope=row>GGBR4</th><td>-0.6789408</td><td>0.6789408</td></tr>\n",
              "\t<tr><th scope=row>ITSA4</th><td>-0.8482029</td><td>0.8482029</td></tr>\n",
              "\t<tr><th scope=row>LIGT3</th><td>-0.6013978</td><td>0.6013978</td></tr>\n",
              "\t<tr><th scope=row>PETR3</th><td>-0.7557303</td><td>0.7557303</td></tr>\n",
              "\t<tr><th scope=row>PETR4</th><td>-0.8008218</td><td>0.8008218</td></tr>\n",
              "\t<tr><th scope=row>SBSP3</th><td>-0.6160960</td><td>0.6160960</td></tr>\n",
              "\t<tr><th scope=row>VIVT3</th><td>-0.4246854</td><td>0.4246854</td></tr>\n",
              "</tbody>\n",
              "</table>\n"
            ],
            "text/markdown": "\nA matrix: 16 × 2 of type dbl\n\n| <!--/--> | Lambda_hat | PC1 |\n|---|---|---|\n| ALPA4 | -0.4723331 | 0.4723331 |\n| BBAS3 | -0.8230853 | 0.8230853 |\n| BBDC3 | -0.8025489 | 0.8025489 |\n| BBDC4 | -0.8353218 | 0.8353218 |\n| CMIG4 | -0.7525191 | 0.7525191 |\n| CPLE6 | -0.7153460 | 0.7153460 |\n| ELET3 | -0.7002974 | 0.7002974 |\n| ELET6 | -0.6931126 | 0.6931126 |\n| EMBR3 | -0.3303562 | 0.3303562 |\n| GGBR4 | -0.6789408 | 0.6789408 |\n| ITSA4 | -0.8482029 | 0.8482029 |\n| LIGT3 | -0.6013978 | 0.6013978 |\n| PETR3 | -0.7557303 | 0.7557303 |\n| PETR4 | -0.8008218 | 0.8008218 |\n| SBSP3 | -0.6160960 | 0.6160960 |\n| VIVT3 | -0.4246854 | 0.4246854 |\n\n",
            "text/latex": "A matrix: 16 × 2 of type dbl\n\\begin{tabular}{r|ll}\n  & Lambda\\_hat & PC1\\\\\n\\hline\n\tALPA4 & -0.4723331 & 0.4723331\\\\\n\tBBAS3 & -0.8230853 & 0.8230853\\\\\n\tBBDC3 & -0.8025489 & 0.8025489\\\\\n\tBBDC4 & -0.8353218 & 0.8353218\\\\\n\tCMIG4 & -0.7525191 & 0.7525191\\\\\n\tCPLE6 & -0.7153460 & 0.7153460\\\\\n\tELET3 & -0.7002974 & 0.7002974\\\\\n\tELET6 & -0.6931126 & 0.6931126\\\\\n\tEMBR3 & -0.3303562 & 0.3303562\\\\\n\tGGBR4 & -0.6789408 & 0.6789408\\\\\n\tITSA4 & -0.8482029 & 0.8482029\\\\\n\tLIGT3 & -0.6013978 & 0.6013978\\\\\n\tPETR3 & -0.7557303 & 0.7557303\\\\\n\tPETR4 & -0.8008218 & 0.8008218\\\\\n\tSBSP3 & -0.6160960 & 0.6160960\\\\\n\tVIVT3 & -0.4246854 & 0.4246854\\\\\n\\end{tabular}\n",
            "text/plain": [
              "      Lambda_hat PC1      \n",
              "ALPA4 -0.4723331 0.4723331\n",
              "BBAS3 -0.8230853 0.8230853\n",
              "BBDC3 -0.8025489 0.8025489\n",
              "BBDC4 -0.8353218 0.8353218\n",
              "CMIG4 -0.7525191 0.7525191\n",
              "CPLE6 -0.7153460 0.7153460\n",
              "ELET3 -0.7002974 0.7002974\n",
              "ELET6 -0.6931126 0.6931126\n",
              "EMBR3 -0.3303562 0.3303562\n",
              "GGBR4 -0.6789408 0.6789408\n",
              "ITSA4 -0.8482029 0.8482029\n",
              "LIGT3 -0.6013978 0.6013978\n",
              "PETR3 -0.7557303 0.7557303\n",
              "PETR4 -0.8008218 0.8008218\n",
              "SBSP3 -0.6160960 0.6160960\n",
              "VIVT3 -0.4246854 0.4246854"
            ]
          },
          "metadata": {}
        }
      ]
    },
    {
      "cell_type": "code",
      "source": [
        "# Os fatores (scores) feitos na mão e com a implementação batem?\n",
        "head(cbind(F_hat, modelo_af_pca$scores))"
      ],
      "metadata": {
        "colab": {
          "base_uri": "https://localhost:8080/",
          "height": 255
        },
        "id": "SFyDRzGhvzvl",
        "outputId": "bf034836-8b47-4447-aee2-a6ded23838c3"
      },
      "execution_count": 29,
      "outputs": [
        {
          "output_type": "display_data",
          "data": {
            "text/html": [
              "<table class=\"dataframe\">\n",
              "<caption>A matrix: 6 × 2 of type dbl</caption>\n",
              "<thead>\n",
              "\t<tr><th></th><th scope=col></th><th scope=col>PC1</th></tr>\n",
              "</thead>\n",
              "<tbody>\n",
              "\t<tr><th scope=row>1</th><td> 0.89050095</td><td>-0.89050095</td></tr>\n",
              "\t<tr><th scope=row>2</th><td> 0.19590467</td><td>-0.19590467</td></tr>\n",
              "\t<tr><th scope=row>3</th><td> 0.07818002</td><td>-0.07818002</td></tr>\n",
              "\t<tr><th scope=row>4</th><td> 1.17197970</td><td>-1.17197970</td></tr>\n",
              "\t<tr><th scope=row>5</th><td> 0.48120457</td><td>-0.48120457</td></tr>\n",
              "\t<tr><th scope=row>6</th><td>-1.94134826</td><td> 1.94134826</td></tr>\n",
              "</tbody>\n",
              "</table>\n"
            ],
            "text/markdown": "\nA matrix: 6 × 2 of type dbl\n\n| <!--/--> | <!----> | PC1 |\n|---|---|---|\n| 1 |  0.89050095 | -0.89050095 |\n| 2 |  0.19590467 | -0.19590467 |\n| 3 |  0.07818002 | -0.07818002 |\n| 4 |  1.17197970 | -1.17197970 |\n| 5 |  0.48120457 | -0.48120457 |\n| 6 | -1.94134826 |  1.94134826 |\n\n",
            "text/latex": "A matrix: 6 × 2 of type dbl\n\\begin{tabular}{r|ll}\n  &  & PC1\\\\\n\\hline\n\t1 &  0.89050095 & -0.89050095\\\\\n\t2 &  0.19590467 & -0.19590467\\\\\n\t3 &  0.07818002 & -0.07818002\\\\\n\t4 &  1.17197970 & -1.17197970\\\\\n\t5 &  0.48120457 & -0.48120457\\\\\n\t6 & -1.94134826 &  1.94134826\\\\\n\\end{tabular}\n",
            "text/plain": [
              "              PC1        \n",
              "1  0.89050095 -0.89050095\n",
              "2  0.19590467 -0.19590467\n",
              "3  0.07818002 -0.07818002\n",
              "4  1.17197970 -1.17197970\n",
              "5  0.48120457 -0.48120457\n",
              "6 -1.94134826  1.94134826"
            ]
          },
          "metadata": {}
        }
      ]
    },
    {
      "cell_type": "code",
      "source": [
        "# Rotação\n",
        "## Como temos k = 1, não faz sentido fazermos rotação, mas para ilustrar, faremos k = 2\n",
        "modelo_af_pca_sem_rotar = principal(dados, nfactors = 2, scores = TRUE, rotate = \"none\")\n",
        "modelo_af_pca_varimax = principal(dados, nfactors = 2, scores = TRUE, rotate = 'varimax')"
      ],
      "metadata": {
        "id": "dH97k2g2n_mz"
      },
      "execution_count": 31,
      "outputs": []
    },
    {
      "cell_type": "code",
      "source": [
        "modelo_af_pca_sem_rotar$loadings"
      ],
      "metadata": {
        "colab": {
          "base_uri": "https://localhost:8080/",
          "height": 458
        },
        "id": "fjP_wQI7pIxS",
        "outputId": "3849ebc6-5458-475c-91dc-8f3e8a71bd40"
      },
      "execution_count": 32,
      "outputs": [
        {
          "output_type": "display_data",
          "data": {
            "text/plain": [
              "\n",
              "Loadings:\n",
              "      PC1    PC2   \n",
              "ALPA4  0.472       \n",
              "BBAS3  0.823 -0.179\n",
              "BBDC3  0.803 -0.308\n",
              "BBDC4  0.835 -0.307\n",
              "CMIG4  0.753  0.209\n",
              "CPLE6  0.715  0.290\n",
              "ELET3  0.700  0.579\n",
              "ELET6  0.693  0.584\n",
              "EMBR3  0.330 -0.209\n",
              "GGBR4  0.679       \n",
              "ITSA4  0.848 -0.229\n",
              "LIGT3  0.601  0.233\n",
              "PETR3  0.756 -0.257\n",
              "PETR4  0.801 -0.250\n",
              "SBSP3  0.616  0.136\n",
              "VIVT3  0.425       \n",
              "\n",
              "                 PC1   PC2\n",
              "SS loadings    7.715 1.335\n",
              "Proportion Var 0.482 0.083\n",
              "Cumulative Var 0.482 0.566"
            ]
          },
          "metadata": {}
        }
      ]
    },
    {
      "cell_type": "code",
      "source": [
        "modelo_af_pca_varimax$loading"
      ],
      "metadata": {
        "colab": {
          "base_uri": "https://localhost:8080/",
          "height": 458
        },
        "id": "t9-9ETW2pK5D",
        "outputId": "c9c68243-84e1-491e-c852-b62527c516d0"
      },
      "execution_count": 36,
      "outputs": [
        {
          "output_type": "display_data",
          "data": {
            "text/plain": [
              "\n",
              "Loadings:\n",
              "      RC1   RC2  \n",
              "ALPA4 0.402 0.254\n",
              "BBAS3 0.750 0.384\n",
              "BBDC3 0.815 0.272\n",
              "BBDC4 0.841 0.293\n",
              "CMIG4 0.449 0.639\n",
              "CPLE6 0.369 0.678\n",
              "ELET3 0.174 0.892\n",
              "ELET6 0.165 0.892\n",
              "EMBR3 0.388      \n",
              "GGBR4 0.582 0.361\n",
              "ITSA4 0.801 0.361\n",
              "LIGT3 0.317 0.562\n",
              "PETR3 0.747 0.281\n",
              "PETR4 0.777 0.315\n",
              "SBSP3 0.390 0.496\n",
              "VIVT3 0.330 0.267\n",
              "\n",
              "                 RC1   RC2\n",
              "SS loadings    5.145 3.904\n",
              "Proportion Var 0.322 0.244\n",
              "Cumulative Var 0.322 0.566"
            ]
          },
          "metadata": {}
        }
      ]
    },
    {
      "cell_type": "code",
      "source": [
        "# Outros métodos de estimar as cargas/fatores\n",
        "modelo_af_fp = fa(dados, nfactors = 1, fm = \"pa\")\n",
        "modelo_af_mv = fa(dados, nfactors = 1, fm = \"ml\")"
      ],
      "metadata": {
        "id": "FECtv0hi3ckB"
      },
      "execution_count": 37,
      "outputs": []
    },
    {
      "cell_type": "code",
      "source": [
        "cbind(modelo_af_pca$loadings, modelo_af_fp$loadings, modelo_af_mv$loading)"
      ],
      "metadata": {
        "colab": {
          "base_uri": "https://localhost:8080/",
          "height": 569
        },
        "id": "eAfie7Im3phG",
        "outputId": "00a4decd-8a2a-43a5-9371-3a08aea1af68"
      },
      "execution_count": 38,
      "outputs": [
        {
          "output_type": "display_data",
          "data": {
            "text/html": [
              "<table class=\"dataframe\">\n",
              "<caption>A matrix: 16 × 3 of type dbl</caption>\n",
              "<thead>\n",
              "\t<tr><th></th><th scope=col>PC1</th><th scope=col>PA1</th><th scope=col>ML1</th></tr>\n",
              "</thead>\n",
              "<tbody>\n",
              "\t<tr><th scope=row>ALPA4</th><td>0.4723331</td><td>0.4356876</td><td>0.4161115</td></tr>\n",
              "\t<tr><th scope=row>BBAS3</th><td>0.8230853</td><td>0.8133646</td><td>0.8168817</td></tr>\n",
              "\t<tr><th scope=row>BBDC3</th><td>0.8025489</td><td>0.7903095</td><td>0.8712896</td></tr>\n",
              "\t<tr><th scope=row>BBDC4</th><td>0.8353218</td><td>0.8295515</td><td>0.9040527</td></tr>\n",
              "\t<tr><th scope=row>CMIG4</th><td>0.7525191</td><td>0.7289212</td><td>0.6887567</td></tr>\n",
              "\t<tr><th scope=row>CPLE6</th><td>0.7153460</td><td>0.6870637</td><td>0.6428744</td></tr>\n",
              "\t<tr><th scope=row>ELET3</th><td>0.7002974</td><td>0.6699717</td><td>0.6019735</td></tr>\n",
              "\t<tr><th scope=row>ELET6</th><td>0.6931126</td><td>0.6621171</td><td>0.5942171</td></tr>\n",
              "\t<tr><th scope=row>EMBR3</th><td>0.3303562</td><td>0.3004060</td><td>0.3019552</td></tr>\n",
              "\t<tr><th scope=row>GGBR4</th><td>0.6789408</td><td>0.6476274</td><td>0.6138870</td></tr>\n",
              "\t<tr><th scope=row>ITSA4</th><td>0.8482029</td><td>0.8441793</td><td>0.8911654</td></tr>\n",
              "\t<tr><th scope=row>LIGT3</th><td>0.6013978</td><td>0.5647133</td><td>0.5125547</td></tr>\n",
              "\t<tr><th scope=row>PETR3</th><td>0.7557303</td><td>0.7345761</td><td>0.7132342</td></tr>\n",
              "\t<tr><th scope=row>PETR4</th><td>0.8008218</td><td>0.7865146</td><td>0.7600421</td></tr>\n",
              "\t<tr><th scope=row>SBSP3</th><td>0.6160960</td><td>0.5797084</td><td>0.5344716</td></tr>\n",
              "\t<tr><th scope=row>VIVT3</th><td>0.4246854</td><td>0.3890761</td><td>0.3598384</td></tr>\n",
              "</tbody>\n",
              "</table>\n"
            ],
            "text/markdown": "\nA matrix: 16 × 3 of type dbl\n\n| <!--/--> | PC1 | PA1 | ML1 |\n|---|---|---|---|\n| ALPA4 | 0.4723331 | 0.4356876 | 0.4161115 |\n| BBAS3 | 0.8230853 | 0.8133646 | 0.8168817 |\n| BBDC3 | 0.8025489 | 0.7903095 | 0.8712896 |\n| BBDC4 | 0.8353218 | 0.8295515 | 0.9040527 |\n| CMIG4 | 0.7525191 | 0.7289212 | 0.6887567 |\n| CPLE6 | 0.7153460 | 0.6870637 | 0.6428744 |\n| ELET3 | 0.7002974 | 0.6699717 | 0.6019735 |\n| ELET6 | 0.6931126 | 0.6621171 | 0.5942171 |\n| EMBR3 | 0.3303562 | 0.3004060 | 0.3019552 |\n| GGBR4 | 0.6789408 | 0.6476274 | 0.6138870 |\n| ITSA4 | 0.8482029 | 0.8441793 | 0.8911654 |\n| LIGT3 | 0.6013978 | 0.5647133 | 0.5125547 |\n| PETR3 | 0.7557303 | 0.7345761 | 0.7132342 |\n| PETR4 | 0.8008218 | 0.7865146 | 0.7600421 |\n| SBSP3 | 0.6160960 | 0.5797084 | 0.5344716 |\n| VIVT3 | 0.4246854 | 0.3890761 | 0.3598384 |\n\n",
            "text/latex": "A matrix: 16 × 3 of type dbl\n\\begin{tabular}{r|lll}\n  & PC1 & PA1 & ML1\\\\\n\\hline\n\tALPA4 & 0.4723331 & 0.4356876 & 0.4161115\\\\\n\tBBAS3 & 0.8230853 & 0.8133646 & 0.8168817\\\\\n\tBBDC3 & 0.8025489 & 0.7903095 & 0.8712896\\\\\n\tBBDC4 & 0.8353218 & 0.8295515 & 0.9040527\\\\\n\tCMIG4 & 0.7525191 & 0.7289212 & 0.6887567\\\\\n\tCPLE6 & 0.7153460 & 0.6870637 & 0.6428744\\\\\n\tELET3 & 0.7002974 & 0.6699717 & 0.6019735\\\\\n\tELET6 & 0.6931126 & 0.6621171 & 0.5942171\\\\\n\tEMBR3 & 0.3303562 & 0.3004060 & 0.3019552\\\\\n\tGGBR4 & 0.6789408 & 0.6476274 & 0.6138870\\\\\n\tITSA4 & 0.8482029 & 0.8441793 & 0.8911654\\\\\n\tLIGT3 & 0.6013978 & 0.5647133 & 0.5125547\\\\\n\tPETR3 & 0.7557303 & 0.7345761 & 0.7132342\\\\\n\tPETR4 & 0.8008218 & 0.7865146 & 0.7600421\\\\\n\tSBSP3 & 0.6160960 & 0.5797084 & 0.5344716\\\\\n\tVIVT3 & 0.4246854 & 0.3890761 & 0.3598384\\\\\n\\end{tabular}\n",
            "text/plain": [
              "      PC1       PA1       ML1      \n",
              "ALPA4 0.4723331 0.4356876 0.4161115\n",
              "BBAS3 0.8230853 0.8133646 0.8168817\n",
              "BBDC3 0.8025489 0.7903095 0.8712896\n",
              "BBDC4 0.8353218 0.8295515 0.9040527\n",
              "CMIG4 0.7525191 0.7289212 0.6887567\n",
              "CPLE6 0.7153460 0.6870637 0.6428744\n",
              "ELET3 0.7002974 0.6699717 0.6019735\n",
              "ELET6 0.6931126 0.6621171 0.5942171\n",
              "EMBR3 0.3303562 0.3004060 0.3019552\n",
              "GGBR4 0.6789408 0.6476274 0.6138870\n",
              "ITSA4 0.8482029 0.8441793 0.8911654\n",
              "LIGT3 0.6013978 0.5647133 0.5125547\n",
              "PETR3 0.7557303 0.7345761 0.7132342\n",
              "PETR4 0.8008218 0.7865146 0.7600421\n",
              "SBSP3 0.6160960 0.5797084 0.5344716\n",
              "VIVT3 0.4246854 0.3890761 0.3598384"
            ]
          },
          "metadata": {}
        }
      ]
    },
    {
      "cell_type": "code",
      "source": [
        "head(cbind(modelo_af_pca$scores, modelo_af_fp$scores, modelo_af_mv$scores))"
      ],
      "metadata": {
        "colab": {
          "base_uri": "https://localhost:8080/",
          "height": 255
        },
        "id": "N86bvpL_4H2n",
        "outputId": "bd992948-e60a-4d8a-bf21-cd1b3502f2bb"
      },
      "execution_count": 39,
      "outputs": [
        {
          "output_type": "display_data",
          "data": {
            "text/html": [
              "<table class=\"dataframe\">\n",
              "<caption>A matrix: 6 × 3 of type dbl</caption>\n",
              "<thead>\n",
              "\t<tr><th></th><th scope=col>PC1</th><th scope=col>PA1</th><th scope=col>ML1</th></tr>\n",
              "</thead>\n",
              "<tbody>\n",
              "\t<tr><th scope=row>1</th><td>-0.89050095</td><td>-0.92646362</td><td>-0.8069548</td></tr>\n",
              "\t<tr><th scope=row>2</th><td>-0.19590467</td><td>-0.39642738</td><td>-0.5908011</td></tr>\n",
              "\t<tr><th scope=row>3</th><td>-0.07818002</td><td>-0.02051454</td><td> 0.2440422</td></tr>\n",
              "\t<tr><th scope=row>4</th><td>-1.17197970</td><td>-1.13289355</td><td>-1.1216091</td></tr>\n",
              "\t<tr><th scope=row>5</th><td>-0.48120457</td><td>-0.52742879</td><td>-0.5960306</td></tr>\n",
              "\t<tr><th scope=row>6</th><td> 1.94134826</td><td> 2.01540279</td><td> 2.1362188</td></tr>\n",
              "</tbody>\n",
              "</table>\n"
            ],
            "text/markdown": "\nA matrix: 6 × 3 of type dbl\n\n| <!--/--> | PC1 | PA1 | ML1 |\n|---|---|---|---|\n| 1 | -0.89050095 | -0.92646362 | -0.8069548 |\n| 2 | -0.19590467 | -0.39642738 | -0.5908011 |\n| 3 | -0.07818002 | -0.02051454 |  0.2440422 |\n| 4 | -1.17197970 | -1.13289355 | -1.1216091 |\n| 5 | -0.48120457 | -0.52742879 | -0.5960306 |\n| 6 |  1.94134826 |  2.01540279 |  2.1362188 |\n\n",
            "text/latex": "A matrix: 6 × 3 of type dbl\n\\begin{tabular}{r|lll}\n  & PC1 & PA1 & ML1\\\\\n\\hline\n\t1 & -0.89050095 & -0.92646362 & -0.8069548\\\\\n\t2 & -0.19590467 & -0.39642738 & -0.5908011\\\\\n\t3 & -0.07818002 & -0.02051454 &  0.2440422\\\\\n\t4 & -1.17197970 & -1.13289355 & -1.1216091\\\\\n\t5 & -0.48120457 & -0.52742879 & -0.5960306\\\\\n\t6 &  1.94134826 &  2.01540279 &  2.1362188\\\\\n\\end{tabular}\n",
            "text/plain": [
              "  PC1         PA1         ML1       \n",
              "1 -0.89050095 -0.92646362 -0.8069548\n",
              "2 -0.19590467 -0.39642738 -0.5908011\n",
              "3 -0.07818002 -0.02051454  0.2440422\n",
              "4 -1.17197970 -1.13289355 -1.1216091\n",
              "5 -0.48120457 -0.52742879 -0.5960306\n",
              "6  1.94134826  2.01540279  2.1362188"
            ]
          },
          "metadata": {}
        }
      ]
    },
    {
      "cell_type": "markdown",
      "source": [
        "Mais detalhes dos outputs podem ser encontrados [aqui](https://m-clark.github.io/posts/2020-04-10-psych-explained/)"
      ],
      "metadata": {
        "id": "sUTpstIiruA5"
      }
    }
  ]
}