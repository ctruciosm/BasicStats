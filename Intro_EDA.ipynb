{
  "nbformat": 4,
  "nbformat_minor": 0,
  "metadata": {
    "colab": {
      "name": "Intro_EDA.ipynb",
      "provenance": [],
      "authorship_tag": "ABX9TyM0Azeg9FjQI/dkBdwG0VbJ",
      "include_colab_link": true
    },
    "kernelspec": {
      "name": "ir",
      "display_name": "R"
    },
    "language_info": {
      "name": "R"
    }
  },
  "cells": [
    {
      "cell_type": "markdown",
      "metadata": {
        "id": "view-in-github",
        "colab_type": "text"
      },
      "source": [
        "<a href=\"https://colab.research.google.com/github/ctruciosm/BasicStats/blob/main/Intro_EDA.ipynb\" target=\"_parent\"><img src=\"https://colab.research.google.com/assets/colab-badge.svg\" alt=\"Open In Colab\"/></a>"
      ]
    },
    {
      "cell_type": "markdown",
      "source": [
        "# 1. Introdução ao uso de R para análise de dados\n",
        "\n",
        "### 1.1 Instalando R no computador\n",
        "\n",
        "- Instalar R [Windows](https://cran.r-project.org/bin/windows/base/), [Outros SO](https://cran.r-project.org/).\n",
        "- Usuários Windows devem também instalar Rtools [Link](https://cran.r-project.org/bin/windows/Rtools/)\n",
        "- Instalar Rstudio [Link](https://www.rstudio.com/products/rstudio/download/) (escolher RStudio Desktop **Free**)\n",
        "- Uma vez que tenha tudo instalado, recomendo assistir o seguinte [video](https://www.youtube.com/watch?v=5SMJsKamuSQ&list=PLrqJCLOY0EkDc3zIhA0-Lk-M12FnReWwa&index=2&t=3130s)\n",
        "\n",
        "### 1.2 R na nuvem\n",
        "\n",
        "- Rstudio cloud (precisa criar uma conta)  [Link](https://rstudio.cloud/)\n",
        "- Google Colab [https://colab.to/r](https://colab.to/r) (precisa ter conta gmail)"
      ],
      "metadata": {
        "id": "QeRyI37CEkAM"
      }
    },
    {
      "cell_type": "markdown",
      "source": [
        "# 2. Importando dados\n",
        "\n",
        "- Para poder analisar dados precisamos primeiros importar (trazer os dados ao R). \n",
        "- Existem diversas formas, sendo a mais fácil a função `read.csv()` para importar arquivos em formato csv ou `read.table()` para importar dados em formato txt.\n",
        "- Se quiser saber como importar dados do excel, leia este post [aqui](https://ctruciosm.github.io/posts/2021-12-01-r-como-importar-dados-do-excel/)"
      ],
      "metadata": {
        "id": "-XT62TeuGQ5g"
      }
    },
    {
      "cell_type": "markdown",
      "source": [
        "### 2.1 Hands-on\n",
        "\n",
        "- Dados dos passageiros do Titanic estão disponívensi no seguinte [Link](https://raw.githubusercontent.com/ctruciosm/ctruciosm.github.io/master/datasets/titanic.csv)\n",
        "- Fazermos uma análise exploratoria de dados (EDA) de algums das variáveis contidas no _data set_.\n",
        "- EDA consiste em construir Tabelas, Gráficos e estatísticas resumos que nos ajudarão a ter um maior panorama dos dados.\n"
      ],
      "metadata": {
        "id": "ZbU8ftT4HXQj"
      }
    },
    {
      "cell_type": "code",
      "source": [
        "# Importando dados com a função read.csv()\n",
        "\n",
        "## Salvamos, entre aspas, o url onde está o conjunto de dados.\n",
        "url = \"https://raw.githubusercontent.com/ctruciosm/ctruciosm.github.io/master/datasets/titanic.csv\" \n",
        "### Caso os dados estejam em um arquivo local no computador, basta colocar o endereço:\n",
        "### Por exemplo: \"/Users/Carlos/UFRJ/MAD211/datasets/titanic.csv\"\n",
        "\n",
        "## Importamos os dados\n",
        "dados_titanic = read.csv(url)\n",
        "\n",
        "## Vemos as primeiras observações\n",
        "head(dados_titanic)"
      ],
      "metadata": {
        "colab": {
          "base_uri": "https://localhost:8080/",
          "height": 286
        },
        "id": "i4IjJRscJwnt",
        "outputId": "90b91592-4480-4184-92ed-fef8ab263394"
      },
      "execution_count": 2,
      "outputs": [
        {
          "output_type": "display_data",
          "data": {
            "text/html": [
              "<table class=\"dataframe\">\n",
              "<caption>A data.frame: 6 × 13</caption>\n",
              "<thead>\n",
              "\t<tr><th></th><th scope=col>X</th><th scope=col>PassengerId</th><th scope=col>Survived</th><th scope=col>Pclass</th><th scope=col>Name</th><th scope=col>Sex</th><th scope=col>Age</th><th scope=col>SibSp</th><th scope=col>Parch</th><th scope=col>Ticket</th><th scope=col>Fare</th><th scope=col>Cabin</th><th scope=col>Embarked</th></tr>\n",
              "\t<tr><th></th><th scope=col>&lt;int&gt;</th><th scope=col>&lt;int&gt;</th><th scope=col>&lt;int&gt;</th><th scope=col>&lt;chr&gt;</th><th scope=col>&lt;chr&gt;</th><th scope=col>&lt;chr&gt;</th><th scope=col>&lt;dbl&gt;</th><th scope=col>&lt;int&gt;</th><th scope=col>&lt;int&gt;</th><th scope=col>&lt;chr&gt;</th><th scope=col>&lt;dbl&gt;</th><th scope=col>&lt;chr&gt;</th><th scope=col>&lt;chr&gt;</th></tr>\n",
              "</thead>\n",
              "<tbody>\n",
              "\t<tr><th scope=row>1</th><td>1</td><td>892</td><td>0</td><td>3rd</td><td>Kelly, Mr. James                            </td><td>male  </td><td>34.5</td><td>0</td><td>0</td><td>330911 </td><td> 7.8292</td><td></td><td>Q</td></tr>\n",
              "\t<tr><th scope=row>2</th><td>2</td><td>893</td><td>1</td><td>3rd</td><td>Wilkes, Mrs. James (Ellen Needs)            </td><td>female</td><td>47.0</td><td>1</td><td>0</td><td>363272 </td><td> 7.0000</td><td></td><td>S</td></tr>\n",
              "\t<tr><th scope=row>3</th><td>3</td><td>894</td><td>0</td><td>2nd</td><td>Myles, Mr. Thomas Francis                   </td><td>male  </td><td>62.0</td><td>0</td><td>0</td><td>240276 </td><td> 9.6875</td><td></td><td>Q</td></tr>\n",
              "\t<tr><th scope=row>4</th><td>4</td><td>895</td><td>0</td><td>3rd</td><td>Wirz, Mr. Albert                            </td><td>male  </td><td>27.0</td><td>0</td><td>0</td><td>315154 </td><td> 8.6625</td><td></td><td>S</td></tr>\n",
              "\t<tr><th scope=row>5</th><td>5</td><td>896</td><td>1</td><td>3rd</td><td>Hirvonen, Mrs. Alexander (Helga E Lindqvist)</td><td>female</td><td>22.0</td><td>1</td><td>1</td><td>3101298</td><td>12.2875</td><td></td><td>S</td></tr>\n",
              "\t<tr><th scope=row>6</th><td>6</td><td>897</td><td>0</td><td>3rd</td><td>Svensson, Mr. Johan Cervin                  </td><td>male  </td><td>14.0</td><td>0</td><td>0</td><td>7538   </td><td> 9.2250</td><td></td><td>S</td></tr>\n",
              "</tbody>\n",
              "</table>\n"
            ],
            "text/markdown": "\nA data.frame: 6 × 13\n\n| <!--/--> | X &lt;int&gt; | PassengerId &lt;int&gt; | Survived &lt;int&gt; | Pclass &lt;chr&gt; | Name &lt;chr&gt; | Sex &lt;chr&gt; | Age &lt;dbl&gt; | SibSp &lt;int&gt; | Parch &lt;int&gt; | Ticket &lt;chr&gt; | Fare &lt;dbl&gt; | Cabin &lt;chr&gt; | Embarked &lt;chr&gt; |\n|---|---|---|---|---|---|---|---|---|---|---|---|---|---|\n| 1 | 1 | 892 | 0 | 3rd | Kelly, Mr. James                             | male   | 34.5 | 0 | 0 | 330911  |  7.8292 | <!----> | Q |\n| 2 | 2 | 893 | 1 | 3rd | Wilkes, Mrs. James (Ellen Needs)             | female | 47.0 | 1 | 0 | 363272  |  7.0000 | <!----> | S |\n| 3 | 3 | 894 | 0 | 2nd | Myles, Mr. Thomas Francis                    | male   | 62.0 | 0 | 0 | 240276  |  9.6875 | <!----> | Q |\n| 4 | 4 | 895 | 0 | 3rd | Wirz, Mr. Albert                             | male   | 27.0 | 0 | 0 | 315154  |  8.6625 | <!----> | S |\n| 5 | 5 | 896 | 1 | 3rd | Hirvonen, Mrs. Alexander (Helga E Lindqvist) | female | 22.0 | 1 | 1 | 3101298 | 12.2875 | <!----> | S |\n| 6 | 6 | 897 | 0 | 3rd | Svensson, Mr. Johan Cervin                   | male   | 14.0 | 0 | 0 | 7538    |  9.2250 | <!----> | S |\n\n",
            "text/latex": "A data.frame: 6 × 13\n\\begin{tabular}{r|lllllllllllll}\n  & X & PassengerId & Survived & Pclass & Name & Sex & Age & SibSp & Parch & Ticket & Fare & Cabin & Embarked\\\\\n  & <int> & <int> & <int> & <chr> & <chr> & <chr> & <dbl> & <int> & <int> & <chr> & <dbl> & <chr> & <chr>\\\\\n\\hline\n\t1 & 1 & 892 & 0 & 3rd & Kelly, Mr. James                             & male   & 34.5 & 0 & 0 & 330911  &  7.8292 &  & Q\\\\\n\t2 & 2 & 893 & 1 & 3rd & Wilkes, Mrs. James (Ellen Needs)             & female & 47.0 & 1 & 0 & 363272  &  7.0000 &  & S\\\\\n\t3 & 3 & 894 & 0 & 2nd & Myles, Mr. Thomas Francis                    & male   & 62.0 & 0 & 0 & 240276  &  9.6875 &  & Q\\\\\n\t4 & 4 & 895 & 0 & 3rd & Wirz, Mr. Albert                             & male   & 27.0 & 0 & 0 & 315154  &  8.6625 &  & S\\\\\n\t5 & 5 & 896 & 1 & 3rd & Hirvonen, Mrs. Alexander (Helga E Lindqvist) & female & 22.0 & 1 & 1 & 3101298 & 12.2875 &  & S\\\\\n\t6 & 6 & 897 & 0 & 3rd & Svensson, Mr. Johan Cervin                   & male   & 14.0 & 0 & 0 & 7538    &  9.2250 &  & S\\\\\n\\end{tabular}\n",
            "text/plain": [
              "  X PassengerId Survived Pclass Name                                        \n",
              "1 1 892         0        3rd    Kelly, Mr. James                            \n",
              "2 2 893         1        3rd    Wilkes, Mrs. James (Ellen Needs)            \n",
              "3 3 894         0        2nd    Myles, Mr. Thomas Francis                   \n",
              "4 4 895         0        3rd    Wirz, Mr. Albert                            \n",
              "5 5 896         1        3rd    Hirvonen, Mrs. Alexander (Helga E Lindqvist)\n",
              "6 6 897         0        3rd    Svensson, Mr. Johan Cervin                  \n",
              "  Sex    Age  SibSp Parch Ticket  Fare    Cabin Embarked\n",
              "1 male   34.5 0     0     330911   7.8292       Q       \n",
              "2 female 47.0 1     0     363272   7.0000       S       \n",
              "3 male   62.0 0     0     240276   9.6875       Q       \n",
              "4 male   27.0 0     0     315154   8.6625       S       \n",
              "5 female 22.0 1     1     3101298 12.2875       S       \n",
              "6 male   14.0 0     0     7538     9.2250       S       "
            ]
          },
          "metadata": {}
        }
      ]
    },
    {
      "cell_type": "markdown",
      "source": [
        "# 3. Analisando variáveis Qualitativas\n",
        "\n",
        "Algumas variáveis categóricas (ou qualitativas) são: \n",
        "\n",
        "- Survived (1 se a pessoa sobreviveu e 0 se não sobreviveu).\n",
        "- PClass (classe da passagem: primeira, segunda, terceira).\n",
        "- Sex (sexo)\n"
      ],
      "metadata": {
        "id": "SNaBsSlYLHGf"
      }
    },
    {
      "cell_type": "code",
      "source": [
        "## Frequencia Absolutas\n",
        "table(dados_titanic$Sex)\n",
        "### Repare que a sintaxe é nome_do_dataset$nome_da_variavel"
      ],
      "metadata": {
        "colab": {
          "base_uri": "https://localhost:8080/",
          "height": 72
        },
        "id": "cXOySdVYL8Yq",
        "outputId": "2e3ef4b6-e95a-473c-edcc-26cbb7473246"
      },
      "execution_count": 14,
      "outputs": [
        {
          "output_type": "display_data",
          "data": {
            "text/plain": [
              "\n",
              "female   male \n",
              "   466    843 "
            ]
          },
          "metadata": {}
        }
      ]
    },
    {
      "cell_type": "code",
      "source": [
        "## Frequencia Relativa\n",
        "prop.table(table(dados_titanic$Sex))"
      ],
      "metadata": {
        "colab": {
          "base_uri": "https://localhost:8080/",
          "height": 72
        },
        "id": "TbOJKGYTNOfc",
        "outputId": "101cfe4e-5635-4b3a-a6b3-c5535786c98e"
      },
      "execution_count": 5,
      "outputs": [
        {
          "output_type": "display_data",
          "data": {
            "text/plain": [
              "\n",
              "   female      male \n",
              "0.3559969 0.6440031 "
            ]
          },
          "metadata": {}
        }
      ]
    },
    {
      "cell_type": "code",
      "source": [
        "## Frequencia Percentual\n",
        "prop.table(table(dados_titanic$Sex))*100"
      ],
      "metadata": {
        "colab": {
          "base_uri": "https://localhost:8080/",
          "height": 72
        },
        "id": "jz4D-43PNXVR",
        "outputId": "4f187078-9899-41e6-f16d-e316608cb0a3"
      },
      "execution_count": 6,
      "outputs": [
        {
          "output_type": "display_data",
          "data": {
            "text/plain": [
              "\n",
              "  female     male \n",
              "35.59969 64.40031 "
            ]
          },
          "metadata": {}
        }
      ]
    },
    {
      "cell_type": "code",
      "source": [
        "## Gráfico de Barras\n",
        "barplot(table(dados_titanic$Sex))"
      ],
      "metadata": {
        "colab": {
          "base_uri": "https://localhost:8080/",
          "height": 437
        },
        "id": "jrw6a9viRIjj",
        "outputId": "7e95981c-3658-42c4-e974-0cf99f1fce21"
      },
      "execution_count": 15,
      "outputs": [
        {
          "output_type": "display_data",
          "data": {
            "text/plain": [
              "plot without title"
            ],
            "image/png": "[encoded data removed]"
          },
          "metadata": {
            "image/png": {
              "width": 420,
              "height": 420
            }
          }
        }
      ]
    },
    {
      "cell_type": "markdown",
      "source": [
        "A função `tab1()` (tab um) do pacote `EpiDisplay` nos ajuda a fazer essa tabela de forma rápida.\n",
        "\n",
        "- R está cheio de pacotes\n",
        "- Precisamos instalar o pacote (uma única vez)\n",
        "- Precisamos carregar o pacote (sempre que formos utilizar)"
      ],
      "metadata": {
        "id": "JoqOEtZsNbSX"
      }
    },
    {
      "cell_type": "code",
      "source": [
        "# Para instalar pacotes utilizamos a função \n",
        "# install.packages(\"Entre_aspas_o_nome_do_Pacote\")\n",
        "install.packages(\"epiDisplay\")"
      ],
      "metadata": {
        "colab": {
          "base_uri": "https://localhost:8080/"
        },
        "id": "PSSLHe0mOn4Z",
        "outputId": "81ca5dea-5990-436d-df49-592d5c402073"
      },
      "execution_count": 9,
      "outputs": [
        {
          "output_type": "stream",
          "name": "stderr",
          "text": [
            "Installing package into ‘/usr/local/lib/R/site-library’\n",
            "(as ‘lib’ is unspecified)\n",
            "\n"
          ]
        }
      ]
    },
    {
      "cell_type": "code",
      "source": [
        "# Carregar pacotes\n",
        "library(epiDisplay)"
      ],
      "metadata": {
        "colab": {
          "base_uri": "https://localhost:8080/"
        },
        "id": "E-uzUo6RPEGY",
        "outputId": "48fb6d9c-d517-4848-e336-f531c59118cf"
      },
      "execution_count": 10,
      "outputs": [
        {
          "output_type": "stream",
          "name": "stderr",
          "text": [
            "Loading required package: foreign\n",
            "\n",
            "Loading required package: survival\n",
            "\n",
            "Loading required package: MASS\n",
            "\n",
            "Loading required package: nnet\n",
            "\n"
          ]
        }
      ]
    },
    {
      "cell_type": "code",
      "source": [
        "# Tabela de Frequencias\n",
        "epiDisplay::tab1(dados_titanic$Sex)"
      ],
      "metadata": {
        "colab": {
          "base_uri": "https://localhost:8080/",
          "height": 661
        },
        "id": "9ZHOjjmPPqUK",
        "outputId": "01fdae17-947d-48e5-98f9-223ddeced9ce"
      },
      "execution_count": 16,
      "outputs": [
        {
          "output_type": "display_data",
          "data": {
            "text/html": [
              "<dl>\n",
              "\t<dt>$first.line</dt>\n",
              "\t\t<dd>'dados_titanic$Sex : \\n'</dd>\n",
              "\t<dt>$output.table</dt>\n",
              "\t\t<dd><table class=\"dataframe\">\n",
              "<caption>A matrix: 3 × 3 of type dbl</caption>\n",
              "<thead>\n",
              "\t<tr><th></th><th scope=col>Frequency</th><th scope=col>Percent</th><th scope=col>Cum. percent</th></tr>\n",
              "</thead>\n",
              "<tbody>\n",
              "\t<tr><th scope=row>female</th><td> 466</td><td> 35.6</td><td> 35.6</td></tr>\n",
              "\t<tr><th scope=row>male</th><td> 843</td><td> 64.4</td><td>100.0</td></tr>\n",
              "\t<tr><th scope=row>  Total</th><td>1309</td><td>100.0</td><td>100.0</td></tr>\n",
              "</tbody>\n",
              "</table>\n",
              "</dd>\n",
              "</dl>\n"
            ],
            "text/markdown": "$first.line\n:   'dados_titanic$Sex : \\n'\n$output.table\n:   \nA matrix: 3 × 3 of type dbl\n\n| <!--/--> | Frequency | Percent | Cum. percent |\n|---|---|---|---|\n| female |  466 |  35.6 |  35.6 |\n| male |  843 |  64.4 | 100.0 |\n|   Total | 1309 | 100.0 | 100.0 |\n\n\n\n\n",
            "text/latex": "\\begin{description}\n\\item[\\$first.line] 'dados\\_titanic\\$Sex : \\textbackslash{}n'\n\\item[\\$output.table] A matrix: 3 × 3 of type dbl\n\\begin{tabular}{r|lll}\n  & Frequency & Percent & Cum. percent\\\\\n\\hline\n\tfemale &  466 &  35.6 &  35.6\\\\\n\tmale &  843 &  64.4 & 100.0\\\\\n\t  Total & 1309 & 100.0 & 100.0\\\\\n\\end{tabular}\n\n\\end{description}\n",
            "text/plain": [
              "dados_titanic$Sex : \n",
              "        Frequency Percent Cum. percent\n",
              "female        466    35.6         35.6\n",
              "male          843    64.4        100.0\n",
              "  Total      1309   100.0        100.0"
            ]
          },
          "metadata": {}
        },
        {
          "output_type": "display_data",
          "data": {
            "text/plain": [
              "Plot with title “Distribution of dados_titanic$Sex”"
            ],
            "image/png": "[encoded data removed]"
          },
          "metadata": {
            "image/png": {
              "width": 420,
              "height": 420
            }
          }
        }
      ]
    },
    {
      "cell_type": "code",
      "source": [
        "# Quando conhecemos o nome de uma função mas não sabemos como ela funciona, podemos pedir ajuda ao R atraves do comando\n",
        "?tab1\n",
        "# ou\n",
        "help(tab1)"
      ],
      "metadata": {
        "id": "hOORKlHHRhGQ"
      },
      "execution_count": 18,
      "outputs": []
    },
    {
      "cell_type": "markdown",
      "source": [
        "# 4. Analisando variáveis Quantitativas\n",
        "\n",
        "Algumas variáveis numéricas (quantitativas) são:\n",
        "\n",
        "- Age (idade do passageiro)\n",
        "- Fare (preço do ticket)\n",
        "\n",
        "> **Obs:** Embora `PassengerId` e `Ticket`sejam números, repare que **não são** variáveis quantitativas, são apenas identificadores (semelhando com o que acontece com o CPF, são números mas não faz sentido somar CPFs)."
      ],
      "metadata": {
        "id": "DOpmCR_YR125"
      }
    },
    {
      "cell_type": "markdown",
      "source": [
        "algumas funções úteis para resumir variáveis quantitativas são:\n",
        "\n",
        "- `mean(x)` (média)\n",
        "- `median(x)` (mediana)\n",
        "- `quantile(x, prob = k/100)` (para calcular o percentil k -- $P_k$)\n",
        "- `max(x)`(máximo)\n",
        "- `min(x)` (mínimo)\n",
        "- `var(x)`(variância)\n",
        "- `sd(x)` (desvio padrão)\n",
        "- `IQR(x)` (amplitude interquartil)\n",
        "- `cor(x,y)` (correlação entre `x`e `y`)\n",
        "- `cov(x,y)` (covariância entre `x`e `y`)\n",
        "\n",
        "> **Obs**: Se tivermos dados faltantes (NAs) cada uma dessas funções retornará o valor de NA sempre. Para evitar isso, basta fazer, por exemplo: `mean(x, na.rm = TRUE)`\n",
        "\n",
        "\n",
        "### 4.1 Hands-On:"
      ],
      "metadata": {
        "id": "OCMTGbIkSO_E"
      }
    },
    {
      "cell_type": "code",
      "source": [
        "mean(dados_titanic$Age)"
      ],
      "metadata": {
        "colab": {
          "base_uri": "https://localhost:8080/",
          "height": 34
        },
        "id": "4W8Sn494Uurc",
        "outputId": "13b4d740-d092-47e9-e815-b7a1fa326717"
      },
      "execution_count": 19,
      "outputs": [
        {
          "output_type": "display_data",
          "data": {
            "text/html": [
              "&lt;NA&gt;"
            ],
            "text/markdown": "&lt;NA&gt;",
            "text/latex": "<NA>",
            "text/plain": [
              "[1] NA"
            ]
          },
          "metadata": {}
        }
      ]
    },
    {
      "cell_type": "code",
      "source": [
        "mean(dados_titanic$Age, na.rm = TRUE)"
      ],
      "metadata": {
        "colab": {
          "base_uri": "https://localhost:8080/",
          "height": 34
        },
        "id": "7M-wcYSCUzd7",
        "outputId": "cdeb6e06-5af9-4a3f-f388-b4dbbeb27cca"
      },
      "execution_count": 20,
      "outputs": [
        {
          "output_type": "display_data",
          "data": {
            "text/html": [
              "29.881137667304"
            ],
            "text/markdown": "29.881137667304",
            "text/latex": "29.881137667304",
            "text/plain": [
              "[1] 29.88114"
            ]
          },
          "metadata": {}
        }
      ]
    },
    {
      "cell_type": "code",
      "source": [
        "median(dados_titanic$Age, na.rm = TRUE)"
      ],
      "metadata": {
        "colab": {
          "base_uri": "https://localhost:8080/",
          "height": 34
        },
        "id": "7T7cwtGyVHw9",
        "outputId": "b2a5b85d-6221-483a-a559-492604fa19f9"
      },
      "execution_count": 21,
      "outputs": [
        {
          "output_type": "display_data",
          "data": {
            "text/html": [
              "28"
            ],
            "text/markdown": "28",
            "text/latex": "28",
            "text/plain": [
              "[1] 28"
            ]
          },
          "metadata": {}
        }
      ]
    },
    {
      "cell_type": "code",
      "source": [
        "quantile(dados_titanic$Age, prob = 25/100, na.rm = TRUE)"
      ],
      "metadata": {
        "colab": {
          "base_uri": "https://localhost:8080/",
          "height": 34
        },
        "id": "S1MAHjjUVN_X",
        "outputId": "de724424-819c-417e-d834-733907745836"
      },
      "execution_count": 23,
      "outputs": [
        {
          "output_type": "display_data",
          "data": {
            "text/html": [
              "<strong>25%:</strong> 21"
            ],
            "text/markdown": "**25%:** 21",
            "text/latex": "\\textbf{25\\textbackslash{}\\%:} 21",
            "text/plain": [
              "25% \n",
              " 21 "
            ]
          },
          "metadata": {}
        }
      ]
    },
    {
      "cell_type": "code",
      "source": [
        "quantile(dados_titanic$Age, prob = c(0.25, 0.5, 0.75, 0.9), na.rm = TRUE)"
      ],
      "metadata": {
        "colab": {
          "base_uri": "https://localhost:8080/",
          "height": 34
        },
        "id": "xz-bLszIVdhJ",
        "outputId": "ecbd06fc-fd7d-4240-b33a-6c7b3b80f394"
      },
      "execution_count": 24,
      "outputs": [
        {
          "output_type": "display_data",
          "data": {
            "text/html": [
              "<style>\n",
              ".dl-inline {width: auto; margin:0; padding: 0}\n",
              ".dl-inline>dt, .dl-inline>dd {float: none; width: auto; display: inline-block}\n",
              ".dl-inline>dt::after {content: \":\\0020\"; padding-right: .5ex}\n",
              ".dl-inline>dt:not(:first-of-type) {padding-left: .5ex}\n",
              "</style><dl class=dl-inline><dt>25%</dt><dd>21</dd><dt>50%</dt><dd>28</dd><dt>75%</dt><dd>39</dd><dt>90%</dt><dd>50</dd></dl>\n"
            ],
            "text/markdown": "25%\n:   2150%\n:   2875%\n:   3990%\n:   50\n\n",
            "text/latex": "\\begin{description*}\n\\item[25\\textbackslash{}\\%] 21\n\\item[50\\textbackslash{}\\%] 28\n\\item[75\\textbackslash{}\\%] 39\n\\item[90\\textbackslash{}\\%] 50\n\\end{description*}\n",
            "text/plain": [
              "25% 50% 75% 90% \n",
              " 21  28  39  50 "
            ]
          },
          "metadata": {}
        }
      ]
    },
    {
      "cell_type": "code",
      "source": [
        "max(dados_titanic$Age, na.rm = TRUE)"
      ],
      "metadata": {
        "colab": {
          "base_uri": "https://localhost:8080/",
          "height": 34
        },
        "id": "cjY7jd_sVisd",
        "outputId": "e66de8a0-1ff9-402b-bdff-3747efaa6d01"
      },
      "execution_count": 25,
      "outputs": [
        {
          "output_type": "display_data",
          "data": {
            "text/html": [
              "80"
            ],
            "text/markdown": "80",
            "text/latex": "80",
            "text/plain": [
              "[1] 80"
            ]
          },
          "metadata": {}
        }
      ]
    },
    {
      "cell_type": "code",
      "source": [
        "min(dados_titanic$Age, na.rm = TRUE)"
      ],
      "metadata": {
        "colab": {
          "base_uri": "https://localhost:8080/",
          "height": 34
        },
        "id": "tkXZx5FYVuOo",
        "outputId": "2694c77a-0f80-4b60-fe2b-8204797f5673"
      },
      "execution_count": 26,
      "outputs": [
        {
          "output_type": "display_data",
          "data": {
            "text/html": [
              "0.17"
            ],
            "text/markdown": "0.17",
            "text/latex": "0.17",
            "text/plain": [
              "[1] 0.17"
            ]
          },
          "metadata": {}
        }
      ]
    },
    {
      "cell_type": "code",
      "source": [
        "var(dados_titanic$Age, na.rm = TRUE)"
      ],
      "metadata": {
        "colab": {
          "base_uri": "https://localhost:8080/",
          "height": 34
        },
        "id": "SaqFC8mwVxkx",
        "outputId": "ada05c18-09cc-4b15-e3a8-348e0392cbdd"
      },
      "execution_count": 27,
      "outputs": [
        {
          "output_type": "display_data",
          "data": {
            "text/html": [
              "207.748786551365"
            ],
            "text/markdown": "207.748786551365",
            "text/latex": "207.748786551365",
            "text/plain": [
              "[1] 207.7488"
            ]
          },
          "metadata": {}
        }
      ]
    },
    {
      "cell_type": "code",
      "source": [
        "sd(dados_titanic$Age, na.rm = TRUE)"
      ],
      "metadata": {
        "colab": {
          "base_uri": "https://localhost:8080/",
          "height": 34
        },
        "id": "g6L84b1lWEe2",
        "outputId": "cd88a597-8a86-4777-88c9-6af22eae79c1"
      },
      "execution_count": 28,
      "outputs": [
        {
          "output_type": "display_data",
          "data": {
            "text/html": [
              "14.4134932112713"
            ],
            "text/markdown": "14.4134932112713",
            "text/latex": "14.4134932112713",
            "text/plain": [
              "[1] 14.41349"
            ]
          },
          "metadata": {}
        }
      ]
    },
    {
      "cell_type": "code",
      "source": [
        "IQR(dados_titanic$Age, na.rm = TRUE)"
      ],
      "metadata": {
        "colab": {
          "base_uri": "https://localhost:8080/",
          "height": 34
        },
        "id": "kB7WQWucWGMP",
        "outputId": "82d67594-3b35-49bf-cd10-d0ca7f0a4c73"
      },
      "execution_count": 29,
      "outputs": [
        {
          "output_type": "display_data",
          "data": {
            "text/html": [
              "18"
            ],
            "text/markdown": "18",
            "text/latex": "18",
            "text/plain": [
              "[1] 18"
            ]
          },
          "metadata": {}
        }
      ]
    },
    {
      "cell_type": "code",
      "source": [
        "cor(dados_titanic$Age, dados_titanic$Fare)"
      ],
      "metadata": {
        "colab": {
          "base_uri": "https://localhost:8080/",
          "height": 34
        },
        "id": "AcU6YloZWIJp",
        "outputId": "4b1557be-fb05-4880-e8f7-61979374b807"
      },
      "execution_count": 34,
      "outputs": [
        {
          "output_type": "display_data",
          "data": {
            "text/html": [
              "&lt;NA&gt;"
            ],
            "text/markdown": "&lt;NA&gt;",
            "text/latex": "<NA>",
            "text/plain": [
              "[1] NA"
            ]
          },
          "metadata": {}
        }
      ]
    },
    {
      "cell_type": "code",
      "source": [
        "cor(dados_titanic$Age, dados_titanic$Fare, use = \"complete.obs\")"
      ],
      "metadata": {
        "colab": {
          "base_uri": "https://localhost:8080/",
          "height": 34
        },
        "id": "_datgGaVWO-0",
        "outputId": "74728857-d035-40cc-d5df-976e010f7661"
      },
      "execution_count": 35,
      "outputs": [
        {
          "output_type": "display_data",
          "data": {
            "text/html": [
              "0.178739855999641"
            ],
            "text/markdown": "0.178739855999641",
            "text/latex": "0.178739855999641",
            "text/plain": [
              "[1] 0.1787399"
            ]
          },
          "metadata": {}
        }
      ]
    },
    {
      "cell_type": "code",
      "source": [
        "cov(dados_titanic$Age, dados_titanic$Fare, use = \"complete.obs\")"
      ],
      "metadata": {
        "colab": {
          "base_uri": "https://localhost:8080/",
          "height": 34
        },
        "id": "AkLtAhZoWXrB",
        "outputId": "e257f11d-a305-4f9c-b126-2fe27a9b42fa"
      },
      "execution_count": 36,
      "outputs": [
        {
          "output_type": "display_data",
          "data": {
            "text/html": [
              "143.339758788169"
            ],
            "text/markdown": "143.339758788169",
            "text/latex": "143.339758788169",
            "text/plain": [
              "[1] 143.3398"
            ]
          },
          "metadata": {}
        }
      ]
    },
    {
      "cell_type": "code",
      "source": [
        "boxplot(dados_titanic$Fare)"
      ],
      "metadata": {
        "colab": {
          "base_uri": "https://localhost:8080/",
          "height": 437
        },
        "id": "McACyXBGWYM4",
        "outputId": "040eb09c-8f01-4c2d-a814-e8d858c7207a"
      },
      "execution_count": 38,
      "outputs": [
        {
          "output_type": "display_data",
          "data": {
            "text/plain": [
              "plot without title"
            ],
            "image/png": "[encoded data removed]"
          },
          "metadata": {
            "image/png": {
              "width": 420,
              "height": 420
            }
          }
        }
      ]
    },
    {
      "cell_type": "code",
      "source": [
        "hist(dados_titanic$Fare)"
      ],
      "metadata": {
        "colab": {
          "base_uri": "https://localhost:8080/",
          "height": 437
        },
        "id": "gbvkGAjaW2xp",
        "outputId": "5e7e1bd8-5147-4a52-8bc7-1a3f87f729e9"
      },
      "execution_count": 39,
      "outputs": [
        {
          "output_type": "display_data",
          "data": {
            "text/plain": [
              "Plot with title “Histogram of dados_titanic$Fare”"
            ],
            "image/png": "[encoded data removed]"
          },
          "metadata": {
            "image/png": {
              "width": 420,
              "height": 420
            }
          }
        }
      ]
    },
    {
      "cell_type": "code",
      "source": [
        "plot(dados_titanic$Fare, dados_titanic$Age)"
      ],
      "metadata": {
        "colab": {
          "base_uri": "https://localhost:8080/",
          "height": 437
        },
        "id": "VyKWa5PAW8QZ",
        "outputId": "23cd5d30-9c44-46df-fbbc-c5073fe03713"
      },
      "execution_count": 40,
      "outputs": [
        {
          "output_type": "display_data",
          "data": {
            "text/plain": [
              "plot without title"
            ],
            "image/png": "[encoded data removed]"
          },
          "metadata": {
            "image/png": {
              "width": 420,
              "height": 420
            }
          }
        }
      ]
    },
    {
      "cell_type": "code",
      "source": [
        "boxplot(dados_titanic$Fare ~ dados_titanic$Pclass)"
      ],
      "metadata": {
        "id": "xefDMJnteMD7",
        "outputId": "e1de3b0a-100f-499a-c92b-1443e94fb235",
        "colab": {
          "base_uri": "https://localhost:8080/",
          "height": 437
        }
      },
      "execution_count": 42,
      "outputs": [
        {
          "output_type": "display_data",
          "data": {
            "text/plain": [
              "plot without title"
            ],
            "image/png": "[encoded data removed]"
          },
          "metadata": {
            "image/png": {
              "width": 420,
              "height": 420
            }
          }
        }
      ]
    },
    {
      "cell_type": "markdown",
      "source": [
        "> **Obs:** Gráficos muitos mais bonitos e elegantes podem ser obtidos utilizando o pacote `ggplot2`. Caso tenha interesse em conhecer um pouco mais deste pacote, veja o seguinte [video](https://www.youtube.com/watch?v=Smz5fP06A-k). "
      ],
      "metadata": {
        "id": "-9FI6ENXXEyh"
      }
    }
  ]
}