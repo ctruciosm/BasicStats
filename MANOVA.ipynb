{
  "nbformat": 4,
  "nbformat_minor": 0,
  "metadata": {
    "colab": {
      "provenance": [],
      "authorship_tag": "ABX9TyOuyVo7Jsc4vJJ8pPyTxB+q",
      "include_colab_link": true
    },
    "kernelspec": {
      "name": "ir",
      "display_name": "R"
    },
    "language_info": {
      "name": "R"
    }
  },
  "cells": [
    {
      "cell_type": "markdown",
      "metadata": {
        "id": "view-in-github",
        "colab_type": "text"
      },
      "source": [
        "<a href=\"https://colab.research.google.com/github/ctruciosm/BasicStats/blob/main/MANOVA.ipynb\" target=\"_parent\"><img src=\"https://colab.research.google.com/assets/colab-badge.svg\" alt=\"Open In Colab\"/></a>"
      ]
    },
    {
      "cell_type": "markdown",
      "source": [
        "# MANOVA\n",
        "By Carlos Trucíos"
      ],
      "metadata": {
        "id": "qznKJPwsiJOy"
      }
    },
    {
      "cell_type": "code",
      "source": [
        "install.packages(\"dplyr\")\n",
        "install.packages(\"mnt\")\n",
        "install.packages(\"car\")\n",
        "install.packages(\"biotools\")"
      ],
      "metadata": {
        "id": "x_ATst8xiPLk"
      },
      "execution_count": null,
      "outputs": []
    },
    {
      "cell_type": "code",
      "execution_count": null,
      "metadata": {
        "id": "5n1dj41xiGjF"
      },
      "outputs": [],
      "source": [
        "library(dplyr)\n",
        "library(mnt)\n",
        "library(car)\n",
        "library(biotools)"
      ]
    },
    {
      "cell_type": "code",
      "source": [
        "# Importar dados\n",
        "pottery <- read.table(\"https://online.stat.psu.edu/onlinecourses/sites/stat505/files/data/pottery.txt\")\n",
        "glimpse(pottery)"
      ],
      "metadata": {
        "colab": {
          "base_uri": "https://localhost:8080/"
        },
        "id": "JDlC93-YiWGv",
        "outputId": "aa78639c-f1f4-4bbd-80f7-b4a37b65b620"
      },
      "execution_count": 3,
      "outputs": [
        {
          "output_type": "stream",
          "name": "stdout",
          "text": [
            "Rows: 26\n",
            "Columns: 6\n",
            "$ V1 \u001b[3m\u001b[90m<chr>\u001b[39m\u001b[23m \"L\", \"L\", \"L\", \"L\", \"L\", \"L\", \"L\", \"L\", \"L\", \"L\", \"L\", \"L\", \"L\", \"L…\n",
            "$ V2 \u001b[3m\u001b[90m<dbl>\u001b[39m\u001b[23m 14.4, 13.8, 14.6, 11.5, 13.8, 10.9, 10.1, 11.6, 11.1, 13.4, 12.4, 1…\n",
            "$ V3 \u001b[3m\u001b[90m<dbl>\u001b[39m\u001b[23m 7.00, 7.08, 7.09, 6.37, 7.06, 6.26, 4.26, 5.78, 5.49, 6.92, 6.13, 6…\n",
            "$ V4 \u001b[3m\u001b[90m<dbl>\u001b[39m\u001b[23m 4.30, 3.43, 3.88, 5.64, 5.34, 3.47, 4.26, 5.91, 4.52, 7.23, 5.69, 5…\n",
            "$ V5 \u001b[3m\u001b[90m<dbl>\u001b[39m\u001b[23m 0.15, 0.12, 0.13, 0.16, 0.20, 0.17, 0.20, 0.18, 0.29, 0.28, 0.22, 0…\n",
            "$ V6 \u001b[3m\u001b[90m<dbl>\u001b[39m\u001b[23m 0.51, 0.17, 0.20, 0.14, 0.20, 0.22, 0.18, 0.16, 0.30, 0.20, 0.54, 0…\n"
          ]
        }
      ]
    },
    {
      "cell_type": "code",
      "source": [
        "# OneWay MANOVA\n",
        "manova_oneway <- manova(cbind(V2, V3, V4, V5, V6) ~ V1, data = pottery)\n",
        "summary(manova_oneway)"
      ],
      "metadata": {
        "colab": {
          "base_uri": "https://localhost:8080/",
          "height": 109
        },
        "id": "gsqFl4Triacu",
        "outputId": "7e9979eb-e2a0-4849-e3bc-47afdae3b3c5"
      },
      "execution_count": 4,
      "outputs": [
        {
          "output_type": "display_data",
          "data": {
            "text/plain": [
              "          Df Pillai approx F num Df den Df    Pr(>F)    \n",
              "V1         3 1.5539   4.2984     15     60 2.413e-05 ***\n",
              "Residuals 22                                            \n",
              "---\n",
              "Signif. codes:  0 ‘***’ 0.001 ‘**’ 0.01 ‘*’ 0.05 ‘.’ 0.1 ‘ ’ 1"
            ]
          },
          "metadata": {}
        }
      ]
    },
    {
      "cell_type": "code",
      "source": [
        "# Verificando as suposições\n",
        "res <- residuals(manova_oneway)\n",
        "#mardia(res)\n",
        "mnt::test.BHEP(res, MC.rep = 1000)"
      ],
      "metadata": {
        "colab": {
          "base_uri": "https://localhost:8080/",
          "height": 237
        },
        "id": "1-g-ZQM_iiAk",
        "outputId": "79db6378-4f31-49ea-e3fc-255a0bf4a927"
      },
      "execution_count": 5,
      "outputs": [
        {
          "output_type": "stream",
          "name": "stdout",
          "text": [
            "  |======================================================================| 100%\n"
          ]
        },
        {
          "output_type": "display_data",
          "data": {
            "text/plain": [
              "\n",
              "------------------------------------------------------------------------- \n",
              "\n",
              "         Test for multivariate normality with the BHEP  teststatistic.\n",
              "\n",
              "tuning parameter = 1  \n",
              "BHEP  =  1.289364  \n",
              "critical value =   0.8489413  (via monte carlo) \n",
              "\n",
              "\n",
              "------------------------------------------------------------------------- "
            ]
          },
          "metadata": {}
        }
      ]
    },
    {
      "cell_type": "code",
      "source": [
        "# Transformações\n",
        "medidas <- pottery %>% dplyr::select(-V1)\n",
        "\n",
        "lambda <- powerTransform(medidas)$lambda\n",
        "pottery_transformed <- bcPower(medidas, lambda)\n",
        "colnames(pottery_transformed) = colnames(medidas)\n",
        "\n",
        "pottery_transformed <- pottery_transformed %>% mutate(V1 = pottery$V1)"
      ],
      "metadata": {
        "id": "cJUl6Bfbinco"
      },
      "execution_count": 6,
      "outputs": []
    },
    {
      "cell_type": "code",
      "source": [
        "# MANOVA dados transformados\n",
        "manova_oneway <- manova(cbind(V2, V3, V4, V5, V6) ~ V1, data = pottery_transformed)\n",
        "summary(manova_oneway)"
      ],
      "metadata": {
        "colab": {
          "base_uri": "https://localhost:8080/",
          "height": 109
        },
        "id": "hUSh_FfAjQ4K",
        "outputId": "5af5af81-cfd5-469c-bd0b-c8ff9b657426"
      },
      "execution_count": 7,
      "outputs": [
        {
          "output_type": "display_data",
          "data": {
            "text/plain": [
              "          Df Pillai approx F num Df den Df    Pr(>F)    \n",
              "V1         3 1.8458   6.3967     15     60 7.954e-08 ***\n",
              "Residuals 22                                            \n",
              "---\n",
              "Signif. codes:  0 ‘***’ 0.001 ‘**’ 0.01 ‘*’ 0.05 ‘.’ 0.1 ‘ ’ 1"
            ]
          },
          "metadata": {}
        }
      ]
    },
    {
      "cell_type": "code",
      "source": [
        "# Verificando as suposições\n",
        "res <- residuals(manova_oneway)\n",
        "mnt::test.BHEP(res, MC.rep = 1000)"
      ],
      "metadata": {
        "colab": {
          "base_uri": "https://localhost:8080/",
          "height": 237
        },
        "id": "lkoX6I-4jW--",
        "outputId": "f36d5153-b621-490c-cbf8-401901cd9edd"
      },
      "execution_count": 8,
      "outputs": [
        {
          "output_type": "stream",
          "name": "stdout",
          "text": [
            "  |======================================================================| 100%\n"
          ]
        },
        {
          "output_type": "display_data",
          "data": {
            "text/plain": [
              "\n",
              "------------------------------------------------------------------------- \n",
              "\n",
              "         Test for multivariate normality with the BHEP  teststatistic.\n",
              "\n",
              "tuning parameter = 1  \n",
              "BHEP  =  0.665699  \n",
              "critical value =   0.8372657  (via monte carlo) \n",
              "\n",
              "\n",
              "------------------------------------------------------------------------- "
            ]
          },
          "metadata": {}
        }
      ]
    },
    {
      "cell_type": "code",
      "source": [
        "biotools::boxM(pottery_transformed[,c(\"V2\", \"V3\", \"V4\", \"V5\")], pottery_transformed$V1)"
      ],
      "metadata": {
        "colab": {
          "base_uri": "https://localhost:8080/",
          "height": 146
        },
        "id": "QU7fYf0C9A2B",
        "outputId": "dff7afad-d38a-4a97-9e51-242092639d65"
      },
      "execution_count": 9,
      "outputs": [
        {
          "output_type": "stream",
          "name": "stderr",
          "text": [
            "Warning message in biotools::boxM(pottery_transformed[, c(\"V2\", \"V3\", \"V4\", \"V5\")], :\n",
            "“there are one or more levels with less observations than variables!”\n"
          ]
        },
        {
          "output_type": "display_data",
          "data": {
            "text/plain": [
              "\n",
              "\tBox's M-test for Homogeneity of Covariance Matrices\n",
              "\n",
              "data:  pottery_transformed[, c(\"V2\", \"V3\", \"V4\", \"V5\")]\n",
              "Chi-Sq (approx.) = 50.743, df = 30, p-value = 0.01037\n"
            ]
          },
          "metadata": {}
        }
      ]
    },
    {
      "cell_type": "markdown",
      "source": [
        "# Gabarito: Estudo de Simulação\n",
        "## (Questão 3 da Lista 2)\n",
        "\n"
      ],
      "metadata": {
        "id": "oj4M6FLIbhm6"
      }
    },
    {
      "cell_type": "code",
      "source": [
        "# Instalamos pacotes\n",
        "install.packages(\"DescTools\")     # CramerVonMisesTest\n",
        "install.packages(\"tseries\")       # shapiro.test"
      ],
      "metadata": {
        "id": "4SLwx4XQk-7z"
      },
      "execution_count": null,
      "outputs": []
    },
    {
      "cell_type": "code",
      "source": [
        "# Carregamos pacotes\n",
        "library(DescTools)\n",
        "library(tseries)\n",
        "options(warn = -1)"
      ],
      "metadata": {
        "id": "_JbElaBJks5V"
      },
      "execution_count": null,
      "outputs": []
    },
    {
      "cell_type": "code",
      "source": [
        "# Definimos alguns parametros\n",
        "replicacoes <- 5000\n",
        "size_n <- c(10, 20, 50, 100, 500, 1000)"
      ],
      "metadata": {
        "id": "lfJFsnpPbrNK"
      },
      "execution_count": 12,
      "outputs": []
    },
    {
      "cell_type": "code",
      "source": [
        "# Criamos Tabelas para salvar os resultados\n",
        "p_valores <- matrix(NA, ncol = 4, nrow = replicacoes)\n",
        "tabela <- matrix(NA, ncol = 4, nrow = length(size_n))\n",
        "# Nomes às colunas e linhas para ajudar nas análises\n",
        "colnames(tabela) <- c(\"KS\", \"Jarque-Bera\", \"Shapiro\", \"Cramer\")\n",
        "row.names(tabela) <- size_n"
      ],
      "metadata": {
        "id": "q9DnV8fnknGw"
      },
      "execution_count": 13,
      "outputs": []
    },
    {
      "cell_type": "code",
      "source": [
        "# Estudo de Simulação Quando H0 é verdadeiro\n",
        "for (j in 1:length(size_n)) {\n",
        "  for (i in 1:replicacoes) {\n",
        "    ## Controlamos a semente\n",
        "    set.seed(i)\n",
        "    ## Simulamos dados\n",
        "    x <- rnorm(size_n[j])\n",
        "    ## Aplicamos os testes\n",
        "    p_valores[i, ] <- c(ks.test(x, \"pnorm\")$p.value, \n",
        "                        jarque.bera.test(x)$p.value,\n",
        "                        shapiro.test(x)$p.value,\n",
        "                        CramerVonMisesTest(x)$p.value)\n",
        "  }\n",
        "  ## Calculamos a proporcao de vezes que rejeitamos H0\n",
        "  tabela[j, ] <- apply(p_valores < 0.05, 2, mean)\n",
        "}\n",
        "tabela"
      ],
      "metadata": {
        "colab": {
          "base_uri": "https://localhost:8080/",
          "height": 255
        },
        "id": "JECWWJYJlXtv",
        "outputId": "7d42e911-b894-4feb-f45a-c5e55ba47fc8"
      },
      "execution_count": 14,
      "outputs": [
        {
          "output_type": "display_data",
          "data": {
            "text/html": [
              "<table class=\"dataframe\">\n",
              "<caption>A matrix: 6 × 4 of type dbl</caption>\n",
              "<thead>\n",
              "\t<tr><th></th><th scope=col>KS</th><th scope=col>Jarque-Bera</th><th scope=col>Shapiro</th><th scope=col>Cramer</th></tr>\n",
              "</thead>\n",
              "<tbody>\n",
              "\t<tr><th scope=row>10</th><td>0.0524</td><td>0.0110</td><td>0.0518</td><td>0.0516</td></tr>\n",
              "\t<tr><th scope=row>20</th><td>0.0490</td><td>0.0204</td><td>0.0478</td><td>0.0492</td></tr>\n",
              "\t<tr><th scope=row>50</th><td>0.0454</td><td>0.0326</td><td>0.0498</td><td>0.0500</td></tr>\n",
              "\t<tr><th scope=row>100</th><td>0.0466</td><td>0.0412</td><td>0.0526</td><td>0.0520</td></tr>\n",
              "\t<tr><th scope=row>500</th><td>0.0480</td><td>0.0422</td><td>0.0504</td><td>0.0472</td></tr>\n",
              "\t<tr><th scope=row>1000</th><td>0.0512</td><td>0.0506</td><td>0.0536</td><td>0.0512</td></tr>\n",
              "</tbody>\n",
              "</table>\n"
            ],
            "text/markdown": "\nA matrix: 6 × 4 of type dbl\n\n| <!--/--> | KS | Jarque-Bera | Shapiro | Cramer |\n|---|---|---|---|---|\n| 10 | 0.0524 | 0.0110 | 0.0518 | 0.0516 |\n| 20 | 0.0490 | 0.0204 | 0.0478 | 0.0492 |\n| 50 | 0.0454 | 0.0326 | 0.0498 | 0.0500 |\n| 100 | 0.0466 | 0.0412 | 0.0526 | 0.0520 |\n| 500 | 0.0480 | 0.0422 | 0.0504 | 0.0472 |\n| 1000 | 0.0512 | 0.0506 | 0.0536 | 0.0512 |\n\n",
            "text/latex": "A matrix: 6 × 4 of type dbl\n\\begin{tabular}{r|llll}\n  & KS & Jarque-Bera & Shapiro & Cramer\\\\\n\\hline\n\t10 & 0.0524 & 0.0110 & 0.0518 & 0.0516\\\\\n\t20 & 0.0490 & 0.0204 & 0.0478 & 0.0492\\\\\n\t50 & 0.0454 & 0.0326 & 0.0498 & 0.0500\\\\\n\t100 & 0.0466 & 0.0412 & 0.0526 & 0.0520\\\\\n\t500 & 0.0480 & 0.0422 & 0.0504 & 0.0472\\\\\n\t1000 & 0.0512 & 0.0506 & 0.0536 & 0.0512\\\\\n\\end{tabular}\n",
            "text/plain": [
              "     KS     Jarque-Bera Shapiro Cramer\n",
              "10   0.0524 0.0110      0.0518  0.0516\n",
              "20   0.0490 0.0204      0.0478  0.0492\n",
              "50   0.0454 0.0326      0.0498  0.0500\n",
              "100  0.0466 0.0412      0.0526  0.0520\n",
              "500  0.0480 0.0422      0.0504  0.0472\n",
              "1000 0.0512 0.0506      0.0536  0.0512"
            ]
          },
          "metadata": {}
        }
      ]
    },
    {
      "cell_type": "code",
      "source": [
        "# H0 é falso: caso Student-t com 15 g.l\n",
        "hist(rt(10000, 15))"
      ],
      "metadata": {
        "colab": {
          "base_uri": "https://localhost:8080/",
          "height": 437
        },
        "id": "5v1_ChUrocGh",
        "outputId": "765fe8f3-1342-494b-bcbd-4435f374edc2"
      },
      "execution_count": 15,
      "outputs": [
        {
          "output_type": "display_data",
          "data": {
            "text/plain": [
              "Plot with title “Histogram of rt(10000, 15)”"
            ],
            "image/png": "[encoded data removed]"
          },
          "metadata": {
            "image/png": {
              "width": 420,
              "height": 420
            }
          }
        }
      ]
    },
    {
      "cell_type": "code",
      "source": [
        "# Estudo de Simulação Quando H0 é falso: caso Student-t\n",
        "for (j in 1:length(size_n)) {\n",
        "  for (i in 1:replicacoes) {\n",
        "    ## Controlamos a semente\n",
        "    set.seed(i)\n",
        "    ## Simulamos dados\n",
        "    x <- rt(size_n[j], 15)\n",
        "    ## Aplicamos os testes\n",
        "    p_valores[i, ] <- c(ks.test(x, \"pnorm\")$p.value, \n",
        "                        jarque.bera.test(x)$p.value,\n",
        "                        shapiro.test(x)$p.value,\n",
        "                        CramerVonMisesTest(x)$p.value)\n",
        "  }\n",
        "  ## Calculamos a proporcao de vezes que rejeitamos H0\n",
        "  tabela[j, ] <- apply(p_valores < 0.05, 2, mean)\n",
        "}\n",
        "tabela"
      ],
      "metadata": {
        "colab": {
          "base_uri": "https://localhost:8080/",
          "height": 255
        },
        "id": "ymeoFFgylyMe",
        "outputId": "ddf3a1d9-e024-4c03-bc54-640933f726d8"
      },
      "execution_count": 16,
      "outputs": [
        {
          "output_type": "display_data",
          "data": {
            "text/html": [
              "<table class=\"dataframe\">\n",
              "<caption>A matrix: 6 × 4 of type dbl</caption>\n",
              "<thead>\n",
              "\t<tr><th></th><th scope=col>KS</th><th scope=col>Jarque-Bera</th><th scope=col>Shapiro</th><th scope=col>Cramer</th></tr>\n",
              "</thead>\n",
              "<tbody>\n",
              "\t<tr><th scope=row>10</th><td>0.0538</td><td>0.0152</td><td>0.0624</td><td>0.0620</td></tr>\n",
              "\t<tr><th scope=row>20</th><td>0.0552</td><td>0.0514</td><td>0.0784</td><td>0.0696</td></tr>\n",
              "\t<tr><th scope=row>50</th><td>0.0586</td><td>0.1130</td><td>0.1102</td><td>0.0804</td></tr>\n",
              "\t<tr><th scope=row>100</th><td>0.0514</td><td>0.1866</td><td>0.1466</td><td>0.0918</td></tr>\n",
              "\t<tr><th scope=row>500</th><td>0.0580</td><td>0.4826</td><td>0.3810</td><td>0.1864</td></tr>\n",
              "\t<tr><th scope=row>1000</th><td>0.0600</td><td>0.7114</td><td>0.6052</td><td>0.3408</td></tr>\n",
              "</tbody>\n",
              "</table>\n"
            ],
            "text/markdown": "\nA matrix: 6 × 4 of type dbl\n\n| <!--/--> | KS | Jarque-Bera | Shapiro | Cramer |\n|---|---|---|---|---|\n| 10 | 0.0538 | 0.0152 | 0.0624 | 0.0620 |\n| 20 | 0.0552 | 0.0514 | 0.0784 | 0.0696 |\n| 50 | 0.0586 | 0.1130 | 0.1102 | 0.0804 |\n| 100 | 0.0514 | 0.1866 | 0.1466 | 0.0918 |\n| 500 | 0.0580 | 0.4826 | 0.3810 | 0.1864 |\n| 1000 | 0.0600 | 0.7114 | 0.6052 | 0.3408 |\n\n",
            "text/latex": "A matrix: 6 × 4 of type dbl\n\\begin{tabular}{r|llll}\n  & KS & Jarque-Bera & Shapiro & Cramer\\\\\n\\hline\n\t10 & 0.0538 & 0.0152 & 0.0624 & 0.0620\\\\\n\t20 & 0.0552 & 0.0514 & 0.0784 & 0.0696\\\\\n\t50 & 0.0586 & 0.1130 & 0.1102 & 0.0804\\\\\n\t100 & 0.0514 & 0.1866 & 0.1466 & 0.0918\\\\\n\t500 & 0.0580 & 0.4826 & 0.3810 & 0.1864\\\\\n\t1000 & 0.0600 & 0.7114 & 0.6052 & 0.3408\\\\\n\\end{tabular}\n",
            "text/plain": [
              "     KS     Jarque-Bera Shapiro Cramer\n",
              "10   0.0538 0.0152      0.0624  0.0620\n",
              "20   0.0552 0.0514      0.0784  0.0696\n",
              "50   0.0586 0.1130      0.1102  0.0804\n",
              "100  0.0514 0.1866      0.1466  0.0918\n",
              "500  0.0580 0.4826      0.3810  0.1864\n",
              "1000 0.0600 0.7114      0.6052  0.3408"
            ]
          },
          "metadata": {}
        }
      ]
    },
    {
      "cell_type": "code",
      "source": [
        "# H0 é falso: caso Student-t com 7 g.l\n",
        "hist(rt(10000, 7))"
      ],
      "metadata": {
        "colab": {
          "base_uri": "https://localhost:8080/",
          "height": 437
        },
        "id": "UisR_M7FnsH_",
        "outputId": "ca991b9a-9df0-4342-a3d8-6833b9486b1d"
      },
      "execution_count": 17,
      "outputs": [
        {
          "output_type": "display_data",
          "data": {
            "text/plain": [
              "Plot with title “Histogram of rt(10000, 7)”"
            ],
            "image/png": "[encoded data removed]"
          },
          "metadata": {
            "image/png": {
              "width": 420,
              "height": 420
            }
          }
        }
      ]
    },
    {
      "cell_type": "code",
      "source": [
        "# Estudo de Simulação Quando H0 é falso: caso Student-t\n",
        "for (j in 1:length(size_n)) {\n",
        "  for (i in 1:replicacoes) {\n",
        "    ## Controlamos a semente\n",
        "    set.seed(i)\n",
        "    ## Simulamos dados\n",
        "    x <- rt(size_n[j], 7)\n",
        "    ## Aplicamos os testes\n",
        "    p_valores[i, ] <- c(ks.test(x, \"pnorm\")$p.value, \n",
        "                        jarque.bera.test(x)$p.value,\n",
        "                        shapiro.test(x)$p.value,\n",
        "                        CramerVonMisesTest(x)$p.value)\n",
        "  }\n",
        "  ## Calculamos a proporcao de vezes que rejeitamos H0\n",
        "  tabela[j, ] <- apply(p_valores < 0.05, 2, mean)\n",
        "}\n",
        "tabela"
      ],
      "metadata": {
        "colab": {
          "base_uri": "https://localhost:8080/",
          "height": 255
        },
        "id": "Me39bRX7l7Nn",
        "outputId": "44a17874-09e8-4fe7-8e8c-4e240f1a3507"
      },
      "execution_count": 18,
      "outputs": [
        {
          "output_type": "display_data",
          "data": {
            "text/html": [
              "<table class=\"dataframe\">\n",
              "<caption>A matrix: 6 × 4 of type dbl</caption>\n",
              "<thead>\n",
              "\t<tr><th></th><th scope=col>KS</th><th scope=col>Jarque-Bera</th><th scope=col>Shapiro</th><th scope=col>Cramer</th></tr>\n",
              "</thead>\n",
              "<tbody>\n",
              "\t<tr><th scope=row>10</th><td>0.0608</td><td>0.0262</td><td>0.0844</td><td>0.0760</td></tr>\n",
              "\t<tr><th scope=row>20</th><td>0.0570</td><td>0.1112</td><td>0.1304</td><td>0.1076</td></tr>\n",
              "\t<tr><th scope=row>50</th><td>0.0646</td><td>0.2712</td><td>0.2372</td><td>0.1610</td></tr>\n",
              "\t<tr><th scope=row>100</th><td>0.0642</td><td>0.4390</td><td>0.3720</td><td>0.2492</td></tr>\n",
              "\t<tr><th scope=row>500</th><td>0.0976</td><td>0.9324</td><td>0.8970</td><td>0.7600</td></tr>\n",
              "\t<tr><th scope=row>1000</th><td>0.1786</td><td>0.9978</td><td>0.9938</td><td>0.9614</td></tr>\n",
              "</tbody>\n",
              "</table>\n"
            ],
            "text/markdown": "\nA matrix: 6 × 4 of type dbl\n\n| <!--/--> | KS | Jarque-Bera | Shapiro | Cramer |\n|---|---|---|---|---|\n| 10 | 0.0608 | 0.0262 | 0.0844 | 0.0760 |\n| 20 | 0.0570 | 0.1112 | 0.1304 | 0.1076 |\n| 50 | 0.0646 | 0.2712 | 0.2372 | 0.1610 |\n| 100 | 0.0642 | 0.4390 | 0.3720 | 0.2492 |\n| 500 | 0.0976 | 0.9324 | 0.8970 | 0.7600 |\n| 1000 | 0.1786 | 0.9978 | 0.9938 | 0.9614 |\n\n",
            "text/latex": "A matrix: 6 × 4 of type dbl\n\\begin{tabular}{r|llll}\n  & KS & Jarque-Bera & Shapiro & Cramer\\\\\n\\hline\n\t10 & 0.0608 & 0.0262 & 0.0844 & 0.0760\\\\\n\t20 & 0.0570 & 0.1112 & 0.1304 & 0.1076\\\\\n\t50 & 0.0646 & 0.2712 & 0.2372 & 0.1610\\\\\n\t100 & 0.0642 & 0.4390 & 0.3720 & 0.2492\\\\\n\t500 & 0.0976 & 0.9324 & 0.8970 & 0.7600\\\\\n\t1000 & 0.1786 & 0.9978 & 0.9938 & 0.9614\\\\\n\\end{tabular}\n",
            "text/plain": [
              "     KS     Jarque-Bera Shapiro Cramer\n",
              "10   0.0608 0.0262      0.0844  0.0760\n",
              "20   0.0570 0.1112      0.1304  0.1076\n",
              "50   0.0646 0.2712      0.2372  0.1610\n",
              "100  0.0642 0.4390      0.3720  0.2492\n",
              "500  0.0976 0.9324      0.8970  0.7600\n",
              "1000 0.1786 0.9978      0.9938  0.9614"
            ]
          },
          "metadata": {}
        }
      ]
    },
    {
      "cell_type": "code",
      "source": [
        "# H0 é falso: caso Chi2\n",
        "hist(rchisq(10000, 13))"
      ],
      "metadata": {
        "colab": {
          "base_uri": "https://localhost:8080/",
          "height": 437
        },
        "id": "E87_X3hNmB3-",
        "outputId": "7e5f41c4-d22e-4de9-b4bb-4b5d6be892a0"
      },
      "execution_count": 19,
      "outputs": [
        {
          "output_type": "display_data",
          "data": {
            "text/plain": [
              "Plot with title “Histogram of rchisq(10000, 13)”"
            ],
            "image/png": "[encoded data removed]"
          },
          "metadata": {
            "image/png": {
              "width": 420,
              "height": 420
            }
          }
        }
      ]
    },
    {
      "cell_type": "code",
      "source": [
        "# Estudo de Simulação Quando H0 é falso: caso Chi2\n",
        "for (j in 1:length(size_n)) {\n",
        "  for (i in 1:replicacoes) {\n",
        "    ## Controlamos a semente\n",
        "    set.seed(i)\n",
        "    ## Simulamos dados\n",
        "    x <- rchisq(size_n[j], 13)\n",
        "    ## Aplicamos os testes\n",
        "    p_valores[i, ] <- c(ks.test(x, \"pnorm\")$p.value, \n",
        "                        jarque.bera.test(x)$p.value,\n",
        "                        shapiro.test(x)$p.value,\n",
        "                        CramerVonMisesTest(x)$p.value)\n",
        "  }\n",
        "  ## Calculamos a proporcao de vezes que rejeitamos H0\n",
        "  tabela[j, ] <- apply(p_valores < 0.05, 2, mean)\n",
        "}\n",
        "tabela"
      ],
      "metadata": {
        "colab": {
          "base_uri": "https://localhost:8080/",
          "height": 255
        },
        "id": "bto0fbKSl9ek",
        "outputId": "ec1b0689-13e0-4530-a8ee-bb600cdae343"
      },
      "execution_count": 20,
      "outputs": [
        {
          "output_type": "display_data",
          "data": {
            "text/html": [
              "<table class=\"dataframe\">\n",
              "<caption>A matrix: 6 × 4 of type dbl</caption>\n",
              "<thead>\n",
              "\t<tr><th></th><th scope=col>KS</th><th scope=col>Jarque-Bera</th><th scope=col>Shapiro</th><th scope=col>Cramer</th></tr>\n",
              "</thead>\n",
              "<tbody>\n",
              "\t<tr><th scope=row>10</th><td>1</td><td>0.0302</td><td>0.1024</td><td>0.0894</td></tr>\n",
              "\t<tr><th scope=row>20</th><td>1</td><td>0.1162</td><td>0.1916</td><td>0.1470</td></tr>\n",
              "\t<tr><th scope=row>50</th><td>1</td><td>0.3392</td><td>0.4628</td><td>0.3222</td></tr>\n",
              "\t<tr><th scope=row>100</th><td>1</td><td>0.6738</td><td>0.8028</td><td>0.6140</td></tr>\n",
              "\t<tr><th scope=row>500</th><td>1</td><td>1.0000</td><td>1.0000</td><td>0.9998</td></tr>\n",
              "\t<tr><th scope=row>1000</th><td>1</td><td>1.0000</td><td>1.0000</td><td>1.0000</td></tr>\n",
              "</tbody>\n",
              "</table>\n"
            ],
            "text/markdown": "\nA matrix: 6 × 4 of type dbl\n\n| <!--/--> | KS | Jarque-Bera | Shapiro | Cramer |\n|---|---|---|---|---|\n| 10 | 1 | 0.0302 | 0.1024 | 0.0894 |\n| 20 | 1 | 0.1162 | 0.1916 | 0.1470 |\n| 50 | 1 | 0.3392 | 0.4628 | 0.3222 |\n| 100 | 1 | 0.6738 | 0.8028 | 0.6140 |\n| 500 | 1 | 1.0000 | 1.0000 | 0.9998 |\n| 1000 | 1 | 1.0000 | 1.0000 | 1.0000 |\n\n",
            "text/latex": "A matrix: 6 × 4 of type dbl\n\\begin{tabular}{r|llll}\n  & KS & Jarque-Bera & Shapiro & Cramer\\\\\n\\hline\n\t10 & 1 & 0.0302 & 0.1024 & 0.0894\\\\\n\t20 & 1 & 0.1162 & 0.1916 & 0.1470\\\\\n\t50 & 1 & 0.3392 & 0.4628 & 0.3222\\\\\n\t100 & 1 & 0.6738 & 0.8028 & 0.6140\\\\\n\t500 & 1 & 1.0000 & 1.0000 & 0.9998\\\\\n\t1000 & 1 & 1.0000 & 1.0000 & 1.0000\\\\\n\\end{tabular}\n",
            "text/plain": [
              "     KS Jarque-Bera Shapiro Cramer\n",
              "10   1  0.0302      0.1024  0.0894\n",
              "20   1  0.1162      0.1916  0.1470\n",
              "50   1  0.3392      0.4628  0.3222\n",
              "100  1  0.6738      0.8028  0.6140\n",
              "500  1  1.0000      1.0000  0.9998\n",
              "1000 1  1.0000      1.0000  1.0000"
            ]
          },
          "metadata": {}
        }
      ]
    }
  ]
}