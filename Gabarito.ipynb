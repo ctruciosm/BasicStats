{
  "nbformat": 4,
  "nbformat_minor": 0,
  "metadata": {
    "colab": {
      "name": "Gabarito.ipynb",
      "provenance": [],
      "collapsed_sections": [
        "lThvjN4x0IBo",
        "ineEzWcm81PU",
        "vPFO9U4XBFaj",
        "07vMz87PRFU7"
      ]
    },
    "kernelspec": {
      "name": "ir",
      "display_name": "R"
    },
    "language_info": {
      "name": "R"
    }
  },
  "cells": [
    {
      "cell_type": "markdown",
      "source": [
        "# Gabarito Lista 5 ACA124"
      ],
      "metadata": {
        "id": "9belG1WBvdm_"
      }
    },
    {
      "cell_type": "code",
      "source": [
        "# Primeiro instalamos e carregamos os pacotes necessários para resolver os exercícios\n",
        "install.packages(\"lpSolve\")\n",
        "install.packages(\"igraph\")\n",
        "library(lpSolve)\n",
        "library(igraph)"
      ],
      "metadata": {
        "colab": {
          "base_uri": "https://localhost:8080/"
        },
        "id": "kQzIu25ivmay",
        "outputId": "8a9be529-d0bc-4cbf-9d61-66a6801baee0"
      },
      "execution_count": 1,
      "outputs": [
        {
          "output_type": "stream",
          "name": "stderr",
          "text": [
            "Installing package into ‘/usr/local/lib/R/site-library’\n",
            "(as ‘lib’ is unspecified)\n",
            "\n",
            "Installing package into ‘/usr/local/lib/R/site-library’\n",
            "(as ‘lib’ is unspecified)\n",
            "\n",
            "\n",
            "Attaching package: ‘igraph’\n",
            "\n",
            "\n",
            "The following objects are masked from ‘package:stats’:\n",
            "\n",
            "    decompose, spectrum\n",
            "\n",
            "\n",
            "The following object is masked from ‘package:base’:\n",
            "\n",
            "    union\n",
            "\n",
            "\n"
          ]
        }
      ]
    },
    {
      "cell_type": "markdown",
      "source": [
        "## Questão 1"
      ],
      "metadata": {
        "id": "auPFWAtT0CVe"
      }
    },
    {
      "cell_type": "markdown",
      "source": [
        "A _Sorny_ possui duas fábricas no Brasil produzindo video games que devem ser remetidos a três centros de distribuição. O custo de produção são os mesmos em ambas as fábricas e o custo (em reais) de transporte por lote é mostrado na Tabela a seguir.\n",
        "\n",
        "\n",
        "| Fábrica / CD | CD1   | CD2    | CD 3   |\n",
        "|:------------:|:-----:|:------:|:------:|\n",
        "| $F_1$| 800   | 700    | 400   |\n",
        "| $F_2$| 600   | 800    | 500   |\n",
        "\n",
        "Cada fábrica é capaz de produzir, no máximo, 50 lotes por mês.  Para satisfazer a procura por video games, cada centro de distribuição precisa de, exatamente, 20 lotes por mês. A _Sorny_ está interessaa em saber como enviar os lotes de forma a minimizar o custo total de transporte.\n",
        "\n",
        "### Solução\n",
        "\n",
        "Reparem que estamos ante um problema de transporte e as restrições são: \n",
        "\n",
        "- Cada fábrica pode produzir, no máximo 50 lotes por mês (não significa que produzira sempre 50, pode produzir menos, mas sua capacidade máxima é 50).\n",
        "- Cada CD precisa receber exatamente 20 lotes.\n",
        "\n",
        "Então, colocamos as restrições na Tabela\n",
        "\n",
        "\n",
        "| Fábrica / CD | CD1   | CD2    | CD 3   | Origem |\n",
        "|:------------:|:-----:|:------:|:------:|:------:|\n",
        "| $F_1$| 800   | 700    | 400   |  $\\leq 50$ | \n",
        "| $F_2$| 600   | 800    | 500   |  $\\leq 50$ | \n",
        "| Destino |  = 20   |  =20   |  = 20  |   |"
      ],
      "metadata": {
        "id": "IRorjfM-wgg9"
      }
    },
    {
      "cell_type": "code",
      "source": [
        "matriz_custos = matrix(c(800, 600, 700, 800, 400, 500), ncol = 3, nrow = 2)\n",
        "lado_direito_sinal = rep(\"<=\", 2)\n",
        "lado_direito_valores = c(50, 50)\n",
        "parte_abaixo_sinal = rep(\"=\", 3)\n",
        "parte_abaixo_valores = c(20, 20, 20)"
      ],
      "metadata": {
        "id": "KahlxrMvxzs9"
      },
      "execution_count": 2,
      "outputs": []
    },
    {
      "cell_type": "code",
      "source": [
        "# Reparem que a matriz de custos é exatamente como na Tabela\n",
        "matriz_custos  "
      ],
      "metadata": {
        "colab": {
          "base_uri": "https://localhost:8080/",
          "height": 114
        },
        "id": "TNe21NzJyVB4",
        "outputId": "45d253a3-acd0-4521-a39f-e42bebf1a548"
      },
      "execution_count": 3,
      "outputs": [
        {
          "output_type": "display_data",
          "data": {
            "text/html": [
              "<table class=\"dataframe\">\n",
              "<caption>A matrix: 2 × 3 of type dbl</caption>\n",
              "<tbody>\n",
              "\t<tr><td>800</td><td>700</td><td>400</td></tr>\n",
              "\t<tr><td>600</td><td>800</td><td>500</td></tr>\n",
              "</tbody>\n",
              "</table>\n"
            ],
            "text/markdown": "\nA matrix: 2 × 3 of type dbl\n\n| 800 | 700 | 400 |\n| 600 | 800 | 500 |\n\n",
            "text/latex": "A matrix: 2 × 3 of type dbl\n\\begin{tabular}{lll}\n\t 800 & 700 & 400\\\\\n\t 600 & 800 & 500\\\\\n\\end{tabular}\n",
            "text/plain": [
              "     [,1] [,2] [,3]\n",
              "[1,] 800  700  400 \n",
              "[2,] 600  800  500 "
            ]
          },
          "metadata": {}
        }
      ]
    },
    {
      "cell_type": "code",
      "source": [
        "# Rodamos o algoritmo\n",
        "resultados_prob_transporte = lp.transport(matriz_custos, \"min\", \n",
        "row.signs = lado_direito_sinal, row.rhs = lado_direito_valores, \n",
        "col.signs = parte_abaixo_sinal, col.rhs = parte_abaixo_valores)"
      ],
      "metadata": {
        "id": "lkLcKYlxyc3X"
      },
      "execution_count": 4,
      "outputs": []
    },
    {
      "cell_type": "code",
      "source": [
        "# Solução ótima\n",
        "resultados_prob_transporte$solution"
      ],
      "metadata": {
        "colab": {
          "base_uri": "https://localhost:8080/",
          "height": 114
        },
        "id": "tbNQvo3RyqCh",
        "outputId": "c71c8f73-fc8f-426b-8863-799bad7351d7"
      },
      "execution_count": 5,
      "outputs": [
        {
          "output_type": "display_data",
          "data": {
            "text/html": [
              "<table class=\"dataframe\">\n",
              "<caption>A matrix: 2 × 3 of type dbl</caption>\n",
              "<tbody>\n",
              "\t<tr><td> 0</td><td>20</td><td>20</td></tr>\n",
              "\t<tr><td>20</td><td> 0</td><td> 0</td></tr>\n",
              "</tbody>\n",
              "</table>\n"
            ],
            "text/markdown": "\nA matrix: 2 × 3 of type dbl\n\n|  0 | 20 | 20 |\n| 20 |  0 |  0 |\n\n",
            "text/latex": "A matrix: 2 × 3 of type dbl\n\\begin{tabular}{lll}\n\t  0 & 20 & 20\\\\\n\t 20 &  0 &  0\\\\\n\\end{tabular}\n",
            "text/plain": [
              "     [,1] [,2] [,3]\n",
              "[1,]  0   20   20  \n",
              "[2,] 20    0    0  "
            ]
          },
          "metadata": {}
        }
      ]
    },
    {
      "cell_type": "markdown",
      "source": [
        "Lembre-se que:\n",
        "\n",
        "- A linha 1 representa a Fabrica 1\n",
        "- A linha 2 representa a Fabrica 2\n",
        "- A coluna 1 representa o CD1\n",
        "- A coluna 2 representa o CD2\n",
        "- A coluna 3 representa o CD3\n",
        "\n",
        "Então, a solução ótima nos diz que da Fabrica 1 devemos prodruzir 40 lotes e enviar 20 para o CD2 e 20 para o CD3. Já da Fabrica 2 devemos produzir apenas 20 lotes e enviá-los ao CD1"
      ],
      "metadata": {
        "id": "VnDhi29HyuqX"
      }
    },
    {
      "cell_type": "code",
      "source": [
        "# Se quisermos saber o custo que será gasto\n",
        "resultados_prob_transporte"
      ],
      "metadata": {
        "colab": {
          "base_uri": "https://localhost:8080/",
          "height": 35
        },
        "id": "xPuXi-uSy-0e",
        "outputId": "478c5af1-b0a3-4e34-9a05-dc38fb18a14f"
      },
      "execution_count": 6,
      "outputs": [
        {
          "output_type": "display_data",
          "data": {
            "text/plain": [
              "Success: the objective function is 34000 "
            ]
          },
          "metadata": {}
        }
      ]
    },
    {
      "cell_type": "markdown",
      "source": [
        "Veja que é exatamente a mesma coisa do que multiplicar a quantidade de lotes enviados para cada CD pelo custo de envio:\n"
      ],
      "metadata": {
        "id": "75pOXtvizbry"
      }
    },
    {
      "cell_type": "code",
      "source": [
        "20*700 + 20*400 + 20*600"
      ],
      "metadata": {
        "colab": {
          "base_uri": "https://localhost:8080/",
          "height": 34
        },
        "id": "DH0rfBYbzwlZ",
        "outputId": "292a2059-37e2-4f0a-ab7b-aa2e37c3fb39"
      },
      "execution_count": 7,
      "outputs": [
        {
          "output_type": "display_data",
          "data": {
            "text/html": [
              "34000"
            ],
            "text/markdown": "34000",
            "text/latex": "34000",
            "text/plain": [
              "[1] 34000"
            ]
          },
          "metadata": {}
        }
      ]
    },
    {
      "cell_type": "markdown",
      "source": [
        "## Questão 2"
      ],
      "metadata": {
        "id": "lThvjN4x0IBo"
      }
    },
    {
      "cell_type": "markdown",
      "source": [
        "A empresa _Baby Boomers_ possui três fábricas que produzem carrinhos de bebê que devem ser remetidos para quatro centros de distribuição. As fábricas 1, 2 e 3 produzem 12, 17 e 11 remessas por mês, respectivamente. Cada centro de distribuição precisa receber 10 remessas por mês. A distância entre cada fábrica e os respectivos centros de distribuição é apresentado na Tabela abaixo.\n",
        "\n",
        "| Fábrica / CD | CD1   | CD2    | CD 3   | CD 4   |\n",
        "|:------------:|:-----:|:------:|:------:|:------:|\n",
        "| $F_1$| 800km   | 1300km    | 400km   | 700km   |\n",
        "| $F_2$| 1100km  | 1400km    | 600km   | 1000km   |\n",
        "| $F_3$| 600km   | 1200km    | 800km   | 900km   |\n",
        "\n",
        "\n",
        "O custo do frete por remessa é de R.100 mais 50 centavos por km. A _Baby Boomers_ está interessada em transportar as remessas de forma que o custo de transporte entre as fábricas e centros de distribuição seja mínimo. Escreva quantas remessas de cada fábrica devem ser enviadas a cada centro de distribuição e qual será o custo final do frete para tender as demandas da _Baby Boomers_. **Dica: precisará reformular a Tabela**\n",
        "\n",
        "### Solução\n",
        "\n",
        "A Tabela não é exatamente o que queremos para poder enquadrar o problem em um problema de transporte. Contudo, temos a informação que \"O custo do frete por remessa é de R.100 mais 50 centavos por km\". Então utilizaremos esta informação para refazer a Tabela.\n",
        "\n",
        "Uma forma fácil de transformar essas distâncias em uma matriz de custos, segundo o escrito no problema, é o seguinte.\n"
      ],
      "metadata": {
        "id": "chDLX0WWz2ZJ"
      }
    },
    {
      "cell_type": "code",
      "source": [
        "matrix_distancias = matrix(c(800, 1100, 600, 1300, 1400, 1200, 400, 600, 800, 700, 1000, 900), ncol = 4)\n",
        "\n",
        "# Veja que a matriz de distâncias é exatamente a definida no exercício\n",
        "matrix_distancias"
      ],
      "metadata": {
        "colab": {
          "base_uri": "https://localhost:8080/",
          "height": 148
        },
        "id": "JymfHWQ90jKv",
        "outputId": "9ea1a4f3-82fa-4960-fddb-57fc9200319b"
      },
      "execution_count": 8,
      "outputs": [
        {
          "output_type": "display_data",
          "data": {
            "text/html": [
              "<table class=\"dataframe\">\n",
              "<caption>A matrix: 3 × 4 of type dbl</caption>\n",
              "<tbody>\n",
              "\t<tr><td> 800</td><td>1300</td><td>400</td><td> 700</td></tr>\n",
              "\t<tr><td>1100</td><td>1400</td><td>600</td><td>1000</td></tr>\n",
              "\t<tr><td> 600</td><td>1200</td><td>800</td><td> 900</td></tr>\n",
              "</tbody>\n",
              "</table>\n"
            ],
            "text/markdown": "\nA matrix: 3 × 4 of type dbl\n\n|  800 | 1300 | 400 |  700 |\n| 1100 | 1400 | 600 | 1000 |\n|  600 | 1200 | 800 |  900 |\n\n",
            "text/latex": "A matrix: 3 × 4 of type dbl\n\\begin{tabular}{llll}\n\t  800 & 1300 & 400 &  700\\\\\n\t 1100 & 1400 & 600 & 1000\\\\\n\t  600 & 1200 & 800 &  900\\\\\n\\end{tabular}\n",
            "text/plain": [
              "     [,1] [,2] [,3] [,4]\n",
              "[1,]  800 1300 400   700\n",
              "[2,] 1100 1400 600  1000\n",
              "[3,]  600 1200 800   900"
            ]
          },
          "metadata": {}
        }
      ]
    },
    {
      "cell_type": "code",
      "source": [
        "# Agora, calcularemos a matriz de custos\n",
        "matriz_custos = 100 + 0.5 * matrix_distancias\n",
        "matriz_custos"
      ],
      "metadata": {
        "colab": {
          "base_uri": "https://localhost:8080/",
          "height": 166
        },
        "id": "nFWN4rvn0-dC",
        "outputId": "0afa58b1-3bfa-4885-cdff-fc0c4d59113c"
      },
      "execution_count": 9,
      "outputs": [
        {
          "output_type": "display_data",
          "data": {
            "text/html": [
              "<table class=\"dataframe\">\n",
              "<caption>A matrix: 3 × 4 of type dbl</caption>\n",
              "<tbody>\n",
              "\t<tr><td>500</td><td>750</td><td>300</td><td>450</td></tr>\n",
              "\t<tr><td>650</td><td>800</td><td>400</td><td>600</td></tr>\n",
              "\t<tr><td>400</td><td>700</td><td>500</td><td>550</td></tr>\n",
              "</tbody>\n",
              "</table>\n"
            ],
            "text/markdown": "\nA matrix: 3 × 4 of type dbl\n\n| 500 | 750 | 300 | 450 |\n| 650 | 800 | 400 | 600 |\n| 400 | 700 | 500 | 550 |\n\n",
            "text/latex": "A matrix: 3 × 4 of type dbl\n\\begin{tabular}{llll}\n\t 500 & 750 & 300 & 450\\\\\n\t 650 & 800 & 400 & 600\\\\\n\t 400 & 700 & 500 & 550\\\\\n\\end{tabular}\n",
            "text/plain": [
              "     [,1] [,2] [,3] [,4]\n",
              "[1,] 500  750  300  450 \n",
              "[2,] 650  800  400  600 \n",
              "[3,] 400  700  500  550 "
            ]
          },
          "metadata": {}
        }
      ]
    },
    {
      "cell_type": "markdown",
      "source": [
        "> Você poderia ter feito essa operação manualmente, mas lembre-se que pode também utilizar o **R** como uma calculadora. O que foi feito é o seguinte: `0.5 * matriz_distancias` multiplicou por 0.5 cada elemento da matriz. Depois somei 100 a cada elemento da operação resultante."
      ],
      "metadata": {
        "id": "rk3K8xsy1IvX"
      }
    },
    {
      "cell_type": "markdown",
      "source": [
        "Com essa matriz de custos, basta encontrar as restrições apropriadas e utilizar (agora sim) o problema de transporte.\n",
        "\n",
        "Repare que as restrições são as seguintes:\n",
        "\n",
        "- $F_1$ produz 12 remessas \n",
        "- $F_2$ produz 17 remessas.\n",
        "- $F_3$ produz 11 remessas.\n",
        "- CD1 precisa 10 remessas.\n",
        "- CD2 precisa 10 remessas.\n",
        "- CD3 precisa 10 remessas.\n",
        "- CD4 precisa 10 remessas.\n",
        "\n",
        "\n",
        "| Fábrica / CD | CD1   | CD2    | CD 3   | CD 4   | Origem\n",
        "|:------------:|:-----:|:------:|:------:|:------:|:------:|\n",
        "| $F_1$| 500  | 750   | 300  | 450  | = 12 |\n",
        "| $F_2$| 650  | 800   | 400  | 600  | = 17 |\n",
        "| $F_3$| 400  | 700   | 500  | 550  | = 11 |\n",
        "| Destino| = 10 | = 10    | = 10   | = 10  |   |\n",
        "\n",
        "> Repare que a soma dos destinos (10 + 10 + 10 + 10 = 40) é igual à soma das origens (12 + 17 + 11 = 40). Isso já da a dica que todas as restrições são de igualdade. Note que isso não acontecia no exercício anterior."
      ],
      "metadata": {
        "id": "9l9VRnLR1np9"
      }
    },
    {
      "cell_type": "code",
      "source": [
        "# Como já temos a matriz de custos, faltam as restrições, rodar o algoritmo e obter a solução ótima.\n",
        "\n",
        "lado_direito_sinal = rep(\"=\", 3)\n",
        "lado_direito_valores = c(12, 17, 11)\n",
        "parte_abaixo_sinal = rep(\"=\", 4)\n",
        "parte_abaixo_valores = rep(10, 4)  # poderia ser também c(10, 10, 10, 10) é a mesma coisa. rep() signific que repete o valor 10, 4 vezes."
      ],
      "metadata": {
        "id": "WRQOa6OS5Aby"
      },
      "execution_count": 10,
      "outputs": []
    },
    {
      "cell_type": "code",
      "source": [
        "# Rodamos o algoritmo\n",
        "\n",
        "resultados_prob_transporte = lp.transport(matriz_custos, \"min\", \n",
        "row.signs = lado_direito_sinal, row.rhs = lado_direito_valores, \n",
        "col.signs = parte_abaixo_sinal, col.rhs = parte_abaixo_valores)\n",
        "\n"
      ],
      "metadata": {
        "id": "Gek43Wq15ZZM"
      },
      "execution_count": 11,
      "outputs": []
    },
    {
      "cell_type": "code",
      "source": [
        "# Solução ótima\n",
        "resultados_prob_transporte$solution"
      ],
      "metadata": {
        "colab": {
          "base_uri": "https://localhost:8080/",
          "height": 166
        },
        "id": "r5Xy-BQu7H9Z",
        "outputId": "afee6da8-fdd1-4a60-c4c6-f569ba8090fe"
      },
      "execution_count": 12,
      "outputs": [
        {
          "output_type": "display_data",
          "data": {
            "text/html": [
              "<table class=\"dataframe\">\n",
              "<caption>A matrix: 3 × 4 of type dbl</caption>\n",
              "<tbody>\n",
              "\t<tr><td> 0</td><td>0</td><td>2</td><td>10</td></tr>\n",
              "\t<tr><td> 0</td><td>9</td><td>8</td><td> 0</td></tr>\n",
              "\t<tr><td>10</td><td>1</td><td>0</td><td> 0</td></tr>\n",
              "</tbody>\n",
              "</table>\n"
            ],
            "text/markdown": "\nA matrix: 3 × 4 of type dbl\n\n|  0 | 0 | 2 | 10 |\n|  0 | 9 | 8 |  0 |\n| 10 | 1 | 0 |  0 |\n\n",
            "text/latex": "A matrix: 3 × 4 of type dbl\n\\begin{tabular}{llll}\n\t  0 & 0 & 2 & 10\\\\\n\t  0 & 9 & 8 &  0\\\\\n\t 10 & 1 & 0 &  0\\\\\n\\end{tabular}\n",
            "text/plain": [
              "     [,1] [,2] [,3] [,4]\n",
              "[1,]  0   0    2    10  \n",
              "[2,]  0   9    8     0  \n",
              "[3,] 10   1    0     0  "
            ]
          },
          "metadata": {}
        }
      ]
    },
    {
      "cell_type": "markdown",
      "source": [
        "Ou seja:\n",
        "\n",
        "- Da $F_1$ enviamos 2 remessas para o CD3.\n",
        "- Da $F_1$ enviamos 10 remessas para o CD4.\n",
        "- Da $F_2$ enviamos 9 remessas para o CD2.\n",
        "- Da $F_2$ enviamos 8 remessas para o CD3.\n",
        "- Da $F_3$ enviamos 10 remessas para o CD1.\n",
        "- Da $F_3$ enviamos 1 remessas para o CD2.\n",
        "\n",
        "> Vejam que a interpretação é importante (se eu pedir na prova como interpretar, vocês já sabem como fazer).\n",
        "\n"
      ],
      "metadata": {
        "id": "Rtq3cgTy7Q7b"
      }
    },
    {
      "cell_type": "code",
      "source": [
        "# Se quisermos saber o custo total de envio das remessas das Fábricas aos CDs\n",
        "resultados_prob_transporte"
      ],
      "metadata": {
        "colab": {
          "base_uri": "https://localhost:8080/",
          "height": 147
        },
        "id": "bkip0big7o3D",
        "outputId": "2916ea56-6203-4082-88f6-10217411ebc9"
      },
      "execution_count": 13,
      "outputs": [
        {
          "output_type": "display_data",
          "data": {
            "text/plain": [
              "Success: the objective function is 20200 "
            ]
          },
          "metadata": {}
        }
      ]
    },
    {
      "cell_type": "markdown",
      "source": [
        "O custo total de envio é 20200 (que é o mínimo possível)."
      ],
      "metadata": {
        "id": "S--KREKJ7voD"
      }
    },
    {
      "cell_type": "markdown",
      "source": [
        "## Questão 3\n",
        "\n"
      ],
      "metadata": {
        "id": "ineEzWcm81PU"
      }
    },
    {
      "cell_type": "markdown",
      "source": [
        "\n",
        "Pedro, Tiago, João e Henrique trabalham para Alexandre Gustave Eiffel na construção da Torre Eiffel. Para finalizar a primeira etapa da construção 4 tarefas são necessárias. Os quatro funcionários são capazes de fazer qualquer uma das quatro tarefas mas cada tarefa deve ser realizada unicamente por uma pessoa. O número de horas necessárias por cada um dos funcionários realizarem cada uma das tarefas são apresentadas na Tabela a seguir.\n",
        "\n",
        "\n",
        "| Funcionário / Tarefa | T1   | T2    | T3  | T4   |\n",
        "|:------------:|:-----:|:------:|:------:|:------:|\n",
        "| Pedro | 4   | 6    |5   | 5   |\n",
        "| Tiago | 7  | 4    | 5   | 6   |\n",
        "| João  | 4   | 7    | 6   | 4   |\n",
        "| Henrique  | 5   | 3    | 4   | 7   |\n",
        "\n",
        "\n",
        "Como deve Gustave Eiffel atribuir as tarefas aos funcionários para terminar a primeira etapa da construção o mais rápido possível? qual é o número de horas necessário?\n",
        "\n",
        "#### Solução\n",
        "\n",
        "Note que precisamos designar trabalhadores para tarefas específicas a fim de terminar a obra o mais rápido possível. Estamos num problema de designação!. Lembre-se que num problema de designação as restrições são de igualdade e os lados diretos/lados inferiores são iguais a 1."
      ],
      "metadata": {
        "id": "ThPBBSWy88OZ"
      }
    },
    {
      "cell_type": "code",
      "source": [
        "matriz_custos = matrix(c(4, 7, 4, 5, 6, 4, 7, 3, 5, 5, 6, 4, 5, 6, 4, 7), ncol = 4)\n",
        "\n",
        "s_sinal = rep(\"=\", 4)\n",
        "s_valores = c(1, 1, 1, 1)\n",
        "\n",
        "d_sinal = rep(\"=\", 4)\n",
        "d_valores = c(1, 1, 1, 1)"
      ],
      "metadata": {
        "id": "lK0jjMGZ-BhA"
      },
      "execution_count": 14,
      "outputs": []
    },
    {
      "cell_type": "code",
      "source": [
        "# Repare que a matriz de \"custos\" (na vdd horas gastas) é exatamente a mesma da Tabela\n",
        "matriz_custos "
      ],
      "metadata": {
        "colab": {
          "base_uri": "https://localhost:8080/",
          "height": 197
        },
        "id": "ZPqvgLrw_H7i",
        "outputId": "26319955-b41c-4f8a-b1d3-e229e2394dd4"
      },
      "execution_count": 15,
      "outputs": [
        {
          "output_type": "display_data",
          "data": {
            "text/html": [
              "<table class=\"dataframe\">\n",
              "<caption>A matrix: 4 × 4 of type dbl</caption>\n",
              "<tbody>\n",
              "\t<tr><td>4</td><td>6</td><td>5</td><td>5</td></tr>\n",
              "\t<tr><td>7</td><td>4</td><td>5</td><td>6</td></tr>\n",
              "\t<tr><td>4</td><td>7</td><td>6</td><td>4</td></tr>\n",
              "\t<tr><td>5</td><td>3</td><td>4</td><td>7</td></tr>\n",
              "</tbody>\n",
              "</table>\n"
            ],
            "text/markdown": "\nA matrix: 4 × 4 of type dbl\n\n| 4 | 6 | 5 | 5 |\n| 7 | 4 | 5 | 6 |\n| 4 | 7 | 6 | 4 |\n| 5 | 3 | 4 | 7 |\n\n",
            "text/latex": "A matrix: 4 × 4 of type dbl\n\\begin{tabular}{llll}\n\t 4 & 6 & 5 & 5\\\\\n\t 7 & 4 & 5 & 6\\\\\n\t 4 & 7 & 6 & 4\\\\\n\t 5 & 3 & 4 & 7\\\\\n\\end{tabular}\n",
            "text/plain": [
              "     [,1] [,2] [,3] [,4]\n",
              "[1,] 4    6    5    5   \n",
              "[2,] 7    4    5    6   \n",
              "[3,] 4    7    6    4   \n",
              "[4,] 5    3    4    7   "
            ]
          },
          "metadata": {}
        }
      ]
    },
    {
      "cell_type": "code",
      "source": [
        "# Rodamos o algoritmo\n",
        "resultados = lp.transport(matriz_custos, \"min\", \n",
        "                          row.signs = s_sinal, row.rhs = s_valores, \n",
        "                          col.signs = d_sinal, col.rhs = d_valores)"
      ],
      "metadata": {
        "id": "xGIa6HwZ_S7O"
      },
      "execution_count": 16,
      "outputs": []
    },
    {
      "cell_type": "code",
      "source": [
        "# Solução ótima\n",
        "resultados$solution"
      ],
      "metadata": {
        "colab": {
          "base_uri": "https://localhost:8080/",
          "height": 197
        },
        "id": "yaUfboJH_WKG",
        "outputId": "09892d37-05a5-47b6-c311-e29e146df889"
      },
      "execution_count": 17,
      "outputs": [
        {
          "output_type": "display_data",
          "data": {
            "text/html": [
              "<table class=\"dataframe\">\n",
              "<caption>A matrix: 4 × 4 of type dbl</caption>\n",
              "<tbody>\n",
              "\t<tr><td>1</td><td>0</td><td>0</td><td>0</td></tr>\n",
              "\t<tr><td>0</td><td>1</td><td>0</td><td>0</td></tr>\n",
              "\t<tr><td>0</td><td>0</td><td>0</td><td>1</td></tr>\n",
              "\t<tr><td>0</td><td>0</td><td>1</td><td>0</td></tr>\n",
              "</tbody>\n",
              "</table>\n"
            ],
            "text/markdown": "\nA matrix: 4 × 4 of type dbl\n\n| 1 | 0 | 0 | 0 |\n| 0 | 1 | 0 | 0 |\n| 0 | 0 | 0 | 1 |\n| 0 | 0 | 1 | 0 |\n\n",
            "text/latex": "A matrix: 4 × 4 of type dbl\n\\begin{tabular}{llll}\n\t 1 & 0 & 0 & 0\\\\\n\t 0 & 1 & 0 & 0\\\\\n\t 0 & 0 & 0 & 1\\\\\n\t 0 & 0 & 1 & 0\\\\\n\\end{tabular}\n",
            "text/plain": [
              "     [,1] [,2] [,3] [,4]\n",
              "[1,] 1    0    0    0   \n",
              "[2,] 0    1    0    0   \n",
              "[3,] 0    0    0    1   \n",
              "[4,] 0    0    1    0   "
            ]
          },
          "metadata": {}
        }
      ]
    },
    {
      "cell_type": "markdown",
      "source": [
        "Isso significa que:\n",
        "\n",
        "- Pedro é designado para a Tarefa 1.\n",
        "- Tiago é designado para a Tarefa 2.\n",
        "- João é designado para a Tarefa 4.\n",
        "- Henrique é designado para a Tarefa 3."
      ],
      "metadata": {
        "id": "73YGnolKAi7C"
      }
    },
    {
      "cell_type": "code",
      "source": [
        "# Se quiseros saber o custo (na verdade número de horas) gaso em terminar a primeira etapa da obra:\n",
        "\n",
        "resultados"
      ],
      "metadata": {
        "colab": {
          "base_uri": "https://localhost:8080/",
          "height": 147
        },
        "id": "_seuxDoAAvpp",
        "outputId": "1263413a-a6aa-45ee-d110-82fd63b9b79f"
      },
      "execution_count": 18,
      "outputs": [
        {
          "output_type": "display_data",
          "data": {
            "text/plain": [
              "Success: the objective function is 16 "
            ]
          },
          "metadata": {}
        }
      ]
    },
    {
      "cell_type": "markdown",
      "source": [
        "O menos número de horas necessárias para terminar a primeira etapa da obra é 16."
      ],
      "metadata": {
        "id": "w5MW6aIvA46t"
      }
    },
    {
      "cell_type": "markdown",
      "source": [
        "## Questão 4"
      ],
      "metadata": {
        "id": "vPFO9U4XBFaj"
      }
    },
    {
      "cell_type": "markdown",
      "source": [
        "O grafo abaixo apresenta 6 oleodutos utilizados para transportar óleo do Campo do produtor para as refinarias, bem como as capacidades máximas de óleo que podem ser transportadas entre duas estações.\n",
        "\n",
        "\n",
        "![](https://raw.githubusercontent.com/ctruciosm/ACA124/main/LISTA5_2.png)\n",
        "\n",
        "Qual o percurso que deve utilizado para que a maior quantidade óleo chegue até a refinária?\n",
        "\n",
        "#### Solução\n",
        "\n",
        "> Obs: não foi mencionado no problema, mas assume-se que \"Campo\" produz o suficiente para enviar a capacidade máxima se for o caso (8 + 10).\n",
        "\n",
        "Estamos em um problema de fluxo máximo!"
      ],
      "metadata": {
        "id": "tNrXi930BHRd"
      }
    },
    {
      "cell_type": "code",
      "source": [
        "E = rbind(c(\"Campo\", \"A\", 8), \n",
        "          c(\"Campo\", \"B\", 10), \n",
        "          c(\"A\", \"B\", 4), \n",
        "          c(\"A\", \"D\", 6), \n",
        "          c(\"A\", \"C\", 2), \n",
        "          c(\"B\", \"C\", 5), \n",
        "          c(\"B\", \"D\", 3), \n",
        "          c(\"C\", \"D\", 6), \n",
        "          c(\"C\", \"Refinaria\", 7), \n",
        "          c(\"D\", \"Refinaria\", 12))\n",
        "colnames(E) = c(\"From\", \"To\", \"capacity\") # \"capacity\" é o único nome que deve aparecer exatamente como escrito aqui\n",
        "rede = as.data.frame(E)\n",
        "rede"
      ],
      "metadata": {
        "colab": {
          "base_uri": "https://localhost:8080/",
          "height": 432
        },
        "id": "yjTOaKh7HjPG",
        "outputId": "07e3733d-d4c8-461a-fd0d-13dc23b2c640"
      },
      "execution_count": 19,
      "outputs": [
        {
          "output_type": "display_data",
          "data": {
            "text/html": [
              "<table class=\"dataframe\">\n",
              "<caption>A data.frame: 10 × 3</caption>\n",
              "<thead>\n",
              "\t<tr><th scope=col>From</th><th scope=col>To</th><th scope=col>capacity</th></tr>\n",
              "\t<tr><th scope=col>&lt;chr&gt;</th><th scope=col>&lt;chr&gt;</th><th scope=col>&lt;chr&gt;</th></tr>\n",
              "</thead>\n",
              "<tbody>\n",
              "\t<tr><td>Campo</td><td>A        </td><td>8 </td></tr>\n",
              "\t<tr><td>Campo</td><td>B        </td><td>10</td></tr>\n",
              "\t<tr><td>A    </td><td>B        </td><td>4 </td></tr>\n",
              "\t<tr><td>A    </td><td>D        </td><td>6 </td></tr>\n",
              "\t<tr><td>A    </td><td>C        </td><td>2 </td></tr>\n",
              "\t<tr><td>B    </td><td>C        </td><td>5 </td></tr>\n",
              "\t<tr><td>B    </td><td>D        </td><td>3 </td></tr>\n",
              "\t<tr><td>C    </td><td>D        </td><td>6 </td></tr>\n",
              "\t<tr><td>C    </td><td>Refinaria</td><td>7 </td></tr>\n",
              "\t<tr><td>D    </td><td>Refinaria</td><td>12</td></tr>\n",
              "</tbody>\n",
              "</table>\n"
            ],
            "text/markdown": "\nA data.frame: 10 × 3\n\n| From &lt;chr&gt; | To &lt;chr&gt; | capacity &lt;chr&gt; |\n|---|---|---|\n| Campo | A         | 8  |\n| Campo | B         | 10 |\n| A     | B         | 4  |\n| A     | D         | 6  |\n| A     | C         | 2  |\n| B     | C         | 5  |\n| B     | D         | 3  |\n| C     | D         | 6  |\n| C     | Refinaria | 7  |\n| D     | Refinaria | 12 |\n\n",
            "text/latex": "A data.frame: 10 × 3\n\\begin{tabular}{lll}\n From & To & capacity\\\\\n <chr> & <chr> & <chr>\\\\\n\\hline\n\t Campo & A         & 8 \\\\\n\t Campo & B         & 10\\\\\n\t A     & B         & 4 \\\\\n\t A     & D         & 6 \\\\\n\t A     & C         & 2 \\\\\n\t B     & C         & 5 \\\\\n\t B     & D         & 3 \\\\\n\t C     & D         & 6 \\\\\n\t C     & Refinaria & 7 \\\\\n\t D     & Refinaria & 12\\\\\n\\end{tabular}\n",
            "text/plain": [
              "   From  To        capacity\n",
              "1  Campo A         8       \n",
              "2  Campo B         10      \n",
              "3  A     B         4       \n",
              "4  A     D         6       \n",
              "5  A     C         2       \n",
              "6  B     C         5       \n",
              "7  B     D         3       \n",
              "8  C     D         6       \n",
              "9  C     Refinaria 7       \n",
              "10 D     Refinaria 12      "
            ]
          },
          "metadata": {}
        }
      ]
    },
    {
      "cell_type": "code",
      "source": [
        "# Fazemos o grafo\n",
        "g1 = graph_from_data_frame(rede)\n",
        "g1"
      ],
      "metadata": {
        "colab": {
          "base_uri": "https://localhost:8080/",
          "height": 808
        },
        "id": "JcPlBaYHJVXg",
        "outputId": "47689c65-45e3-4fe0-af71-932ccf3365b4"
      },
      "execution_count": 20,
      "outputs": [
        {
          "output_type": "display_data",
          "data": {
            "text/plain": [
              "IGRAPH 0d48d47 DN-- 6 10 -- \n",
              "+ attr: name (v/c), capacity (e/c)\n",
              "+ edges from 0d48d47 (vertex names):\n",
              " [1] Campo->A         Campo->B         A    ->B         A    ->D        \n",
              " [5] A    ->C         B    ->C         B    ->D         C    ->D        \n",
              " [9] C    ->Refinaria D    ->Refinaria"
            ]
          },
          "metadata": {}
        }
      ]
    },
    {
      "cell_type": "code",
      "source": [
        "# Solução ótima\n",
        "\n",
        "resultados = max_flow(g1, source = V(g1)[\"Campo\"], target = V(g1)[\"Refinaria\"])\n",
        "resultados\n",
        "\n"
      ],
      "metadata": {
        "colab": {
          "base_uri": "https://localhost:8080/",
          "height": 1000
        },
        "id": "6KFkeOQCJYj-",
        "outputId": "47daa9e1-760b-4bbf-9483-8d4a9a73a5f7"
      },
      "execution_count": 21,
      "outputs": [
        {
          "output_type": "display_data",
          "data": {
            "text/plain": [
              "$value\n",
              "[1] 16\n",
              "\n",
              "$flow\n",
              " [1] 8 8 0 6 2 5 3 0 7 9\n",
              "\n",
              "$cut\n",
              "[1] 4 5 6 7\n",
              "\n",
              "$partition1\n",
              "+ 3/6 vertices, named, from 0d48d47:\n",
              "[1] Campo A     B    \n",
              "\n",
              "$partition2\n",
              "+ 3/6 vertices, named, from 0d48d47:\n",
              "[1] C         D         Refinaria\n",
              "\n",
              "$stats\n",
              "$stats$nopush\n",
              "[1] 6\n",
              "\n",
              "$stats$norelabel\n",
              "[1] 1\n",
              "\n",
              "$stats$nogap\n",
              "[1] 0\n",
              "\n",
              "$stats$nogapnodes\n",
              "[1] 0\n",
              "\n",
              "$stats$nobfs\n",
              "[1] 1\n",
              "\n"
            ]
          },
          "metadata": {}
        }
      ]
    },
    {
      "cell_type": "code",
      "source": [
        "plot(g1, edge.label = resultados$flow)"
      ],
      "metadata": {
        "colab": {
          "base_uri": "https://localhost:8080/",
          "height": 457
        },
        "id": "Q-_3hLXbJhUM",
        "outputId": "5b85eb18-2130-4986-913b-c3f2f2681238"
      },
      "execution_count": 22,
      "outputs": [
        {
          "output_type": "display_data",
          "data": {
            "text/plain": [
              "Plot with title “”"
            ],
            "image/png": "[encoded data removed]"
          },
          "metadata": {
            "image/png": {
              "width": 420,
              "height": 420
            }
          }
        }
      ]
    },
    {
      "cell_type": "markdown",
      "source": [
        "Chegarão 16 \"óleos\" (commo não defini as unidades, vamos deixar em \"óleos\" mesmo) na refinaria."
      ],
      "metadata": {
        "id": "Rosbu5QiQvWU"
      }
    },
    {
      "cell_type": "markdown",
      "source": [
        "## Questão 5"
      ],
      "metadata": {
        "id": "07vMz87PRFU7"
      }
    },
    {
      "cell_type": "markdown",
      "source": [
        "Evandro é carioca e recentemente mudou para Chapeco/RS a trabalho. Ele foi convidado para dar uma palestra em Porto Alegre/RS, mas por ser novo na região não sabe qual o melhor caminho para se locomover desde Chapecó para Porto Alegre. O grafo abaixo, apresenta os km que o carro deve percorrer entre cidades vizinhas até chegar em Porto Alegre.\n",
        "\n",
        "![](https://raw.githubusercontent.com/ctruciosm/ACA124/main/LISTA5_1.png)\n",
        "\n",
        "\n",
        "Ajude o Evandro a descobrir qual o caminho mais curto a seguir para chegar de Chapecó até Porto Alegre.\n",
        "\n",
        "#### Solução.\n",
        "\n",
        "Estamos no problema do caminho mais curto!\n"
      ],
      "metadata": {
        "id": "Vnv3Z7IxRO7t"
      }
    },
    {
      "cell_type": "code",
      "source": [
        "E = rbind(c(\"Chapeco\", \"Jocaba\", 400), \n",
        "          c(\"Chapeco\", \"Lages\", 950), \n",
        "          c(\"Chapeco\", \"Joinville\", 800), \n",
        "          c(\"Jocaba\", \"Caxias do Sul\", 1800),\n",
        "          c(\"Jocaba\", \"Florianopolis\", 900),\n",
        "          c(\"Lages\", \"Florianopolis\", 600),\n",
        "          c(\"Lages\", \"Caxias do Sul\", 1100),\n",
        "          c(\"Joinville\", \"Florianopolis\", 600), \n",
        "          c(\"Joinville\", \"Sombrio\", 1200), \n",
        "          c(\"Florianopolis\", \"Caxias do Sul\", 900),\n",
        "          c(\"Florianopolis\", \"Porto Alegre\", 1300),\n",
        "          c(\"Florianopolis\", \"Sombrio\", 1000),\n",
        "          c(\"Caxias do Sul\", \"Porto Alegre\", 400),\n",
        "          c(\"Sombrio\", \"Porto Alegre\", 600))\n",
        "colnames(E) = c(\"from\", \"to\", \"weight\") \n",
        "rede = data.frame(E)\n",
        "rede"
      ],
      "metadata": {
        "colab": {
          "base_uri": "https://localhost:8080/",
          "height": 627
        },
        "id": "mdr9Khe9R7Lc",
        "outputId": "d20bfc30-cf94-4048-8760-3c361f544de1"
      },
      "execution_count": 23,
      "outputs": [
        {
          "output_type": "display_data",
          "data": {
            "text/html": [
              "<table class=\"dataframe\">\n",
              "<caption>A data.frame: 14 × 3</caption>\n",
              "<thead>\n",
              "\t<tr><th scope=col>from</th><th scope=col>to</th><th scope=col>weight</th></tr>\n",
              "\t<tr><th scope=col>&lt;chr&gt;</th><th scope=col>&lt;chr&gt;</th><th scope=col>&lt;chr&gt;</th></tr>\n",
              "</thead>\n",
              "<tbody>\n",
              "\t<tr><td>Chapeco      </td><td>Jocaba       </td><td>400 </td></tr>\n",
              "\t<tr><td>Chapeco      </td><td>Lages        </td><td>950 </td></tr>\n",
              "\t<tr><td>Chapeco      </td><td>Joinville    </td><td>800 </td></tr>\n",
              "\t<tr><td>Jocaba       </td><td>Caxias do Sul</td><td>1800</td></tr>\n",
              "\t<tr><td>Jocaba       </td><td>Florianopolis</td><td>900 </td></tr>\n",
              "\t<tr><td>Lages        </td><td>Florianopolis</td><td>600 </td></tr>\n",
              "\t<tr><td>Lages        </td><td>Caxias do Sul</td><td>1100</td></tr>\n",
              "\t<tr><td>Joinville    </td><td>Florianopolis</td><td>600 </td></tr>\n",
              "\t<tr><td>Joinville    </td><td>Sombrio      </td><td>1200</td></tr>\n",
              "\t<tr><td>Florianopolis</td><td>Caxias do Sul</td><td>900 </td></tr>\n",
              "\t<tr><td>Florianopolis</td><td>Porto Alegre </td><td>1300</td></tr>\n",
              "\t<tr><td>Florianopolis</td><td>Sombrio      </td><td>1000</td></tr>\n",
              "\t<tr><td>Caxias do Sul</td><td>Porto Alegre </td><td>400 </td></tr>\n",
              "\t<tr><td>Sombrio      </td><td>Porto Alegre </td><td>600 </td></tr>\n",
              "</tbody>\n",
              "</table>\n"
            ],
            "text/markdown": "\nA data.frame: 14 × 3\n\n| from &lt;chr&gt; | to &lt;chr&gt; | weight &lt;chr&gt; |\n|---|---|---|\n| Chapeco       | Jocaba        | 400  |\n| Chapeco       | Lages         | 950  |\n| Chapeco       | Joinville     | 800  |\n| Jocaba        | Caxias do Sul | 1800 |\n| Jocaba        | Florianopolis | 900  |\n| Lages         | Florianopolis | 600  |\n| Lages         | Caxias do Sul | 1100 |\n| Joinville     | Florianopolis | 600  |\n| Joinville     | Sombrio       | 1200 |\n| Florianopolis | Caxias do Sul | 900  |\n| Florianopolis | Porto Alegre  | 1300 |\n| Florianopolis | Sombrio       | 1000 |\n| Caxias do Sul | Porto Alegre  | 400  |\n| Sombrio       | Porto Alegre  | 600  |\n\n",
            "text/latex": "A data.frame: 14 × 3\n\\begin{tabular}{lll}\n from & to & weight\\\\\n <chr> & <chr> & <chr>\\\\\n\\hline\n\t Chapeco       & Jocaba        & 400 \\\\\n\t Chapeco       & Lages         & 950 \\\\\n\t Chapeco       & Joinville     & 800 \\\\\n\t Jocaba        & Caxias do Sul & 1800\\\\\n\t Jocaba        & Florianopolis & 900 \\\\\n\t Lages         & Florianopolis & 600 \\\\\n\t Lages         & Caxias do Sul & 1100\\\\\n\t Joinville     & Florianopolis & 600 \\\\\n\t Joinville     & Sombrio       & 1200\\\\\n\t Florianopolis & Caxias do Sul & 900 \\\\\n\t Florianopolis & Porto Alegre  & 1300\\\\\n\t Florianopolis & Sombrio       & 1000\\\\\n\t Caxias do Sul & Porto Alegre  & 400 \\\\\n\t Sombrio       & Porto Alegre  & 600 \\\\\n\\end{tabular}\n",
            "text/plain": [
              "   from          to            weight\n",
              "1  Chapeco       Jocaba        400   \n",
              "2  Chapeco       Lages         950   \n",
              "3  Chapeco       Joinville     800   \n",
              "4  Jocaba        Caxias do Sul 1800  \n",
              "5  Jocaba        Florianopolis 900   \n",
              "6  Lages         Florianopolis 600   \n",
              "7  Lages         Caxias do Sul 1100  \n",
              "8  Joinville     Florianopolis 600   \n",
              "9  Joinville     Sombrio       1200  \n",
              "10 Florianopolis Caxias do Sul 900   \n",
              "11 Florianopolis Porto Alegre  1300  \n",
              "12 Florianopolis Sombrio       1000  \n",
              "13 Caxias do Sul Porto Alegre  400   \n",
              "14 Sombrio       Porto Alegre  600   "
            ]
          },
          "metadata": {}
        }
      ]
    },
    {
      "cell_type": "code",
      "source": [
        "# Do dataframe para o grafo\n",
        "\n",
        "g = graph_from_data_frame(rede)"
      ],
      "metadata": {
        "id": "vFKomCkvSymb"
      },
      "execution_count": 24,
      "outputs": []
    },
    {
      "cell_type": "code",
      "source": [
        "# Solução otima\n",
        "\n",
        "resultados = get.shortest.paths(g, from = V(g)[\"Chapeco\"], to = V(g)[\"Porto Alegre\"])\n",
        "resultados$vpath\n",
        "\n"
      ],
      "metadata": {
        "colab": {
          "base_uri": "https://localhost:8080/",
          "height": 313
        },
        "id": "5r5kei1ES1-Q",
        "outputId": "1e69b690-eed9-4dba-9a5b-cb1fa442ecab"
      },
      "execution_count": 25,
      "outputs": [
        {
          "output_type": "display_data",
          "data": {
            "text/plain": [
              "[[1]]\n",
              "+ 4/8 vertices, named, from 93cd4d4:\n",
              "[1] Chapeco       Lages         Caxias do Sul Porto Alegre \n"
            ]
          },
          "metadata": {}
        }
      ]
    },
    {
      "cell_type": "markdown",
      "source": [
        "O caminho mais Curto é: Chapeco --> Lages --> Caxias do Sul --> Porto Alegre e a distância percorrida é 2450 km"
      ],
      "metadata": {
        "id": "9BwuOdCHTQxU"
      }
    },
    {
      "cell_type": "code",
      "source": [
        "distances(g, v = V(g)[\"Chapeco\"], to = V(g)[\"Porto Alegre\"])"
      ],
      "metadata": {
        "colab": {
          "base_uri": "https://localhost:8080/",
          "height": 153
        },
        "id": "2FijVSx9TLYD",
        "outputId": "5c079c0a-5ce0-4ff0-e8b4-66b48f6a211b"
      },
      "execution_count": 26,
      "outputs": [
        {
          "output_type": "display_data",
          "data": {
            "text/html": [
              "<table class=\"dataframe\">\n",
              "<caption>A matrix: 1 × 1 of type dbl</caption>\n",
              "<thead>\n",
              "\t<tr><th></th><th scope=col>Porto Alegre</th></tr>\n",
              "</thead>\n",
              "<tbody>\n",
              "\t<tr><th scope=row>Chapeco</th><td>2450</td></tr>\n",
              "</tbody>\n",
              "</table>\n"
            ],
            "text/markdown": "\nA matrix: 1 × 1 of type dbl\n\n| <!--/--> | Porto Alegre |\n|---|---|\n| Chapeco | 2450 |\n\n",
            "text/latex": "A matrix: 1 × 1 of type dbl\n\\begin{tabular}{r|l}\n  & Porto Alegre\\\\\n\\hline\n\tChapeco & 2450\\\\\n\\end{tabular}\n",
            "text/plain": [
              "        Porto Alegre\n",
              "Chapeco 2450        "
            ]
          },
          "metadata": {}
        }
      ]
    },
    {
      "cell_type": "markdown",
      "source": [
        "## Questão 6"
      ],
      "metadata": {
        "id": "HOsmtx0MUriS"
      }
    },
    {
      "cell_type": "markdown",
      "source": [
        "_El rápido voador_ linhas aéreas esta prestes a decolar de Seattle (SE) com destino a Londres (LN). O Tempo (em horas) das possíveis rotas a serem tomadas é apresentado a seguir.\n",
        "\n",
        "\n",
        "![](https://raw.githubusercontent.com/ctruciosm/ACA124/main/LISTA5_3.png)\n",
        "\n",
        "\n",
        "\n",
        "Qual percurso deveria ser percorrido se o piloto deseja chegar em Londres o mais rápido possível? (e quanto tempo isto levaria?)\n",
        "\n",
        "\n",
        "#### Solução\n",
        "\n",
        "Estamos, de novo, em um problema de caminho mais curto."
      ],
      "metadata": {
        "id": "hMYgJ6KuUtBs"
      }
    },
    {
      "cell_type": "code",
      "source": [
        "E = rbind(c(\"SE\", \"A\", 4.6), \n",
        "          c(\"SE\", \"B\", 4.7), \n",
        "          c(\"SE\", \"C\", 4.2), \n",
        "          c(\"A\", \"D\", 3.5),\n",
        "          c(\"A\", \"E\", 3.4),\n",
        "          c(\"B\", \"D\", 3.6),\n",
        "          c(\"B\", \"E\", 3.2),\n",
        "          c(\"B\", \"F\", 3.3), \n",
        "          c(\"C\", \"E\", 3.5), \n",
        "          c(\"C\", \"F\", 3.4),\n",
        "          c(\"D\", \"LN\", 3.4),\n",
        "          c(\"E\", \"LN\", 3.6),\n",
        "          c(\"F\", \"LN\", 3.8))\n",
        "colnames(E) = c(\"from\", \"to\", \"weight\") \n",
        "rede = data.frame(E)\n",
        "rede"
      ],
      "metadata": {
        "colab": {
          "base_uri": "https://localhost:8080/",
          "height": 506
        },
        "id": "CP8YHMHBWcr2",
        "outputId": "e2675aba-340a-4c35-e885-6b749398b78c"
      },
      "execution_count": 27,
      "outputs": [
        {
          "output_type": "display_data",
          "data": {
            "text/html": [
              "<table class=\"dataframe\">\n",
              "<caption>A data.frame: 13 × 3</caption>\n",
              "<thead>\n",
              "\t<tr><th scope=col>from</th><th scope=col>to</th><th scope=col>weight</th></tr>\n",
              "\t<tr><th scope=col>&lt;chr&gt;</th><th scope=col>&lt;chr&gt;</th><th scope=col>&lt;chr&gt;</th></tr>\n",
              "</thead>\n",
              "<tbody>\n",
              "\t<tr><td>SE</td><td>A </td><td>4.6</td></tr>\n",
              "\t<tr><td>SE</td><td>B </td><td>4.7</td></tr>\n",
              "\t<tr><td>SE</td><td>C </td><td>4.2</td></tr>\n",
              "\t<tr><td>A </td><td>D </td><td>3.5</td></tr>\n",
              "\t<tr><td>A </td><td>E </td><td>3.4</td></tr>\n",
              "\t<tr><td>B </td><td>D </td><td>3.6</td></tr>\n",
              "\t<tr><td>B </td><td>E </td><td>3.2</td></tr>\n",
              "\t<tr><td>B </td><td>F </td><td>3.3</td></tr>\n",
              "\t<tr><td>C </td><td>E </td><td>3.5</td></tr>\n",
              "\t<tr><td>C </td><td>F </td><td>3.4</td></tr>\n",
              "\t<tr><td>D </td><td>LN</td><td>3.4</td></tr>\n",
              "\t<tr><td>E </td><td>LN</td><td>3.6</td></tr>\n",
              "\t<tr><td>F </td><td>LN</td><td>3.8</td></tr>\n",
              "</tbody>\n",
              "</table>\n"
            ],
            "text/markdown": "\nA data.frame: 13 × 3\n\n| from &lt;chr&gt; | to &lt;chr&gt; | weight &lt;chr&gt; |\n|---|---|---|\n| SE | A  | 4.6 |\n| SE | B  | 4.7 |\n| SE | C  | 4.2 |\n| A  | D  | 3.5 |\n| A  | E  | 3.4 |\n| B  | D  | 3.6 |\n| B  | E  | 3.2 |\n| B  | F  | 3.3 |\n| C  | E  | 3.5 |\n| C  | F  | 3.4 |\n| D  | LN | 3.4 |\n| E  | LN | 3.6 |\n| F  | LN | 3.8 |\n\n",
            "text/latex": "A data.frame: 13 × 3\n\\begin{tabular}{lll}\n from & to & weight\\\\\n <chr> & <chr> & <chr>\\\\\n\\hline\n\t SE & A  & 4.6\\\\\n\t SE & B  & 4.7\\\\\n\t SE & C  & 4.2\\\\\n\t A  & D  & 3.5\\\\\n\t A  & E  & 3.4\\\\\n\t B  & D  & 3.6\\\\\n\t B  & E  & 3.2\\\\\n\t B  & F  & 3.3\\\\\n\t C  & E  & 3.5\\\\\n\t C  & F  & 3.4\\\\\n\t D  & LN & 3.4\\\\\n\t E  & LN & 3.6\\\\\n\t F  & LN & 3.8\\\\\n\\end{tabular}\n",
            "text/plain": [
              "   from to weight\n",
              "1  SE   A  4.6   \n",
              "2  SE   B  4.7   \n",
              "3  SE   C  4.2   \n",
              "4  A    D  3.5   \n",
              "5  A    E  3.4   \n",
              "6  B    D  3.6   \n",
              "7  B    E  3.2   \n",
              "8  B    F  3.3   \n",
              "9  C    E  3.5   \n",
              "10 C    F  3.4   \n",
              "11 D    LN 3.4   \n",
              "12 E    LN 3.6   \n",
              "13 F    LN 3.8   "
            ]
          },
          "metadata": {}
        }
      ]
    },
    {
      "cell_type": "code",
      "source": [
        "# Do datafram ao grafo\n",
        "g = graph_from_data_frame(rede)"
      ],
      "metadata": {
        "id": "_TpkhQnHWpSx"
      },
      "execution_count": 28,
      "outputs": []
    },
    {
      "cell_type": "code",
      "source": [
        "resultados = get.shortest.paths(g, from = V(g)[\"SE\"], to = V(g)[\"LN\"])\n",
        "resultados$vpath"
      ],
      "metadata": {
        "colab": {
          "base_uri": "https://localhost:8080/",
          "height": 72
        },
        "id": "-yi3c23kWwuR",
        "outputId": "0cb10205-be01-4321-fb53-145706bd0fc7"
      },
      "execution_count": 29,
      "outputs": [
        {
          "output_type": "display_data",
          "data": {
            "text/plain": [
              "[[1]]\n",
              "+ 4/8 vertices, named, from 0b87c66:\n",
              "[1] SE C  E  LN\n"
            ]
          },
          "metadata": {}
        }
      ]
    },
    {
      "cell_type": "markdown",
      "source": [
        "O caminho mais curto é SE --> C --> E --> LN e a distância percorrida é 11.3 (milhares de km)."
      ],
      "metadata": {
        "id": "TLJqvCmyW0nN"
      }
    },
    {
      "cell_type": "code",
      "source": [
        "distances(g, v = V(g)[\"SE\"], to = V(g)[\"LN\"])"
      ],
      "metadata": {
        "colab": {
          "base_uri": "https://localhost:8080/",
          "height": 133
        },
        "id": "LxzQaParW987",
        "outputId": "1e530128-1872-45aa-b508-0a1f643db588"
      },
      "execution_count": 30,
      "outputs": [
        {
          "output_type": "display_data",
          "data": {
            "text/html": [
              "<table class=\"dataframe\">\n",
              "<caption>A matrix: 1 × 1 of type dbl</caption>\n",
              "<thead>\n",
              "\t<tr><th></th><th scope=col>LN</th></tr>\n",
              "</thead>\n",
              "<tbody>\n",
              "\t<tr><th scope=row>SE</th><td>11.3</td></tr>\n",
              "</tbody>\n",
              "</table>\n"
            ],
            "text/markdown": "\nA matrix: 1 × 1 of type dbl\n\n| <!--/--> | LN |\n|---|---|\n| SE | 11.3 |\n\n",
            "text/latex": "A matrix: 1 × 1 of type dbl\n\\begin{tabular}{r|l}\n  & LN\\\\\n\\hline\n\tSE & 11.3\\\\\n\\end{tabular}\n",
            "text/plain": [
              "   LN  \n",
              "SE 11.3"
            ]
          },
          "metadata": {}
        }
      ]
    },
    {
      "cell_type": "markdown",
      "source": [
        "## Questão 7"
      ],
      "metadata": {
        "id": "eCIhk9uyXIuZ"
      }
    },
    {
      "cell_type": "markdown",
      "source": [
        "O banco _Muubank_ deseja conectar terminais de computador em cada uma das agências ao computador da sede central (ou matriz). A conexão será feita vía cabos de rede especiais e super costosos. Sabe-se que a conexão não precisa ser direta (agência-matriz), sendo totalmente possível que, digamos, um terminal de computador esteja conectado a outro terminal que, por sua vez, esteja conectado com a sede central (a única exigência é que cada filial esteja conectada através de alguma rota à sede matriz).\n",
        "\n",
        "A distância (em km) entre cada par de agências é a seguinte.\n",
        "\n",
        "\n",
        "|        | Matriz | B1    | B2    | B3     | B4     |  B5    |\n",
        "|:------:|:------:|:-----:|:-----:|:------:|:------:|:------:|\n",
        "| Matriz | 0      | 190   | 70    | 115    | 270    | 160    |\n",
        "| B1     | 190    |   0   | 100   | 110    | 215    |  50    |\n",
        "| B2     |  70    | 100   |   0   | 140    | 120    | 220    |\n",
        "| B3     | 115    | 110   | 140   |   0    | 175    |  80    |\n",
        "| B4     | 270    | 215   | 120   | 175    |    0   | 310    |\n",
        "| B5     | 160    |  50   | 220   |  80    | 310    |   0    |\n",
        "\n",
        "\n",
        "A gerência deseja determinar quais pares de agências devem estar\n",
        "conectados diretamente através dos cabos de rede especiais de\n",
        "modo a conectar todas as filiais (direta ou indiretamente) à matriz a um custo total mínimo (repare-se que a maior/menor distância maior/menor será o custo gasto com cabeamento). \n",
        "\n",
        "#### Solução\n",
        "\n",
        "Repare que queremos conectar todos as agencias, ou seja, estamos no problema da árvore de expansão mínima.\n",
        "\n",
        "Note também que embora não tenhamos o grafo, temos as \"distâncias\" potenciasis (que é todo o necessário para o prolema da árvore de expansão mínima)\n",
        "\n"
      ],
      "metadata": {
        "id": "d6dQRBS6XLiQ"
      }
    },
    {
      "cell_type": "code",
      "source": [
        "E = rbind(c(\"Matriz\", \"B1\", 190),\n",
        "          c(\"Matriz\", \"B2\", 70),\n",
        "          c(\"Matriz\", \"B3\", 115),\n",
        "          c(\"Matriz\", \"B4\", 270),\n",
        "          c(\"Matriz\", \"B5\", 160),\n",
        "          c(\"B1\", \"B2\", 100),\n",
        "          c(\"B1\", \"B3\", 110),\n",
        "          c(\"B1\", \"B4\", 215),\n",
        "          c(\"B1\", \"B5\", 50),\n",
        "          c(\"B2\", \"B3\", 140),\n",
        "          c(\"B2\", \"B4\", 120),\n",
        "          c(\"B2\", \"B5\", 220),\n",
        "          c(\"B3\", \"B4\", 175),\n",
        "          c(\"B3\", \"B5\", 80),\n",
        "          c(\"B4\", \"B5\", 310))\n",
        "colnames(E) = c(\"No1\", \"No2\", \"weight\")\n",
        "rede = as.data.frame(E)\n",
        "rede"
      ],
      "metadata": {
        "colab": {
          "base_uri": "https://localhost:8080/",
          "height": 569
        },
        "id": "htrdCQqLtEFG",
        "outputId": "c7a97b59-78b9-4462-91e2-ac40e0640bc0"
      },
      "execution_count": 31,
      "outputs": [
        {
          "output_type": "display_data",
          "data": {
            "text/html": [
              "<table class=\"dataframe\">\n",
              "<caption>A data.frame: 15 × 3</caption>\n",
              "<thead>\n",
              "\t<tr><th scope=col>No1</th><th scope=col>No2</th><th scope=col>weight</th></tr>\n",
              "\t<tr><th scope=col>&lt;chr&gt;</th><th scope=col>&lt;chr&gt;</th><th scope=col>&lt;chr&gt;</th></tr>\n",
              "</thead>\n",
              "<tbody>\n",
              "\t<tr><td>Matriz</td><td>B1</td><td>190</td></tr>\n",
              "\t<tr><td>Matriz</td><td>B2</td><td>70 </td></tr>\n",
              "\t<tr><td>Matriz</td><td>B3</td><td>115</td></tr>\n",
              "\t<tr><td>Matriz</td><td>B4</td><td>270</td></tr>\n",
              "\t<tr><td>Matriz</td><td>B5</td><td>160</td></tr>\n",
              "\t<tr><td>B1    </td><td>B2</td><td>100</td></tr>\n",
              "\t<tr><td>B1    </td><td>B3</td><td>110</td></tr>\n",
              "\t<tr><td>B1    </td><td>B4</td><td>215</td></tr>\n",
              "\t<tr><td>B1    </td><td>B5</td><td>50 </td></tr>\n",
              "\t<tr><td>B2    </td><td>B3</td><td>140</td></tr>\n",
              "\t<tr><td>B2    </td><td>B4</td><td>120</td></tr>\n",
              "\t<tr><td>B2    </td><td>B5</td><td>220</td></tr>\n",
              "\t<tr><td>B3    </td><td>B4</td><td>175</td></tr>\n",
              "\t<tr><td>B3    </td><td>B5</td><td>80 </td></tr>\n",
              "\t<tr><td>B4    </td><td>B5</td><td>310</td></tr>\n",
              "</tbody>\n",
              "</table>\n"
            ],
            "text/markdown": "\nA data.frame: 15 × 3\n\n| No1 &lt;chr&gt; | No2 &lt;chr&gt; | weight &lt;chr&gt; |\n|---|---|---|\n| Matriz | B1 | 190 |\n| Matriz | B2 | 70  |\n| Matriz | B3 | 115 |\n| Matriz | B4 | 270 |\n| Matriz | B5 | 160 |\n| B1     | B2 | 100 |\n| B1     | B3 | 110 |\n| B1     | B4 | 215 |\n| B1     | B5 | 50  |\n| B2     | B3 | 140 |\n| B2     | B4 | 120 |\n| B2     | B5 | 220 |\n| B3     | B4 | 175 |\n| B3     | B5 | 80  |\n| B4     | B5 | 310 |\n\n",
            "text/latex": "A data.frame: 15 × 3\n\\begin{tabular}{lll}\n No1 & No2 & weight\\\\\n <chr> & <chr> & <chr>\\\\\n\\hline\n\t Matriz & B1 & 190\\\\\n\t Matriz & B2 & 70 \\\\\n\t Matriz & B3 & 115\\\\\n\t Matriz & B4 & 270\\\\\n\t Matriz & B5 & 160\\\\\n\t B1     & B2 & 100\\\\\n\t B1     & B3 & 110\\\\\n\t B1     & B4 & 215\\\\\n\t B1     & B5 & 50 \\\\\n\t B2     & B3 & 140\\\\\n\t B2     & B4 & 120\\\\\n\t B2     & B5 & 220\\\\\n\t B3     & B4 & 175\\\\\n\t B3     & B5 & 80 \\\\\n\t B4     & B5 & 310\\\\\n\\end{tabular}\n",
            "text/plain": [
              "   No1    No2 weight\n",
              "1  Matriz B1  190   \n",
              "2  Matriz B2  70    \n",
              "3  Matriz B3  115   \n",
              "4  Matriz B4  270   \n",
              "5  Matriz B5  160   \n",
              "6  B1     B2  100   \n",
              "7  B1     B3  110   \n",
              "8  B1     B4  215   \n",
              "9  B1     B5  50    \n",
              "10 B2     B3  140   \n",
              "11 B2     B4  120   \n",
              "12 B2     B5  220   \n",
              "13 B3     B4  175   \n",
              "14 B3     B5  80    \n",
              "15 B4     B5  310   "
            ]
          },
          "metadata": {}
        }
      ]
    },
    {
      "cell_type": "code",
      "source": [
        "# Dataframe para grafo\n",
        "g = graph_from_data_frame(rede, directed = FALSE)"
      ],
      "metadata": {
        "id": "iNwvntV1wX8H"
      },
      "execution_count": 32,
      "outputs": []
    },
    {
      "cell_type": "code",
      "source": [
        "# Rodar algoritmo (solução ótima)\n",
        "g_mst = mst(g)"
      ],
      "metadata": {
        "id": "y3P56nw4wbrC"
      },
      "execution_count": 33,
      "outputs": []
    },
    {
      "cell_type": "code",
      "source": [
        "# Grafico com a solução\n",
        "plot(g_mst, edge.label = E(g_mst)$weight)"
      ],
      "metadata": {
        "colab": {
          "base_uri": "https://localhost:8080/",
          "height": 437
        },
        "id": "OwerAfvZwgIa",
        "outputId": "664f6fce-5a46-476c-8070-41e89167e49b"
      },
      "execution_count": 34,
      "outputs": [
        {
          "output_type": "display_data",
          "data": {
            "text/plain": [
              "Plot with title “”"
            ],
            "image/png": "[encoded data removed]"
          },
          "metadata": {
            "image/png": {
              "width": 420,
              "height": 420
            }
          }
        }
      ]
    },
    {
      "cell_type": "code",
      "source": [
        "sum(as.numeric(E(g_mst)$weight))"
      ],
      "metadata": {
        "colab": {
          "base_uri": "https://localhost:8080/",
          "height": 34
        },
        "id": "SqtyKU_Xwst5",
        "outputId": "ed952e29-2ed1-40f5-a069-9699a8f777b6"
      },
      "execution_count": 35,
      "outputs": [
        {
          "output_type": "display_data",
          "data": {
            "text/html": [
              "420"
            ],
            "text/markdown": "420",
            "text/latex": "420",
            "text/plain": [
              "[1] 420"
            ]
          },
          "metadata": {}
        }
      ]
    },
    {
      "cell_type": "markdown",
      "source": [
        "Para que todas as agencias e a matriz estejam conectadas entre si, afim de utilizar a menor quantidade de cabo:\n",
        "Matriz deve estar conectado com B2, B2 com B4 e B1, B1 com B5 e B5 com B3. Dessa forma, um total de 420km de cabo serão utilizados."
      ],
      "metadata": {
        "id": "BYPHrHDnyJVj"
      }
    }
  ]
}