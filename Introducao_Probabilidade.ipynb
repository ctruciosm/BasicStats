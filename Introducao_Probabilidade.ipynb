{
  "nbformat": 4,
  "nbformat_minor": 0,
  "metadata": {
    "colab": {
      "name": "Introducao_Probabilidade.ipynb",
      "provenance": [],
      "authorship_tag": "ABX9TyMkzGXUedHtycJQ8CPzj4ai",
      "include_colab_link": true
    },
    "kernelspec": {
      "name": "ir",
      "display_name": "R"
    },
    "language_info": {
      "name": "R"
    }
  },
  "cells": [
    {
      "cell_type": "markdown",
      "metadata": {
        "id": "view-in-github",
        "colab_type": "text"
      },
      "source": [
        "<a href=\"https://colab.research.google.com/github/ctruciosm/BasicStats/blob/main/Introducao_Probabilidade.ipynb\" target=\"_parent\"><img src=\"https://colab.research.google.com/assets/colab-badge.svg\" alt=\"Open In Colab\"/></a>"
      ]
    },
    {
      "cell_type": "markdown",
      "source": [
        "# Análise Combinatória e Distribuições de Probabilidade\n",
        "\n",
        "A seguir, apresentamos os comandos utilizados no **R** para resolver problemas utilizando análise combinatoria e distribuições de probabilidade (discretas e contínuas)."
      ],
      "metadata": {
        "id": "MGfG1tocIVB6"
      }
    },
    {
      "cell_type": "markdown",
      "source": [
        "# 1 Análise Combinatória\n",
        "\n",
        "- **Permutação:**  $n!$"
      ],
      "metadata": {
        "id": "JQ6RqKQwIo2I"
      }
    },
    {
      "cell_type": "code",
      "source": [
        "n = 10\n",
        "factorial(10)"
      ],
      "metadata": {
        "colab": {
          "base_uri": "https://localhost:8080/",
          "height": 34
        },
        "id": "KXLPuBAUJBfl",
        "outputId": "bb29b3c2-738b-41b9-a291-af0d473972e7"
      },
      "execution_count": 1,
      "outputs": [
        {
          "output_type": "display_data",
          "data": {
            "text/html": [
              "3628800"
            ],
            "text/markdown": "3628800",
            "text/latex": "3628800",
            "text/plain": [
              "[1] 3628800"
            ]
          },
          "metadata": {}
        }
      ]
    },
    {
      "cell_type": "markdown",
      "source": [
        "Lembre-se que $n! = n \\times n-1 \\times n-2 \\times \\cdots \\times 2 \\times 1$"
      ],
      "metadata": {
        "id": "pdvH0toLJYsI"
      }
    },
    {
      "cell_type": "code",
      "source": [
        "10*9*8*7*6*5*4*3*2*1"
      ],
      "metadata": {
        "colab": {
          "base_uri": "https://localhost:8080/",
          "height": 34
        },
        "id": "JFVZ3ogWJLgC",
        "outputId": "4587a000-c25e-4715-fac4-b804ae2a113e"
      },
      "execution_count": 2,
      "outputs": [
        {
          "output_type": "display_data",
          "data": {
            "text/html": [
              "3628800"
            ],
            "text/markdown": "3628800",
            "text/latex": "3628800",
            "text/plain": [
              "[1] 3628800"
            ]
          },
          "metadata": {}
        }
      ]
    },
    {
      "cell_type": "markdown",
      "source": [
        "- **Combinação:**  $\\binom{n}{r} = C_{r}^n$"
      ],
      "metadata": {
        "id": "R_z9o3_XJhlw"
      }
    },
    {
      "cell_type": "code",
      "source": [
        "n = 10\n",
        "r = 3\n",
        "choose(10, 3)"
      ],
      "metadata": {
        "colab": {
          "base_uri": "https://localhost:8080/",
          "height": 34
        },
        "id": "G0mr_QfmKX3N",
        "outputId": "ecfedd53-d588-4f96-b8b7-7e0b689a68cc"
      },
      "execution_count": 3,
      "outputs": [
        {
          "output_type": "display_data",
          "data": {
            "text/html": [
              "120"
            ],
            "text/markdown": "120",
            "text/latex": "120",
            "text/plain": [
              "[1] 120"
            ]
          },
          "metadata": {}
        }
      ]
    },
    {
      "cell_type": "markdown",
      "source": [
        "- **Arranjo com repetição:**  $n^r$"
      ],
      "metadata": {
        "id": "82NeRT9MKfAg"
      }
    },
    {
      "cell_type": "code",
      "source": [
        "n = 10\n",
        "r = 3\n",
        "n^3"
      ],
      "metadata": {
        "colab": {
          "base_uri": "https://localhost:8080/",
          "height": 34
        },
        "id": "WFi-rYAEK1y3",
        "outputId": "a73b1a62-c88d-48c9-fb06-b07ae5951b2b"
      },
      "execution_count": 4,
      "outputs": [
        {
          "output_type": "display_data",
          "data": {
            "text/html": [
              "1000"
            ],
            "text/markdown": "1000",
            "text/latex": "1000",
            "text/plain": [
              "[1] 1000"
            ]
          },
          "metadata": {}
        }
      ]
    },
    {
      "cell_type": "markdown",
      "source": [
        "- **Arranjo sem repetição:**  $n \\times n-1 \\times (n - r + 1) = \\dfrac{n!}{(n-r)!}$"
      ],
      "metadata": {
        "id": "nGjqSUKKLIem"
      }
    },
    {
      "cell_type": "code",
      "source": [
        "factorial(n)/factorial(n-r)"
      ],
      "metadata": {
        "colab": {
          "base_uri": "https://localhost:8080/",
          "height": 34
        },
        "id": "8edvmuh4K6hZ",
        "outputId": "42828866-d18c-40ef-9adb-d805a6bb5476"
      },
      "execution_count": 5,
      "outputs": [
        {
          "output_type": "display_data",
          "data": {
            "text/html": [
              "720"
            ],
            "text/markdown": "720",
            "text/latex": "720",
            "text/plain": [
              "[1] 720"
            ]
          },
          "metadata": {}
        }
      ]
    },
    {
      "cell_type": "markdown",
      "source": [
        "> Os casos do coeficiente multinomial e número de soluções inteiras pode ser obtido facilmente utilizando os comandos acima."
      ],
      "metadata": {
        "id": "C8590xpzL8J3"
      }
    },
    {
      "cell_type": "markdown",
      "source": [
        "## 2. Distribuições discretas\n",
        "\n",
        "- **Distribuição Binomial:**  Uma v.a. discreta $X$ tem distribuição de Binomial com parâmetros $n$, $p$ $(0 \\leq p \\leq 1)$, denotada por $binom(n,p)$, se $X$ pode assumir os valores $0, 1, \\ldots, n$ e se sua função de probabilidade é dada por\n",
        "\n",
        "$$p(x)=\n",
        "\\begin{cases}\n",
        "\\binom{n}{x} p^x q^{n-x}, & \\text{se } x  = 0, 1,\\ldots, n \\\\ \n",
        "0, & \\text{caso contrario}\n",
        "\\end{cases}$$"
      ],
      "metadata": {
        "id": "2mByIHDML_pP"
      }
    },
    {
      "cell_type": "code",
      "source": [
        "n = 10\n",
        "p = 0.3\n",
        "x = 2"
      ],
      "metadata": {
        "id": "Mz9UAEpIMV2F"
      },
      "execution_count": 6,
      "outputs": []
    },
    {
      "cell_type": "markdown",
      "source": [
        "$P(X = x)$"
      ],
      "metadata": {
        "id": "57xC4cN-MgU1"
      }
    },
    {
      "cell_type": "code",
      "source": [
        "dbinom(x, n, p)"
      ],
      "metadata": {
        "colab": {
          "base_uri": "https://localhost:8080/",
          "height": 34
        },
        "id": "oBLG5xn8MiRw",
        "outputId": "4715c730-c773-4ae0-b576-2e21dbe085b3"
      },
      "execution_count": 7,
      "outputs": [
        {
          "output_type": "display_data",
          "data": {
            "text/html": [
              "0.2334744405"
            ],
            "text/markdown": "0.2334744405",
            "text/latex": "0.2334744405",
            "text/plain": [
              "[1] 0.2334744"
            ]
          },
          "metadata": {}
        }
      ]
    },
    {
      "cell_type": "markdown",
      "source": [
        "$P(X \\leq x)$"
      ],
      "metadata": {
        "id": "nKkBwhZfMmZy"
      }
    },
    {
      "cell_type": "code",
      "source": [
        "pbinom(x, n, p)"
      ],
      "metadata": {
        "colab": {
          "base_uri": "https://localhost:8080/",
          "height": 34
        },
        "id": "8rVJwbXyMsKe",
        "outputId": "7dfda04c-7de9-4f9a-b6fa-1dcb79cadf42"
      },
      "execution_count": 8,
      "outputs": [
        {
          "output_type": "display_data",
          "data": {
            "text/html": [
              "0.3827827864"
            ],
            "text/markdown": "0.3827827864",
            "text/latex": "0.3827827864",
            "text/plain": [
              "[1] 0.3827828"
            ]
          },
          "metadata": {}
        }
      ]
    },
    {
      "cell_type": "markdown",
      "source": [
        "Lembre que se $n = 1$, a distribuição Binomial torna-se apenas uma Bernoulli."
      ],
      "metadata": {
        "id": "GuHOFkK8M0sg"
      }
    },
    {
      "cell_type": "markdown",
      "source": [
        ">> No **R** tanto `dbinom()` quando `pbinom()` tem os argumentos na seguinte ordem:  `dbinom(x, size, prob)` / `pbinom(x, size, prob)` em que size é o tamanho da amostra ($n$) e prob é a probabilidade de sucesso ($p$)."
      ],
      "metadata": {
        "id": "IB7Ki0SiPo-7"
      }
    },
    {
      "cell_type": "markdown",
      "source": [
        "- **Distribuição Poisson:**  A v.a. discreta $X$ (com valores inteiros não negativos) têm distribuição Poisson com parâmetro $\\lambda > 0$, denotada $Pois(\\lambda)$, se sua função de probabilidade é dada por\n",
        "\n",
        "$$p(x)=\n",
        "\\begin{cases}\n",
        "\\dfrac{e^{-\\lambda} \\lambda^x}{x!}, & \\text{se } x  = 0, 1,\\ldots \\\\ \n",
        "0, & \\text{caso contrario}\n",
        "\\end{cases}$$"
      ],
      "metadata": {
        "id": "5TqrBdu1NBNn"
      }
    },
    {
      "cell_type": "code",
      "source": [
        "lambda = 5\n",
        "x = 6"
      ],
      "metadata": {
        "id": "ALC2NhXWNLlv"
      },
      "execution_count": 9,
      "outputs": []
    },
    {
      "cell_type": "markdown",
      "source": [
        "$P(X = x)$"
      ],
      "metadata": {
        "id": "sm2GxD2LNQc8"
      }
    },
    {
      "cell_type": "code",
      "source": [
        "dpois(x, lambda)"
      ],
      "metadata": {
        "colab": {
          "base_uri": "https://localhost:8080/",
          "height": 34
        },
        "id": "1fYF_hWuNP3I",
        "outputId": "42c1f4d4-246a-449f-ed91-8189a2416e55"
      },
      "execution_count": 10,
      "outputs": [
        {
          "output_type": "display_data",
          "data": {
            "text/html": [
              "0.146222808139876"
            ],
            "text/markdown": "0.146222808139876",
            "text/latex": "0.146222808139876",
            "text/plain": [
              "[1] 0.1462228"
            ]
          },
          "metadata": {}
        }
      ]
    },
    {
      "cell_type": "markdown",
      "source": [
        "$P(X \\leq x)$"
      ],
      "metadata": {
        "id": "0-wo1hnZNZA-"
      }
    },
    {
      "cell_type": "code",
      "source": [
        "ppois(x, lambda)"
      ],
      "metadata": {
        "colab": {
          "base_uri": "https://localhost:8080/",
          "height": 34
        },
        "id": "qwHrS2MQNbot",
        "outputId": "c5b5ee4c-4ae1-443c-8fd2-3724d6c6cc11"
      },
      "execution_count": 11,
      "outputs": [
        {
          "output_type": "display_data",
          "data": {
            "text/html": [
              "0.762183462972939"
            ],
            "text/markdown": "0.762183462972939",
            "text/latex": "0.762183462972939",
            "text/plain": [
              "[1] 0.7621835"
            ]
          },
          "metadata": {}
        }
      ]
    },
    {
      "cell_type": "markdown",
      "source": [
        ">> No R tanto `dpois()` quando `ppois()` tem os argumentos na seguinte ordem: `dpois(x, lambda)` / `ppois(x, lambda)` em que lambda é o número médio de ___________."
      ],
      "metadata": {
        "id": "lsvTaQ8XQJ-8"
      }
    },
    {
      "cell_type": "markdown",
      "source": [
        "- **Distribuição Hipergeometrica:** A v.a. discreta $X$ têm distribuição Hipergeométrica com parâmetros $N$, $n$ e $r$, se sua função de probabilidade é dada por\n",
        "\n",
        "$$p(x)=\n",
        "\\begin{cases}\n",
        "\\dfrac{\\binom{r}{x} \\binom{N-r}{n-x}}{\\binom{N}{n}}, & \\text{se } x  = 0, 1,\\ldots, r \\\\ \n",
        "0, & \\text{caso contrario}\n",
        "\\end{cases},$$ em que $N$ é o numero total de elementos na população, $n$ é o tamanho da amostra e $r$ é número de _sucessos_ (ex: bolas vermelhas)."
      ],
      "metadata": {
        "id": "FL1YJV5BNk87"
      }
    },
    {
      "cell_type": "markdown",
      "source": [
        "**Exemplo:**  Uma urna contém 5 bolas vermelhas e 10 bolas azuis. Se selecionarmos 7 bolas ao acaso e sem substituição. Qual é a probabilidade de obter no máximo 3 bolas vermelhas?\n",
        "\n",
        "**Sol.**\n",
        "\n",
        "**Primeiro passo: Informações**\n",
        "\n",
        "- $r =5$  (caracteristica de interesse: bolas vermelhas).\n",
        "- $N = 5+10 = 15$ (número total de bolas na urna).\n",
        "- $n = 7$ (número de bolas selecionadas).\n",
        "- $X:$ número de bolas vermelhas na amostra\n",
        "\n",
        "**Segundo passo: Análise e Cálculo**"
      ],
      "metadata": {
        "id": "PVgluWluSjKM"
      }
    },
    {
      "cell_type": "code",
      "source": [
        "r = 5\n",
        "N = 15\n",
        "n = 7"
      ],
      "metadata": {
        "id": "oX5zmRTnS_B2"
      },
      "execution_count": 12,
      "outputs": []
    },
    {
      "cell_type": "markdown",
      "source": [
        "$P(X \\leq 3)$"
      ],
      "metadata": {
        "id": "GpDxHTFDTTmB"
      }
    },
    {
      "cell_type": "code",
      "source": [
        "phyper(3, m = r, n = N - r, k = n)"
      ],
      "metadata": {
        "colab": {
          "base_uri": "https://localhost:8080/",
          "height": 34
        },
        "id": "iRxHBPMzTWvF",
        "outputId": "2228577d-e399-4a4c-8635-047e10aa6500"
      },
      "execution_count": 13,
      "outputs": [
        {
          "output_type": "display_data",
          "data": {
            "text/html": [
              "0.8997668997669"
            ],
            "text/markdown": "0.8997668997669",
            "text/latex": "0.8997668997669",
            "text/plain": [
              "[1] 0.8997669"
            ]
          },
          "metadata": {}
        }
      ]
    },
    {
      "cell_type": "markdown",
      "source": [
        "Se quisermos $P(X = 3)$"
      ],
      "metadata": {
        "id": "4fHehSMETZ5Z"
      }
    },
    {
      "cell_type": "code",
      "source": [
        "dhyper(3, m = r, n = N - r, k = n)"
      ],
      "metadata": {
        "colab": {
          "base_uri": "https://localhost:8080/",
          "height": 34
        },
        "id": "m9Ty2LPfTd44",
        "outputId": "bf741d90-5bd7-4a28-c8c5-87ff34896340"
      },
      "execution_count": 14,
      "outputs": [
        {
          "output_type": "display_data",
          "data": {
            "text/html": [
              "0.326340326340326"
            ],
            "text/markdown": "0.326340326340326",
            "text/latex": "0.326340326340326",
            "text/plain": [
              "[1] 0.3263403"
            ]
          },
          "metadata": {}
        }
      ]
    },
    {
      "cell_type": "markdown",
      "source": [
        ">> A parametrização da distribuição hipergeométrica no **R** segue a seguinte estrutura:  `dhyper(x, m, n, k)`/ `phyper(x, m, n, k)` em que $m$ é o número de \"bolinhas\" com a característica de interesse, $n$ é o número de \"bolinhas\" que não tem a caracteristica de interesse e $k$ é o tamanho da amostra."
      ],
      "metadata": {
        "id": "Eb4xFfYCUl8L"
      }
    },
    {
      "cell_type": "markdown",
      "source": [
        "## 3. Distribuições Contínuas\n",
        "\n",
        "- **Distribuição Uniforme:**  Uma v.a. continua $X$ tem distribuição uniforme no intervalo $[a,b]$, denotada por $X \\sim U_{[a,b]}$ se sua função densidade é dada por \n",
        "$$f(x) = \n",
        "\\begin{cases}\n",
        "\\dfrac{1}{b-a}, & \\text{se } a \\leq x \\leq b \\\\ \n",
        "0, & \\text{caso contrário}, \n",
        "\\end{cases}$$"
      ],
      "metadata": {
        "id": "QHWMgrmtV6GF"
      }
    },
    {
      "cell_type": "code",
      "source": [
        "a = 2\n",
        "b = 5\n",
        "x = 3.3"
      ],
      "metadata": {
        "id": "IZZJckH2XzGU"
      },
      "execution_count": 15,
      "outputs": []
    },
    {
      "cell_type": "markdown",
      "source": [
        "$P(X \\leq x)$"
      ],
      "metadata": {
        "id": "QEi1oT_iX31s"
      }
    },
    {
      "cell_type": "code",
      "source": [
        "punif(x, a, b)  # repare na ordem em que a e b foram inseridos na função."
      ],
      "metadata": {
        "colab": {
          "base_uri": "https://localhost:8080/",
          "height": 34
        },
        "id": "zsW5ytpCX9-9",
        "outputId": "ad4634ec-e6e4-4855-d5fc-1b670feaa51a"
      },
      "execution_count": 16,
      "outputs": [
        {
          "output_type": "display_data",
          "data": {
            "text/html": [
              "0.433333333333333"
            ],
            "text/markdown": "0.433333333333333",
            "text/latex": "0.433333333333333",
            "text/plain": [
              "[1] 0.4333333"
            ]
          },
          "metadata": {}
        }
      ]
    },
    {
      "cell_type": "markdown",
      "source": [
        "Lembre-se que, no caso das distribuições contínuas $P(X = x) = 0 \\quad \\forall x$.\n",
        "\n",
        "$f(x)$"
      ],
      "metadata": {
        "id": "cem45_XnYUE4"
      }
    },
    {
      "cell_type": "code",
      "source": [
        "dunif(x, a, b)  # O valor da função densidade (que não é a probabilidade P(X = x))"
      ],
      "metadata": {
        "colab": {
          "base_uri": "https://localhost:8080/",
          "height": 34
        },
        "id": "p7SaIom8YdCv",
        "outputId": "387cdf73-9286-47b9-9d12-060577cf9e12"
      },
      "execution_count": 17,
      "outputs": [
        {
          "output_type": "display_data",
          "data": {
            "text/html": [
              "0.333333333333333"
            ],
            "text/markdown": "0.333333333333333",
            "text/latex": "0.333333333333333",
            "text/plain": [
              "[1] 0.3333333"
            ]
          },
          "metadata": {}
        }
      ]
    },
    {
      "cell_type": "markdown",
      "source": [
        "- **Distribuição Exponencial:**  Uma v.a. continua $X$ tem distribuição exponencial com parâmetro $\\lambda$, denotada por $X \\sim Exp(\\lambda)$ se sua função densidade é dada por \n",
        "$$f(x)=\n",
        "\\begin{cases}\n",
        "\\lambda e^{-\\lambda x}, & \\text{se } x \\geq 0 \\\\ \n",
        "0, & \\text{caso contrário.} \n",
        "\\end{cases}$$\n",
        "\n",
        "Note que $\\lambda = 1/\\mu$."
      ],
      "metadata": {
        "id": "K_FjhvTyZPu9"
      }
    },
    {
      "cell_type": "code",
      "source": [
        "lambda = 1/4\n",
        "x = 2"
      ],
      "metadata": {
        "id": "rA8TCzkrZhPd"
      },
      "execution_count": 18,
      "outputs": []
    },
    {
      "cell_type": "markdown",
      "source": [
        "$P(X = x)$"
      ],
      "metadata": {
        "id": "Fw7ZYFDVZm48"
      }
    },
    {
      "cell_type": "code",
      "source": [
        "dexp(x, lambda)"
      ],
      "metadata": {
        "colab": {
          "base_uri": "https://localhost:8080/",
          "height": 34
        },
        "id": "f6-6jQ42Zo2p",
        "outputId": "e769a9ba-e671-4752-b580-71fdcf8424bc"
      },
      "execution_count": 19,
      "outputs": [
        {
          "output_type": "display_data",
          "data": {
            "text/html": [
              "0.151632664928158"
            ],
            "text/markdown": "0.151632664928158",
            "text/latex": "0.151632664928158",
            "text/plain": [
              "[1] 0.1516327"
            ]
          },
          "metadata": {}
        }
      ]
    },
    {
      "cell_type": "markdown",
      "source": [
        "$P(X \\leq x)$"
      ],
      "metadata": {
        "id": "la6_yBHgZr_t"
      }
    },
    {
      "cell_type": "code",
      "source": [
        "pexp(x, lambda)"
      ],
      "metadata": {
        "colab": {
          "base_uri": "https://localhost:8080/",
          "height": 34
        },
        "id": "So_fwcF6ZvXt",
        "outputId": "e169aa30-45ea-479a-fc64-6a0056da3696"
      },
      "execution_count": 20,
      "outputs": [
        {
          "output_type": "display_data",
          "data": {
            "text/html": [
              "0.393469340287367"
            ],
            "text/markdown": "0.393469340287367",
            "text/latex": "0.393469340287367",
            "text/plain": [
              "[1] 0.3934693"
            ]
          },
          "metadata": {}
        }
      ]
    },
    {
      "cell_type": "markdown",
      "source": [
        "- **Distribuição Normal:**  Uma v.a. continua $X$ tem distribuição Normal (Gaussiana), denotada por $N(\\mu, \\sigma)$, se sua função densidade é da forma $$ f(x) = \\dfrac{1}{\\sqrt{2 \\pi \\sigma^2}} e^{-\\frac{(x-\\mu)^2}{2 \\sigma^2}}, \\text{ com } x \\in (-\\infty, \\infty)$$\n",
        "\n",
        "Se $\\mu = 0$ e $\\sigma = 1$, a distribuição é dita de **Normal padrão**."
      ],
      "metadata": {
        "id": "Rpv_qxWAZzc7"
      }
    },
    {
      "cell_type": "markdown",
      "source": [
        "**Exemplo:** O tempo gasto em terminar a $P_1$ de MAD211 tem distribuição normal, com média 120 minutos e desvio padrão de 15 min. Qual é a probabilidade de um aluno terminar a prova em menos de 45 minutos?\n",
        "\n",
        "**Sol.**\n",
        "\n",
        "- $X:$ tempo gastos em terminar a $P_1$ de MAD211\n",
        "- $X \\sim N(120, 15)$\n",
        "\n",
        "Padronizamos (ou seja, levamos para uma Normal padrão):\n",
        "\n",
        "- Queremos $P(X < 45)$\n",
        "- $P(X < 45) = P(\\underbrace{\\dfrac{X-120}{15}}_{Z} < \\dfrac{45-120}{15}) = P(Z < -5)$"
      ],
      "metadata": {
        "id": "G44JShiiaSNr"
      }
    },
    {
      "cell_type": "code",
      "source": [
        "pnorm(-5)"
      ],
      "metadata": {
        "colab": {
          "base_uri": "https://localhost:8080/",
          "height": 34
        },
        "id": "z8leJZgQa1ch",
        "outputId": "b01a4657-e697-40d7-df0e-31ca10e2dc51"
      },
      "execution_count": 21,
      "outputs": [
        {
          "output_type": "display_data",
          "data": {
            "text/html": [
              "2.86651571879194e-07"
            ],
            "text/markdown": "2.86651571879194e-07",
            "text/latex": "2.86651571879194e-07",
            "text/plain": [
              "[1] 2.866516e-07"
            ]
          },
          "metadata": {}
        }
      ]
    },
    {
      "cell_type": "markdown",
      "source": [
        "No **R** é possível calcular  probabilidade sem padronizar:"
      ],
      "metadata": {
        "id": "OCTGzGldbCrQ"
      }
    },
    {
      "cell_type": "code",
      "source": [
        "pnorm(45, 120, 15)"
      ],
      "metadata": {
        "colab": {
          "base_uri": "https://localhost:8080/",
          "height": 34
        },
        "id": "YvOPU9SebHOM",
        "outputId": "714d23dd-2ef7-48a6-97d7-d832ed20c7ae"
      },
      "execution_count": 22,
      "outputs": [
        {
          "output_type": "display_data",
          "data": {
            "text/html": [
              "2.86651571879194e-07"
            ],
            "text/markdown": "2.86651571879194e-07",
            "text/latex": "2.86651571879194e-07",
            "text/plain": [
              "[1] 2.866516e-07"
            ]
          },
          "metadata": {}
        }
      ]
    },
    {
      "cell_type": "markdown",
      "source": [
        "**Nota:** na disciplina sempre faremos o processo de padronizar"
      ],
      "metadata": {
        "id": "vqn8XYXwbKfa"
      }
    },
    {
      "cell_type": "markdown",
      "source": [
        "## Resumo\n",
        "\n",
        "Distribuições Discretas\n",
        "\n",
        "| Distribuição | Parâmetros    | Função de Probabilidade     | R: $P(X=x)$ | R: $P(X <= x)$ |\n",
        "|:-------:|:-------:|:-----------:|:-----------:|:-----------:|\n",
        "| Binomial     | $n$, $p$      | $\\binom{n}{x}p^x(1-p)^{n-x}$ | `dbinom(x, n, p)` | `pbinom(x, n, p)` |\n",
        "| Poison  | $\\lambda$ | $\\dfrac{e^{-\\lambda} \\lambda^x}{x!}$ |  `dpois(x, ` $\\lambda$ `)` |  `ppois(x, ` $\\lambda$ `)` |\n",
        "| Hipergeométrica | $N$, $n$, $r$ | $\\dfrac{1}{\\sqrt{2 \\pi}} e^{-\\frac{x^2}{2}}$ | `dhyper(x, r, N - r, n)` | `phyper(x, r, N - r, n)` | \n",
        "\n",
        "Distribuições Contínuas\n",
        "\n",
        "| Distribuição | Parâmetros    | Função de densidade     | R: $f(x)$ | R: $P(X <= x)$ |\n",
        "|:-------:|:-------:|:-----------:|:-----------:|:-----------:|\n",
        "| Uniforme    | $a$, $b$      | $\\dfrac{1}{b-a}$ | `dunif(x, a, b)` | `punif(x, a, b)` |\n",
        "| Exponencial  | $\\lambda$ | $\\lambda e^{-\\lambda x}$ |  `dexp(x, ` $\\lambda$ `)` |  `pexp(x, ` $\\lambda$ `)` |\n",
        "| Normal Padrão | $\\mu = 0$, $\\sigma = 1$ | $\\dfrac{1}{\\sqrt{2 \\pi}} e^{-\\frac{x^2}{2}}$ | `dnorm(x)` | `pnorm(x)` | "
      ],
      "metadata": {
        "id": "mTlJnGRjWBrJ"
      }
    }
  ]
}