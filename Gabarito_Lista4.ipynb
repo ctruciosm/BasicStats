{
  "nbformat": 4,
  "nbformat_minor": 0,
  "metadata": {
    "colab": {
      "name": "Gabarito_Lista4.ipynb",
      "provenance": []
    },
    "kernelspec": {
      "name": "ir",
      "display_name": "R"
    },
    "language_info": {
      "name": "R"
    }
  },
  "cells": [
    {
      "cell_type": "markdown",
      "source": [
        "## Questão 1"
      ],
      "metadata": {
        "id": "HqizGEkv8bui"
      }
    },
    {
      "cell_type": "markdown",
      "source": [
        "Um intervalo de confiança para a proporção populacional pode ser calculado como: $$\\big< \\bar{p} - z_{1-\\alpha/2} \\sqrt{\\dfrac{\\bar{p}(1-\\bar{p})}{n}}; \\bar{p} + z_{1-\\alpha/2} \\sqrt{\\dfrac{\\bar{p}(1-\\bar{p})}{n}} \\big>,$$ em que $\\bar{p}$ é a proporção amostral. Uma amostra aleatória de 400 pessõas apresentou 100 respostas `Sim`. \n",
        "\n",
        "- a) Qual é a estimação por ponto da proporção da população que apresentaria respostas `Sim`?.\n",
        "- b) Calcule um intervalo de confiança para a proporção populacional.\n",
        "- c) Qual é a margem de erro da sua estimação por ponto?\n",
        "\n",
        "#### Solução"
      ],
      "metadata": {
        "id": "WLhtjyVe8dNJ"
      }
    },
    {
      "cell_type": "markdown",
      "source": [
        "Lembre-se $\\bar{p}$ ou $\\hat{p}$ são notações diferentes para representar à proporção estimada."
      ],
      "metadata": {
        "id": "yXWQW_8i9CLW"
      }
    },
    {
      "cell_type": "code",
      "source": [
        "# a)\n",
        "p_chapeu = 100/400\n",
        "p_chapeu"
      ],
      "metadata": {
        "colab": {
          "base_uri": "https://localhost:8080/",
          "height": 34
        },
        "id": "GMux4qwz8sYC",
        "outputId": "d0e88168-fcd5-489c-d15c-3de251f3e1cd"
      },
      "execution_count": 1,
      "outputs": [
        {
          "output_type": "display_data",
          "data": {
            "text/html": [
              "0.25"
            ],
            "text/markdown": "0.25",
            "text/latex": "0.25",
            "text/plain": [
              "[1] 0.25"
            ]
          },
          "metadata": {}
        }
      ]
    },
    {
      "cell_type": "code",
      "source": [
        "# b)\n",
        "# Como ninguém falou qual o nível de confiança, usamos 95% (ou seja alpha = 5%)\n",
        "n = 400\n",
        "alpha = 0.05\n",
        "z = qnorm(1 - alpha/2)\n",
        "c(p_chapeu - z * sqrt((p_chapeu * (1 - p_chapeu))/n), p_chapeu + z * sqrt((p_chapeu * (1 - p_chapeu))/n))\n"
      ],
      "metadata": {
        "colab": {
          "base_uri": "https://localhost:8080/",
          "height": 34
        },
        "id": "AH0__GP687cS",
        "outputId": "d85f4381-a75c-487c-eb18-2ef02dd02ee0"
      },
      "execution_count": 2,
      "outputs": [
        {
          "output_type": "display_data",
          "data": {
            "text/html": [
              "<style>\n",
              ".list-inline {list-style: none; margin:0; padding: 0}\n",
              ".list-inline>li {display: inline-block}\n",
              ".list-inline>li:not(:last-child)::after {content: \"\\00b7\"; padding: 0 .5ex}\n",
              "</style>\n",
              "<ol class=list-inline><li>0.207565534972144</li><li>0.292434465027856</li></ol>\n"
            ],
            "text/markdown": "1. 0.207565534972144\n2. 0.292434465027856\n\n\n",
            "text/latex": "\\begin{enumerate*}\n\\item 0.207565534972144\n\\item 0.292434465027856\n\\end{enumerate*}\n",
            "text/plain": [
              "[1] 0.2075655 0.2924345"
            ]
          },
          "metadata": {}
        }
      ]
    },
    {
      "cell_type": "markdown",
      "source": [
        "O Intervalo de confiança 95% para a proporção populacional é $$(0.21, 0.29)$$"
      ],
      "metadata": {
        "id": "eX2109YM9qZp"
      }
    },
    {
      "cell_type": "code",
      "source": [
        "# c)\n"
      ],
      "metadata": {
        "id": "eANkMiyK9_QH"
      },
      "execution_count": 3,
      "outputs": []
    },
    {
      "cell_type": "markdown",
      "source": [
        "Um Intervalo de confiança é da forma $$\\text{Estimação pontual} \\pm \\text{Margem de Erro}$$"
      ],
      "metadata": {
        "id": "qJBaK-ke-DO1"
      }
    },
    {
      "cell_type": "code",
      "source": [
        "# Margem de Erro:\n",
        "z * sqrt((p_chapeu * (1 - p_chapeu))/n)"
      ],
      "metadata": {
        "colab": {
          "base_uri": "https://localhost:8080/",
          "height": 34
        },
        "id": "hPR4cf6Z-OC3",
        "outputId": "73e1a46c-4713-42c8-987f-ddac6683ffc9"
      },
      "execution_count": 4,
      "outputs": [
        {
          "output_type": "display_data",
          "data": {
            "text/html": [
              "0.0424344650278564"
            ],
            "text/markdown": "0.0424344650278564",
            "text/latex": "0.0424344650278564",
            "text/plain": [
              "[1] 0.04243447"
            ]
          },
          "metadata": {}
        }
      ]
    },
    {
      "cell_type": "markdown",
      "source": [
        "## Questão 2"
      ],
      "metadata": {
        "id": "Z5llZv6a-Ux_"
      }
    },
    {
      "cell_type": "markdown",
      "source": [
        "Uma pesquisa realizada com 346 pessoas da cidade de Rio de Janeiro apontou que 257 delas utilizam máscara de proteção facial quando saem de casa.\n",
        "\n",
        "\n",
        "- a) Estime a proporção a pessoas na cidade de Rio de Janeiro que usam máscara de proteção facial quando saem de casa.\n",
        "- b) Qual a margem de erro da sua estimativa?\n",
        "- c) O ministério da saude está interessado em saber se **pelo menos** 75\\% dos moradores do Rio de Janeiro utilizam máscara de proteção facial quando saem de casa. Estabeleça apropriadamente as hipóteses e faça o teste correspondente.\n",
        "\n",
        "\n",
        "#### Solução\n"
      ],
      "metadata": {
        "id": "TCyWkYoI-azq"
      }
    },
    {
      "cell_type": "code",
      "source": [
        "# a)\n",
        "p_chapeu = 257/346\n",
        "p_chapeu"
      ],
      "metadata": {
        "colab": {
          "base_uri": "https://localhost:8080/",
          "height": 34
        },
        "id": "qUJCpaCY-lI0",
        "outputId": "1014791a-c664-49d6-d7cd-600446b1165e"
      },
      "execution_count": 5,
      "outputs": [
        {
          "output_type": "display_data",
          "data": {
            "text/html": [
              "0.742774566473988"
            ],
            "text/markdown": "0.742774566473988",
            "text/latex": "0.742774566473988",
            "text/plain": [
              "[1] 0.7427746"
            ]
          },
          "metadata": {}
        }
      ]
    },
    {
      "cell_type": "code",
      "source": [
        "# b)\n",
        "n = 346\n",
        "alpha = 0.05\n",
        "z = qnorm(1 - alpha/2)\n",
        "\n",
        "# Margem de Erro:\n",
        "z * sqrt((p_chapeu * (1 - p_chapeu))/n)"
      ],
      "metadata": {
        "colab": {
          "base_uri": "https://localhost:8080/",
          "height": 34
        },
        "id": "rrblHGygAUMX",
        "outputId": "cbe2745a-e8ce-459e-b717-178ca037dece"
      },
      "execution_count": 6,
      "outputs": [
        {
          "output_type": "display_data",
          "data": {
            "text/html": [
              "0.0460569853406481"
            ],
            "text/markdown": "0.0460569853406481",
            "text/latex": "0.0460569853406481",
            "text/plain": [
              "[1] 0.04605699"
            ]
          },
          "metadata": {}
        }
      ]
    },
    {
      "cell_type": "code",
      "source": [
        "# c)\n",
        "# H0: p >= 0.75  vs.   H1: p < 0.75"
      ],
      "metadata": {
        "id": "xNxGlTDeAlCO"
      },
      "execution_count": 7,
      "outputs": []
    },
    {
      "cell_type": "markdown",
      "source": [
        "Para $n$ grande, temos: $$Z = \\dfrac{\\hat{p} - p_0}{\\sqrt{p_0 (1 - p_0)/n}} \\sim N(0,1)$$\n"
      ],
      "metadata": {
        "id": "34AgKo0WA60X"
      }
    },
    {
      "cell_type": "code",
      "source": [
        "p0 = 0.75\n",
        "numerador_Z = p_chapeu - p0\n",
        "denominador_Z = sqrt(p0*(1 - p0)/n)\n",
        "Z = numerador_Z/denominador_Z\n",
        "Z"
      ],
      "metadata": {
        "colab": {
          "base_uri": "https://localhost:8080/",
          "height": 34
        },
        "id": "y4-l0X2GBLWP",
        "outputId": "bccc8ac1-bdc7-479a-e969-b9a2d44629d0"
      },
      "execution_count": 8,
      "outputs": [
        {
          "output_type": "display_data",
          "data": {
            "text/html": [
              "-0.310385427622101"
            ],
            "text/markdown": "-0.310385427622101",
            "text/latex": "-0.310385427622101",
            "text/plain": [
              "[1] -0.3103854"
            ]
          },
          "metadata": {}
        }
      ]
    },
    {
      "cell_type": "markdown",
      "source": [
        "Como a hipótese é unilateral com $H_1: p < 0.75$, rejeitamos $H_0$ se $Z < z_{\\alpha}$"
      ],
      "metadata": {
        "id": "Lk7msfyrBcaQ"
      }
    },
    {
      "cell_type": "code",
      "source": [
        "z_alpha = qnorm(alpha)\n",
        "z_alpha"
      ],
      "metadata": {
        "colab": {
          "base_uri": "https://localhost:8080/",
          "height": 34
        },
        "id": "ZBeqEbYLBnls",
        "outputId": "11f3a78b-deec-4cdb-b2a4-390154909228"
      },
      "execution_count": 9,
      "outputs": [
        {
          "output_type": "display_data",
          "data": {
            "text/html": [
              "-1.64485362695147"
            ],
            "text/markdown": "-1.64485362695147",
            "text/latex": "-1.64485362695147",
            "text/plain": [
              "[1] -1.644854"
            ]
          },
          "metadata": {}
        }
      ]
    },
    {
      "cell_type": "code",
      "source": [
        "# -0.310385427622101 <  -1.64485362695147 ? Não, então não rejeitamos H0."
      ],
      "metadata": {
        "id": "UnD2tp5tBt8L"
      },
      "execution_count": 10,
      "outputs": []
    },
    {
      "cell_type": "markdown",
      "source": [
        "## Questão 3\n",
        "\n",
        "Uma amostra de 134 professores universitários de rede pública produziu um salário médio de $\\bar{x} = 10113.56$ reais com um desvio padrão amostral de $\\hat{\\sigma}_x = 200.5$ reais. Uma amostra de 245 professores universtirários da rede privada produzio um salário médio de $\\bar{y} = 13145.76$ reais com um desvio padrão amostral de $\\hat{\\sigma}_y = 503.2$. \n",
        "\n",
        "- a) Teste se a média salarial dos professores universitários da rede pública é 10250 reais.\n",
        "- b) Teste se a média salarial dos professores universitários da rede privada é maior que 13000 reais.\n",
        "\n",
        "#### Solução\n",
        "\n",
        "Veja que (a) e (b) são perguntas diferentes."
      ],
      "metadata": {
        "id": "KkzMmaA5B4li"
      }
    },
    {
      "cell_type": "markdown",
      "source": [
        "a)\n",
        "\n",
        "$$H_0: \\mu = 10250 \\quad vs \\quad H_1: \\mu \\neq 10250$$\n",
        "\n",
        "em que $\\mu$ é a media salarial dos professores universitários da rede pública.\n",
        "\n",
        "Nota que temos $\\hat{\\sigma}$ mas não $\\sigma$, ou seja, a variância é desconhecida (temos apenas a variância amostral)."
      ],
      "metadata": {
        "id": "ewlOB6U3GENN"
      }
    },
    {
      "cell_type": "code",
      "source": [
        "mu0 = 10250\n",
        "n = 134\n",
        "sigma_chapeu = 200.5\n"
      ],
      "metadata": {
        "id": "qls00YMiGL__"
      },
      "execution_count": 11,
      "outputs": []
    },
    {
      "cell_type": "markdown",
      "source": [
        "$$T = \\dfrac{\\bar{X} - \\mu_0}{ \\hat{\\sigma} / \\sqrt{n}} \\sim t_{n-1}$$"
      ],
      "metadata": {
        "id": "01ETPac0II86"
      }
    },
    {
      "cell_type": "code",
      "source": [
        "x_barra = 10113.56\n",
        "numerador_T =  x_barra - mu0\n",
        "denominador_T = sigma_chapeu/sqrt(n)\n",
        "numerador_T/denominador_T"
      ],
      "metadata": {
        "colab": {
          "base_uri": "https://localhost:8080/",
          "height": 34
        },
        "id": "oDRbw8aEIVn_",
        "outputId": "86bc54fb-e8f0-4fa0-a42a-3a9f8d5e8d47"
      },
      "execution_count": 12,
      "outputs": [
        {
          "output_type": "display_data",
          "data": {
            "text/html": [
              "-7.87734257863693"
            ],
            "text/markdown": "-7.87734257863693",
            "text/latex": "-7.87734257863693",
            "text/plain": [
              "[1] -7.877343"
            ]
          },
          "metadata": {}
        }
      ]
    },
    {
      "cell_type": "markdown",
      "source": [
        "Como a hipótese é bilateral, rejeitamos $H_0$ se $|T| > t_{1 - \\alpha/2, n-1}$ "
      ],
      "metadata": {
        "id": "CclYCAQeJfBG"
      }
    },
    {
      "cell_type": "code",
      "source": [
        "qt(1 - alpha/2, n-1)"
      ],
      "metadata": {
        "colab": {
          "base_uri": "https://localhost:8080/",
          "height": 34
        },
        "id": "1y73GLltJp3o",
        "outputId": "a6173a13-59a0-4bae-81a9-7149dcff5bcb"
      },
      "execution_count": 13,
      "outputs": [
        {
          "output_type": "display_data",
          "data": {
            "text/html": [
              "1.97796126416772"
            ],
            "text/markdown": "1.97796126416772",
            "text/latex": "1.97796126416772",
            "text/plain": [
              "[1] 1.977961"
            ]
          },
          "metadata": {}
        }
      ]
    },
    {
      "cell_type": "markdown",
      "source": [
        "|-7.87734257863693| = 7.87734257863693 é maior que 1.97796126416772? **Sim,** então rejeitamos H_0"
      ],
      "metadata": {
        "id": "wwq8DPVFJ41O"
      }
    },
    {
      "cell_type": "markdown",
      "source": [
        "b) é semelhante."
      ],
      "metadata": {
        "id": "YLw34GHfKAhs"
      }
    },
    {
      "cell_type": "markdown",
      "source": [
        "## Questão 3\n"
      ],
      "metadata": {
        "id": "Wy_2q6m0KDRV"
      }
    },
    {
      "cell_type": "markdown",
      "source": [
        "A empresa de consultoría `Silva e Associados` deseja fazer um estudo sobre o gasto médio (em produtos básicos) das familias em situação de pobreza no Rio de Janeiro durante a pandemia. Este estudo ajudará a adotar melhores medidas de assistência para combater os efeitos econômicos da pandemia. Um estudo piloto determinou que $\\sigma = 55.65$. Determine o tamanho amostral necessário para ter uma margem de erro de 5 reais. Considere $\\alpha = 0.05$\n",
        "\n",
        "#### Solução\n",
        "\n",
        "Para determinar o tamanho amostral, precisamos utilizar a seguinte formula:  $$n = Z_{1 - \\alpha/2}^2 \\dfrac{\\sigma^2}{E^2}$$\n",
        "\n",
        "> Lembre-se, sempre arredondamos n pra cima!\n",
        "\n"
      ],
      "metadata": {
        "id": "zOreSPKOKHx4"
      }
    },
    {
      "cell_type": "code",
      "source": [
        "alpha = 0.05\n",
        "Z = qnorm(1 - alpha/2)\n",
        "sigma = 55.65 # dado no exercício.\n",
        "E = 5  # E é a margem de erro e também é dado no exercício\n",
        "n = Z^2 * sigma^2 / E^2\n",
        "n"
      ],
      "metadata": {
        "colab": {
          "base_uri": "https://localhost:8080/",
          "height": 34
        },
        "id": "9OaSnORqLGl6",
        "outputId": "8a500f98-07e0-4ee8-ecfe-3f926e7f0c34"
      },
      "execution_count": 14,
      "outputs": [
        {
          "output_type": "display_data",
          "data": {
            "text/html": [
              "475.868010185244"
            ],
            "text/markdown": "475.868010185244",
            "text/latex": "475.868010185244",
            "text/plain": [
              "[1] 475.868"
            ]
          },
          "metadata": {}
        }
      ]
    },
    {
      "cell_type": "markdown",
      "source": [
        "Precisamos um tamanho amostral de 476."
      ],
      "metadata": {
        "id": "C52CV16fLkVq"
      }
    },
    {
      "cell_type": "markdown",
      "source": [
        "## Questão 4\n",
        "\n"
      ],
      "metadata": {
        "id": "tpSe1u4CLnSH"
      }
    },
    {
      "cell_type": "markdown",
      "source": [
        "O Centro Acadêmico da FACC está interessado em saber se o rendimento acadêmico na matéria MAD211 no 2020.2 foi melhor do que no 2020.1. Para isto, apenas alunos que fizeram MAD211 pela primeira vez foram considerados no estudo. Os resumos amostrais de amostrais de cada uma das pupulações são apresentados a seguir: \n",
        "\n",
        "-  **Amostra 1** (alunos que cursaram MAD211 no 2020.1): $n = 23$, $\\bar{x} = 7.3$ e $\\hat{\\sigma} = 0.9$ \n",
        "- **Amostra 2** (alunos que cursaram MAD211 no 2020.2): $n = 19$, $\\bar{x} = 7.9$ e $\\hat{\\sigma} = 1.4$ \n",
        "\n",
        "\n",
        "Com base na evidência fornecida, poderiamos dizer que o rendimento acadêmico na matéria MAD211 no 2020.2 foi melhor do que no 2020.1?\n",
        "\n",
        "#### Solução\n",
        "\n",
        "Estamos em um problema de comparação de médias com variâncias desconhecidas.\n",
        "\n",
        "- Primeiro precisamos testar se as variâncias desconhecidas são iguais ou diferentes (para, dependendo desse resultado, escolher a estatistica de teste apropriada) $$H_0: \\sigma_1 = \\sigma_2 \\quad vs. \\quad H_1:  \\sigma_1 \\neq \\sigma_2$$\n",
        "- Testemos as médias com variâncias deconhecidas iguais ou diferentes (dependendo do resutado anterior)\n",
        "\n",
        "> Fizemos uma questão parecida nas duas últimas aulas. Não farei esse gabarito dessa questão.\n",
        "\n",
        "\n"
      ],
      "metadata": {
        "id": "fN001BspLo2s"
      }
    },
    {
      "cell_type": "markdown",
      "source": [
        "## Questão 5"
      ],
      "metadata": {
        "id": "39t8YBRgOYHE"
      }
    },
    {
      "cell_type": "markdown",
      "source": [
        "Amostras aleatórias doram selecionadas de três populações. Os dados obtidos são os seguintes: \n",
        "\n",
        "- **Amostra 1:** 93, 98, 107, 102\n",
        "- **Amostra 2:** 77, 87, 84, 95, 85, 82\n",
        "- **Amostra 3:** 88, 75, 73, 84, 74\n",
        "\n",
        "Com um nível de significância de 5\\%, podemos rejeitar a Hipótese nula de que as médias das três populações são iguais?\n",
        "\n",
        "#### Solução\n",
        "\n",
        "> Obs: é bem parecido com o exercício final da última aula.\n",
        "\n"
      ],
      "metadata": {
        "id": "i3nZolPOOZv6"
      }
    },
    {
      "cell_type": "code",
      "source": [
        "# Preenchemos as observações\n",
        "amostra1 = c(93, 98, 107, 102)\n",
        "amostra2 = c(77, 87, 84, 95, 85, 82)\n",
        "amostra3 = c(88, 75, 73, 84, 74)\n",
        "amostra_global = c(amostra1, amostra2, amostra3) # todos os elementos\n",
        "\n",
        "# Calculamos as médias:\n",
        "m_g = mean(amostra_global)  # média global\n",
        "m_1 = mean(amostra1) # média da amostra 1\n",
        "m_2 = mean(amostra2) # média da amostra 2\n",
        "m_3 = mean(amostra3) # média da amostra 3\n",
        "\n",
        "# Tamanhos de amostra em cada grupo\n",
        "n1 = length(amostra1) # Obs na amostra 1\n",
        "n2 = length(amostra2) # Obs na amostra 2\n",
        "n3 = length(amostra3) # Obs na amostra 3\n",
        "nT = n1 + n2 + n3     # Total de Obs (juntando todos os grupos)"
      ],
      "metadata": {
        "id": "SKRmmBoiRrK5"
      },
      "execution_count": 15,
      "outputs": []
    },
    {
      "cell_type": "code",
      "source": [
        "# Imprimimos os ns apenas para ver os valores\n",
        "n1\n",
        "n2\n",
        "n3\n",
        "nT"
      ],
      "metadata": {
        "colab": {
          "base_uri": "https://localhost:8080/",
          "height": 86
        },
        "id": "gn6Tcx9zRwFU",
        "outputId": "a4d66d06-f245-447d-b21e-6ee033891673"
      },
      "execution_count": 16,
      "outputs": [
        {
          "output_type": "display_data",
          "data": {
            "text/html": [
              "4"
            ],
            "text/markdown": "4",
            "text/latex": "4",
            "text/plain": [
              "[1] 4"
            ]
          },
          "metadata": {}
        },
        {
          "output_type": "display_data",
          "data": {
            "text/html": [
              "6"
            ],
            "text/markdown": "6",
            "text/latex": "6",
            "text/plain": [
              "[1] 6"
            ]
          },
          "metadata": {}
        },
        {
          "output_type": "display_data",
          "data": {
            "text/html": [
              "5"
            ],
            "text/markdown": "5",
            "text/latex": "5",
            "text/plain": [
              "[1] 5"
            ]
          },
          "metadata": {}
        },
        {
          "output_type": "display_data",
          "data": {
            "text/html": [
              "15"
            ],
            "text/markdown": "15",
            "text/latex": "15",
            "text/plain": [
              "[1] 15"
            ]
          },
          "metadata": {}
        }
      ]
    },
    {
      "cell_type": "code",
      "source": [
        "# Calculamos as somas de quadrados para preencher a tabela\n",
        "\n",
        "# Soma de Quadrados Totais\n",
        "SQT = sum((amostra_global - m_g)^2) \n",
        "# Soma de Quadrados dos Tratamentos\n",
        "SQTr = n1*(m_1-m_g)^2 + n2*(m_2-m_g)^2 + n3*(m_3-m_g)^2\n",
        "# Soma de Quadrados dos Erros\n",
        "SQE = SQT - SQTr\n",
        "# Imprimindo resultados\n",
        "c(SQT, SQTr, SQE)\n"
      ],
      "metadata": {
        "colab": {
          "base_uri": "https://localhost:8080/",
          "height": 34
        },
        "id": "Z5h0STX3Rz5h",
        "outputId": "d2f17f07-bbce-4c9a-84d0-95af443a99ca"
      },
      "execution_count": 17,
      "outputs": [
        {
          "output_type": "display_data",
          "data": {
            "text/html": [
              "<style>\n",
              ".list-inline {list-style: none; margin:0; padding: 0}\n",
              ".list-inline>li {display: inline-block}\n",
              ".list-inline>li:not(:last-child)::after {content: \"\\00b7\"; padding: 0 .5ex}\n",
              "</style>\n",
              "<ol class=list-inline><li>1502.93333333333</li><li>1036.13333333333</li><li>466.8</li></ol>\n"
            ],
            "text/markdown": "1. 1502.93333333333\n2. 1036.13333333333\n3. 466.8\n\n\n",
            "text/latex": "\\begin{enumerate*}\n\\item 1502.93333333333\n\\item 1036.13333333333\n\\item 466.8\n\\end{enumerate*}\n",
            "text/plain": [
              "[1] 1502.933 1036.133  466.800"
            ]
          },
          "metadata": {}
        }
      ]
    },
    {
      "cell_type": "markdown",
      "source": [
        "| Fonte de Variação | g.l  |  Soma dos Q.  | Q. Médios | F     |\n",
        "|:-----------------|:----|:--------------------:|:-----------------:|:----:|\n",
        "| Tratamento        |  2 |   1036.813             | 1036.813 /2 | (1036.813 /2 )/(466.8/11) |\n",
        "| Erro              | 12 |   466.8         | 466.8/12 |        |\n",
        "| Total             | 14  | `             |                       |        |"
      ],
      "metadata": {
        "id": "zOyo_Bz1R8J6"
      }
    },
    {
      "cell_type": "code",
      "source": [
        "(1036.813 /2 )/(466.8/11)"
      ],
      "metadata": {
        "colab": {
          "base_uri": "https://localhost:8080/",
          "height": 34
        },
        "id": "eC3yw3W-SiiT",
        "outputId": "63928f0c-2637-4eab-fcf2-c630e140cca7"
      },
      "execution_count": 18,
      "outputs": [
        {
          "output_type": "display_data",
          "data": {
            "text/html": [
              "12.2160914738646"
            ],
            "text/markdown": "12.2160914738646",
            "text/latex": "12.2160914738646",
            "text/plain": [
              "[1] 12.21609"
            ]
          },
          "metadata": {}
        }
      ]
    },
    {
      "cell_type": "code",
      "source": [
        "alpha = 0.05\n",
        "qf(1-alpha, 3 - 1, 15 - 3)"
      ],
      "metadata": {
        "colab": {
          "base_uri": "https://localhost:8080/",
          "height": 34
        },
        "id": "vw5IaidpSpij",
        "outputId": "62d1f663-01d4-471c-9123-224213c3a74f"
      },
      "execution_count": 19,
      "outputs": [
        {
          "output_type": "display_data",
          "data": {
            "text/html": [
              "3.88529383465239"
            ],
            "text/markdown": "3.88529383465239",
            "text/latex": "3.88529383465239",
            "text/plain": [
              "[1] 3.885294"
            ]
          },
          "metadata": {}
        }
      ]
    },
    {
      "cell_type": "markdown",
      "source": [
        "12.2160914738646 > 3.88529383465239? **Sim,** então rejeitamos $H_0$"
      ],
      "metadata": {
        "id": "KG94RRswSscI"
      }
    }
  ]
}