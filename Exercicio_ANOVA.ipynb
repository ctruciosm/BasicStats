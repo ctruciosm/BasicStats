{
  "nbformat": 4,
  "nbformat_minor": 0,
  "metadata": {
    "colab": {
      "name": "Exercicio_ANOVA.ipynb",
      "provenance": [],
      "authorship_tag": "ABX9TyN7HfEN2eyMIcdj2BNt2suc",
      "include_colab_link": true
    },
    "kernelspec": {
      "name": "ir",
      "display_name": "R"
    },
    "language_info": {
      "name": "R"
    }
  },
  "cells": [
    {
      "cell_type": "markdown",
      "metadata": {
        "id": "view-in-github",
        "colab_type": "text"
      },
      "source": [
        "<a href=\"https://colab.research.google.com/github/ctruciosm/BasicStats/blob/main/Exercicio_ANOVA.ipynb\" target=\"_parent\"><img src=\"https://colab.research.google.com/assets/colab-badge.svg\" alt=\"Open In Colab\"/></a>"
      ]
    },
    {
      "cell_type": "markdown",
      "source": [
        "Amostras aleatórias foram selecionadas de três populações com distribuições $N(\\mu_1, \\sigma)$, $N(\\mu_2, \\sigma)$ e $N(\\mu_3, \\sigma)$. Os dados obtidos são os seguintes: \n",
        "\n",
        "- **Amostra 1**: 93, 98, 107, 102\n",
        "- **Amostra 2**: 77, 87, 84, 95, 85\n",
        "- **Amostra 3**: 88, 75, 73, 84, 74\n",
        "\n",
        "\n",
        "Com um nível de significância de 5\\%, podemos rejeitar a Hipótese nula de que as médias das três populações são iguais?. Assuma que as variâncias dos três grupos é a mesma.\n",
        "\n",
        "**Solução:**"
      ],
      "metadata": {
        "id": "6HhyDo3HpXWb"
      }
    },
    {
      "cell_type": "markdown",
      "source": [
        "- Passo 1: Definir as hipóteses apropriadamente.\n",
        "\n",
        "$$H_0: \\mu_1 = \\mu_2 = \\mu_3 \\quad  \\text{vs}  \\quad H_1: H_0 \\quad \\text{não é verdade}$$\n",
        "\n",
        "- Passo 2: Definimos como faremos o teste.\n",
        "\n",
        "Neste caso, como queremos testar a igualdade de mais de 2 grupos, não podemos mais utilizar comparação de médias. Utilizaremos **ANOVA**"
      ],
      "metadata": {
        "id": "-eJJzYZqqEvC"
      }
    },
    {
      "cell_type": "markdown",
      "source": [
        "Para fazer ANOVA, um caminho \"simples\" é preencher a seguinte tabela:\n",
        "\n",
        "| Fonte de Variação | g.l  |  Soma dos Q.  | Q. Médios | F     |\n",
        "|:-----------------|:----|:--------------------:|:-----------------:|:----:|\n",
        "| Tratamento        |  $k-1$ |  SQTr                | $QMTr = \\dfrac{SQTr}{k-1}$ |  $\\dfrac{QMTr}{QME}$ |\n",
        "| Erro              | $n_T - k$ |  SQE              | $QME = \\dfrac{SQE}{n_T - k}$ |        |\n",
        "| Total             | $n_T-1$   | SQT               |                       |        |\n",
        "\n",
        "\n",
        "\n",
        "em que:\n",
        "\n",
        "- $n_T$ é o número total de observações (somados todos os grupos).\n",
        "- $k$ é o número de grupos (no nosso caso $k = 3$)\n",
        "- $SQTr = \\displaystyle \\sum_{j=1}^{k} n_j (\\bar{x}_{j} - \\bar{\\bar{x}})^2$\n",
        "- $SQE = \\displaystyle \\sum_{j = 1}^k \\sum_{i=1}^{n_j}(x_{ij} - \\bar{x}_j)^2$\n",
        "- $\\bar{\\bar{x}}$ é a média de todas as observações\n"
      ],
      "metadata": {
        "id": "51hGAFf-seoV"
      }
    },
    {
      "cell_type": "code",
      "source": [
        "# Preenchemos as observações\n",
        "amostra1 = c(93, 98, 107, 102)\n",
        "amostra2 = c(77, 87, 84, 95, 85)\n",
        "amostra3 = c(88, 75, 73, 84, 74)\n",
        "amostra_global = c(amostra1, amostra2, amostra3) # todos os elementos\n",
        "\n",
        "# Calculamos as médias:\n",
        "m_g = mean(amostra_global)  # média global\n",
        "m_1 = mean(amostra1) # média da amostra 1\n",
        "m_2 = mean(amostra2) # média da amostra 2\n",
        "m_3 = mean(amostra3) # média da amostra 3\n",
        "\n",
        "# Tamanhos de amostra em cada grupo\n",
        "n1 = length(amostra1) # Obs na amostra 1\n",
        "n2 = length(amostra2) # Obs na amostra 2\n",
        "n3 = length(amostra3) # Obs na amostra 3\n",
        "nT = n1 + n2 + n3     # Total de Obs (juntando todos os grupos)\n",
        "\n"
      ],
      "metadata": {
        "id": "nKqV_St3xfrE"
      },
      "execution_count": 8,
      "outputs": []
    },
    {
      "cell_type": "code",
      "source": [
        "# Imprimimos os ns apenas para ver os valores\n",
        "n1\n",
        "n2\n",
        "n3\n",
        "nT"
      ],
      "metadata": {
        "colab": {
          "base_uri": "https://localhost:8080/",
          "height": 86
        },
        "id": "N-qg2K0N6Ikw",
        "outputId": "f1766d7a-1b11-42cf-d711-a2bf5298e5ac"
      },
      "execution_count": 11,
      "outputs": [
        {
          "output_type": "display_data",
          "data": {
            "text/html": [
              "4"
            ],
            "text/markdown": "4",
            "text/latex": "4",
            "text/plain": [
              "[1] 4"
            ]
          },
          "metadata": {}
        },
        {
          "output_type": "display_data",
          "data": {
            "text/html": [
              "5"
            ],
            "text/markdown": "5",
            "text/latex": "5",
            "text/plain": [
              "[1] 5"
            ]
          },
          "metadata": {}
        },
        {
          "output_type": "display_data",
          "data": {
            "text/html": [
              "5"
            ],
            "text/markdown": "5",
            "text/latex": "5",
            "text/plain": [
              "[1] 5"
            ]
          },
          "metadata": {}
        },
        {
          "output_type": "display_data",
          "data": {
            "text/html": [
              "14"
            ],
            "text/markdown": "14",
            "text/latex": "14",
            "text/plain": [
              "[1] 14"
            ]
          },
          "metadata": {}
        }
      ]
    },
    {
      "cell_type": "code",
      "source": [
        "# Calculamos as somas de quadrados para preencher a tabela\n",
        "\n",
        "# Soma de Quadrados Totais\n",
        "SQT = sum((amostra_global - m_g)^2) \n",
        "# Soma de Quadrados dos Tratamentos\n",
        "SQTr = n1*(m_1-m_g)^2 + n2*(m_2-m_g)^2 + n3*(m_3-m_g)^2\n",
        "# Soma de Quadrados dos Erros\n",
        "SQE = SQT - SQTr\n",
        "# Imprimindo resultados\n",
        "c(SQT, SQTr, SQE)"
      ],
      "metadata": {
        "colab": {
          "base_uri": "https://localhost:8080/",
          "height": 34
        },
        "id": "Nv2PVenC4J99",
        "outputId": "fa9b91c1-fa5f-4277-dd74-b102d6a38787"
      },
      "execution_count": 10,
      "outputs": [
        {
          "output_type": "display_data",
          "data": {
            "text/html": [
              "<style>\n",
              ".list-inline {list-style: none; margin:0; padding: 0}\n",
              ".list-inline>li {display: inline-block}\n",
              ".list-inline>li:not(:last-child)::after {content: \"\\00b7\"; padding: 0 .5ex}\n",
              "</style>\n",
              "<ol class=list-inline><li>1476.85714285714</li><li>1020.85714285714</li><li>456</li></ol>\n"
            ],
            "text/markdown": "1. 1476.85714285714\n2. 1020.85714285714\n3. 456\n\n\n",
            "text/latex": "\\begin{enumerate*}\n\\item 1476.85714285714\n\\item 1020.85714285714\n\\item 456\n\\end{enumerate*}\n",
            "text/plain": [
              "[1] 1476.857 1020.857  456.000"
            ]
          },
          "metadata": {}
        }
      ]
    },
    {
      "cell_type": "markdown",
      "source": [
        "Preenchemos a tabela\n",
        "\n",
        "\n",
        "| Fonte de Variação | g.l  |  Soma dos Q.  | Q. Médios | F     |\n",
        "|:-----------------|:----|:--------------------:|:-----------------:|:----:|\n",
        "| Tratamento        |  2 |   1020.86             | 1020.86/2 | (1020.86/2 )/4567/11 |\n",
        "| Erro              | 11 |   456         | 4567/11 |        |\n",
        "| Total             | 12  | `             |                       |        |"
      ],
      "metadata": {
        "id": "9yPTu3jP5rHn"
      }
    },
    {
      "cell_type": "code",
      "source": [
        "(1020.86/2 )/4567/11"
      ],
      "metadata": {
        "colab": {
          "base_uri": "https://localhost:8080/",
          "height": 34
        },
        "id": "7o_CbZQq705t",
        "outputId": "39722674-cd4b-4f01-9429-4d21d266d195"
      },
      "execution_count": 14,
      "outputs": [
        {
          "output_type": "display_data",
          "data": {
            "text/html": [
              "0.0101604395166909"
            ],
            "text/markdown": "0.0101604395166909",
            "text/latex": "0.0101604395166909",
            "text/plain": [
              "[1] 0.01016044"
            ]
          },
          "metadata": {}
        }
      ]
    },
    {
      "cell_type": "code",
      "source": [
        "# Rejeitamos H0 se F > "
      ],
      "metadata": {
        "id": "Y9HNxl4573P1"
      },
      "execution_count": null,
      "outputs": []
    },
    {
      "cell_type": "markdown",
      "source": [
        "- Passo 3: Definir a regra de decisão:\n",
        "\n",
        "Rejeitamos $H_0$ se $F > F (1-\\alpha, k − 1, nT − k)$. Então precisamos saber qual o valor de $F (1-\\alpha, k − 1, nT − k)$"
      ],
      "metadata": {
        "id": "u_wj3FjU79Xv"
      }
    },
    {
      "cell_type": "code",
      "source": [
        "alpha = 0.05\n",
        "qf(1-alpha, 3 - 1, 14 - 3)"
      ],
      "metadata": {
        "colab": {
          "base_uri": "https://localhost:8080/",
          "height": 34
        },
        "id": "vMxRULfe8KkA",
        "outputId": "e3c3d974-4d42-4f42-e2c4-842ed2514f7e"
      },
      "execution_count": 15,
      "outputs": [
        {
          "output_type": "display_data",
          "data": {
            "text/html": [
              "3.98229795709448"
            ],
            "text/markdown": "3.98229795709448",
            "text/latex": "3.98229795709448",
            "text/plain": [
              "[1] 3.982298"
            ]
          },
          "metadata": {}
        }
      ]
    },
    {
      "cell_type": "markdown",
      "source": [
        "0.0101604395166909 > 3.98229795709448? Não, então não rejeitamos $H_0$"
      ],
      "metadata": {
        "id": "ogSdov6a8dqC"
      }
    }
  ]
}