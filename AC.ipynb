{
  "nbformat": 4,
  "nbformat_minor": 0,
  "metadata": {
    "colab": {
      "provenance": [],
      "authorship_tag": "ABX9TyM5b99GFOFN0LX0+toGnf9w",
      "include_colab_link": true
    },
    "kernelspec": {
      "name": "ir",
      "display_name": "R"
    },
    "language_info": {
      "name": "R"
    }
  },
  "cells": [
    {
      "cell_type": "markdown",
      "metadata": {
        "id": "view-in-github",
        "colab_type": "text"
      },
      "source": [
        "<a href=\"https://colab.research.google.com/github/ctruciosm/BasicStats/blob/main/AC.ipynb\" target=\"_parent\"><img src=\"https://colab.research.google.com/assets/colab-badge.svg\" alt=\"Open In Colab\"/></a>"
      ]
    },
    {
      "cell_type": "markdown",
      "source": [
        "# Análise de Correspondência\n",
        "\n",
        "by Carlos Trucíos"
      ],
      "metadata": {
        "id": "1E9NqVtFPk2m"
      }
    },
    {
      "cell_type": "code",
      "source": [
        "install.packages(\"FactoMineR\")"
      ],
      "metadata": {
        "colab": {
          "base_uri": "https://localhost:8080/"
        },
        "id": "9mt-1xUjSqJK",
        "outputId": "f77d684a-f317-4866-90d2-fcad7e90f9fd"
      },
      "execution_count": 7,
      "outputs": [
        {
          "output_type": "stream",
          "name": "stderr",
          "text": [
            "Installing package into ‘/usr/local/lib/R/site-library’\n",
            "(as ‘lib’ is unspecified)\n",
            "\n",
            "also installing the dependencies ‘SparseM’, ‘MatrixModels’, ‘sp’, ‘minqa’, ‘nloptr’, ‘RcppEigen’, ‘lazyeval’, ‘later’, ‘carData’, ‘abind’, ‘pbkrtest’, ‘quantreg’, ‘maptools’, ‘lme4’, ‘htmlwidgets’, ‘crosstalk’, ‘promises’, ‘estimability’, ‘numDeriv’, ‘mvtnorm’, ‘xtable’, ‘Rcpp’, ‘car’, ‘DT’, ‘ellipse’, ‘emmeans’, ‘flashClust’, ‘leaps’, ‘multcompView’, ‘scatterplot3d’, ‘ggrepel’\n",
            "\n",
            "\n"
          ]
        }
      ]
    },
    {
      "cell_type": "code",
      "source": [
        "library(FactoMineR)"
      ],
      "metadata": {
        "id": "5k5nu98ZSz5F"
      },
      "execution_count": 8,
      "outputs": []
    },
    {
      "cell_type": "markdown",
      "source": [
        "## Caso 1 \n",
        "\n",
        "A Tabela a seguir a contém as frequências de 4 tipos de cerâmica (A, B, C e D) encontrados em 7 lugares arqueológicos diferentes (L1, L2, ..., L7). Estamos interessados em saber se existe associação entre as variáveis e, de existir, quais categorias estamos mais associadas entre si."
      ],
      "metadata": {
        "id": "o_evCGAUPpjS"
      }
    },
    {
      "cell_type": "code",
      "execution_count": 39,
      "metadata": {
        "colab": {
          "base_uri": "https://localhost:8080/",
          "height": 318
        },
        "id": "sdw0xEisPc8n",
        "outputId": "9c1b0e04-ad06-4471-dfe2-b0e8af354026"
      },
      "outputs": [
        {
          "output_type": "display_data",
          "data": {
            "text/html": [
              "<table class=\"dataframe\">\n",
              "<caption>A data.frame: 7 × 4</caption>\n",
              "<thead>\n",
              "\t<tr><th></th><th scope=col>A</th><th scope=col>B</th><th scope=col>C</th><th scope=col>D</th></tr>\n",
              "\t<tr><th></th><th scope=col>&lt;int&gt;</th><th scope=col>&lt;int&gt;</th><th scope=col>&lt;int&gt;</th><th scope=col>&lt;int&gt;</th></tr>\n",
              "</thead>\n",
              "<tbody>\n",
              "\t<tr><th scope=row>L1</th><td>30</td><td>10</td><td> 10</td><td>39</td></tr>\n",
              "\t<tr><th scope=row>L2</th><td>53</td><td> 4</td><td> 16</td><td> 2</td></tr>\n",
              "\t<tr><th scope=row>L3</th><td>73</td><td> 1</td><td> 41</td><td> 1</td></tr>\n",
              "\t<tr><th scope=row>L4</th><td>20</td><td> 6</td><td>  1</td><td> 4</td></tr>\n",
              "\t<tr><th scope=row>L5</th><td>46</td><td>36</td><td> 37</td><td>13</td></tr>\n",
              "\t<tr><th scope=row>L6</th><td>45</td><td> 6</td><td> 59</td><td>10</td></tr>\n",
              "\t<tr><th scope=row>L7</th><td>16</td><td>28</td><td>169</td><td> 5</td></tr>\n",
              "</tbody>\n",
              "</table>\n"
            ],
            "text/markdown": "\nA data.frame: 7 × 4\n\n| <!--/--> | A &lt;int&gt; | B &lt;int&gt; | C &lt;int&gt; | D &lt;int&gt; |\n|---|---|---|---|---|\n| L1 | 30 | 10 |  10 | 39 |\n| L2 | 53 |  4 |  16 |  2 |\n| L3 | 73 |  1 |  41 |  1 |\n| L4 | 20 |  6 |   1 |  4 |\n| L5 | 46 | 36 |  37 | 13 |\n| L6 | 45 |  6 |  59 | 10 |\n| L7 | 16 | 28 | 169 |  5 |\n\n",
            "text/latex": "A data.frame: 7 × 4\n\\begin{tabular}{r|llll}\n  & A & B & C & D\\\\\n  & <int> & <int> & <int> & <int>\\\\\n\\hline\n\tL1 & 30 & 10 &  10 & 39\\\\\n\tL2 & 53 &  4 &  16 &  2\\\\\n\tL3 & 73 &  1 &  41 &  1\\\\\n\tL4 & 20 &  6 &   1 &  4\\\\\n\tL5 & 46 & 36 &  37 & 13\\\\\n\tL6 & 45 &  6 &  59 & 10\\\\\n\tL7 & 16 & 28 & 169 &  5\\\\\n\\end{tabular}\n",
            "text/plain": [
              "   A  B  C   D \n",
              "L1 30 10  10 39\n",
              "L2 53  4  16  2\n",
              "L3 73  1  41  1\n",
              "L4 20  6   1  4\n",
              "L5 46 36  37 13\n",
              "L6 45  6  59 10\n",
              "L7 16 28 169  5"
            ]
          },
          "metadata": {}
        }
      ],
      "source": [
        "dados = read.table(\"https://raw.githubusercontent.com/ctruciosm/Johnson_Wichern_2007_datasets/master/T12-8.DAT\")\n",
        "colnames(dados) = c(\"A\", \"B\", \"C\", \"D\")\n",
        "row.names(dados) = c(\"L1\", \"L2\", \"L3\", \"L4\", \"L5\", \"L6\", \"L7\")\n",
        "dados"
      ]
    },
    {
      "cell_type": "code",
      "source": [
        "chisq.test(dados)"
      ],
      "metadata": {
        "colab": {
          "base_uri": "https://localhost:8080/",
          "height": 146
        },
        "id": "11JJil7lSVKj",
        "outputId": "ffa78016-c86e-40d7-9d8d-079f578216a6"
      },
      "execution_count": 40,
      "outputs": [
        {
          "output_type": "stream",
          "name": "stderr",
          "text": [
            "Warning message in chisq.test(dados):\n",
            "“Chi-squared approximation may be incorrect”\n"
          ]
        },
        {
          "output_type": "display_data",
          "data": {
            "text/plain": [
              "\n",
              "\tPearson's Chi-squared test\n",
              "\n",
              "data:  dados\n",
              "X-squared = 400.25, df = 18, p-value < 2.2e-16\n"
            ]
          },
          "metadata": {}
        }
      ]
    },
    {
      "cell_type": "markdown",
      "source": [
        "Utilizaremos também AC para verificar se podemos unir algumas categorias (e quais)."
      ],
      "metadata": {
        "id": "_K6nXlUtTkDx"
      }
    },
    {
      "cell_type": "code",
      "source": [
        "AC = CA(dados, ncp = 2)"
      ],
      "metadata": {
        "colab": {
          "base_uri": "https://localhost:8080/",
          "height": 437
        },
        "id": "NGno4hmzTv2r",
        "outputId": "412a5448-d3c3-4174-9444-a87a0ec94c0d"
      },
      "execution_count": 61,
      "outputs": [
        {
          "output_type": "display_data",
          "data": {
            "text/plain": [
              "plot without title"
            ],
            "image/png": "[encoded data removed]"
          },
          "metadata": {
            "image/png": {
              "width": 420,
              "height": 420
            }
          }
        }
      ]
    },
    {
      "cell_type": "markdown",
      "source": [
        "### Inercia\n",
        "\n",
        "- As porcentagens ao lado de cada uma das componentes nos dizem a porcentagem da inercia que é explicada por cada uma das componentes.\n",
        "- A inercia é a soma dos autovalores ao quadrado da decomposição SVD (ou seja o valor da estatística $\\chi^2$).\n",
        "- A primeira componente explica 55\\% da inercia total e as duas primeiras componentes explicam  mais de 88\\% da inercia total.\n",
        "> Ou seja, um gráfico bidimensional consegue representar bem a relação entre as categorias das variáveis."
      ],
      "metadata": {
        "id": "VEylyHFnc-bA"
      }
    },
    {
      "cell_type": "markdown",
      "source": [
        "## Regra de Interpretação\n",
        "\n",
        "- Se os pontos referentes a duas linhas (colunas) estão próximos, isto indicam que tem um perfil linha (coluna) semelhante. Eles  poderiam ser unidos em uma única categoria caso seja necessário para melhorar a aproximação $\\chi^2$\n",
        "- A proximidade de um ponto representando uma linha e um ponto representando uma coluna indica que elas ocorrem, conjuntamente, mais do que o esperado se as variáveis fossem indipendentes (indicando uma associação entre as categorias).\n",
        "\n",
        "\n",
        "\n"
      ],
      "metadata": {
        "id": "LhmEtzKtXS9B"
      }
    },
    {
      "cell_type": "markdown",
      "source": [
        "## Interpretação\n",
        "\n",
        "- O ponto representando o lugar L1 e o ponto representando o tipo de cerâmica D estão próximos  e afastados da origem.\n",
        "- O ponto representando o lugar L7 e o ponto representando o tipo de cerâmica C estão próximos  e afastados da origem.\n",
        "- O ponto representando os lugares L2 e L3 e o ponto representando o tipo de cerâmica A estão próximos  e afastados da origem.\n",
        "\n",
        "\n",
        "> Essas categorias que estão próximas ocorrem com maior frequência do que ocorreriam se as variáveis fossem independentes (implicando uma associação entre elas)"
      ],
      "metadata": {
        "id": "LMSsx_txpI0I"
      }
    },
    {
      "cell_type": "code",
      "source": [
        "# Note que se as variáveis fossem independes, esperariamos que:\n",
        "E = sum(dados)*total_linha %o% total_coluna\n",
        "E"
      ],
      "metadata": {
        "colab": {
          "base_uri": "https://localhost:8080/",
          "height": 286
        },
        "id": "nGI--6KkboPT",
        "outputId": "02fbbfa8-7003-4c56-d70e-ce598bb5576c"
      },
      "execution_count": 49,
      "outputs": [
        {
          "output_type": "display_data",
          "data": {
            "text/html": [
              "<table class=\"dataframe\">\n",
              "<caption>A matrix: 7 × 4 of type dbl</caption>\n",
              "<thead>\n",
              "\t<tr><th></th><th scope=col>A</th><th scope=col>B</th><th scope=col>C</th><th scope=col>D</th></tr>\n",
              "</thead>\n",
              "<tbody>\n",
              "\t<tr><th scope=row>L1</th><td>32.24968</td><td>10.370038</td><td>37.94750</td><td> 8.432778</td></tr>\n",
              "\t<tr><th scope=row>L2</th><td>27.17670</td><td> 8.738796</td><td>31.97823</td><td> 7.106274</td></tr>\n",
              "\t<tr><th scope=row>L3</th><td>42.03329</td><td>13.516005</td><td>49.45967</td><td>10.991037</td></tr>\n",
              "\t<tr><th scope=row>L4</th><td>11.23303</td><td> 3.612036</td><td>13.21767</td><td> 2.937260</td></tr>\n",
              "\t<tr><th scope=row>L5</th><td>47.83099</td><td>15.380282</td><td>56.28169</td><td>12.507042</td></tr>\n",
              "\t<tr><th scope=row>L6</th><td>43.48271</td><td>13.982074</td><td>51.16517</td><td>11.370038</td></tr>\n",
              "\t<tr><th scope=row>L7</th><td>78.99360</td><td>25.400768</td><td>92.95006</td><td>20.655570</td></tr>\n",
              "</tbody>\n",
              "</table>\n"
            ],
            "text/markdown": "\nA matrix: 7 × 4 of type dbl\n\n| <!--/--> | A | B | C | D |\n|---|---|---|---|---|\n| L1 | 32.24968 | 10.370038 | 37.94750 |  8.432778 |\n| L2 | 27.17670 |  8.738796 | 31.97823 |  7.106274 |\n| L3 | 42.03329 | 13.516005 | 49.45967 | 10.991037 |\n| L4 | 11.23303 |  3.612036 | 13.21767 |  2.937260 |\n| L5 | 47.83099 | 15.380282 | 56.28169 | 12.507042 |\n| L6 | 43.48271 | 13.982074 | 51.16517 | 11.370038 |\n| L7 | 78.99360 | 25.400768 | 92.95006 | 20.655570 |\n\n",
            "text/latex": "A matrix: 7 × 4 of type dbl\n\\begin{tabular}{r|llll}\n  & A & B & C & D\\\\\n\\hline\n\tL1 & 32.24968 & 10.370038 & 37.94750 &  8.432778\\\\\n\tL2 & 27.17670 &  8.738796 & 31.97823 &  7.106274\\\\\n\tL3 & 42.03329 & 13.516005 & 49.45967 & 10.991037\\\\\n\tL4 & 11.23303 &  3.612036 & 13.21767 &  2.937260\\\\\n\tL5 & 47.83099 & 15.380282 & 56.28169 & 12.507042\\\\\n\tL6 & 43.48271 & 13.982074 & 51.16517 & 11.370038\\\\\n\tL7 & 78.99360 & 25.400768 & 92.95006 & 20.655570\\\\\n\\end{tabular}\n",
            "text/plain": [
              "   A        B         C        D        \n",
              "L1 32.24968 10.370038 37.94750  8.432778\n",
              "L2 27.17670  8.738796 31.97823  7.106274\n",
              "L3 42.03329 13.516005 49.45967 10.991037\n",
              "L4 11.23303  3.612036 13.21767  2.937260\n",
              "L5 47.83099 15.380282 56.28169 12.507042\n",
              "L6 43.48271 13.982074 51.16517 11.370038\n",
              "L7 78.99360 25.400768 92.95006 20.655570"
            ]
          },
          "metadata": {}
        }
      ]
    },
    {
      "cell_type": "code",
      "source": [
        "dados"
      ],
      "metadata": {
        "colab": {
          "base_uri": "https://localhost:8080/",
          "height": 318
        },
        "id": "w3vZvB6Kbv0Z",
        "outputId": "e617450a-713e-418a-8bd8-c497391fddfb"
      },
      "execution_count": 50,
      "outputs": [
        {
          "output_type": "display_data",
          "data": {
            "text/html": [
              "<table class=\"dataframe\">\n",
              "<caption>A data.frame: 7 × 4</caption>\n",
              "<thead>\n",
              "\t<tr><th></th><th scope=col>A</th><th scope=col>B</th><th scope=col>C</th><th scope=col>D</th></tr>\n",
              "\t<tr><th></th><th scope=col>&lt;int&gt;</th><th scope=col>&lt;int&gt;</th><th scope=col>&lt;int&gt;</th><th scope=col>&lt;int&gt;</th></tr>\n",
              "</thead>\n",
              "<tbody>\n",
              "\t<tr><th scope=row>L1</th><td>30</td><td>10</td><td> 10</td><td>39</td></tr>\n",
              "\t<tr><th scope=row>L2</th><td>53</td><td> 4</td><td> 16</td><td> 2</td></tr>\n",
              "\t<tr><th scope=row>L3</th><td>73</td><td> 1</td><td> 41</td><td> 1</td></tr>\n",
              "\t<tr><th scope=row>L4</th><td>20</td><td> 6</td><td>  1</td><td> 4</td></tr>\n",
              "\t<tr><th scope=row>L5</th><td>46</td><td>36</td><td> 37</td><td>13</td></tr>\n",
              "\t<tr><th scope=row>L6</th><td>45</td><td> 6</td><td> 59</td><td>10</td></tr>\n",
              "\t<tr><th scope=row>L7</th><td>16</td><td>28</td><td>169</td><td> 5</td></tr>\n",
              "</tbody>\n",
              "</table>\n"
            ],
            "text/markdown": "\nA data.frame: 7 × 4\n\n| <!--/--> | A &lt;int&gt; | B &lt;int&gt; | C &lt;int&gt; | D &lt;int&gt; |\n|---|---|---|---|---|\n| L1 | 30 | 10 |  10 | 39 |\n| L2 | 53 |  4 |  16 |  2 |\n| L3 | 73 |  1 |  41 |  1 |\n| L4 | 20 |  6 |   1 |  4 |\n| L5 | 46 | 36 |  37 | 13 |\n| L6 | 45 |  6 |  59 | 10 |\n| L7 | 16 | 28 | 169 |  5 |\n\n",
            "text/latex": "A data.frame: 7 × 4\n\\begin{tabular}{r|llll}\n  & A & B & C & D\\\\\n  & <int> & <int> & <int> & <int>\\\\\n\\hline\n\tL1 & 30 & 10 &  10 & 39\\\\\n\tL2 & 53 &  4 &  16 &  2\\\\\n\tL3 & 73 &  1 &  41 &  1\\\\\n\tL4 & 20 &  6 &   1 &  4\\\\\n\tL5 & 46 & 36 &  37 & 13\\\\\n\tL6 & 45 &  6 &  59 & 10\\\\\n\tL7 & 16 & 28 & 169 &  5\\\\\n\\end{tabular}\n",
            "text/plain": [
              "   A  B  C   D \n",
              "L1 30 10  10 39\n",
              "L2 53  4  16  2\n",
              "L3 73  1  41  1\n",
              "L4 20  6   1  4\n",
              "L5 46 36  37 13\n",
              "L6 45  6  59 10\n",
              "L7 16 28 169  5"
            ]
          },
          "metadata": {}
        }
      ]
    },
    {
      "cell_type": "markdown",
      "source": [
        "# Caso 2"
      ],
      "metadata": {
        "id": "FdXHrAy4seYU"
      }
    },
    {
      "cell_type": "code",
      "source": [],
      "metadata": {
        "id": "J-lP5ysvseF1"
      },
      "execution_count": null,
      "outputs": []
    }
  ]
}